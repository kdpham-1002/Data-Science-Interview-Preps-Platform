{
 "cells": [
  {
   "cell_type": "markdown",
   "metadata": {},
   "source": [
    "## Web Scraping\n",
    "> Beautiful Soup"
   ]
  },
  {
   "cell_type": "markdown",
   "metadata": {},
   "source": [
    "You will need to examine the page:  https://web.archive.org/web/20211009000648/https://www.marketwatch.com/investing/stock/aapl to understand the structure (tags, classes).  Note that for the sake of consistency, we will use the string version of the html content. This means we will NOT be running a get request to the URL and will not need to make use of the requests library.\n",
    "\n",
    "Check: [beautifulsoup library](https://www.crummy.com/software/BeautifulSoup/bs4/doc/)  "
   ]
  },
  {
   "cell_type": "markdown",
   "metadata": {},
   "source": [
    "### Step by Step Explaination\n",
    "This problem is all about web-scraping with requests and BeautifulSoup. Parts a - d are missing a few steps. Take some time to fill in the blanks and understand the operations. Part e is left for you to complete and will ask you to combine the operations in parts a - d into one cohesive function.  "
   ]
  },
  {
   "cell_type": "code",
   "execution_count": 2,
   "metadata": {},
   "outputs": [],
   "source": [
    "#Web scraping package\n",
    "from bs4 import BeautifulSoup"
   ]
  },
  {
   "cell_type": "code",
   "execution_count": 3,
   "metadata": {},
   "outputs": [],
   "source": [
    "content=\"\"\"\n",
    "<ul class=\"list list--kv list--col50\">\n",
    "                <li class=\"kv__item\">\n",
    "                    <small class=\"label\">Open</small>\n",
    "                    <span class=\"primary \">$144.03</span>\n",
    "                    <span class=\"secondary no-value\"></span>\n",
    "                </li>\n",
    "                <li class=\"kv__item\">\n",
    "                    <small class=\"label\">Day Range</small>\n",
    "                    <span class=\"primary \">142.56 - 144.18</span>\n",
    "                    <span class=\"secondary no-value\"></span>\n",
    "                </li>\n",
    "                <li class=\"kv__item\">\n",
    "                    <small class=\"label\">52 Week Range</small>\n",
    "                    <span class=\"primary \">107.32 - 157.26</span>\n",
    "                    <span class=\"secondary no-value\"></span>\n",
    "                </li>\n",
    "                <li class=\"kv__item\">\n",
    "                    <small class=\"label\">Market Cap</small>\n",
    "                    <span class=\"primary \">$2.37T</span>\n",
    "                    <span class=\"secondary no-value\"></span>\n",
    "                </li>\n",
    "                <li class=\"kv__item\">\n",
    "                    <small class=\"label\">Shares Outstanding</small>\n",
    "                    <span class=\"primary \">17.34B</span>\n",
    "                    <span class=\"secondary no-value\"></span>\n",
    "                </li>\n",
    "                <li class=\"kv__item\">\n",
    "                    <small class=\"label\">Public Float</small>\n",
    "                    <span class=\"primary \">16.51B</span>\n",
    "                    <span class=\"secondary no-value\"></span>\n",
    "                </li>\n",
    "                <li class=\"kv__item\">\n",
    "                    <small class=\"label\">Beta</small>\n",
    "                    <span class=\"primary \">1.20</span>\n",
    "                    <span class=\"secondary no-value\"></span>\n",
    "                </li>\n",
    "                <li class=\"kv__item\">\n",
    "                    <small class=\"label\">Rev. per Employee</small>\n",
    "                    <span class=\"primary \">$1.865M</span>\n",
    "                    <span class=\"secondary no-value\"></span>\n",
    "                </li>\n",
    "                <li class=\"kv__item\">\n",
    "                    <small class=\"label\">P/E Ratio</small>\n",
    "                    <span class=\"primary \">27.99</span>\n",
    "                    <span class=\"secondary no-value\"></span>\n",
    "                </li>\n",
    "                <li class=\"kv__item\">\n",
    "                    <small class=\"label\">EPS</small>\n",
    "                    <span class=\"primary \">$5.11</span>\n",
    "                    <span class=\"secondary no-value\"></span>\n",
    "                </li>\n",
    "                <li class=\"kv__item\">\n",
    "                    <small class=\"label\">Yield</small>\n",
    "                    <span class=\"primary \">0.62%</span>\n",
    "                    <span class=\"secondary no-value\"></span>\n",
    "                </li>\n",
    "                <li class=\"kv__item\">\n",
    "                    <small class=\"label\">Dividend</small>\n",
    "                    <span class=\"primary \">$0.22</span>\n",
    "                    <span class=\"secondary no-value\"></span>\n",
    "                </li>\n",
    "                <li class=\"kv__item\">\n",
    "                    <small class=\"label\">Ex-Dividend Date</small>\n",
    "                    <span class=\"primary \">Aug 6, 2021</span>\n",
    "                    <span class=\"secondary no-value\"></span>\n",
    "                </li>\n",
    "                <li class=\"kv__item\">\n",
    "                    <small class=\"label\">Short Interest</small>\n",
    "                    <span class=\"primary \">100.93M</span>\n",
    "                    <span class=\"secondary \">09/15/21</span>\n",
    "                </li>\n",
    "                <li class=\"kv__item\">\n",
    "                    <small class=\"label\">% of Float Shorted</small>\n",
    "                    <span class=\"primary \">0.61%</span>\n",
    "                    <span class=\"secondary no-value\"></span>\n",
    "                </li>\n",
    "                <li class=\"kv__item\">\n",
    "                    <small class=\"label\">Average Volume</small>\n",
    "                    <span class=\"primary \">80.12M</span>\n",
    "                    <span class=\"secondary no-value\"></span>\n",
    "                </li>\n",
    "        </ul>\n",
    "\"\"\""
   ]
  },
  {
   "cell_type": "markdown",
   "metadata": {},
   "source": [
    "a.  Referencing the above response, create BeautifulSoup object called \"results_page\" parsed with 'html.parser'."
   ]
  },
  {
   "cell_type": "code",
   "execution_count": 4,
   "metadata": {},
   "outputs": [
    {
     "name": "stdout",
     "output_type": "stream",
     "text": [
      "<class 'bs4.BeautifulSoup'>\n"
     ]
    }
   ],
   "source": [
    "# build the BeautifulSoup object and name it results_page\n",
    "results_page = BeautifulSoup(content,'html.parser')\n",
    "print(type(results_page))"
   ]
  },
  {
   "cell_type": "markdown",
   "metadata": {},
   "source": [
    "b.  On the webpage:  https://web.archive.org/web/20211009000648/https://www.marketwatch.com/investing/stock/aapl, look for the section called \"Key Data\".\n",
    "![key_data](https://drive.google.com/uc?id=1ZMDc-Q000J5fksE28mMfyIJbFQHvlLUe)\n",
    "\n",
    " Inspect the page and verify that the tag/class combination that uniquely identifies each of the items in this table is 'li'/'kv__item'.  Find all elements identified by a tag of 'li' and a class_='kv__item'.  PLEASE NOTE THE **TWO** UNDERSCORES in kv__item."
   ]
  },
  {
   "cell_type": "code",
   "execution_count": 5,
   "metadata": {},
   "outputs": [
    {
     "name": "stdout",
     "output_type": "stream",
     "text": [
      "<class 'bs4.element.ResultSet'>\n"
     ]
    }
   ],
   "source": [
    "# find all elements with the tag \"li\" and class_=\"kv__item\"\n",
    "key_data = results_page.find_all('li', class_=\"kv__item\")\n",
    "# print the data type for the kv_data object\n",
    "print(type(key_data))"
   ]
  },
  {
   "cell_type": "markdown",
   "metadata": {},
   "source": [
    "d. The code to answer the above question should have returned a list.  Print the first item in this list.  You should get:\n",
    "```\n",
    "<li class=\"kv__item\">\n",
    "<small class=\"label\">Open</small>\n",
    "<span class=\"primary\">$144.03</span>\n",
    "<span class=\"secondary no-value\"></span>\n",
    "</li>\n",
    "```"
   ]
  },
  {
   "cell_type": "code",
   "execution_count": null,
   "metadata": {},
   "outputs": [
    {
     "name": "stdout",
     "output_type": "stream",
     "text": [
      "<li class=\"kv__item\">\n",
      "<small class=\"label\">Open</small>\n",
      "<span class=\"primary\">$144.03</span>\n",
      "<span class=\"secondary no-value\"></span>\n",
      "</li>\n"
     ]
    }
   ],
   "source": [
    "# print the first element in \"key_data\"\n",
    "print(key_data[0])"
   ]
  },
  {
   "cell_type": "markdown",
   "metadata": {},
   "source": [
    "Extract the label \"Open\" and the value \"$144.03\"\n",
    "\n",
    "[open_price](https://drive.google.com/uc?id=1OLQ3lVUd84dVytXft1K1GPffcb-ejbxq)\n",
    "\n",
    "Note:  values may differ."
   ]
  },
  {
   "cell_type": "code",
   "execution_count": null,
   "metadata": {},
   "outputs": [
    {
     "name": "stdout",
     "output_type": "stream",
     "text": [
      "Open\n",
      "$144.03\n"
     ]
    }
   ],
   "source": [
    "# label=key_data[0].----(----, class_=\"label\").get_text()\n",
    "label = key_data[0].find('small', class_= \"label\").get_text()\n",
    "primary_val=key_data[0].find('span',class_= \"primary\").get_text()\n",
    "print(label)\n",
    "print(primary_val)"
   ]
  },
  {
   "cell_type": "markdown",
   "metadata": {},
   "source": [
    "e.  We need to be able to extract the text for each of the items in the key_data object.  Write a for loop to extract the label and primary value creating a list of the form [(label, value), (label,value),...]"
   ]
  },
  {
   "cell_type": "code",
   "execution_count": null,
   "metadata": {},
   "outputs": [
    {
     "name": "stdout",
     "output_type": "stream",
     "text": [
      "[('Open', '$144.03'), ('Day Range', '142.56 - 144.18'), ('52 Week Range', '107.32 - 157.26'), ('Market Cap', '$2.37T'), ('Shares Outstanding', '17.34B'), ('Public Float', '16.51B'), ('Beta', '1.20'), ('Rev. per Employee', '$1.865M'), ('P/E Ratio', '27.99'), ('EPS', '$5.11'), ('Yield', '0.62%'), ('Dividend', '$0.22'), ('Ex-Dividend Date', 'Aug 6, 2021'), ('Short Interest', '100.93M'), ('% of Float Shorted', '0.61%'), ('Average Volume', '80.12M')]\n"
     ]
    }
   ],
   "source": [
    "kd_list=[]\n",
    "for item in key_data:\n",
    "    # label=item.find('small', class_=----).----()\n",
    "    label = item.find('small', class_=\"label\").get_text()\n",
    "    # value=item.----(----,class_=\"primary\").get_text()\n",
    "    value = item.find('span', class_=\"primary\").get_text()\n",
    "    # kd_list.----((label,value))\n",
    "    kd_list.append((label,value))\n",
    "print(kd_list)"
   ]
  },
  {
   "cell_type": "markdown",
   "metadata": {},
   "source": [
    "f.  **BUILD THE FUNCTION Combine all of the above into a function that accepts html source code as an argument and returns the list of (label, value) pairs in the form** Please make sure to define and reference the function parameter so that your program will work correctly with multiple different inputs.\n",
    "    \n",
    "```\n",
    "[('Open', '$144.03'), ('Day Range', '142.56 - 144.18'), ('52 Week Range', '107.32 - 157.26'), ('Market Cap', '$2.37T'), ('Shares Outstanding', '17.34B'), ('Public Float', '16.51B'), ('Beta', '1.20'), ('Rev. per Employee', '$1.865M'), ('P/E Ratio', '27.99'), ('EPS', '$5.11'), ('Yield', '0.62%'), ('Dividend', '$0.22'), ('Ex-Dividend Date', 'Aug 6, 2021'), ('Short Interest', '100.93M'), ('% of Float Shorted', '0.61%'), ('Average Volume', '80.12M')]\n",
    "```.  "
   ]
  },
  {
   "cell_type": "markdown",
   "metadata": {},
   "source": [
    "### Complete Code"
   ]
  },
  {
   "cell_type": "code",
   "execution_count": 6,
   "metadata": {},
   "outputs": [],
   "source": [
    "# Web scraping package\n",
    "from bs4 import BeautifulSoup\n",
    "\n",
    "# def get_key_data(---): # add a paramter\n",
    "def get_key_data(stock):\n",
    "    # Parse the HTML content using BeautifulSoup\n",
    "    results_page = BeautifulSoup(stock, 'html.parser')\n",
    "\n",
    "    # Find all key data\n",
    "    key_data = results_page.find_all('li', class_=\"kv__item\")\n",
    "    kd_list = []\n",
    "    for item in key_data:\n",
    "        label = item.find('small', class_=\"label\").get_text()\n",
    "        value = item.find('span', class_=\"primary\").get_text()\n",
    "        kd_list.append((label, value))\n",
    "    return kd_list"
   ]
  },
  {
   "cell_type": "code",
   "execution_count": 7,
   "metadata": {},
   "outputs": [],
   "source": [
    "aapl=\"\"\"\n",
    "<ul class=\"list list--kv list--col50\">\n",
    "                <li class=\"kv__item\">\n",
    "                    <small class=\"label\">Open</small>\n",
    "                    <span class=\"primary \">$144.03</span>\n",
    "                    <span class=\"secondary no-value\"></span>\n",
    "                </li>\n",
    "                <li class=\"kv__item\">\n",
    "                    <small class=\"label\">Day Range</small>\n",
    "                    <span class=\"primary \">142.56 - 144.18</span>\n",
    "                    <span class=\"secondary no-value\"></span>\n",
    "                </li>\n",
    "                <li class=\"kv__item\">\n",
    "                    <small class=\"label\">52 Week Range</small>\n",
    "                    <span class=\"primary \">107.32 - 157.26</span>\n",
    "                    <span class=\"secondary no-value\"></span>\n",
    "                </li>\n",
    "                <li class=\"kv__item\">\n",
    "                    <small class=\"label\">Market Cap</small>\n",
    "                    <span class=\"primary \">$2.37T</span>\n",
    "                    <span class=\"secondary no-value\"></span>\n",
    "                </li>\n",
    "                <li class=\"kv__item\">\n",
    "                    <small class=\"label\">Shares Outstanding</small>\n",
    "                    <span class=\"primary \">17.34B</span>\n",
    "                    <span class=\"secondary no-value\"></span>\n",
    "                </li>\n",
    "                <li class=\"kv__item\">\n",
    "                    <small class=\"label\">Public Float</small>\n",
    "                    <span class=\"primary \">16.51B</span>\n",
    "                    <span class=\"secondary no-value\"></span>\n",
    "                </li>\n",
    "                <li class=\"kv__item\">\n",
    "                    <small class=\"label\">Beta</small>\n",
    "                    <span class=\"primary \">1.20</span>\n",
    "                    <span class=\"secondary no-value\"></span>\n",
    "                </li>\n",
    "                <li class=\"kv__item\">\n",
    "                    <small class=\"label\">Rev. per Employee</small>\n",
    "                    <span class=\"primary \">$1.865M</span>\n",
    "                    <span class=\"secondary no-value\"></span>\n",
    "                </li>\n",
    "                <li class=\"kv__item\">\n",
    "                    <small class=\"label\">P/E Ratio</small>\n",
    "                    <span class=\"primary \">27.99</span>\n",
    "                    <span class=\"secondary no-value\"></span>\n",
    "                </li>\n",
    "                <li class=\"kv__item\">\n",
    "                    <small class=\"label\">EPS</small>\n",
    "                    <span class=\"primary \">$5.11</span>\n",
    "                    <span class=\"secondary no-value\"></span>\n",
    "                </li>\n",
    "                <li class=\"kv__item\">\n",
    "                    <small class=\"label\">Yield</small>\n",
    "                    <span class=\"primary \">0.62%</span>\n",
    "                    <span class=\"secondary no-value\"></span>\n",
    "                </li>\n",
    "                <li class=\"kv__item\">\n",
    "                    <small class=\"label\">Dividend</small>\n",
    "                    <span class=\"primary \">$0.22</span>\n",
    "                    <span class=\"secondary no-value\"></span>\n",
    "                </li>\n",
    "                <li class=\"kv__item\">\n",
    "                    <small class=\"label\">Ex-Dividend Date</small>\n",
    "                    <span class=\"primary \">Aug 6, 2021</span>\n",
    "                    <span class=\"secondary no-value\"></span>\n",
    "                </li>\n",
    "                <li class=\"kv__item\">\n",
    "                    <small class=\"label\">Short Interest</small>\n",
    "                    <span class=\"primary \">100.93M</span>\n",
    "                    <span class=\"secondary \">09/15/21</span>\n",
    "                </li>\n",
    "                <li class=\"kv__item\">\n",
    "                    <small class=\"label\">% of Float Shorted</small>\n",
    "                    <span class=\"primary \">0.61%</span>\n",
    "                    <span class=\"secondary no-value\"></span>\n",
    "                </li>\n",
    "                <li class=\"kv__item\">\n",
    "                    <small class=\"label\">Average Volume</small>\n",
    "                    <span class=\"primary \">80.12M</span>\n",
    "                    <span class=\"secondary no-value\"></span>\n",
    "                </li>\n",
    "        </ul>\n",
    "\"\"\""
   ]
  },
  {
   "cell_type": "code",
   "execution_count": 8,
   "metadata": {},
   "outputs": [
    {
     "name": "stdout",
     "output_type": "stream",
     "text": [
      "[('Open', '$144.03'), ('Day Range', '142.56 - 144.18'), ('52 Week Range', '107.32 - 157.26'), ('Market Cap', '$2.37T'), ('Shares Outstanding', '17.34B'), ('Public Float', '16.51B'), ('Beta', '1.20'), ('Rev. per Employee', '$1.865M'), ('P/E Ratio', '27.99'), ('EPS', '$5.11'), ('Yield', '0.62%'), ('Dividend', '$0.22'), ('Ex-Dividend Date', 'Aug 6, 2021'), ('Short Interest', '100.93M'), ('% of Float Shorted', '0.61%'), ('Average Volume', '80.12M')]\n"
     ]
    }
   ],
   "source": [
    "results_a = get_key_data(aapl)\n",
    "print(results_a)"
   ]
  },
  {
   "cell_type": "code",
   "execution_count": 3,
   "metadata": {},
   "outputs": [],
   "source": [
    "goog=\"\"\"\n",
    "<ul class=\"list list--kv list--col50\">\n",
    "                <li class=\"kv__item\">\n",
    "                    <small class=\"label\">Open</small>\n",
    "                    <span class=\"primary \">$2,798.12</span>\n",
    "                    <span class=\"secondary no-value\"></span>\n",
    "                </li>\n",
    "                <li class=\"kv__item\">\n",
    "                    <small class=\"label\">Day Range</small>\n",
    "                    <span class=\"primary \">2,788.59 - 2,806.34</span>\n",
    "                    <span class=\"secondary no-value\"></span>\n",
    "                </li>\n",
    "                <li class=\"kv__item\">\n",
    "                    <small class=\"label\">52 Week Range</small>\n",
    "                    <span class=\"primary \">1,489.45 - 2,936.41</span>\n",
    "                    <span class=\"secondary no-value\"></span>\n",
    "                </li>\n",
    "                <li class=\"kv__item\">\n",
    "                    <small class=\"label\">Market Cap</small>\n",
    "                    <span class=\"primary \">$1.86T</span>\n",
    "                    <span class=\"secondary no-value\"></span>\n",
    "                </li>\n",
    "                <li class=\"kv__item\">\n",
    "                    <small class=\"label\">Shares Outstanding</small>\n",
    "                    <span class=\"primary \">320.17M</span>\n",
    "                    <span class=\"secondary no-value\"></span>\n",
    "                </li>\n",
    "                <li class=\"kv__item\">\n",
    "                    <small class=\"label\">Public Float</small>\n",
    "                    <span class=\"primary \">279.85M</span>\n",
    "                    <span class=\"secondary no-value\"></span>\n",
    "                </li>\n",
    "                <li class=\"kv__item\">\n",
    "                    <small class=\"label\">Beta</small>\n",
    "                    <span class=\"primary \">1.08</span>\n",
    "                    <span class=\"secondary no-value\"></span>\n",
    "                </li>\n",
    "                <li class=\"kv__item\">\n",
    "                    <small class=\"label\">Rev. per Employee</small>\n",
    "                    <span class=\"primary \">$1.348M</span>\n",
    "                    <span class=\"secondary no-value\"></span>\n",
    "                </li>\n",
    "                <li class=\"kv__item\">\n",
    "                    <small class=\"label\">P/E Ratio</small>\n",
    "                    <span class=\"primary \">30.39</span>\n",
    "                    <span class=\"secondary no-value\"></span>\n",
    "                </li>\n",
    "                <li class=\"kv__item\">\n",
    "                    <small class=\"label\">EPS</small>\n",
    "                    <span class=\"primary \">$92.24</span>\n",
    "                    <span class=\"secondary no-value\"></span>\n",
    "                </li>\n",
    "                <li class=\"kv__item\">\n",
    "                    <small class=\"label\">Yield</small>\n",
    "                    <span class=\"primary is-na\">N/A</span>\n",
    "                    <span class=\"secondary no-value\"></span>\n",
    "                </li>\n",
    "                <li class=\"kv__item\">\n",
    "                    <small class=\"label\">Dividend</small>\n",
    "                    <span class=\"primary is-na\">N/A</span>\n",
    "                    <span class=\"secondary no-value\"></span>\n",
    "                </li>\n",
    "                <li class=\"kv__item\">\n",
    "                    <small class=\"label\">Ex-Dividend Date</small>\n",
    "                    <span class=\"primary is-na\">N/A</span>\n",
    "                    <span class=\"secondary no-value\"></span>\n",
    "                </li>\n",
    "                <li class=\"kv__item\">\n",
    "                    <small class=\"label\">Short Interest</small>\n",
    "                    <span class=\"primary \">2.64M</span>\n",
    "                    <span class=\"secondary \">09/15/21</span>\n",
    "                </li>\n",
    "                <li class=\"kv__item\">\n",
    "                    <small class=\"label\">% of Float Shorted</small>\n",
    "                    <span class=\"primary \">0.94%</span>\n",
    "                    <span class=\"secondary no-value\"></span>\n",
    "                </li>\n",
    "                <li class=\"kv__item\">\n",
    "                    <small class=\"label\">Average Volume</small>\n",
    "                    <span class=\"primary \">1.05M</span>\n",
    "                    <span class=\"secondary no-value\"></span>\n",
    "                </li>\n",
    "        </ul>\n",
    "\"\"\""
   ]
  },
  {
   "cell_type": "code",
   "execution_count": 4,
   "metadata": {},
   "outputs": [
    {
     "name": "stdout",
     "output_type": "stream",
     "text": [
      "[('Open', '$2,798.12'), ('Day Range', '2,788.59 - 2,806.34'), ('52 Week Range', '1,489.45 - 2,936.41'), ('Market Cap', '$1.86T'), ('Shares Outstanding', '320.17M'), ('Public Float', '279.85M'), ('Beta', '1.08'), ('Rev. per Employee', '$1.348M'), ('P/E Ratio', '30.39'), ('EPS', '$92.24'), ('Yield', 'N/A'), ('Dividend', 'N/A'), ('Ex-Dividend Date', 'N/A'), ('Short Interest', '2.64M'), ('% of Float Shorted', '0.94%'), ('Average Volume', '1.05M')]\n"
     ]
    }
   ],
   "source": [
    "results_g = get_key_data(goog)\n",
    "print(results_g)"
   ]
  },
  {
   "cell_type": "code",
   "execution_count": 12,
   "metadata": {},
   "outputs": [],
   "source": [
    "msft=\"\"\"\n",
    "<ul class=\"list list--kv list--col50\">\n",
    "                <li class=\"kv__item\">\n",
    "                    <small class=\"label\">Open</small>\n",
    "                    <span class=\"primary \">$296.22</span>\n",
    "                    <span class=\"secondary no-value\"></span>\n",
    "                </li>\n",
    "                <li class=\"kv__item\">\n",
    "                    <small class=\"label\">Day Range</small>\n",
    "                    <span class=\"primary \">293.76 - 296.64</span>\n",
    "                    <span class=\"secondary no-value\"></span>\n",
    "                </li>\n",
    "                <li class=\"kv__item\">\n",
    "                    <small class=\"label\">52 Week Range</small>\n",
    "                    <span class=\"primary \">199.62 - 305.84</span>\n",
    "                    <span class=\"secondary no-value\"></span>\n",
    "                </li>\n",
    "                <li class=\"kv__item\">\n",
    "                    <small class=\"label\">Market Cap</small>\n",
    "                    <span class=\"primary \">$2.22T</span>\n",
    "                    <span class=\"secondary no-value\"></span>\n",
    "                </li>\n",
    "                <li class=\"kv__item\">\n",
    "                    <small class=\"label\">Shares Outstanding</small>\n",
    "                    <span class=\"primary \">7.51B</span>\n",
    "                    <span class=\"secondary no-value\"></span>\n",
    "                </li>\n",
    "                <li class=\"kv__item\">\n",
    "                    <small class=\"label\">Public Float</small>\n",
    "                    <span class=\"primary \">7.4B</span>\n",
    "                    <span class=\"secondary no-value\"></span>\n",
    "                </li>\n",
    "                <li class=\"kv__item\">\n",
    "                    <small class=\"label\">Beta</small>\n",
    "                    <span class=\"primary \">1.19</span>\n",
    "                    <span class=\"secondary no-value\"></span>\n",
    "                </li>\n",
    "                <li class=\"kv__item\">\n",
    "                    <small class=\"label\">Rev. per Employee</small>\n",
    "                    <span class=\"primary \">$928.66K</span>\n",
    "                    <span class=\"secondary no-value\"></span>\n",
    "                </li>\n",
    "                <li class=\"kv__item\">\n",
    "                    <small class=\"label\">P/E Ratio</small>\n",
    "                    <span class=\"primary \">36.48</span>\n",
    "                    <span class=\"secondary no-value\"></span>\n",
    "                </li>\n",
    "                <li class=\"kv__item\">\n",
    "                    <small class=\"label\">EPS</small>\n",
    "                    <span class=\"primary \">$8.06</span>\n",
    "                    <span class=\"secondary no-value\"></span>\n",
    "                </li>\n",
    "                <li class=\"kv__item\">\n",
    "                    <small class=\"label\">Yield</small>\n",
    "                    <span class=\"primary \">0.84%</span>\n",
    "                    <span class=\"secondary no-value\"></span>\n",
    "                </li>\n",
    "                <li class=\"kv__item\">\n",
    "                    <small class=\"label\">Dividend</small>\n",
    "                    <span class=\"primary \">$0.62</span>\n",
    "                    <span class=\"secondary no-value\"></span>\n",
    "                </li>\n",
    "                <li class=\"kv__item\">\n",
    "                    <small class=\"label\">Ex-Dividend Date</small>\n",
    "                    <span class=\"primary \">Nov 17, 2021</span>\n",
    "                    <span class=\"secondary no-value\"></span>\n",
    "                </li>\n",
    "                <li class=\"kv__item\">\n",
    "                    <small class=\"label\">Short Interest</small>\n",
    "                    <span class=\"primary \">44.2M</span>\n",
    "                    <span class=\"secondary \">09/15/21</span>\n",
    "                </li>\n",
    "                <li class=\"kv__item\">\n",
    "                    <small class=\"label\">% of Float Shorted</small>\n",
    "                    <span class=\"primary \">0.60%</span>\n",
    "                    <span class=\"secondary no-value\"></span>\n",
    "                </li>\n",
    "                <li class=\"kv__item\">\n",
    "                    <small class=\"label\">Average Volume</small>\n",
    "                    <span class=\"primary \">22.76M</span>\n",
    "                    <span class=\"secondary no-value\"></span>\n",
    "                </li>\n",
    "        </ul>\n",
    "\"\"\""
   ]
  },
  {
   "cell_type": "code",
   "execution_count": 13,
   "metadata": {},
   "outputs": [
    {
     "name": "stdout",
     "output_type": "stream",
     "text": [
      "[('Open', '$296.22'), ('Day Range', '293.76 - 296.64'), ('52 Week Range', '199.62 - 305.84'), ('Market Cap', '$2.22T'), ('Shares Outstanding', '7.51B'), ('Public Float', '7.4B'), ('Beta', '1.19'), ('Rev. per Employee', '$928.66K'), ('P/E Ratio', '36.48'), ('EPS', '$8.06'), ('Yield', '0.84%'), ('Dividend', '$0.62'), ('Ex-Dividend Date', 'Nov 17, 2021'), ('Short Interest', '44.2M'), ('% of Float Shorted', '0.60%'), ('Average Volume', '22.76M')]\n"
     ]
    }
   ],
   "source": [
    "results_m = get_key_data(msft)\n",
    "print(results_m)"
   ]
  },
  {
   "cell_type": "markdown",
   "metadata": {},
   "source": [
    "### Example: Function to Find Recipes Given Ingredients\n",
    "Now that we've built each part step by step, we can combine them into a complete function that finds matching recipes based on the user's ingredients."
   ]
  },
  {
   "cell_type": "markdown",
   "metadata": {},
   "source": [
    "**Summary:**\n",
    "\n",
    "**Step 1:** Parse the HTML content using BeautifulSoup.   \n",
    "**Step 2:** Find the elements that contain recipe data.   \n",
    "**Step 3:** Extract relevant information (title and ingredients).   \n",
    "**Step 4:** Check if the user-provided ingredients are present in the recipe.   "
   ]
  },
  {
   "cell_type": "code",
   "execution_count": 10,
   "metadata": {},
   "outputs": [],
   "source": [
    "content = \"\"\"\n",
    "<body>\n",
    "    <h1>Recipe Listings</h1>\n",
    "    <div class=\"recipe\">\n",
    "        <p class=\"title\">Apple Pie</p>\n",
    "        <p class=\"description\">A classic apple pie recipe with a flaky crust and sweet apple filling.</p>\n",
    "        <div class=\"ingredients\">\n",
    "            <strong>Ingredients:</strong>\n",
    "            <ul class=\"ingredient-list\">\n",
    "                <li>2 cups all-purpose flour</li>\n",
    "                <li>1/2 cup sugar</li>\n",
    "                <li>1 tsp cinnamon</li>\n",
    "                <li>4 large apples, peeled and sliced</li>\n",
    "                <li>1/4 cup butter</li>\n",
    "                <li>1 egg, beaten</li>\n",
    "            </ul>\n",
    "        </div>\n",
    "    </div>\n",
    "    <div class=\"recipe\">\n",
    "        <p class=\"title\">Spaghetti Carbonara</p>\n",
    "        <p class=\"description\">A rich and creamy pasta dish made with eggs, cheese, pancetta, and pepper.</p>\n",
    "        <div class=\"ingredients\">\n",
    "            <strong>Ingredients:</strong>\n",
    "            <ul class=\"ingredient-list\">\n",
    "                <li>200g spaghetti</li>\n",
    "                <li>100g pancetta</li>\n",
    "                <li>2 large eggs</li>\n",
    "                <li>50g Parmesan cheese, grated</li>\n",
    "                <li>2 garlic cloves, minced</li>\n",
    "                <li>Freshly ground black pepper</li>\n",
    "            </ul>\n",
    "        </div>\n",
    "    </div>\n",
    "    <div class=\"recipe\">\n",
    "        <p class=\"title\">Chocolate Cake</p>\n",
    "        <p class=\"description\">A moist and rich chocolate cake with a creamy chocolate frosting.</p>\n",
    "        <div class=\"ingredients\">\n",
    "            <strong>Ingredients:</strong>\n",
    "            <ul class=\"ingredient-list\">\n",
    "                <li>1 and 1/2 cups flour</li>\n",
    "                <li>1 cup sugar</li>\n",
    "                <li>1/2 cup cocoa powder</li>\n",
    "                <li>1 tsp baking soda</li>\n",
    "                <li>1/2 tsp salt</li>\n",
    "                <li>1/3 cup vegetable oil</li>\n",
    "                <li>1 cup water</li>\n",
    "                <li>1 tsp vanilla extract</li>\n",
    "            </ul>\n",
    "        </div>\n",
    "    </div>\n",
    "</body>\n",
    "</html>\n",
    "\"\"\""
   ]
  },
  {
   "cell_type": "code",
   "execution_count": 11,
   "metadata": {},
   "outputs": [
    {
     "data": {
      "text/plain": [
       "[{'title': 'Apple Pie',\n",
       "  'description': 'A classic apple pie recipe with a flaky crust and sweet apple filling.',\n",
       "  'ingredients': ['2 cups all-purpose flour',\n",
       "   '1/2 cup sugar',\n",
       "   '1 tsp cinnamon',\n",
       "   '4 large apples, peeled and sliced',\n",
       "   '1/4 cup butter',\n",
       "   '1 egg, beaten']}]"
      ]
     },
     "execution_count": 11,
     "metadata": {},
     "output_type": "execute_result"
    }
   ],
   "source": [
    "from bs4 import BeautifulSoup\n",
    "\n",
    "def find_recipes_by_ingredients(source, ingredients):\n",
    "    # Parse the HTML content using BeautifulSoup\n",
    "    soup = BeautifulSoup(source, 'html.parser')\n",
    "\n",
    "    # Find all recipes on the page\n",
    "    recipes = soup.find_all('div', class_='recipe')\n",
    "\n",
    "    # Initialize an empty list to store matching recipes\n",
    "    matching_recipes = []\n",
    "\n",
    "    # Loop through each recipe to check if it matches the ingredients\n",
    "    for recipe in recipes:\n",
    "        # Extract the recipe title, description, and ingredients\n",
    "        title = recipe.find('p', class_='title').text\n",
    "        description = recipe.find('p', class_='description').text\n",
    "        ingredients_list = []\n",
    "\n",
    "        # Extract each ingredient and convert to lowercase\n",
    "        for ingredient in recipe.find_all('li'):\n",
    "            ingredients_list.append(ingredient.text.lower())\n",
    "\n",
    "        # Check if all user-provided ingredients are in the recipe (using partial match)\n",
    "        matching = True\n",
    "        for ingredient in ingredients:\n",
    "            found = False  # A flag to track if the current ingredient is found in the recipe\n",
    "            for item in ingredients_list:  # Loop through each item in the recipe's ingredients list\n",
    "                if ingredient.lower() in item:  # Check if the ingredient is a substring of the item\n",
    "                    found = True  # Mark as found\n",
    "                    break  # Stop searching once the ingredient is found in the list\n",
    "            if not found:  # If the ingredient wasn't found in any item\n",
    "                matching = False  # The recipe does not match\n",
    "                break  # Exit the loop early since not all ingredients are found\n",
    "\n",
    "        # If all ingredients match, add the recipe to the matching_recipes list\n",
    "        if matching:\n",
    "            matching_recipes.append({\n",
    "                'title': title,\n",
    "                'description': description,\n",
    "                'ingredients': ingredients_list\n",
    "            })\n",
    "\n",
    "    # Return the matching recipes or a message if no recipes match\n",
    "    if matching_recipes:\n",
    "        return matching_recipes\n",
    "    else:\n",
    "        return \"No recipes found with the given ingredients.\"\n",
    "\n",
    "ingredients_to_search = [\"butter\", \"flour\", \"apple\"]\n",
    "find_recipes_by_ingredients(content, ingredients_to_search)"
   ]
  },
  {
   "cell_type": "markdown",
   "metadata": {},
   "source": [
    "## Exercises:"
   ]
  },
  {
   "cell_type": "markdown",
   "metadata": {},
   "source": [
    "### Exercise: Web Scraping Job Listings\n"
   ]
  },
  {
   "cell_type": "markdown",
   "metadata": {},
   "source": [
    "In this exercise, we will apply the concepts of web scraping using **BeautifulSoup** to extract job listing data from an HTML source. Web scraping is a critical skill in today's data-driven business environment, as it enables organizations to automate data collection from websites. This technique can be especially useful for gathering market intelligence, monitoring job trends, and analyzing competitive information.\n",
    "\n",
    "**Business Relevance:**\n",
    "In a competitive job market, businesses and recruitment agencies need up-to-date job market information. They often gather job listings across locations and industries to understand salary ranges, demand for specific roles, and emerging job markets. Automating the extraction of this data saves time, reduces errors, and allows for a broader collection of data points that can be used in business decisions.\n",
    "\n",
    "For example:\n",
    "- **Recruitment firms** may want to gather job openings in specific cities to better match candidates.\n",
    "- **Businesses** may track competitors' job postings to gain insights into their hiring strategies or the expansion of their operations into new locations.\n",
    "- **Job seekers** may want to track salaries and job openings in specific regions to guide their applications.\n",
    "\n",
    "In this exercise, you will use BeautifulSoup to scrape job listing data such as job titles, companies, locations, and salaries, and filter the results based on user-provided locations.\n",
    "\n",
    "**Steps:**\n",
    "1. **Parse the HTML Content**: Use BeautifulSoup to parse the HTML structure and extract job listings.\n",
    "2. **Extract Job Information**: For each job listing, extract key data points such as job title, company, location, and salary.\n",
    "3. **Filter by Location**: Match job listings to a list of locations provided by the user, allowing for case-insensitive comparisons.\n",
    "4. **Return the Results**: Display the matching jobs, or return a message if no jobs match the provided locations.\n",
    "\n",
    "This exercise will give you hands-on experience in building a function that automates the process of job data collection based on location, a task that is valuable for businesses and individuals alike.\n",
    "\n",
    "---\n",
    "\n",
    "**Example Usage:**\n",
    "In the example below, the function scrapes job listings and filters them by the locations `\"New York\"` and `\"Austin\"`. You can adjust the list of locations to target other cities.\n",
    "\n",
    "```python\n",
    "locations_to_search = ['New York', 'Austin']\n",
    "find_jobs_by_location(job_content, locations_to_search)\n",
    "```\n",
    "**Expected Output:**\n",
    "```\n",
    "[{'title': 'Business Intelligence Developer',\n",
    "  'company': 'Data Insights LLC',\n",
    "  'location': 'New York, NY',\n",
    "  'salary': '$105,000 - $125,000'},\n",
    " {'title': 'Data Scientist',\n",
    "  'company': 'AI Ventures',\n",
    "  'location': 'Austin, TX',\n",
    "  'salary': '$120,000 - $150,000'}]\n",
    "```\n"
   ]
  },
  {
   "cell_type": "code",
   "execution_count": 12,
   "metadata": {},
   "outputs": [],
   "source": [
    "job_content = \"\"\"\n",
    "<body>\n",
    "    <h1>Job Listings</h1>\n",
    "\n",
    "    <div class=\"listing\">\n",
    "        <p class=\"title\">Data Analyst</p>\n",
    "        <p class=\"company\">TechCorp Inc.</p>\n",
    "        <p class=\"location\">San Francisco, CA</p>\n",
    "        <p class=\"salary\">$90,000 - $110,000</p>\n",
    "    </div>\n",
    "\n",
    "    <div class=\"listing\">\n",
    "        <p class=\"title\">Business Intelligence Developer</p>\n",
    "        <p class=\"company\">Data Insights LLC</p>\n",
    "        <p class=\"location\">New York, NY</p>\n",
    "        <p class=\"salary\">$105,000 - $125,000</p>\n",
    "    </div>\n",
    "\n",
    "    <div class=\"listing\">\n",
    "        <p class=\"title\">Product Manager</p>\n",
    "        <p class=\"company\">Innovate Solutions</p>\n",
    "        <p class=\"location\">Boston, MA</p>\n",
    "        <p class=\"salary\">$110,000 - $130,000</p>\n",
    "    </div>\n",
    "\n",
    "    <div class=\"listing\">\n",
    "        <p class=\"title\">Data Scientist</p>\n",
    "        <p class=\"company\">AI Ventures</p>\n",
    "        <p class=\"location\">Austin, TX</p>\n",
    "        <p class=\"salary\">$120,000 - $150,000</p>\n",
    "    </div>\n",
    "\n",
    "</body>\n",
    "</html>\n",
    "\"\"\""
   ]
  },
  {
   "cell_type": "code",
   "execution_count": 13,
   "metadata": {},
   "outputs": [
    {
     "data": {
      "text/plain": [
       "[{'title': 'Business Intelligence Developer',\n",
       "  'company': 'Data Insights LLC',\n",
       "  'location': 'New York, NY',\n",
       "  'salary': '$105,000 - $125,000'},\n",
       " {'title': 'Data Scientist',\n",
       "  'company': 'AI Ventures',\n",
       "  'location': 'Austin, TX',\n",
       "  'salary': '$120,000 - $150,000'}]"
      ]
     },
     "execution_count": 13,
     "metadata": {},
     "output_type": "execute_result"
    }
   ],
   "source": [
    "from bs4 import BeautifulSoup\n",
    "\n",
    "def find_jobs_by_location(source, locations):\n",
    "    # Parse the HTML content using BeautifulSoup\n",
    "    soup = BeautifulSoup(source, 'html.parser')\n",
    "\n",
    "    # Find all job listings on the page\n",
    "    listings = soup.find_all('div', class_='listing')\n",
    "\n",
    "    # Initialize an empty list to store matching job listings\n",
    "    matching_jobs = []\n",
    "\n",
    "    # Loop through each job listing to check if it matches the location\n",
    "    for listing in listings:\n",
    "        # Extract the job title, company, location, and salary\n",
    "        title = listing.find('p', class_='title').text\n",
    "        company = listing.find('p', class_='company').text\n",
    "        location = listing.find('p', class_='location').text\n",
    "        salary = listing.find('p', class_='salary').text\n",
    "\n",
    "        # Check if the job's location matches any user-provided location\n",
    "        matching = False\n",
    "        for loc in locations:\n",
    "            if loc.lower() in location.lower():  # Case-insensitive match\n",
    "                matching = True\n",
    "                break  # If the location matches, stop checking\n",
    "\n",
    "        # If the location matches, add the job to the matching_jobs list\n",
    "        if matching:\n",
    "            matching_jobs.append({\n",
    "                'title': title,\n",
    "                'company': company,\n",
    "                'location': location,\n",
    "                'salary': salary\n",
    "            })\n",
    "\n",
    "    # Return the matching jobs or a message if no jobs match\n",
    "    if matching_jobs:\n",
    "        return matching_jobs\n",
    "    else:\n",
    "        return \"No jobs found for the given locations.\"\n",
    "\n",
    "locations_to_search = [\"New York\", \"Austin\"]\n",
    "find_jobs_by_location(job_content, locations_to_search)"
   ]
  },
  {
   "cell_type": "markdown",
   "metadata": {
    "id": "wuUyN2f0Ar92"
   },
   "source": [
    "### Exercise: List Common Elements\n",
    "Take two lists and write a function that returns a list that contains only the elements that are common between the lists (without duplicates). Make sure your function works on two lists of different sizes.\n",
    "\n",
    "a = [1, 1, 2, 3, 5, 8, 13, 21, 34, 55, 89]\n",
    "b = [1, 2, 3, 4, 5, 6, 7, 8, 9, 10, 11, 12, 13]\n",
    "\n",
    "print(common_elements(a,b)) # should output [1,2,3,5,8,13]\n",
    "\n",
    "Hints:\n",
    "\n",
    "```\n",
    "x=[1,2,3,4]\n",
    "if 4 in x:\n",
    " print(\"yes\")\n",
    "\n",
    "if 5 not in x:\n",
    " print(\"no\")\n",
    "```"
   ]
  },
  {
   "cell_type": "code",
   "execution_count": 14,
   "metadata": {
    "executionInfo": {
     "elapsed": 188,
     "status": "ok",
     "timestamp": 1728842879309,
     "user": {
      "displayName": "Khoa Pham",
      "userId": "00006121731400967330"
     },
     "user_tz": 420
    },
    "id": "Tn9AomMp_4hE"
   },
   "outputs": [],
   "source": [
    "def common_elements(a, b):\n",
    "  c = []\n",
    "  for i in a:\n",
    "    if i in b and i not in c:\n",
    "      c.append(i)\n",
    "  return c"
   ]
  },
  {
   "cell_type": "code",
   "execution_count": 26,
   "metadata": {
    "executionInfo": {
     "elapsed": 201,
     "status": "ok",
     "timestamp": 1728843992705,
     "user": {
      "displayName": "Khoa Pham",
      "userId": "00006121731400967330"
     },
     "user_tz": 420
    },
    "id": "8YeE8y0kIVD5"
   },
   "outputs": [],
   "source": [
    "# Find common elements from both sets\n",
    "def intersect_elements(a, b):\n",
    "    return list(set(a) & set(b))"
   ]
  },
  {
   "cell_type": "code",
   "execution_count": 19,
   "metadata": {
    "executionInfo": {
     "elapsed": 181,
     "status": "ok",
     "timestamp": 1728843648344,
     "user": {
      "displayName": "Khoa Pham",
      "userId": "00006121731400967330"
     },
     "user_tz": 420
    },
    "id": "VcwgYQ4dGHza"
   },
   "outputs": [],
   "source": [
    "# Combines all elements from both sets, removing duplicates.\n",
    "def union_elements(a, b):\n",
    "    return list(set(a) | set(b))"
   ]
  },
  {
   "cell_type": "code",
   "execution_count": 20,
   "metadata": {
    "executionInfo": {
     "elapsed": 174,
     "status": "ok",
     "timestamp": 1728843649261,
     "user": {
      "displayName": "Khoa Pham",
      "userId": "00006121731400967330"
     },
     "user_tz": 420
    },
    "id": "rc4cOKJfGSpi"
   },
   "outputs": [],
   "source": [
    "# Finds elements in a that are not in b.\n",
    "def difference_elements(a, b):\n",
    "    return list(set(a) - set(b))"
   ]
  },
  {
   "cell_type": "code",
   "execution_count": 17,
   "metadata": {
    "executionInfo": {
     "elapsed": 191,
     "status": "ok",
     "timestamp": 1728843538972,
     "user": {
      "displayName": "Khoa Pham",
      "userId": "00006121731400967330"
     },
     "user_tz": 420
    },
    "id": "qnB-UoByGVW8"
   },
   "outputs": [],
   "source": [
    "# Returns elements that are in either a or b, but not in both (i.e., removes common elements).\n",
    "def symmetric_difference_elements(a, b):\n",
    "    return list(set(a) ^ set(b))"
   ]
  },
  {
   "cell_type": "code",
   "execution_count": 21,
   "metadata": {
    "executionInfo": {
     "elapsed": 200,
     "status": "ok",
     "timestamp": 1728843650590,
     "user": {
      "displayName": "Khoa Pham",
      "userId": "00006121731400967330"
     },
     "user_tz": 420
    },
    "id": "3bTOmQJSGvMm"
   },
   "outputs": [],
   "source": [
    "# To check if all elements of one set are contained in another.\n",
    "def is_subset(a, b):\n",
    "    return set(a).issubset(set(b))\n",
    "def is_superset(a, b):\n",
    "    return set(a).issuperset(set(b))"
   ]
  },
  {
   "cell_type": "code",
   "execution_count": 27,
   "metadata": {
    "colab": {
     "base_uri": "https://localhost:8080/"
    },
    "executionInfo": {
     "elapsed": 197,
     "status": "ok",
     "timestamp": 1728843994740,
     "user": {
      "displayName": "Khoa Pham",
      "userId": "00006121731400967330"
     },
     "user_tz": 420
    },
    "id": "XDkuc2lKBADG",
    "outputId": "c428398b-7247-4444-877a-23fc9591abab"
   },
   "outputs": [
    {
     "name": "stdout",
     "output_type": "stream",
     "text": [
      "[1, 2, 3, 5, 8, 13]\n",
      "[1, 2, 3, 5, 8, 13]\n",
      "[1, 2, 3, 4, 5, 6, 7, 8, 9, 10, 11, 12, 13, 21, 89, 34, 55]\n",
      "[89, 34, 21, 55]\n",
      "[34, 4, 6, 7, 9, 10, 11, 12, 21, 55, 89]\n",
      "False\n",
      "False\n"
     ]
    }
   ],
   "source": [
    "# Test 1\n",
    "a = [1, 1, 2, 3, 5, 8, 13, 21, 34, 55, 89]\n",
    "b = [1, 2, 3, 4, 5, 6, 7, 8, 9, 10, 11, 12, 13]\n",
    "\n",
    "print(common_elements(a,b)) # should output [1,2,3,5,8,13]\n",
    "print(intersect_elements(a,b))\n",
    "print(union_elements(a,b))\n",
    "print(difference_elements(a,b))\n",
    "print(symmetric_difference_elements(a,b))\n",
    "print(is_subset(a,b))\n",
    "print(is_superset(a,b))"
   ]
  },
  {
   "cell_type": "code",
   "execution_count": 24,
   "metadata": {
    "colab": {
     "base_uri": "https://localhost:8080/"
    },
    "executionInfo": {
     "elapsed": 200,
     "status": "ok",
     "timestamp": 1728843716813,
     "user": {
      "displayName": "Khoa Pham",
      "userId": "00006121731400967330"
     },
     "user_tz": 420
    },
    "id": "6Ee4_CC1DoIO",
    "outputId": "14897bc3-5c19-4498-e663-5a5370c1e1ef"
   },
   "outputs": [
    {
     "name": "stdout",
     "output_type": "stream",
     "text": [
      "['Apple', 'Orange', 'Lemon', 'Lime']\n",
      "['Apple', 'Grapes', 'Lemon', 'Lime', 'Orange', 'Strawberries', 'Pear', 'Tangerine', 'Blackberries', 'Peach']\n",
      "['Peach', 'Pear', 'Grapes']\n",
      "['Grapes', 'Strawberries', 'Pear', 'Tangerine', 'Blackberries', 'Peach']\n",
      "False\n",
      "False\n"
     ]
    }
   ],
   "source": [
    "# Test 2\n",
    "x = [\"Apple\", \"Pear\", \"Orange\", \"Peach\", \"Grapes\", \"Lemon\", \"Lime\"]\n",
    "y = [\"Apple\", \"Tangerine\", \"Orange\", \"Strawberries\", \"Blackberries\", \"Lemon\", \"Lime\"]\n",
    "\n",
    "print(common_elements(x,y)) # should output [\"Apple\", \"Orange\", \"Lemon\", \"Lime\"]\n",
    "print(intersect_elements(x,y))\n",
    "print(union_elements(x,y))\n",
    "print(difference_elements(x,y))\n",
    "print(symmetric_difference_elements(x,y))\n",
    "print(is_subset(x,y))\n",
    "print(is_superset(x,y))"
   ]
  },
  {
   "cell_type": "code",
   "execution_count": 28,
   "metadata": {
    "colab": {
     "base_uri": "https://localhost:8080/"
    },
    "executionInfo": {
     "elapsed": 161,
     "status": "ok",
     "timestamp": 1728844042717,
     "user": {
      "displayName": "Khoa Pham",
      "userId": "00006121731400967330"
     },
     "user_tz": 420
    },
    "id": "YTRExAgbHgjK",
    "outputId": "d4e05ad2-1230-40a7-e446-90925fb86b67"
   },
   "outputs": [
    {
     "name": "stdout",
     "output_type": "stream",
     "text": [
      "[1, 2, 3, 5, 8, 13]\n",
      "[1, 2, 3, 5, 8, 13]\n",
      "[1, 2, 3, 4, 5, 6, 7, 8, 9, 10, 11, 12, 13]\n",
      "[]\n",
      "[4, 6, 7, 9, 10, 11, 12]\n",
      "True\n",
      "False\n"
     ]
    }
   ],
   "source": [
    "# Test 3\n",
    "e = [1, 2, 3, 5, 8, 13]\n",
    "f = [1, 2, 3, 4, 5, 6, 7, 8, 9, 10, 11, 12, 13]\n",
    "\n",
    "print(common_elements(e,f)) # should output [1,2,3,5,8,13]\n",
    "print(intersect_elements(e,f))\n",
    "print(union_elements(e,f))\n",
    "print(difference_elements(e,f))\n",
    "print(symmetric_difference_elements(e,f))\n",
    "print(is_subset(e,f))\n",
    "print(is_superset(e,f))"
   ]
  },
  {
   "cell_type": "markdown",
   "metadata": {
    "id": "v_v6USOmexgi"
   },
   "source": [
    "### Exercise: ATM Code Check\n",
    "ATM machines allow 4 or 6 digit PIN codes and PIN codes cannot contain anything but exactly 4 digits or exactly 6 digits. Your task is to create a function that takes a string and returns True if the PIN is valid and False if it's not.\n",
    "\n",
    "Hint: https://www.w3schools.com/python/ref_string_isdigit.asp"
   ]
  },
  {
   "cell_type": "code",
   "execution_count": 34,
   "metadata": {
    "executionInfo": {
     "elapsed": 165,
     "status": "ok",
     "timestamp": 1728844636985,
     "user": {
      "displayName": "Khoa Pham",
      "userId": "00006121731400967330"
     },
     "user_tz": 420
    },
    "id": "wQmNP7gOetBq"
   },
   "outputs": [],
   "source": [
    "def is_valid_PIN(pin):\n",
    "  if pin.isdigit() and (len(pin) == 4 or len(pin) == 6):\n",
    "    return True\n",
    "  return False\n",
    "\n",
    "# def is_valid_PIN(pin):\n",
    "#     return len(pin) in [4, 6] and pin.isdigit()"
   ]
  },
  {
   "cell_type": "code",
   "execution_count": 35,
   "metadata": {
    "colab": {
     "base_uri": "https://localhost:8080/"
    },
    "executionInfo": {
     "elapsed": 201,
     "status": "ok",
     "timestamp": 1728844638129,
     "user": {
      "displayName": "Khoa Pham",
      "userId": "00006121731400967330"
     },
     "user_tz": 420
    },
    "id": "4YuOLnTAe-HU",
    "outputId": "04a77b48-2a1f-47f9-dc7e-cc9b28168b05"
   },
   "outputs": [
    {
     "name": "stdout",
     "output_type": "stream",
     "text": [
      "True\n",
      "False\n",
      "False\n",
      "False\n"
     ]
    }
   ],
   "source": [
    "# Tests\n",
    "\n",
    "print(is_valid_PIN(\"1234\")) # True\n",
    "print(is_valid_PIN(\"12345\")) # False\n",
    "print(is_valid_PIN(\"a234\")) # False\n",
    "print(is_valid_PIN(\"\")) # False\n",
    "# Empty strings must return False."
   ]
  }
 ],
 "metadata": {
  "colab": {
   "authorship_tag": "ABX9TyPvAlGdN3VSEks+kfoMgvQE",
   "provenance": [
    {
     "file_id": "1d066r7-ytX7AbZ0ELIBr4jkpzZHD5IMq",
     "timestamp": 1728795436012
    }
   ]
  },
  "kernelspec": {
   "display_name": "example",
   "language": "python",
   "name": "python3"
  },
  "language_info": {
   "codemirror_mode": {
    "name": "ipython",
    "version": 3
   },
   "file_extension": ".py",
   "mimetype": "text/x-python",
   "name": "python",
   "nbconvert_exporter": "python",
   "pygments_lexer": "ipython3",
   "version": "3.12.7"
  }
 },
 "nbformat": 4,
 "nbformat_minor": 0
}
