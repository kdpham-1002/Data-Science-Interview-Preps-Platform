{
 "cells": [
  {
   "cell_type": "markdown",
   "metadata": {},
   "source": [
    "## Understand Web Scraping "
   ]
  },
  {
   "cell_type": "markdown",
   "metadata": {},
   "source": [
    "### BeautifulSoup and Requests"
   ]
  },
  {
   "cell_type": "code",
   "execution_count": 151,
   "metadata": {},
   "outputs": [],
   "source": [
    "from bs4 import BeautifulSoup\n",
    "import requests\n",
    "# url = 'https://www.scrapethissite.com/pages/forms/'\n",
    "url = 'https://webscraper.io/test-sites/e-commerce/allinone/phones'\n",
    "\n",
    "page = requests.get(url)\n",
    "soup = BeautifulSoup(page.text, 'html')\n",
    "# print(soup.prettify())\n"
   ]
  },
  {
   "cell_type": "code",
   "execution_count": null,
   "metadata": {},
   "outputs": [],
   "source": [
    "print(soup.title)\n",
    "print(soup.title.string)\n",
    "print(soup.title.parent.name)"
   ]
  },
  {
   "cell_type": "code",
   "execution_count": null,
   "metadata": {},
   "outputs": [],
   "source": [
    "print(soup.find(\"h4\", {\"class\": \"price float-end card-title pull-right\"}))\n",
    "print(soup.find(\"h4\", class_=\"price float-end card-title pull-right\"))\n",
    "\n",
    "all_titles = soup.find_all(\"a\", {\"class\": \"title\"})\n",
    "print([titles.text for titles in all_titles])\n",
    "\n",
    "all_prices = soup.find_all(\"h4\", {\"class\": \"price float-end card-title pull-right\"})\n",
    "print([prices.text for prices in all_prices])"
   ]
  },
  {
   "cell_type": "code",
   "execution_count": null,
   "metadata": {},
   "outputs": [],
   "source": [
    "import pandas as pd\n",
    "\n",
    "# pd.DataFrame(all_prices, all_titles, columns=[\"Devices\"])\n",
    "\n",
    "data = {\"Devices\": all_prices, \"Titles\": all_titles}\n",
    "df = pd.DataFrame(data)\n",
    "df"
   ]
  },
  {
   "cell_type": "markdown",
   "metadata": {},
   "source": [
    "### Scraping Data from Table"
   ]
  },
  {
   "cell_type": "code",
   "execution_count": 6,
   "metadata": {},
   "outputs": [],
   "source": [
    "from bs4 import BeautifulSoup\n",
    "import requests\n",
    "import pandas as pd"
   ]
  },
  {
   "cell_type": "code",
   "execution_count": 4,
   "metadata": {},
   "outputs": [],
   "source": [
    "url = 'https://www.worldometers.info/world-population/population-by-country/'\n",
    "\n",
    "page = requests.get(url)\n",
    "soup = BeautifulSoup(page.text, \"html\")\n",
    "# print(soup.prettify())"
   ]
  },
  {
   "cell_type": "code",
   "execution_count": 5,
   "metadata": {},
   "outputs": [
    {
     "name": "stdout",
     "output_type": "stream",
     "text": [
      "['#', 'Country (or dependency)', 'Population (2024)', 'Yearly Change', 'Net Change', 'Density (P/Km²)', 'Land Area (Km²)', 'Migrants (net)', 'Fert. Rate', 'Med. Age', 'Urban Pop %', 'World Share']\n"
     ]
    }
   ],
   "source": [
    "table = soup.find(\"table\", class_=\"table table-striped table-bordered\")\n",
    "world_columns = table.find_all(\"th\")\n",
    "columns_titles = [title.text for title in world_columns]\n",
    "print(columns_titles)"
   ]
  },
  {
   "cell_type": "code",
   "execution_count": 7,
   "metadata": {},
   "outputs": [
    {
     "data": {
      "text/html": [
       "<div>\n",
       "<style scoped>\n",
       "    .dataframe tbody tr th:only-of-type {\n",
       "        vertical-align: middle;\n",
       "    }\n",
       "\n",
       "    .dataframe tbody tr th {\n",
       "        vertical-align: top;\n",
       "    }\n",
       "\n",
       "    .dataframe thead th {\n",
       "        text-align: right;\n",
       "    }\n",
       "</style>\n",
       "<table border=\"1\" class=\"dataframe\">\n",
       "  <thead>\n",
       "    <tr style=\"text-align: right;\">\n",
       "      <th></th>\n",
       "      <th>#</th>\n",
       "      <th>Country (or dependency)</th>\n",
       "      <th>Population (2024)</th>\n",
       "      <th>Yearly Change</th>\n",
       "      <th>Net Change</th>\n",
       "      <th>Density (P/Km²)</th>\n",
       "      <th>Land Area (Km²)</th>\n",
       "      <th>Migrants (net)</th>\n",
       "      <th>Fert. Rate</th>\n",
       "      <th>Med. Age</th>\n",
       "      <th>Urban Pop %</th>\n",
       "      <th>World Share</th>\n",
       "    </tr>\n",
       "  </thead>\n",
       "  <tbody>\n",
       "  </tbody>\n",
       "</table>\n",
       "</div>"
      ],
      "text/plain": [
       "Empty DataFrame\n",
       "Columns: [#, Country (or dependency), Population (2024), Yearly Change, Net Change, Density (P/Km²), Land Area (Km²), Migrants (net), Fert. Rate, Med. Age, Urban Pop %, World Share]\n",
       "Index: []"
      ]
     },
     "execution_count": 7,
     "metadata": {},
     "output_type": "execute_result"
    }
   ],
   "source": [
    "df = pd.DataFrame(columns=columns_titles)\n",
    "df"
   ]
  },
  {
   "cell_type": "code",
   "execution_count": 8,
   "metadata": {},
   "outputs": [
    {
     "data": {
      "text/html": [
       "<div>\n",
       "<style scoped>\n",
       "    .dataframe tbody tr th:only-of-type {\n",
       "        vertical-align: middle;\n",
       "    }\n",
       "\n",
       "    .dataframe tbody tr th {\n",
       "        vertical-align: top;\n",
       "    }\n",
       "\n",
       "    .dataframe thead th {\n",
       "        text-align: right;\n",
       "    }\n",
       "</style>\n",
       "<table border=\"1\" class=\"dataframe\">\n",
       "  <thead>\n",
       "    <tr style=\"text-align: right;\">\n",
       "      <th></th>\n",
       "      <th>#</th>\n",
       "      <th>Country (or dependency)</th>\n",
       "      <th>Population (2024)</th>\n",
       "      <th>Yearly Change</th>\n",
       "      <th>Net Change</th>\n",
       "      <th>Density (P/Km²)</th>\n",
       "      <th>Land Area (Km²)</th>\n",
       "      <th>Migrants (net)</th>\n",
       "      <th>Fert. Rate</th>\n",
       "      <th>Med. Age</th>\n",
       "      <th>Urban Pop %</th>\n",
       "      <th>World Share</th>\n",
       "    </tr>\n",
       "  </thead>\n",
       "  <tbody>\n",
       "    <tr>\n",
       "      <th>0</th>\n",
       "      <td>1</td>\n",
       "      <td>India</td>\n",
       "      <td>1,450,935,791</td>\n",
       "      <td>0.89 %</td>\n",
       "      <td>12,866,195</td>\n",
       "      <td>488</td>\n",
       "      <td>2,973,190</td>\n",
       "      <td>-630,830</td>\n",
       "      <td>2.0</td>\n",
       "      <td>28</td>\n",
       "      <td>37 %</td>\n",
       "      <td>17.78 %</td>\n",
       "    </tr>\n",
       "    <tr>\n",
       "      <th>1</th>\n",
       "      <td>2</td>\n",
       "      <td>China</td>\n",
       "      <td>1,419,321,278</td>\n",
       "      <td>-0.23 %</td>\n",
       "      <td>-3,263,655</td>\n",
       "      <td>151</td>\n",
       "      <td>9,388,211</td>\n",
       "      <td>-318,992</td>\n",
       "      <td>1.0</td>\n",
       "      <td>40</td>\n",
       "      <td>66 %</td>\n",
       "      <td>17.39 %</td>\n",
       "    </tr>\n",
       "    <tr>\n",
       "      <th>2</th>\n",
       "      <td>3</td>\n",
       "      <td>United States</td>\n",
       "      <td>345,426,571</td>\n",
       "      <td>0.57 %</td>\n",
       "      <td>1,949,236</td>\n",
       "      <td>38</td>\n",
       "      <td>9,147,420</td>\n",
       "      <td>1,286,132</td>\n",
       "      <td>1.6</td>\n",
       "      <td>38</td>\n",
       "      <td>82 %</td>\n",
       "      <td>4.23 %</td>\n",
       "    </tr>\n",
       "    <tr>\n",
       "      <th>3</th>\n",
       "      <td>4</td>\n",
       "      <td>Indonesia</td>\n",
       "      <td>283,487,931</td>\n",
       "      <td>0.82 %</td>\n",
       "      <td>2,297,864</td>\n",
       "      <td>156</td>\n",
       "      <td>1,811,570</td>\n",
       "      <td>-38,469</td>\n",
       "      <td>2.1</td>\n",
       "      <td>30</td>\n",
       "      <td>59 %</td>\n",
       "      <td>3.47 %</td>\n",
       "    </tr>\n",
       "    <tr>\n",
       "      <th>4</th>\n",
       "      <td>5</td>\n",
       "      <td>Pakistan</td>\n",
       "      <td>251,269,164</td>\n",
       "      <td>1.52 %</td>\n",
       "      <td>3,764,669</td>\n",
       "      <td>326</td>\n",
       "      <td>770,880</td>\n",
       "      <td>-1,401,173</td>\n",
       "      <td>3.5</td>\n",
       "      <td>20</td>\n",
       "      <td>34 %</td>\n",
       "      <td>3.08 %</td>\n",
       "    </tr>\n",
       "    <tr>\n",
       "      <th>...</th>\n",
       "      <td>...</td>\n",
       "      <td>...</td>\n",
       "      <td>...</td>\n",
       "      <td>...</td>\n",
       "      <td>...</td>\n",
       "      <td>...</td>\n",
       "      <td>...</td>\n",
       "      <td>...</td>\n",
       "      <td>...</td>\n",
       "      <td>...</td>\n",
       "      <td>...</td>\n",
       "      <td>...</td>\n",
       "    </tr>\n",
       "    <tr>\n",
       "      <th>229</th>\n",
       "      <td>230</td>\n",
       "      <td>Montserrat</td>\n",
       "      <td>4,389</td>\n",
       "      <td>-0.70 %</td>\n",
       "      <td>-31</td>\n",
       "      <td>44</td>\n",
       "      <td>100</td>\n",
       "      <td>-7</td>\n",
       "      <td>1.4</td>\n",
       "      <td>42</td>\n",
       "      <td>11 %</td>\n",
       "      <td>0.00 %</td>\n",
       "    </tr>\n",
       "    <tr>\n",
       "      <th>230</th>\n",
       "      <td>231</td>\n",
       "      <td>Falkland Islands</td>\n",
       "      <td>3,470</td>\n",
       "      <td>-0.20 %</td>\n",
       "      <td>-7</td>\n",
       "      <td>0</td>\n",
       "      <td>12,170</td>\n",
       "      <td>-13</td>\n",
       "      <td>1.7</td>\n",
       "      <td>42</td>\n",
       "      <td>68 %</td>\n",
       "      <td>0.00 %</td>\n",
       "    </tr>\n",
       "    <tr>\n",
       "      <th>231</th>\n",
       "      <td>232</td>\n",
       "      <td>Tokelau</td>\n",
       "      <td>2,506</td>\n",
       "      <td>4.55 %</td>\n",
       "      <td>109</td>\n",
       "      <td>251</td>\n",
       "      <td>10</td>\n",
       "      <td>72</td>\n",
       "      <td>2.6</td>\n",
       "      <td>27</td>\n",
       "      <td>0 %</td>\n",
       "      <td>0.00 %</td>\n",
       "    </tr>\n",
       "    <tr>\n",
       "      <th>232</th>\n",
       "      <td>233</td>\n",
       "      <td>Niue</td>\n",
       "      <td>1,819</td>\n",
       "      <td>0.11 %</td>\n",
       "      <td>2</td>\n",
       "      <td>7</td>\n",
       "      <td>260</td>\n",
       "      <td>10</td>\n",
       "      <td>2.5</td>\n",
       "      <td>36</td>\n",
       "      <td>44 %</td>\n",
       "      <td>0.00 %</td>\n",
       "    </tr>\n",
       "    <tr>\n",
       "      <th>233</th>\n",
       "      <td>234</td>\n",
       "      <td>Holy See</td>\n",
       "      <td>496</td>\n",
       "      <td>0.00 %</td>\n",
       "      <td>0</td>\n",
       "      <td>1,240</td>\n",
       "      <td>0</td>\n",
       "      <td>18</td>\n",
       "      <td>1.0</td>\n",
       "      <td>59</td>\n",
       "      <td>N.A.</td>\n",
       "      <td>0.00 %</td>\n",
       "    </tr>\n",
       "  </tbody>\n",
       "</table>\n",
       "<p>234 rows × 12 columns</p>\n",
       "</div>"
      ],
      "text/plain": [
       "       # Country (or dependency) Population (2024) Yearly Change  Net Change  \\\n",
       "0      1                   India     1,450,935,791        0.89 %  12,866,195   \n",
       "1      2                   China     1,419,321,278       -0.23 %  -3,263,655   \n",
       "2      3           United States       345,426,571        0.57 %   1,949,236   \n",
       "3      4               Indonesia       283,487,931        0.82 %   2,297,864   \n",
       "4      5                Pakistan       251,269,164        1.52 %   3,764,669   \n",
       "..   ...                     ...               ...           ...         ...   \n",
       "229  230              Montserrat             4,389       -0.70 %         -31   \n",
       "230  231        Falkland Islands             3,470       -0.20 %          -7   \n",
       "231  232                 Tokelau             2,506        4.55 %         109   \n",
       "232  233                    Niue             1,819        0.11 %           2   \n",
       "233  234                Holy See               496        0.00 %           0   \n",
       "\n",
       "    Density (P/Km²) Land Area (Km²) Migrants (net) Fert. Rate Med. Age  \\\n",
       "0               488       2,973,190       -630,830        2.0       28   \n",
       "1               151       9,388,211       -318,992        1.0       40   \n",
       "2                38       9,147,420      1,286,132        1.6       38   \n",
       "3               156       1,811,570        -38,469        2.1       30   \n",
       "4               326         770,880     -1,401,173        3.5       20   \n",
       "..              ...             ...            ...        ...      ...   \n",
       "229              44             100             -7        1.4       42   \n",
       "230               0          12,170            -13        1.7       42   \n",
       "231             251              10             72        2.6       27   \n",
       "232               7             260             10        2.5       36   \n",
       "233           1,240               0             18        1.0       59   \n",
       "\n",
       "    Urban Pop % World Share  \n",
       "0          37 %     17.78 %  \n",
       "1          66 %     17.39 %  \n",
       "2          82 %      4.23 %  \n",
       "3          59 %      3.47 %  \n",
       "4          34 %      3.08 %  \n",
       "..          ...         ...  \n",
       "229        11 %      0.00 %  \n",
       "230        68 %      0.00 %  \n",
       "231         0 %      0.00 %  \n",
       "232        44 %      0.00 %  \n",
       "233        N.A.      0.00 %  \n",
       "\n",
       "[234 rows x 12 columns]"
      ]
     },
     "execution_count": 8,
     "metadata": {},
     "output_type": "execute_result"
    }
   ],
   "source": [
    "world_rows = table.find_all('tr')\n",
    "# skipping the first row which is the header\n",
    "for row in world_rows[1:]:\n",
    "    row_data = row.find_all('td')\n",
    "    # print(row_data)\n",
    "    individual_row_data = [data.text for data in row_data]\n",
    "    # print(individual_row_data)\n",
    "\n",
    "    length = len(df)\n",
    "    df.loc[length] = individual_row_data\n",
    "df"
   ]
  },
  {
   "cell_type": "code",
   "execution_count": 9,
   "metadata": {},
   "outputs": [],
   "source": [
    "df.to_csv(\"/Users/koapam/Desktop/Coding_Workspace/Python_Workspace/example/webscraping/world_population.csv\", index=False)"
   ]
  },
  {
   "cell_type": "markdown",
   "metadata": {},
   "source": [
    "## Re Module & RegEx Methods"
   ]
  },
  {
   "cell_type": "markdown",
   "metadata": {},
   "source": [
    "### Understand basic syntax"
   ]
  },
  {
   "cell_type": "markdown",
   "metadata": {},
   "source": [
    "[Link to Regex Cheatsheet](https://www.rexegg.com/regex-quickstart.php)"
   ]
  },
  {
   "cell_type": "code",
   "execution_count": null,
   "metadata": {},
   "outputs": [],
   "source": [
    "import re\n",
    "quote = \"There's only one thing, I hate more than lying: skim milk. Which is water, that's lying about being milk. - Ron Swanson\"\n",
    "\n",
    "print(re.search(\"milk\",quote).group())\n",
    "print(re.findall(\"milk\",quote))\n",
    "print(len(re.findall(\"milk\",quote)))\n",
    "print(re.split(\"\\\\,\",quote))\n",
    "print(re.split(\"\\\\.\", quote, maxsplit=1))\n",
    "print(re.sub(\"milk\", \"dairy\", quote, count = 1))"
   ]
  },
  {
   "cell_type": "code",
   "execution_count": null,
   "metadata": {},
   "outputs": [],
   "source": [
    "string = 'I like the mountains in the spring. 234098'\n",
    "re.findall('[a-hA-H0-9]',string)"
   ]
  },
  {
   "cell_type": "code",
   "execution_count": null,
   "metadata": {},
   "outputs": [],
   "source": [
    "string = 'I have 123,456 koalas! And 12 dogs!'\n",
    "re.findall(\"\\\\!\", string)\n",
    "re.findall('[0-4]', string)"
   ]
  },
  {
   "cell_type": "code",
   "execution_count": null,
   "metadata": {},
   "outputs": [],
   "source": [
    "string = 'I hate that I love lovely balloon animals. They are beautiful and lovely.'\n",
    "re.findall('lovely|beautiful', string)"
   ]
  },
  {
   "cell_type": "code",
   "execution_count": null,
   "metadata": {},
   "outputs": [],
   "source": [
    "string = 'You can see sea shells by the sea shore. sba'\n",
    "re.findall('s.e', string)\n",
    "re.findall(\"s.{1}a\", string)"
   ]
  },
  {
   "cell_type": "code",
   "execution_count": null,
   "metadata": {},
   "outputs": [],
   "source": [
    "string = \"Well well well... if it isn't Will Wilmer\"\n",
    "re.findall('W.{2}l', string)"
   ]
  },
  {
   "cell_type": "code",
   "execution_count": null,
   "metadata": {},
   "outputs": [],
   "source": [
    "string = 'Happy birthday to you. Happy birthday to you. Happy birthday dear Alex, happy birthday to you.'\n",
    "re.findall('^Hap', string)\n",
    "re.findall('you.$', string)"
   ]
  },
  {
   "cell_type": "code",
   "execution_count": null,
   "metadata": {},
   "outputs": [],
   "source": [
    "string = 'This Thing called a Thimble ha Thrice hurt me'\n",
    "re.findall('Thi.*e', string)\n",
    "re.findall(\"Thi.+e\", string)\n",
    "re.findall(\"Thi.{3}?e\", string)"
   ]
  },
  {
   "cell_type": "code",
   "execution_count": null,
   "metadata": {},
   "outputs": [],
   "source": [
    "text = \"The event is on November 15th, 2023.\"\n",
    "re.findall(r\"\\d+\", text)"
   ]
  },
  {
   "cell_type": "code",
   "execution_count": null,
   "metadata": {},
   "outputs": [],
   "source": [
    "quote = 'My name is Neo. My phone number is 534-342-1234. My email is TheMatrixMan@gmail.com'\n",
    "\n",
    "re.findall('[A-Za-z]$',quote)\n",
    "\n",
    "re.findall('[0-4]{3}',quote)\n",
    "re.findall('\\\\d{3}',quote)\n",
    "\n",
    "re.findall('\\\\D',quote)\n",
    "re.findall(\"\\\\W\", quote)\n",
    "re.findall(\"\\\\S\", quote)"
   ]
  },
  {
   "cell_type": "code",
   "execution_count": null,
   "metadata": {},
   "outputs": [],
   "source": [
    "quote = 'I love the Matrix is MatrixLove a word?'\n",
    "re.findall(r'\\bMatrix',quote)\n",
    "re.findall(r'\\Batrix',quote)"
   ]
  },
  {
   "cell_type": "code",
   "execution_count": null,
   "metadata": {},
   "outputs": [],
   "source": [
    "string = \"It's a BEAUTIFUL day in the city. It's 75 degrees and sunny!\"\n",
    "result = re.search(r\"(\\b[A-Z]+\\b).*(\\b\\d+\\b)\", string)\n",
    "print(result)\n",
    "result.span()\n",
    "result.start()\n",
    "result.end()\n",
    "\n",
    "print(result.groups())\n",
    "result.group()\n",
    "result.group(2)"
   ]
  },
  {
   "cell_type": "code",
   "execution_count": null,
   "metadata": {},
   "outputs": [],
   "source": [
    "string = \"My name is Mr. Khoa Pham. My phone number is 123-456-7890. My email is KhoaPham@gmail.com. \"\n",
    "re.findall(r\"\\b[a-z]+\\b\", string, re.I)\n",
    "# re.findall(r\"\\b[a-zA-Z]+\\b\", string)\n"
   ]
  },
  {
   "cell_type": "code",
   "execution_count": null,
   "metadata": {},
   "outputs": [],
   "source": [
    "target_string = \"I like ice cream. \\nI like pie as well!\"\n",
    "target_string2 = \"\"\"Alex likes the number 16\n",
    "Christine likes the number 24\n",
    "\"\"\"\n",
    "\n",
    "re.findall(r\"^\\w{4}\", target_string2)\n",
    "re.findall(r\"^\\w{4}\", target_string2, re.M)\n",
    "re.findall(r\"\\d{2}$\", target_string2, re.M)\n",
    "\n",
    "result = re.search(r\".+\", target_string, re.S)\n",
    "print(result.group())\n"
   ]
  },
  {
   "cell_type": "markdown",
   "metadata": {},
   "source": [
    "### Regex Use Cases"
   ]
  },
  {
   "cell_type": "code",
   "execution_count": null,
   "metadata": {},
   "outputs": [],
   "source": [
    "import re\n",
    "\n",
    "random_text = '''\n",
    "My name is Mr. Neo. My phone number is 123-456-7890. My email is ChosenOne@gmail.com\n",
    "My name is Mr. Morphius. My phone number is 413-234-2568. My email is Cool_Guy@yahoo.com.\n",
    "My name is Mrs. Trinity. My phone number is 285-036-8215. My email is ChosenTwo-Girl2@apple-2.com.\n",
    "'''\n",
    "\n",
    "\n",
    "print(re.findall(\"@[a-z]+\", random_text))\n",
    "print(re.findall(\"@([a-z]+)\", random_text))\n",
    "\n",
    "# \\\\w for alphanumeric characters [a-zA-Z0-9_]\n",
    "print(re.findall(\"@([\\\\w\\\\.]+)\", random_text))\n",
    "print(re.findall(\"[\\\\w]+@[\\\\w\\\\.]+\", random_text))"
   ]
  },
  {
   "cell_type": "code",
   "execution_count": null,
   "metadata": {},
   "outputs": [],
   "source": [
    "print(re.findall(\"\\\\d{3}-\\\\d{3}-\\\\d{4}\", random_text))\n",
    "\n",
    "# [\\w\\.-]+: Matches one or more word characters (\\w), dots (.), or hyphens (-) (for the local part of the email).\n",
    "# @: Matches the @ symbol.\n",
    "# \\.\\w+: Matches the dot (.) followed by one or more word characters (for the domain suffix, like .com).\n",
    "email_list = re.findall(\"[\\\\w\\\\.-]+@[\\\\w\\\\.-]+\\\\.\\\\w+\", random_text)\n",
    "print(email_list)\n",
    "\n",
    "domain_list = []\n",
    "for email in email_list:\n",
    "    # domains.append(re.findall(\"@([\\\\w\\\\.]+)\", email))\n",
    "    domain_list.append(re.findall(\"@([\\\\w\\\\.]+)\", email)[0])\n",
    "print(domain_list)\n",
    "\n",
    "# domain_list2 = [re.findall(\"@([\\\\w\\\\.]+)\", email)[0] for email in email_list]\n",
    "# print(domain_list2)\n"
   ]
  },
  {
   "cell_type": "code",
   "execution_count": null,
   "metadata": {},
   "outputs": [],
   "source": [
    "phone_numbers = [\n",
    "    \"(123) 456-7890\",\n",
    "    \"(555) 123-4567\",\n",
    "    \"(987) 654-3210\",\n",
    "    \"(800) 555-1212\",\n",
    "    \"(123) 456-7890\",\n",
    "]\n",
    "\n",
    "area_code_pattern = r\"\\((\\d{3})\\)\"\n",
    "area_codes = []\n",
    "\n",
    "# Loop through each phone number and extract area codes:\n",
    "for phone_number in phone_numbers:\n",
    "    match = re.search(area_code_pattern, phone_number)\n",
    "    if match:\n",
    "        area_codes.append(match.group(1))\n",
    "\n",
    "print(area_codes)\n"
   ]
  },
  {
   "cell_type": "markdown",
   "metadata": {},
   "source": [
    "## Web Scraping + RegEx + Pandas"
   ]
  },
  {
   "cell_type": "code",
   "execution_count": 28,
   "metadata": {},
   "outputs": [],
   "source": [
    "from bs4 import BeautifulSoup\n",
    "import requests\n",
    "import pandas as pd\n",
    "import re"
   ]
  },
  {
   "cell_type": "code",
   "execution_count": 47,
   "metadata": {},
   "outputs": [
    {
     "name": "stdout",
     "output_type": "stream",
     "text": [
      "<class 'list'>\n",
      "883\n"
     ]
    }
   ],
   "source": [
    "url = \"http://www.analytictech.com/mb021/mlk.htm\"\n",
    "page = requests.get(url)\n",
    "soup = BeautifulSoup(page.text, \"html\")\n",
    "# print(soup.prettify())\n",
    "\n",
    "\n",
    "mlkj_speech = soup.find_all(\"p\")\n",
    "# print(type(mlkj_speech))\n",
    "\n",
    "speech_combined = [p.text for p in mlkj_speech]\n",
    "# print(type(speech_combined))\n",
    "# print(speech_combined[: 10])\n",
    "string_speech = ' '.join(speech_combined)\n",
    "# print(string_speech[: 300])\n",
    "\n",
    "string_speech_cleaned = string_speech.replace(\"\\r\\n\", \" \")\n",
    "# print(string_speech_cleaned)\n",
    "\n",
    "# speech_no_punt = re.sub(\"[^\\\\w\\\\s]\", \" \", string_speech_cleaned)\n",
    "# no_punt_lower = speech_no_punt.lower()\n",
    "\n",
    "speech_no_punt = re.sub(\"[^\\\\w\\\\s']\", \" \", string_speech_cleaned)  # Keep apostrophes\n",
    "no_punt_lower = speech_no_punt.lower()\n",
    "\n",
    "# print(speech_no_punt)\n",
    "# print(no_punt_lower)\n",
    "words_broken = re.split(\"\\\\s+\", no_punt_lower)\n",
    "print(type(words_broken))\n",
    "print(len(words_broken))"
   ]
  },
  {
   "cell_type": "code",
   "execution_count": 52,
   "metadata": {},
   "outputs": [
    {
     "name": "stdout",
     "output_type": "stream",
     "text": [
      "  Words  Count\n",
      "0   the     54\n",
      "1    of     49\n",
      "2    to     29\n",
      "3   and     27\n"
     ]
    }
   ],
   "source": [
    "# Avoid using this way because you'll need to use reset_index() to get the words and counts in separate columns\n",
    "df = pd.DataFrame(words_broken).value_counts()\n",
    "df.to_csv(\"/Users/koapam/Desktop/Coding_Workspace/Python_Workspace/example/webscraping/mlkj_speech1.csv\", header = [\"Counts\"], index_label=\"Words\")\n",
    "\n",
    "\n",
    "df = df.reset_index()\n",
    "df.columns = [\"Words\", \"Count\"]\n",
    "# Once you reset, notice there's no (s) in 'Count'\n",
    "# Now you can filter\n",
    "df_filtered = df[df[\"Count\"] > 25]\n",
    "print(df_filtered)"
   ]
  },
  {
   "cell_type": "code",
   "execution_count": 50,
   "metadata": {},
   "outputs": [
    {
     "name": "stdout",
     "output_type": "stream",
     "text": [
      "  Words  Counts\n",
      "0   the      54\n",
      "1    of      49\n",
      "2    to      29\n",
      "3   and      27\n"
     ]
    }
   ],
   "source": [
    "# Convert the list to a pandas Series\n",
    "words_series = pd.Series(words_broken)\n",
    "word_counts = words_series.value_counts()\n",
    "\n",
    "# Convert to DataFrame with two columns: \"words\" and \"counts\"\n",
    "df = pd.DataFrame({\"Words\": word_counts.index, \"Counts\": word_counts.values})\n",
    "\n",
    "df.to_csv(\"/Users/koapam/Desktop/Coding_Workspace/Python_Workspace/example/webscraping/mlkj_speech2.csv\", index=False)\n",
    "\n",
    "df_filtered = df[df[\"Counts\"] > 25]\n",
    "print(df_filtered)\n"
   ]
  },
  {
   "cell_type": "markdown",
   "metadata": {},
   "source": [
    "## Automated Web Scraper"
   ]
  },
  {
   "cell_type": "code",
   "execution_count": 1,
   "metadata": {},
   "outputs": [],
   "source": [
    "from bs4 import BeautifulSoup\n",
    "import requests\n",
    "import pandas as pd\n",
    "from datetime import datetime\n",
    "import os\n",
    "import time"
   ]
  },
  {
   "cell_type": "code",
   "execution_count": null,
   "metadata": {},
   "outputs": [
    {
     "name": "stdout",
     "output_type": "stream",
     "text": [
      "File exists\n",
      "  Crypto Name Crypto Price                  TimeStamp\n",
      "0     Bitcoin    66,368.73 2024-10-23 14:56:32.293498\n",
      "File exists\n",
      "  Crypto Name Crypto Price                  TimeStamp\n",
      "0     Bitcoin    66,368.73 2024-10-23 14:56:42.459971\n",
      "File exists\n",
      "  Crypto Name Crypto Price                  TimeStamp\n",
      "0     Bitcoin    66,368.73 2024-10-23 14:56:52.644207\n",
      "File exists\n",
      "  Crypto Name Crypto Price                  TimeStamp\n",
      "0     Bitcoin    66,368.73 2024-10-23 14:57:02.835004\n",
      "File exists\n",
      "  Crypto Name Crypto Price                  TimeStamp\n",
      "0     Bitcoin    66,375.43 2024-10-23 14:57:12.957403\n"
     ]
    },
    {
     "ename": "KeyboardInterrupt",
     "evalue": "",
     "output_type": "error",
     "traceback": [
      "\u001b[0;31m---------------------------------------------------------------------------\u001b[0m",
      "\u001b[0;31mKeyboardInterrupt\u001b[0m                         Traceback (most recent call last)",
      "Cell \u001b[0;32mIn[4], line 32\u001b[0m\n\u001b[1;32m     30\u001b[0m \u001b[38;5;28;01mwhile\u001b[39;00m \u001b[38;5;28;01mTrue\u001b[39;00m:\n\u001b[1;32m     31\u001b[0m     automated_crypto_pull()\n\u001b[0;32m---> 32\u001b[0m     time\u001b[38;5;241m.\u001b[39msleep(\u001b[38;5;241m10\u001b[39m)\n",
      "\u001b[0;31mKeyboardInterrupt\u001b[0m: "
     ]
    }
   ],
   "source": [
    "def automated_crypto_pull():\n",
    "    url = 'https://coinmarketcap.com/currencies/bitcoin/'\n",
    "    page = requests.get(url)\n",
    "    soup = BeautifulSoup(page.text, \"html\")\n",
    "    # print(soup.prettify())\n",
    "\n",
    "\n",
    "    crypto_name = soup.find(\"span\", {\"data-role\": \"coin-name\"})[\"title\"]\n",
    "    # print(crypto_name)\n",
    "    cp = soup.find(\"span\", class_=\"sc-65e7f566-0 WXGwg base-text\").text\n",
    "    crypto_price = cp.replace(\"$\", \"\")\n",
    "    # print(crypto_price)\n",
    "\n",
    "\n",
    "    date_time = datetime.now()\n",
    "    # print(date_time)\n",
    "\n",
    "    dict = {\"Crypto Name\": crypto_name, \"Crypto Price\": crypto_price, \"TimeStamp\": date_time}\n",
    "    df = pd.DataFrame([dict])\n",
    "\n",
    "\n",
    "    if os.path.exists(\"/Users/koapam/Desktop/Coding_Workspace/Python_Workspace/example/webscraping/crypto_price.csv\"):\n",
    "        print(\"File exists\")\n",
    "        df.to_csv(\"/Users/koapam/Desktop/Coding_Workspace/Python_Workspace/example/webscraping/crypto_price.csv\", mode='a', header=False, index=False)\n",
    "        print(df)\n",
    "    else:\n",
    "        df.to_csv(\"/Users/koapam/Desktop/Coding_Workspace/Python_Workspace/example/webscraping/crypto_price.csv\", index=False)\n",
    "\n",
    "\n",
    "while True:\n",
    "    automated_crypto_pull()\n",
    "    time.sleep(10)"
   ]
  }
 ],
 "metadata": {
  "kernelspec": {
   "display_name": "example",
   "language": "python",
   "name": "python3"
  },
  "language_info": {
   "codemirror_mode": {
    "name": "ipython",
    "version": 3
   },
   "file_extension": ".py",
   "mimetype": "text/x-python",
   "name": "python",
   "nbconvert_exporter": "python",
   "pygments_lexer": "ipython3",
   "version": "3.12.2"
  }
 },
 "nbformat": 4,
 "nbformat_minor": 2
}
