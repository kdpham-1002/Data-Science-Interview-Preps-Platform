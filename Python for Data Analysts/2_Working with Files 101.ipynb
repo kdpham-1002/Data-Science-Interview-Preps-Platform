{
 "cells": [
  {
   "cell_type": "markdown",
   "metadata": {},
   "source": [
    "### Common file mode characters"
   ]
  },
  {
   "cell_type": "markdown",
   "metadata": {},
   "source": [
    "> 'r' – Opens the file for reading; error if it doesn’t exist.  \n",
    "> 'w' – Opens the file for writing; overwrites if it exists, creates a new one if not.  \n",
    "> 'x' – Opens for exclusive creation; fails if the file exists, creates if not.  \n",
    "> 'a' – Opens the file for appending; creates the file if it doesn’t exist.  \n",
    "> 'b' – Opens the file in binary mode; use with reading or writing non-text files.  \n",
    "> 't' – Opens the file in text mode (default); for handling text files.  \n",
    "> '+' – Opens the file for reading and writing; use with r, w, x, or a."
   ]
  },
  {
   "cell_type": "code",
   "execution_count": null,
   "metadata": {},
   "outputs": [],
   "source": [
    "# this is for Windows\n",
    "# write_file = open(r'C:\\Users\\alexf\\OneDrive\\Documents\\Python Tutorials\\FakeFile.txt', 'x')\n",
    "\n",
    "\n",
    "# write_file = open('/Users/koapam/Desktop/Coding_Workspace/Python_Workspace/example/example_file.txt', 'w')\n",
    "write_file = open(\n",
    "    \"/Users/koapam/Desktop/Coding_Workspace/Python_Workspace/example/example_folder/example.py\",\n",
    "    \"w\",\n",
    ")\n",
    "\n",
    "write_file.write(\"'''This is our first sentence in our file.'''\\n\")\n",
    "write_file.close()\n",
    "#always close the file after writing to it"
   ]
  },
  {
   "cell_type": "code",
   "execution_count": null,
   "metadata": {},
   "outputs": [],
   "source": [
    "read_file = open('/Users/koapam/Desktop/Coding_Workspace/Python_Workspace/example/example_folder/example.py', 'r')\n",
    "print(read_file.read())\n",
    "read_file.close()"
   ]
  },
  {
   "cell_type": "code",
   "execution_count": 13,
   "metadata": {},
   "outputs": [],
   "source": [
    "append_file = open('/Users/koapam/Desktop/Coding_Workspace/Python_Workspace/example/example_folder/example.py', 'a')\n",
    "append_file.write('\\nThis is our Second sentence in our file.')\n",
    "append_file.close()"
   ]
  },
  {
   "cell_type": "markdown",
   "metadata": {},
   "source": [
    "### Effieciently Read, Write and Append Text Files"
   ]
  },
  {
   "cell_type": "code",
   "execution_count": 19,
   "metadata": {},
   "outputs": [],
   "source": [
    "# use with open() for automatic closing of file\n",
    "with open('/Users/koapam/Desktop/Coding_Workspace/Python_Workspace/example/example_folder/example.py', 'a') as a_file:\n",
    "    a_file.write('\\nThis is our Third sentence in our file on a new line.')"
   ]
  },
  {
   "cell_type": "code",
   "execution_count": null,
   "metadata": {},
   "outputs": [],
   "source": [
    "with open('/Users/koapam/Desktop/Coding_Workspace/Python_Workspace/example/example_folder/example.py', 'r') as read_file:\n",
    "    print(read_file.read())"
   ]
  },
  {
   "cell_type": "code",
   "execution_count": 21,
   "metadata": {},
   "outputs": [],
   "source": [
    "multi_line = \"\"\"\n",
    "This is the Fourth sentence.\n",
    "This is the Fifth sentence.\n",
    "This is the Sixth sentence.\n",
    "\"\"\"\n",
    "\n",
    "with open('/Users/koapam/Desktop/Coding_Workspace/Python_Workspace/example/example_folder/example.py', 'a') as append_file:\n",
    "    append_file.write(multi_line)"
   ]
  },
  {
   "cell_type": "code",
   "execution_count": null,
   "metadata": {},
   "outputs": [],
   "source": [
    "with open('/Users/koapam/Desktop/Coding_Workspace/Python_Workspace/example/example_folder/example.py', 'r') as read_file:\n",
    "    print(read_file.read())"
   ]
  },
  {
   "cell_type": "markdown",
   "metadata": {},
   "source": [
    "### CSV & JSON Files"
   ]
  },
  {
   "cell_type": "code",
   "execution_count": null,
   "metadata": {},
   "outputs": [],
   "source": [
    "import csv\n",
    "\n",
    "column_names = ['Name', 'Job', 'Age']\n",
    "data = [['Khoa Pham', 'Dancer', 25], ['Manh Tran', 'Software Engineer', '24'],['Quang Nguyen', 'Data Engineer', '23']]\n",
    "\n",
    "with open('/Users/koapam/Desktop/Coding_Workspace/Python_Workspace/example/example_folder/csv_example.csv', 'w', newline = '') as csv_file:\n",
    "    csv_writer = csv.writer(csv_file)\n",
    "\n",
    "    csv_writer.writerow(column_names)\n",
    "    csv_writer.writerows(data)"
   ]
  },
  {
   "cell_type": "code",
   "execution_count": 28,
   "metadata": {},
   "outputs": [],
   "source": [
    "import csv\n",
    "\n",
    "column_names = ['Name', 'Job', 'Age']\n",
    "my_dict = [{'Name': 'Alex Freberg', 'Job': 'Instructor', 'Age' : 28},\n",
    "            {'Name': 'Jsoh Menzer','Job': 'Data Analyst', 'Age' : '35 '},\n",
    "            {'Name': 'Sally Turner', 'Job': 'Data Scientist', 'Age' : '78'}]\n",
    "with open('/Users/koapam/Desktop/Coding_Workspace/Python_Workspace/example/example_folder/csv_example.csv', 'w', newline = '') as write_file:\n",
    "    csv_writer = csv.DictWriter(write_file, column_names)\n",
    "    csv_writer.writeheader()\n",
    "    csv_writer.writerows(my_dict)"
   ]
  },
  {
   "cell_type": "code",
   "execution_count": 30,
   "metadata": {},
   "outputs": [],
   "source": [
    "import json\n",
    "\n",
    "column_names = ['Name', 'Job', 'Age']\n",
    "my_dict = [{'Name': 'Alex Freberg', 'Job': 'Instructor', 'Age' : 28},\n",
    "            {'Name': 'Jsoh Menzer','Job': 'Data Analyst', 'Age' : '35 '},\n",
    "            {'Name': 'Sally Turner', 'Job': 'Data Scientist', 'Age' : '78'}]\n",
    "with open('/Users/koapam/Desktop/Coding_Workspace/Python_Workspace/example/example_folder/json_example.json', 'w', newline = '') as write_file:\n",
    "    json.dump(my_dict, write_file)"
   ]
  },
  {
   "cell_type": "markdown",
   "metadata": {},
   "source": [
    "### Creating Folders"
   ]
  },
  {
   "cell_type": "code",
   "execution_count": null,
   "metadata": {},
   "outputs": [],
   "source": [
    "import os\n",
    "import shutil\n",
    "\n",
    "if not os.path.exists('/Users/koapam/Desktop/Coding_Workspace/Python_Workspace/example/example_folder'):\n",
    "    os.mkdir('/Users/koapam/Desktop/Coding_Workspace/Python_Workspace/example/example_folder')\n",
    "\n",
    "path = '/Users/koapam/Desktop/Coding_Workspace/Python_Workspace/example/csv_example.csv'\n",
    "shutil.move(path,'/Users/koapam/Desktop/Coding_Workspace/Python_Workspace/example/example_folder')"
   ]
  },
  {
   "cell_type": "code",
   "execution_count": 34,
   "metadata": {},
   "outputs": [
    {
     "data": {
      "text/plain": [
       "'/Users/koapam/Desktop/Coding_Workspace/Python_Workspace/example/example_file.txt'"
      ]
     },
     "execution_count": 34,
     "metadata": {},
     "output_type": "execute_result"
    }
   ],
   "source": [
    "path2 = '/Users/koapam/Desktop/Coding_Workspace/Python_Workspace/example/example_folder/example_file.txt'\n",
    "\n",
    "shutil.copy(path2,'/Users/koapam/Desktop/Coding_Workspace/Python_Workspace/example/')\n",
    "# shutil.copy(path2,'/Users/koapam/Desktop/Coding_Workspace/Python_Workspace/example/example_folder/example_file_copy.txt')"
   ]
  },
  {
   "cell_type": "markdown",
   "metadata": {},
   "source": [
    "### Automatic File Sorter\n"
   ]
  },
  {
   "cell_type": "code",
   "execution_count": 38,
   "metadata": {},
   "outputs": [],
   "source": [
    "import os, shutil\n",
    "\n",
    "path = (\n",
    "    \"/Users/koapam/Desktop/Coding_Workspace/Python_Workspace/example/filesorter/\"\n",
    ")\n",
    "\n",
    "folder_names = [\"CSV Files\", \"Text Files\", \"Image Files\"]\n",
    "for folder in folder_names:\n",
    "    if not os.path.exists(path + folder):\n",
    "        # os.mkdir(os.path.join(path, folder))\n",
    "        os.makedirs(path + folder)\n",
    "\n",
    "file_names = os.listdir(path)\n",
    "\n",
    "for file in file_names:\n",
    "    if \".csv\" in file and not os.path.exists(path + \"CSV Files/\" + file):\n",
    "        shutil.move(path + file, path + \"CSV Files/\" + file)\n",
    "    elif \".txt\" in file and not os.path.exists(path + \"Text Files/\" + file):\n",
    "        shutil.move(path + file, path + \"Text Files/\" + file)\n",
    "    elif \".png\" in file and not os.path.exists(path + \"Image Files/\" + file):\n",
    "        shutil.move(path + file, path + \"Image Files/\" + file)\n"
   ]
  },
  {
   "cell_type": "markdown",
   "metadata": {},
   "source": [
    "### Try/Except Statements\n"
   ]
  },
  {
   "cell_type": "code",
   "execution_count": null,
   "metadata": {},
   "outputs": [
    {
     "name": "stdout",
     "output_type": "stream",
     "text": [
      "variable created!\n",
      "Data appended to main file!\n",
      "This is from my MainFile!\n",
      "\n",
      "This is the data we want to append!\n",
      "This is the data we want to append!\n",
      "This is the data we want to append!\n",
      "\n"
     ]
    }
   ],
   "source": [
    "import os\n",
    "path = \"/Users/koapam/Desktop/Coding_Workspace/Python_Workspace/example/try_except_folder/MainFile.txt\"\n",
    "\n",
    "try:\n",
    "    with open('/Users/koapam/Desktop/Coding_Workspace/Python_Workspace/example/try_except_folder/NewData.txt', 'r') as open_file:\n",
    "        append_to_main = open_file.read()\n",
    "        print(\"variable created!\")\n",
    "except Exception as e:\n",
    "    print(e)\n",
    "else:\n",
    "    with open(path, 'a') as append_file:\n",
    "        append_file.write(append_to_main)\n",
    "        print(\"Data appended to main file!\")\n",
    "finally:\n",
    "    with open(path, 'r') as main_file:\n",
    "        print(main_file.read())"
   ]
  }
 ],
 "metadata": {
  "kernelspec": {
   "display_name": "example",
   "language": "python",
   "name": "python3"
  },
  "language_info": {
   "codemirror_mode": {
    "name": "ipython",
    "version": 3
   },
   "file_extension": ".py",
   "mimetype": "text/x-python",
   "name": "python",
   "nbconvert_exporter": "python",
   "pygments_lexer": "ipython3",
   "version": "3.12.2"
  }
 },
 "nbformat": 4,
 "nbformat_minor": 2
}
