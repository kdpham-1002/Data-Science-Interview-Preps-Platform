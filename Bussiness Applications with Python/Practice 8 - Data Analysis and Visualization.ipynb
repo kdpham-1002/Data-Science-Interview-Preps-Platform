{
 "cells": [
  {
   "cell_type": "markdown",
   "metadata": {},
   "source": [
    "## Data Analysis & Visualization"
   ]
  },
  {
   "cell_type": "markdown",
   "metadata": {},
   "source": [
    "### Warm-up"
   ]
  },
  {
   "cell_type": "code",
   "execution_count": null,
   "metadata": {},
   "outputs": [
    {
     "data": {
      "text/html": [
       "<div>\n",
       "<style scoped>\n",
       "    .dataframe tbody tr th:only-of-type {\n",
       "        vertical-align: middle;\n",
       "    }\n",
       "\n",
       "    .dataframe tbody tr th {\n",
       "        vertical-align: top;\n",
       "    }\n",
       "\n",
       "    .dataframe thead th {\n",
       "        text-align: right;\n",
       "    }\n",
       "</style>\n",
       "<table border=\"1\" class=\"dataframe\">\n",
       "  <thead>\n",
       "    <tr style=\"text-align: right;\">\n",
       "      <th></th>\n",
       "      <th>customer_since</th>\n",
       "      <th>store_visits</th>\n",
       "      <th>amount_spent</th>\n",
       "    </tr>\n",
       "    <tr>\n",
       "      <th>name</th>\n",
       "      <th></th>\n",
       "      <th></th>\n",
       "      <th></th>\n",
       "    </tr>\n",
       "  </thead>\n",
       "  <tbody>\n",
       "    <tr>\n",
       "      <th>Sam</th>\n",
       "      <td>2016</td>\n",
       "      <td>3</td>\n",
       "      <td>256</td>\n",
       "    </tr>\n",
       "    <tr>\n",
       "      <th>Jayden</th>\n",
       "      <td>2017</td>\n",
       "      <td>4</td>\n",
       "      <td>129</td>\n",
       "    </tr>\n",
       "    <tr>\n",
       "      <th>Noah</th>\n",
       "      <td>2015</td>\n",
       "      <td>2</td>\n",
       "      <td>87</td>\n",
       "    </tr>\n",
       "  </tbody>\n",
       "</table>\n",
       "</div>"
      ],
      "text/plain": [
       "       customer_since  store_visits  amount_spent\n",
       "name                                             \n",
       "Sam              2016             3           256\n",
       "Jayden           2017             4           129\n",
       "Noah             2015             2            87"
      ]
     },
     "execution_count": 4,
     "metadata": {},
     "output_type": "execute_result"
    }
   ],
   "source": [
    "import pandas as pd\n",
    "\n",
    "customers = [\n",
    "    [\"Sam\", \"2016\", 3, 256],\n",
    "    [\"Jayden\", \"2017\", 4, 129],\n",
    "    [\"Noah\", \"2015\", 2, 87],\n",
    "]\n",
    "\n",
    "col_names = [\"name\", \"customer_since\", \"store_visits\", \"amount_spent\"]\n",
    "df_cust = pd.DataFrame(customers, columns=col_names)\n",
    "\n",
    "df_cust.set_index(\"name\", inplace=True)\n",
    "df_cust"
   ]
  },
  {
   "cell_type": "markdown",
   "metadata": {},
   "source": [
    "### Importing Data in Google Colab"
   ]
  },
  {
   "cell_type": "code",
   "execution_count": null,
   "metadata": {},
   "outputs": [
    {
     "data": {
      "text/html": [
       "<div>\n",
       "<style scoped>\n",
       "    .dataframe tbody tr th:only-of-type {\n",
       "        vertical-align: middle;\n",
       "    }\n",
       "\n",
       "    .dataframe tbody tr th {\n",
       "        vertical-align: top;\n",
       "    }\n",
       "\n",
       "    .dataframe thead th {\n",
       "        text-align: right;\n",
       "    }\n",
       "</style>\n",
       "<table border=\"1\" class=\"dataframe\">\n",
       "  <thead>\n",
       "    <tr style=\"text-align: right;\">\n",
       "      <th></th>\n",
       "      <th>Unnamed: 0</th>\n",
       "      <th>Date/Time</th>\n",
       "      <th>Lat</th>\n",
       "      <th>Lon</th>\n",
       "      <th>Base</th>\n",
       "    </tr>\n",
       "  </thead>\n",
       "  <tbody>\n",
       "    <tr>\n",
       "      <th>0</th>\n",
       "      <td>0</td>\n",
       "      <td>7/1/2014 0:03:00</td>\n",
       "      <td>40.7586</td>\n",
       "      <td>-73.9706</td>\n",
       "      <td>B02512</td>\n",
       "    </tr>\n",
       "    <tr>\n",
       "      <th>1</th>\n",
       "      <td>1</td>\n",
       "      <td>7/1/2014 0:05:00</td>\n",
       "      <td>40.7605</td>\n",
       "      <td>-73.9994</td>\n",
       "      <td>B02512</td>\n",
       "    </tr>\n",
       "    <tr>\n",
       "      <th>2</th>\n",
       "      <td>2</td>\n",
       "      <td>7/1/2014 0:06:00</td>\n",
       "      <td>40.7320</td>\n",
       "      <td>-73.9999</td>\n",
       "      <td>B02512</td>\n",
       "    </tr>\n",
       "    <tr>\n",
       "      <th>3</th>\n",
       "      <td>3</td>\n",
       "      <td>7/1/2014 0:09:00</td>\n",
       "      <td>40.7635</td>\n",
       "      <td>-73.9793</td>\n",
       "      <td>B02512</td>\n",
       "    </tr>\n",
       "  </tbody>\n",
       "</table>\n",
       "</div>"
      ],
      "text/plain": [
       "   Unnamed: 0         Date/Time      Lat      Lon    Base\n",
       "0           0  7/1/2014 0:03:00  40.7586 -73.9706  B02512\n",
       "1           1  7/1/2014 0:05:00  40.7605 -73.9994  B02512\n",
       "2           2  7/1/2014 0:06:00  40.7320 -73.9999  B02512\n",
       "3           3  7/1/2014 0:09:00  40.7635 -73.9793  B02512"
      ]
     },
     "execution_count": 5,
     "metadata": {},
     "output_type": "execute_result"
    }
   ],
   "source": [
    "import pandas as pd\n",
    "import requests\n",
    "from io import StringIO\n",
    "\n",
    "orig_url = (\n",
    "    \"https://drive.google.com/file/d/1Z1V2I7ep85G_0kcwOcTjMnoFUCm-KE4H/view?usp=sharing\"\n",
    ")\n",
    "\n",
    "file_id = orig_url.split(\"/\")[-2]\n",
    "dwn_url = \"https://drive.google.com/uc?export=download&id=\" + file_id\n",
    "url = requests.get(dwn_url).text\n",
    "csv_raw = StringIO(url)\n",
    "dfs = pd.read_csv(csv_raw)\n",
    "dfs.head()"
   ]
  },
  {
   "cell_type": "markdown",
   "metadata": {},
   "source": [
    "### Importing Data from a URL"
   ]
  },
  {
   "cell_type": "code",
   "execution_count": null,
   "metadata": {},
   "outputs": [
    {
     "data": {
      "text/html": [
       "<div>\n",
       "<style scoped>\n",
       "    .dataframe tbody tr th:only-of-type {\n",
       "        vertical-align: middle;\n",
       "    }\n",
       "\n",
       "    .dataframe tbody tr th {\n",
       "        vertical-align: top;\n",
       "    }\n",
       "\n",
       "    .dataframe thead th {\n",
       "        text-align: right;\n",
       "    }\n",
       "</style>\n",
       "<table border=\"1\" class=\"dataframe\">\n",
       "  <thead>\n",
       "    <tr style=\"text-align: right;\">\n",
       "      <th></th>\n",
       "      <th>year</th>\n",
       "      <th>pop</th>\n",
       "      <th>lifeExp</th>\n",
       "      <th>gdpPercap</th>\n",
       "    </tr>\n",
       "  </thead>\n",
       "  <tbody>\n",
       "    <tr>\n",
       "      <th>count</th>\n",
       "      <td>1704.00000</td>\n",
       "      <td>1.704000e+03</td>\n",
       "      <td>1704.000000</td>\n",
       "      <td>1704.000000</td>\n",
       "    </tr>\n",
       "    <tr>\n",
       "      <th>mean</th>\n",
       "      <td>1979.50000</td>\n",
       "      <td>2.960121e+07</td>\n",
       "      <td>59.474439</td>\n",
       "      <td>7215.327081</td>\n",
       "    </tr>\n",
       "    <tr>\n",
       "      <th>std</th>\n",
       "      <td>17.26533</td>\n",
       "      <td>1.061579e+08</td>\n",
       "      <td>12.917107</td>\n",
       "      <td>9857.454543</td>\n",
       "    </tr>\n",
       "    <tr>\n",
       "      <th>min</th>\n",
       "      <td>1952.00000</td>\n",
       "      <td>6.001100e+04</td>\n",
       "      <td>23.599000</td>\n",
       "      <td>241.165876</td>\n",
       "    </tr>\n",
       "    <tr>\n",
       "      <th>25%</th>\n",
       "      <td>1965.75000</td>\n",
       "      <td>2.793664e+06</td>\n",
       "      <td>48.198000</td>\n",
       "      <td>1202.060309</td>\n",
       "    </tr>\n",
       "    <tr>\n",
       "      <th>50%</th>\n",
       "      <td>1979.50000</td>\n",
       "      <td>7.023596e+06</td>\n",
       "      <td>60.712500</td>\n",
       "      <td>3531.846988</td>\n",
       "    </tr>\n",
       "    <tr>\n",
       "      <th>75%</th>\n",
       "      <td>1993.25000</td>\n",
       "      <td>1.958522e+07</td>\n",
       "      <td>70.845500</td>\n",
       "      <td>9325.462346</td>\n",
       "    </tr>\n",
       "    <tr>\n",
       "      <th>max</th>\n",
       "      <td>2007.00000</td>\n",
       "      <td>1.318683e+09</td>\n",
       "      <td>82.603000</td>\n",
       "      <td>113523.132900</td>\n",
       "    </tr>\n",
       "  </tbody>\n",
       "</table>\n",
       "</div>"
      ],
      "text/plain": [
       "             year           pop      lifeExp      gdpPercap\n",
       "count  1704.00000  1.704000e+03  1704.000000    1704.000000\n",
       "mean   1979.50000  2.960121e+07    59.474439    7215.327081\n",
       "std      17.26533  1.061579e+08    12.917107    9857.454543\n",
       "min    1952.00000  6.001100e+04    23.599000     241.165876\n",
       "25%    1965.75000  2.793664e+06    48.198000    1202.060309\n",
       "50%    1979.50000  7.023596e+06    60.712500    3531.846988\n",
       "75%    1993.25000  1.958522e+07    70.845500    9325.462346\n",
       "max    2007.00000  1.318683e+09    82.603000  113523.132900"
      ]
     },
     "execution_count": 6,
     "metadata": {},
     "output_type": "execute_result"
    }
   ],
   "source": [
    "import pandas as pd\n",
    "\n",
    "data_url = \"http://bit.ly/2cLzoxH\"\n",
    "\n",
    "# Create the dataframe from the url\n",
    "gm = pd.read_csv(data_url)\n",
    "gm.head()\n",
    "\n",
    "# Get a statistical summary\n",
    "gm.describe()"
   ]
  },
  {
   "cell_type": "code",
   "execution_count": null,
   "metadata": {},
   "outputs": [
    {
     "name": "stdout",
     "output_type": "stream",
     "text": [
      "2007\n",
      "(142, 6)\n"
     ]
    },
    {
     "data": {
      "text/html": [
       "<div>\n",
       "<style scoped>\n",
       "    .dataframe tbody tr th:only-of-type {\n",
       "        vertical-align: middle;\n",
       "    }\n",
       "\n",
       "    .dataframe tbody tr th {\n",
       "        vertical-align: top;\n",
       "    }\n",
       "\n",
       "    .dataframe thead th {\n",
       "        text-align: right;\n",
       "    }\n",
       "</style>\n",
       "<table border=\"1\" class=\"dataframe\">\n",
       "  <thead>\n",
       "    <tr style=\"text-align: right;\">\n",
       "      <th></th>\n",
       "      <th>country</th>\n",
       "      <th>year</th>\n",
       "      <th>pop</th>\n",
       "      <th>continent</th>\n",
       "      <th>lifeExp</th>\n",
       "      <th>gdpPercap</th>\n",
       "    </tr>\n",
       "  </thead>\n",
       "  <tbody>\n",
       "    <tr>\n",
       "      <th>11</th>\n",
       "      <td>Afghanistan</td>\n",
       "      <td>2007</td>\n",
       "      <td>31889923.0</td>\n",
       "      <td>Asia</td>\n",
       "      <td>43.828</td>\n",
       "      <td>974.580338</td>\n",
       "    </tr>\n",
       "    <tr>\n",
       "      <th>23</th>\n",
       "      <td>Albania</td>\n",
       "      <td>2007</td>\n",
       "      <td>3600523.0</td>\n",
       "      <td>Europe</td>\n",
       "      <td>76.423</td>\n",
       "      <td>5937.029526</td>\n",
       "    </tr>\n",
       "    <tr>\n",
       "      <th>35</th>\n",
       "      <td>Algeria</td>\n",
       "      <td>2007</td>\n",
       "      <td>33333216.0</td>\n",
       "      <td>Africa</td>\n",
       "      <td>72.301</td>\n",
       "      <td>6223.367465</td>\n",
       "    </tr>\n",
       "    <tr>\n",
       "      <th>47</th>\n",
       "      <td>Angola</td>\n",
       "      <td>2007</td>\n",
       "      <td>12420476.0</td>\n",
       "      <td>Africa</td>\n",
       "      <td>42.731</td>\n",
       "      <td>4797.231267</td>\n",
       "    </tr>\n",
       "    <tr>\n",
       "      <th>59</th>\n",
       "      <td>Argentina</td>\n",
       "      <td>2007</td>\n",
       "      <td>40301927.0</td>\n",
       "      <td>Americas</td>\n",
       "      <td>75.320</td>\n",
       "      <td>12779.379640</td>\n",
       "    </tr>\n",
       "  </tbody>\n",
       "</table>\n",
       "</div>"
      ],
      "text/plain": [
       "        country  year         pop continent  lifeExp     gdpPercap\n",
       "11  Afghanistan  2007  31889923.0      Asia   43.828    974.580338\n",
       "23      Albania  2007   3600523.0    Europe   76.423   5937.029526\n",
       "35      Algeria  2007  33333216.0    Africa   72.301   6223.367465\n",
       "47       Angola  2007  12420476.0    Africa   42.731   4797.231267\n",
       "59    Argentina  2007  40301927.0  Americas   75.320  12779.379640"
      ]
     },
     "execution_count": 7,
     "metadata": {},
     "output_type": "execute_result"
    }
   ],
   "source": [
    "import math\n",
    "\n",
    "# say we want the most recent data, we can find out the maximum year\n",
    "print(max(gm[\"year\"]))\n",
    "\n",
    "# filter rows for the year 2007 using the boolean value gm['year']==2007\n",
    "gm_07 = gm[gm[\"year\"] == 2007]\n",
    "print(gm_07.shape)  # recall, this tells us the dimensions\n",
    "gm_07.head()"
   ]
  },
  {
   "cell_type": "markdown",
   "metadata": {},
   "source": [
    "### Filtering and Sorting"
   ]
  },
  {
   "cell_type": "code",
   "execution_count": null,
   "metadata": {},
   "outputs": [],
   "source": [
    "gm_07_sort = gm_07.sort_values([\"lifeExp\"], ascending=False)\n",
    "gm_07_sort.head()"
   ]
  },
  {
   "cell_type": "code",
   "execution_count": null,
   "metadata": {},
   "outputs": [],
   "source": [
    "import math\n",
    "\n",
    "# say we want the most recent data, we can find out the maximum year\n",
    "print(max(gm[\"year\"]))\n",
    "\n",
    "# filter rows for the year 2007 using the boolean value gm['year']==2007\n",
    "gm_07 = gm[gm[\"year\"] == 2007]\n",
    "print(gm_07.shape)  # recall, this tells us the dimensions\n",
    "gm_07.head()"
   ]
  },
  {
   "cell_type": "markdown",
   "metadata": {},
   "source": [
    "### Using Apply Function"
   ]
  },
  {
   "cell_type": "code",
   "execution_count": null,
   "metadata": {},
   "outputs": [
    {
     "name": "stdout",
     "output_type": "stream",
     "text": [
      "Mean GDP is:  11680\n"
     ]
    }
   ],
   "source": [
    "# print(gm_07.describe(),'\\n')\n",
    "\n",
    "mean_gdp = gm_07[\"gdpPercap\"].mean()\n",
    "print(\"Mean GDP is: \", round(mean_gdp))"
   ]
  },
  {
   "cell_type": "code",
   "execution_count": null,
   "metadata": {},
   "outputs": [
    {
     "data": {
      "text/html": [
       "<div>\n",
       "<style scoped>\n",
       "    .dataframe tbody tr th:only-of-type {\n",
       "        vertical-align: middle;\n",
       "    }\n",
       "\n",
       "    .dataframe tbody tr th {\n",
       "        vertical-align: top;\n",
       "    }\n",
       "\n",
       "    .dataframe thead th {\n",
       "        text-align: right;\n",
       "    }\n",
       "</style>\n",
       "<table border=\"1\" class=\"dataframe\">\n",
       "  <thead>\n",
       "    <tr style=\"text-align: right;\">\n",
       "      <th></th>\n",
       "      <th>country</th>\n",
       "      <th>year</th>\n",
       "      <th>pop</th>\n",
       "      <th>continent</th>\n",
       "      <th>lifeExp</th>\n",
       "      <th>gdpPercap</th>\n",
       "      <th>gdpBelowMean</th>\n",
       "    </tr>\n",
       "  </thead>\n",
       "  <tbody>\n",
       "    <tr>\n",
       "      <th>11</th>\n",
       "      <td>Afghanistan</td>\n",
       "      <td>2007</td>\n",
       "      <td>31889923.0</td>\n",
       "      <td>Asia</td>\n",
       "      <td>43.828</td>\n",
       "      <td>974.580338</td>\n",
       "      <td>1</td>\n",
       "    </tr>\n",
       "    <tr>\n",
       "      <th>23</th>\n",
       "      <td>Albania</td>\n",
       "      <td>2007</td>\n",
       "      <td>3600523.0</td>\n",
       "      <td>Europe</td>\n",
       "      <td>76.423</td>\n",
       "      <td>5937.029526</td>\n",
       "      <td>1</td>\n",
       "    </tr>\n",
       "    <tr>\n",
       "      <th>35</th>\n",
       "      <td>Algeria</td>\n",
       "      <td>2007</td>\n",
       "      <td>33333216.0</td>\n",
       "      <td>Africa</td>\n",
       "      <td>72.301</td>\n",
       "      <td>6223.367465</td>\n",
       "      <td>1</td>\n",
       "    </tr>\n",
       "    <tr>\n",
       "      <th>47</th>\n",
       "      <td>Angola</td>\n",
       "      <td>2007</td>\n",
       "      <td>12420476.0</td>\n",
       "      <td>Africa</td>\n",
       "      <td>42.731</td>\n",
       "      <td>4797.231267</td>\n",
       "      <td>1</td>\n",
       "    </tr>\n",
       "    <tr>\n",
       "      <th>59</th>\n",
       "      <td>Argentina</td>\n",
       "      <td>2007</td>\n",
       "      <td>40301927.0</td>\n",
       "      <td>Americas</td>\n",
       "      <td>75.320</td>\n",
       "      <td>12779.379640</td>\n",
       "      <td>0</td>\n",
       "    </tr>\n",
       "    <tr>\n",
       "      <th>...</th>\n",
       "      <td>...</td>\n",
       "      <td>...</td>\n",
       "      <td>...</td>\n",
       "      <td>...</td>\n",
       "      <td>...</td>\n",
       "      <td>...</td>\n",
       "      <td>...</td>\n",
       "    </tr>\n",
       "    <tr>\n",
       "      <th>1655</th>\n",
       "      <td>Vietnam</td>\n",
       "      <td>2007</td>\n",
       "      <td>85262356.0</td>\n",
       "      <td>Asia</td>\n",
       "      <td>74.249</td>\n",
       "      <td>2441.576404</td>\n",
       "      <td>1</td>\n",
       "    </tr>\n",
       "    <tr>\n",
       "      <th>1667</th>\n",
       "      <td>West Bank and Gaza</td>\n",
       "      <td>2007</td>\n",
       "      <td>4018332.0</td>\n",
       "      <td>Asia</td>\n",
       "      <td>73.422</td>\n",
       "      <td>3025.349798</td>\n",
       "      <td>1</td>\n",
       "    </tr>\n",
       "    <tr>\n",
       "      <th>1679</th>\n",
       "      <td>Yemen Rep.</td>\n",
       "      <td>2007</td>\n",
       "      <td>22211743.0</td>\n",
       "      <td>Asia</td>\n",
       "      <td>62.698</td>\n",
       "      <td>2280.769906</td>\n",
       "      <td>1</td>\n",
       "    </tr>\n",
       "    <tr>\n",
       "      <th>1691</th>\n",
       "      <td>Zambia</td>\n",
       "      <td>2007</td>\n",
       "      <td>11746035.0</td>\n",
       "      <td>Africa</td>\n",
       "      <td>42.384</td>\n",
       "      <td>1271.211593</td>\n",
       "      <td>1</td>\n",
       "    </tr>\n",
       "    <tr>\n",
       "      <th>1703</th>\n",
       "      <td>Zimbabwe</td>\n",
       "      <td>2007</td>\n",
       "      <td>12311143.0</td>\n",
       "      <td>Africa</td>\n",
       "      <td>43.487</td>\n",
       "      <td>469.709298</td>\n",
       "      <td>1</td>\n",
       "    </tr>\n",
       "  </tbody>\n",
       "</table>\n",
       "<p>142 rows × 7 columns</p>\n",
       "</div>"
      ],
      "text/plain": [
       "                 country  year         pop continent  lifeExp     gdpPercap  \\\n",
       "11           Afghanistan  2007  31889923.0      Asia   43.828    974.580338   \n",
       "23               Albania  2007   3600523.0    Europe   76.423   5937.029526   \n",
       "35               Algeria  2007  33333216.0    Africa   72.301   6223.367465   \n",
       "47                Angola  2007  12420476.0    Africa   42.731   4797.231267   \n",
       "59             Argentina  2007  40301927.0  Americas   75.320  12779.379640   \n",
       "...                  ...   ...         ...       ...      ...           ...   \n",
       "1655             Vietnam  2007  85262356.0      Asia   74.249   2441.576404   \n",
       "1667  West Bank and Gaza  2007   4018332.0      Asia   73.422   3025.349798   \n",
       "1679          Yemen Rep.  2007  22211743.0      Asia   62.698   2280.769906   \n",
       "1691              Zambia  2007  11746035.0    Africa   42.384   1271.211593   \n",
       "1703            Zimbabwe  2007  12311143.0    Africa   43.487    469.709298   \n",
       "\n",
       "      gdpBelowMean  \n",
       "11               1  \n",
       "23               1  \n",
       "35               1  \n",
       "47               1  \n",
       "59               0  \n",
       "...            ...  \n",
       "1655             1  \n",
       "1667             1  \n",
       "1679             1  \n",
       "1691             1  \n",
       "1703             1  \n",
       "\n",
       "[142 rows x 7 columns]"
      ]
     },
     "execution_count": 37,
     "metadata": {},
     "output_type": "execute_result"
    }
   ],
   "source": [
    "# Create a function that returns a 1 if a number is <11680\n",
    "def below_mean(num):\n",
    "    if num < 11680:\n",
    "        return 1\n",
    "    else:\n",
    "        return 0\n",
    "\n",
    "\n",
    "gm_under_mean = gm_07[\"gdpPercap\"].apply(below_mean)\n",
    "gm_07.loc[:, \"gdpBelowMean\"] = gm_under_mean\n",
    "# gm_07['gdpBelowMean'] = gm_under_mean  # -> deprecated\n",
    "\n",
    "gm_07"
   ]
  },
  {
   "cell_type": "code",
   "execution_count": null,
   "metadata": {},
   "outputs": [
    {
     "name": "stdout",
     "output_type": "stream",
     "text": [
      "Percentage of countries with GDP below the mean: 67%\n"
     ]
    }
   ],
   "source": [
    "# What percent of countries have gdp below the mean?\n",
    "pct = round(sum(gm_07[\"gdpBelowMean\"]) / gm_07[\"gdpBelowMean\"].count() * 100)\n",
    "print(f\"Percentage of countries with GDP below the mean: {pct}%\")"
   ]
  },
  {
   "cell_type": "markdown",
   "metadata": {},
   "source": [
    "### Pivot Table"
   ]
  },
  {
   "cell_type": "code",
   "execution_count": null,
   "metadata": {},
   "outputs": [
    {
     "data": {
      "text/html": [
       "<div>\n",
       "<style scoped>\n",
       "    .dataframe tbody tr th:only-of-type {\n",
       "        vertical-align: middle;\n",
       "    }\n",
       "\n",
       "    .dataframe tbody tr th {\n",
       "        vertical-align: top;\n",
       "    }\n",
       "\n",
       "    .dataframe thead th {\n",
       "        text-align: right;\n",
       "    }\n",
       "</style>\n",
       "<table border=\"1\" class=\"dataframe\">\n",
       "  <thead>\n",
       "    <tr style=\"text-align: right;\">\n",
       "      <th></th>\n",
       "      <th>continent</th>\n",
       "      <th>lifeExp</th>\n",
       "    </tr>\n",
       "  </thead>\n",
       "  <tbody>\n",
       "    <tr>\n",
       "      <th>11</th>\n",
       "      <td>Asia</td>\n",
       "      <td>43.828</td>\n",
       "    </tr>\n",
       "    <tr>\n",
       "      <th>23</th>\n",
       "      <td>Europe</td>\n",
       "      <td>76.423</td>\n",
       "    </tr>\n",
       "    <tr>\n",
       "      <th>35</th>\n",
       "      <td>Africa</td>\n",
       "      <td>72.301</td>\n",
       "    </tr>\n",
       "    <tr>\n",
       "      <th>47</th>\n",
       "      <td>Africa</td>\n",
       "      <td>42.731</td>\n",
       "    </tr>\n",
       "    <tr>\n",
       "      <th>59</th>\n",
       "      <td>Americas</td>\n",
       "      <td>75.320</td>\n",
       "    </tr>\n",
       "    <tr>\n",
       "      <th>...</th>\n",
       "      <td>...</td>\n",
       "      <td>...</td>\n",
       "    </tr>\n",
       "    <tr>\n",
       "      <th>1655</th>\n",
       "      <td>Asia</td>\n",
       "      <td>74.249</td>\n",
       "    </tr>\n",
       "    <tr>\n",
       "      <th>1667</th>\n",
       "      <td>Asia</td>\n",
       "      <td>73.422</td>\n",
       "    </tr>\n",
       "    <tr>\n",
       "      <th>1679</th>\n",
       "      <td>Asia</td>\n",
       "      <td>62.698</td>\n",
       "    </tr>\n",
       "    <tr>\n",
       "      <th>1691</th>\n",
       "      <td>Africa</td>\n",
       "      <td>42.384</td>\n",
       "    </tr>\n",
       "    <tr>\n",
       "      <th>1703</th>\n",
       "      <td>Africa</td>\n",
       "      <td>43.487</td>\n",
       "    </tr>\n",
       "  </tbody>\n",
       "</table>\n",
       "<p>142 rows × 2 columns</p>\n",
       "</div>"
      ],
      "text/plain": [
       "     continent  lifeExp\n",
       "11        Asia   43.828\n",
       "23      Europe   76.423\n",
       "35      Africa   72.301\n",
       "47      Africa   42.731\n",
       "59    Americas   75.320\n",
       "...        ...      ...\n",
       "1655      Asia   74.249\n",
       "1667      Asia   73.422\n",
       "1679      Asia   62.698\n",
       "1691    Africa   42.384\n",
       "1703    Africa   43.487\n",
       "\n",
       "[142 rows x 2 columns]"
      ]
     },
     "execution_count": 46,
     "metadata": {},
     "output_type": "execute_result"
    }
   ],
   "source": [
    "df_07 = gm_07[[\"continent\", \"lifeExp\"]]\n",
    "df_07"
   ]
  },
  {
   "cell_type": "code",
   "execution_count": null,
   "metadata": {},
   "outputs": [
    {
     "name": "stdout",
     "output_type": "stream",
     "text": [
      "(142, 7)\n",
      "(142, 2)\n"
     ]
    },
    {
     "data": {
      "text/html": [
       "<div>\n",
       "<style scoped>\n",
       "    .dataframe tbody tr th:only-of-type {\n",
       "        vertical-align: middle;\n",
       "    }\n",
       "\n",
       "    .dataframe tbody tr th {\n",
       "        vertical-align: top;\n",
       "    }\n",
       "\n",
       "    .dataframe thead th {\n",
       "        text-align: right;\n",
       "    }\n",
       "</style>\n",
       "<table border=\"1\" class=\"dataframe\">\n",
       "  <thead>\n",
       "    <tr style=\"text-align: right;\">\n",
       "      <th>continent</th>\n",
       "      <th>Africa</th>\n",
       "      <th>Americas</th>\n",
       "      <th>Asia</th>\n",
       "      <th>Europe</th>\n",
       "      <th>Oceania</th>\n",
       "    </tr>\n",
       "  </thead>\n",
       "  <tbody>\n",
       "    <tr>\n",
       "      <th>lifeExp</th>\n",
       "      <td>54.806038</td>\n",
       "      <td>73.60812</td>\n",
       "      <td>70.728485</td>\n",
       "      <td>77.6486</td>\n",
       "      <td>80.7195</td>\n",
       "    </tr>\n",
       "  </tbody>\n",
       "</table>\n",
       "</div>"
      ],
      "text/plain": [
       "continent     Africa  Americas       Asia   Europe  Oceania\n",
       "lifeExp    54.806038  73.60812  70.728485  77.6486  80.7195"
      ]
     },
     "execution_count": 47,
     "metadata": {},
     "output_type": "execute_result"
    }
   ],
   "source": [
    "print(gm_07.shape)\n",
    "print(df_07.shape)\n",
    "\n",
    "# create a pivot table that summarizes the life expectancy by continent using the mean (default)\n",
    "pd.pivot_table(df_07, values=\"lifeExp\", columns=\"continent\")"
   ]
  },
  {
   "cell_type": "code",
   "execution_count": 53,
   "metadata": {},
   "outputs": [
    {
     "data": {
      "text/html": [
       "<div>\n",
       "<style scoped>\n",
       "    .dataframe tbody tr th:only-of-type {\n",
       "        vertical-align: middle;\n",
       "    }\n",
       "\n",
       "    .dataframe tbody tr th {\n",
       "        vertical-align: top;\n",
       "    }\n",
       "\n",
       "    .dataframe thead th {\n",
       "        text-align: right;\n",
       "    }\n",
       "</style>\n",
       "<table border=\"1\" class=\"dataframe\">\n",
       "  <thead>\n",
       "    <tr style=\"text-align: right;\">\n",
       "      <th>continent</th>\n",
       "      <th>Africa</th>\n",
       "      <th>Americas</th>\n",
       "      <th>Asia</th>\n",
       "      <th>Europe</th>\n",
       "      <th>Oceania</th>\n",
       "    </tr>\n",
       "    <tr>\n",
       "      <th>year</th>\n",
       "      <th></th>\n",
       "      <th></th>\n",
       "      <th></th>\n",
       "      <th></th>\n",
       "      <th></th>\n",
       "    </tr>\n",
       "  </thead>\n",
       "  <tbody>\n",
       "    <tr>\n",
       "      <th>2007</th>\n",
       "      <td>54.806038</td>\n",
       "      <td>73.60812</td>\n",
       "      <td>70.728485</td>\n",
       "      <td>77.6486</td>\n",
       "      <td>80.7195</td>\n",
       "    </tr>\n",
       "  </tbody>\n",
       "</table>\n",
       "</div>"
      ],
      "text/plain": [
       "continent     Africa  Americas       Asia   Europe  Oceania\n",
       "year                                                       \n",
       "2007       54.806038  73.60812  70.728485  77.6486  80.7195"
      ]
     },
     "execution_count": 53,
     "metadata": {},
     "output_type": "execute_result"
    }
   ],
   "source": [
    "# select three columns from gapminder dataframe\n",
    "df_07 = gm_07[[\"continent\", \"year\", \"lifeExp\"]]\n",
    "# pivot table example with three columns\n",
    "pd.pivot_table(df_07, values=\"lifeExp\", index=[\"year\"], columns=\"continent\")"
   ]
  },
  {
   "cell_type": "code",
   "execution_count": null,
   "metadata": {},
   "outputs": [
    {
     "data": {
      "text/html": [
       "<div>\n",
       "<style scoped>\n",
       "    .dataframe tbody tr th:only-of-type {\n",
       "        vertical-align: middle;\n",
       "    }\n",
       "\n",
       "    .dataframe tbody tr th {\n",
       "        vertical-align: top;\n",
       "    }\n",
       "\n",
       "    .dataframe thead th {\n",
       "        text-align: right;\n",
       "    }\n",
       "</style>\n",
       "<table border=\"1\" class=\"dataframe\">\n",
       "  <thead>\n",
       "    <tr style=\"text-align: right;\">\n",
       "      <th>continent</th>\n",
       "      <th>Africa</th>\n",
       "      <th>Americas</th>\n",
       "      <th>Asia</th>\n",
       "      <th>Europe</th>\n",
       "      <th>Oceania</th>\n",
       "    </tr>\n",
       "    <tr>\n",
       "      <th>year</th>\n",
       "      <th></th>\n",
       "      <th></th>\n",
       "      <th></th>\n",
       "      <th></th>\n",
       "      <th></th>\n",
       "    </tr>\n",
       "  </thead>\n",
       "  <tbody>\n",
       "    <tr>\n",
       "      <th>2007</th>\n",
       "      <td>54.806038</td>\n",
       "      <td>73.60812</td>\n",
       "      <td>70.728485</td>\n",
       "      <td>77.6486</td>\n",
       "      <td>80.7195</td>\n",
       "    </tr>\n",
       "  </tbody>\n",
       "</table>\n",
       "</div>"
      ],
      "text/plain": [
       "continent     Africa  Americas       Asia   Europe  Oceania\n",
       "year                                                       \n",
       "2007       54.806038  73.60812  70.728485  77.6486  80.7195"
      ]
     },
     "execution_count": 58,
     "metadata": {},
     "output_type": "execute_result"
    }
   ],
   "source": [
    "pd.pivot_table(\n",
    "    gm_07, values=\"lifeExp\", index=\"year\", columns=\"continent\", aggfunc=\"mean\"\n",
    ")"
   ]
  },
  {
   "cell_type": "markdown",
   "metadata": {},
   "source": [
    "### Data Visualization"
   ]
  },
  {
   "cell_type": "markdown",
   "metadata": {},
   "source": [
    "#### Basic Plots"
   ]
  },
  {
   "cell_type": "code",
   "execution_count": null,
   "metadata": {},
   "outputs": [],
   "source": [
    "import matplotlib.pyplot as plt\n",
    "%matplotlib inline"
   ]
  },
  {
   "cell_type": "code",
   "execution_count": null,
   "metadata": {},
   "outputs": [
    {
     "data": {
      "image/png": "[encoded data removed]",
      "text/plain": [
       "<Figure size 640x480 with 1 Axes>"
      ]
     },
     "metadata": {},
     "output_type": "display_data"
    }
   ],
   "source": [
    "plt.hist(gm_07[\"lifeExp\"])\n",
    "plt.xlabel(\"Life Expectancy\")\n",
    "plt.ylabel(\"Number of Countries\")\n",
    "plt.title(\"Distribution of Life Expectancy in 2007\")\n",
    "plt.show()"
   ]
  },
  {
   "cell_type": "code",
   "execution_count": null,
   "metadata": {},
   "outputs": [
    {
     "data": {
      "image/png": "[encoded data removed]",
      "text/plain": [
       "<Figure size 640x480 with 1 Axes>"
      ]
     },
     "metadata": {},
     "output_type": "display_data"
    }
   ],
   "source": [
    "plt.hist(gm_07[\"gdpPercap\"])\n",
    "plt.xlabel(\"GDP per Capita\")\n",
    "plt.ylabel(\"Number of Countries\")\n",
    "plt.title(\"Distribution of GDP per Capita in 2007\")\n",
    "plt.show()"
   ]
  },
  {
   "cell_type": "code",
   "execution_count": null,
   "metadata": {},
   "outputs": [
    {
     "name": "stdout",
     "output_type": "stream",
     "text": [
      "(12, 6)\n"
     ]
    },
    {
     "data": {
      "text/html": [
       "<div>\n",
       "<style scoped>\n",
       "    .dataframe tbody tr th:only-of-type {\n",
       "        vertical-align: middle;\n",
       "    }\n",
       "\n",
       "    .dataframe tbody tr th {\n",
       "        vertical-align: top;\n",
       "    }\n",
       "\n",
       "    .dataframe thead th {\n",
       "        text-align: right;\n",
       "    }\n",
       "</style>\n",
       "<table border=\"1\" class=\"dataframe\">\n",
       "  <thead>\n",
       "    <tr style=\"text-align: right;\">\n",
       "      <th></th>\n",
       "      <th>country</th>\n",
       "      <th>year</th>\n",
       "      <th>pop</th>\n",
       "      <th>continent</th>\n",
       "      <th>lifeExp</th>\n",
       "      <th>gdpPercap</th>\n",
       "    </tr>\n",
       "  </thead>\n",
       "  <tbody>\n",
       "    <tr>\n",
       "      <th>528</th>\n",
       "      <td>France</td>\n",
       "      <td>1952</td>\n",
       "      <td>42459667.0</td>\n",
       "      <td>Europe</td>\n",
       "      <td>67.410</td>\n",
       "      <td>7029.809327</td>\n",
       "    </tr>\n",
       "    <tr>\n",
       "      <th>529</th>\n",
       "      <td>France</td>\n",
       "      <td>1957</td>\n",
       "      <td>44310863.0</td>\n",
       "      <td>Europe</td>\n",
       "      <td>68.930</td>\n",
       "      <td>8662.834898</td>\n",
       "    </tr>\n",
       "    <tr>\n",
       "      <th>530</th>\n",
       "      <td>France</td>\n",
       "      <td>1962</td>\n",
       "      <td>47124000.0</td>\n",
       "      <td>Europe</td>\n",
       "      <td>70.510</td>\n",
       "      <td>10560.485530</td>\n",
       "    </tr>\n",
       "    <tr>\n",
       "      <th>531</th>\n",
       "      <td>France</td>\n",
       "      <td>1967</td>\n",
       "      <td>49569000.0</td>\n",
       "      <td>Europe</td>\n",
       "      <td>71.550</td>\n",
       "      <td>12999.917660</td>\n",
       "    </tr>\n",
       "    <tr>\n",
       "      <th>532</th>\n",
       "      <td>France</td>\n",
       "      <td>1972</td>\n",
       "      <td>51732000.0</td>\n",
       "      <td>Europe</td>\n",
       "      <td>72.380</td>\n",
       "      <td>16107.191710</td>\n",
       "    </tr>\n",
       "    <tr>\n",
       "      <th>533</th>\n",
       "      <td>France</td>\n",
       "      <td>1977</td>\n",
       "      <td>53165019.0</td>\n",
       "      <td>Europe</td>\n",
       "      <td>73.830</td>\n",
       "      <td>18292.635140</td>\n",
       "    </tr>\n",
       "    <tr>\n",
       "      <th>534</th>\n",
       "      <td>France</td>\n",
       "      <td>1982</td>\n",
       "      <td>54433565.0</td>\n",
       "      <td>Europe</td>\n",
       "      <td>74.890</td>\n",
       "      <td>20293.897460</td>\n",
       "    </tr>\n",
       "    <tr>\n",
       "      <th>535</th>\n",
       "      <td>France</td>\n",
       "      <td>1987</td>\n",
       "      <td>55630100.0</td>\n",
       "      <td>Europe</td>\n",
       "      <td>76.340</td>\n",
       "      <td>22066.442140</td>\n",
       "    </tr>\n",
       "    <tr>\n",
       "      <th>536</th>\n",
       "      <td>France</td>\n",
       "      <td>1992</td>\n",
       "      <td>57374179.0</td>\n",
       "      <td>Europe</td>\n",
       "      <td>77.460</td>\n",
       "      <td>24703.796150</td>\n",
       "    </tr>\n",
       "    <tr>\n",
       "      <th>537</th>\n",
       "      <td>France</td>\n",
       "      <td>1997</td>\n",
       "      <td>58623428.0</td>\n",
       "      <td>Europe</td>\n",
       "      <td>78.640</td>\n",
       "      <td>25889.784870</td>\n",
       "    </tr>\n",
       "    <tr>\n",
       "      <th>538</th>\n",
       "      <td>France</td>\n",
       "      <td>2002</td>\n",
       "      <td>59925035.0</td>\n",
       "      <td>Europe</td>\n",
       "      <td>79.590</td>\n",
       "      <td>28926.032340</td>\n",
       "    </tr>\n",
       "    <tr>\n",
       "      <th>539</th>\n",
       "      <td>France</td>\n",
       "      <td>2007</td>\n",
       "      <td>61083916.0</td>\n",
       "      <td>Europe</td>\n",
       "      <td>80.657</td>\n",
       "      <td>30470.016700</td>\n",
       "    </tr>\n",
       "  </tbody>\n",
       "</table>\n",
       "</div>"
      ],
      "text/plain": [
       "    country  year         pop continent  lifeExp     gdpPercap\n",
       "528  France  1952  42459667.0    Europe   67.410   7029.809327\n",
       "529  France  1957  44310863.0    Europe   68.930   8662.834898\n",
       "530  France  1962  47124000.0    Europe   70.510  10560.485530\n",
       "531  France  1967  49569000.0    Europe   71.550  12999.917660\n",
       "532  France  1972  51732000.0    Europe   72.380  16107.191710\n",
       "533  France  1977  53165019.0    Europe   73.830  18292.635140\n",
       "534  France  1982  54433565.0    Europe   74.890  20293.897460\n",
       "535  France  1987  55630100.0    Europe   76.340  22066.442140\n",
       "536  France  1992  57374179.0    Europe   77.460  24703.796150\n",
       "537  France  1997  58623428.0    Europe   78.640  25889.784870\n",
       "538  France  2002  59925035.0    Europe   79.590  28926.032340\n",
       "539  France  2007  61083916.0    Europe   80.657  30470.016700"
      ]
     },
     "metadata": {},
     "output_type": "display_data"
    }
   ],
   "source": [
    "gm_france = gm[gm[\"country\"] == \"France\"]\n",
    "print(gm_france.shape)\n",
    "gm_france"
   ]
  },
  {
   "cell_type": "code",
   "execution_count": null,
   "metadata": {},
   "outputs": [
    {
     "data": {
      "image/png": "[encoded data removed]",
      "text/plain": [
       "<Figure size 640x480 with 1 Axes>"
      ]
     },
     "metadata": {},
     "output_type": "display_data"
    }
   ],
   "source": [
    "plt.plot(gm_france[\"year\"], gm_france[\"gdpPercap\"])\n",
    "plt.xlabel(\"Year\")\n",
    "plt.ylabel(\"GDP per Capita\")\n",
    "plt.title(\"GDP per Capita Over Time in France\")\n",
    "plt.show()"
   ]
  },
  {
   "cell_type": "code",
   "execution_count": null,
   "metadata": {},
   "outputs": [
    {
     "data": {
      "image/png": "[encoded data removed]",
      "text/plain": [
       "<Figure size 640x480 with 1 Axes>"
      ]
     },
     "metadata": {},
     "output_type": "display_data"
    }
   ],
   "source": [
    "# Create the scatterplot using the scatter() function\n",
    "plt.scatter(gm_07[\"gdpPercap\"], gm_07[\"lifeExp\"])\n",
    "\n",
    "# Add some labels and title\n",
    "plt.title(\"Life Expectancy vs. GDP per capita, 2007\")\n",
    "plt.xlabel(\"GDP per Capita\")\n",
    "plt.ylabel(\"Life Expectancy\")\n",
    "plt.show()"
   ]
  },
  {
   "cell_type": "code",
   "execution_count": null,
   "metadata": {},
   "outputs": [
    {
     "data": {
      "image/png": "[encoded data removed]",
      "text/plain": [
       "<Figure size 640x480 with 1 Axes>"
      ]
     },
     "metadata": {},
     "output_type": "display_data"
    }
   ],
   "source": [
    "# create the scatterplot in the same way as above\n",
    "plt.scatter(gm_07[\"gdpPercap\"], gm_07[\"lifeExp\"])\n",
    "\n",
    "# adjust the x-axis to a log scale\n",
    "plt.xscale(\"log\")\n",
    "\n",
    "# add some labels and a title\n",
    "plt.xlabel(\"log(GDP per Capita) (log(USD))\")\n",
    "plt.ylabel(\"Life Expectancy\")\n",
    "plt.title(\"Life Expectancy vs. GDP Per Capita, Year: 2007\")\n",
    "plt.show()"
   ]
  },
  {
   "cell_type": "markdown",
   "metadata": {},
   "source": [
    "#### Bubble Chart (Optional)\n"
   ]
  },
  {
   "cell_type": "markdown",
   "metadata": {},
   "source": [
    "Because our data set has several variables, it might make sense to look at some ways to visualize some of the other factors that may contribute to our understanding of the phenomenon.  Namely, we can represent population as the size of the dots in the scatterplot.  We can represent continent with different colors.  Check out [Color Maps in matplotlib](https://matplotlib.org/tutorials/colors/colormaps.html).  The following example comes from this amazing [Python Gaph Gallary](https://python-graph-gallery.com/341-python-gapminder-animation/).  Take some time to look it over.  The data we are using in this example can be found at [gapminderData.csv](https://python-graph-gallery.com/wp-content/uploads/gapminderData.csv).  The gapminder visualization is also a great one to take a look at: [gapminder visualization](https://www.gapminder.org/tools/#$state$time$value=1819;;&chart-type=bubbles)"
   ]
  },
  {
   "cell_type": "code",
   "execution_count": null,
   "metadata": {},
   "outputs": [
    {
     "data": {
      "image/png": "[encoded data removed]",
      "text/plain": [
       "<Figure size 680x480 with 1 Axes>"
      ]
     },
     "metadata": {},
     "output_type": "display_data"
    }
   ],
   "source": [
    "# libraries\n",
    "import numpy as np\n",
    "import seaborn as sns\n",
    "import matplotlib.pyplot as plt\n",
    "\n",
    "%matplotlib inline\n",
    "\n",
    "sns.set_style(\"white\")\n",
    "import pandas as pd\n",
    "\n",
    "my_dpi = 96\n",
    "\n",
    "# Get the data (csv file is hosted on the web)\n",
    "url = \"https://python-graph-gallery.com/wp-content/uploads/gapminderData.csv\"\n",
    "data = gm\n",
    "\n",
    "# And I need to transform my categorical column (continent) in a numerical value group1->1, group2->2...\n",
    "data[\"continent\"] = pd.Categorical(data[\"continent\"])\n",
    "\n",
    "# initialize a figure\n",
    "fig = plt.figure(figsize=(680 / my_dpi, 480 / my_dpi), dpi=my_dpi)\n",
    "\n",
    "# Change color with c and alpha. I map the color to the X axis value.\n",
    "tmp = data[data.year == 2007]\n",
    "plt.scatter(\n",
    "    tmp[\"gdpPercap\"],\n",
    "    tmp[\"lifeExp\"],\n",
    "    s=tmp[\"pop\"] / 200000,\n",
    "    c=tmp[\"continent\"].cat.codes,\n",
    "    cmap=\"inferno\",\n",
    "    alpha=0.6,\n",
    "    edgecolors=\"white\",\n",
    "    linewidth=2,\n",
    ")\n",
    "\n",
    "# Add titles (main and on axis)\n",
    "plt.xscale(\"log\")\n",
    "plt.ylabel(\"Life Expectancy\")\n",
    "plt.xlabel(\"GDP per Capita\")\n",
    "plt.title(\"Year: 2007\")\n",
    "plt.show()"
   ]
  },
  {
   "cell_type": "markdown",
   "metadata": {},
   "source": [
    "#### Regression Analysis"
   ]
  },
  {
   "cell_type": "code",
   "execution_count": null,
   "metadata": {},
   "outputs": [
    {
     "name": "stdout",
     "output_type": "stream",
     "text": [
      "LinregressResult(slope=np.float64(7.202801571010749), intercept=np.float64(4.949611651060771), rvalue=np.float64(0.8089802514849211), pvalue=np.float64(4.115370000558001e-34), stderr=np.float64(0.4423393345070953), intercept_stderr=np.float64(3.857684111534346))\n",
      "Slope:  7.202801571010749 Intercept:  4.949611651060771\n",
      "Correlation:  0.8089802514849211\n",
      "R-squared 0.6544490472926062\n",
      "p-value 4.115370000558001e-34\n"
     ]
    }
   ],
   "source": [
    "from scipy import stats\n",
    "import numpy as np\n",
    "\n",
    "# make sure the independent variable is the log of gdpPercap\n",
    "x = np.log(gm_07[\"gdpPercap\"])\n",
    "# specify the dependent variable as life expectancy\n",
    "y = gm_07[\"lifeExp\"]\n",
    "\n",
    "# use the linregress() function to generate the linear model (least squares regression)\n",
    "lm = stats.linregress(x, y)\n",
    "print(lm)\n",
    "\n",
    "# customize the output referencing the linear model\n",
    "print(\"Slope: \", lm.slope, \"Intercept: \", lm.intercept)\n",
    "print(\"Correlation: \", lm.rvalue)\n",
    "print(\"R-squared\", lm.rvalue**2)\n",
    "print(\"p-value\", lm.pvalue)"
   ]
  },
  {
   "cell_type": "markdown",
   "metadata": {},
   "source": [
    "**Interpreting Output**\n",
    "\n",
    "The regression output helps us quantify the relationship between the variables and evaluate the model as far as it's usefulness in predicting Life Expectancy from GDP.  The p-value suggests that the linear relationship is statistically significant (unlikely to happen by chance alone).  The R-squared values tells us that the linear model predicting Life Expectancy from GDP explains 65% of the variation in Life Expectancy.  In general, low p-value, high R-squared provides strong validation that the model is appropriate and meaningful for these data.  "
   ]
  },
  {
   "cell_type": "markdown",
   "metadata": {},
   "source": [
    "### Exercise: Data Analysis with Stocks"
   ]
  },
  {
   "cell_type": "markdown",
   "metadata": {},
   "source": [
    "This exercise can be fairly open-ended.  The goal here is to implement some of the tools we have been working with thoughout this lesson and perhaps try some new methods based on your interests or by reading up on the attributes and methods described in the pandas documentation.  Here is a link to the stock symbols,\n",
    "[Stock Symbols](http://www.eoddata.com/symbols.aspx?AspxAutoDetectCookieSupport=1).  The example uses datareader to pull data on a particular stock during a specified time-frame.  Go ahead and make changes to suit your interests."
   ]
  },
  {
   "cell_type": "code",
   "execution_count": null,
   "metadata": {},
   "outputs": [
    {
     "data": {
      "text/html": [
       "<div>\n",
       "<style scoped>\n",
       "    .dataframe tbody tr th:only-of-type {\n",
       "        vertical-align: middle;\n",
       "    }\n",
       "\n",
       "    .dataframe tbody tr th {\n",
       "        vertical-align: top;\n",
       "    }\n",
       "\n",
       "    .dataframe thead th {\n",
       "        text-align: right;\n",
       "    }\n",
       "</style>\n",
       "<table border=\"1\" class=\"dataframe\">\n",
       "  <thead>\n",
       "    <tr style=\"text-align: right;\">\n",
       "      <th></th>\n",
       "      <th>Open</th>\n",
       "      <th>High</th>\n",
       "      <th>Low</th>\n",
       "      <th>Close</th>\n",
       "      <th>Volume</th>\n",
       "      <th>Dividends</th>\n",
       "      <th>Stock Splits</th>\n",
       "      <th>Up</th>\n",
       "    </tr>\n",
       "    <tr>\n",
       "      <th>Date</th>\n",
       "      <th></th>\n",
       "      <th></th>\n",
       "      <th></th>\n",
       "      <th></th>\n",
       "      <th></th>\n",
       "      <th></th>\n",
       "      <th></th>\n",
       "      <th></th>\n",
       "    </tr>\n",
       "  </thead>\n",
       "  <tbody>\n",
       "    <tr>\n",
       "      <th>2019-05-31 00:00:00-04:00</th>\n",
       "      <td>89.500504</td>\n",
       "      <td>89.779503</td>\n",
       "      <td>88.635002</td>\n",
       "      <td>88.753502</td>\n",
       "      <td>92376000</td>\n",
       "      <td>0.0</td>\n",
       "      <td>0.0</td>\n",
       "      <td>0</td>\n",
       "    </tr>\n",
       "    <tr>\n",
       "      <th>2019-06-03 00:00:00-04:00</th>\n",
       "      <td>88.000504</td>\n",
       "      <td>88.314499</td>\n",
       "      <td>83.599998</td>\n",
       "      <td>84.634499</td>\n",
       "      <td>181974000</td>\n",
       "      <td>0.0</td>\n",
       "      <td>0.0</td>\n",
       "      <td>0</td>\n",
       "    </tr>\n",
       "    <tr>\n",
       "      <th>2019-06-04 00:00:00-04:00</th>\n",
       "      <td>84.961998</td>\n",
       "      <td>86.541000</td>\n",
       "      <td>84.044502</td>\n",
       "      <td>86.477997</td>\n",
       "      <td>113582000</td>\n",
       "      <td>0.0</td>\n",
       "      <td>0.0</td>\n",
       "      <td>1</td>\n",
       "    </tr>\n",
       "    <tr>\n",
       "      <th>2019-06-05 00:00:00-04:00</th>\n",
       "      <td>87.480003</td>\n",
       "      <td>87.599998</td>\n",
       "      <td>85.762497</td>\n",
       "      <td>86.925003</td>\n",
       "      <td>84796000</td>\n",
       "      <td>0.0</td>\n",
       "      <td>0.0</td>\n",
       "      <td>0</td>\n",
       "    </tr>\n",
       "    <tr>\n",
       "      <th>2019-06-06 00:00:00-04:00</th>\n",
       "      <td>86.885498</td>\n",
       "      <td>88.000000</td>\n",
       "      <td>86.306503</td>\n",
       "      <td>87.718002</td>\n",
       "      <td>73786000</td>\n",
       "      <td>0.0</td>\n",
       "      <td>0.0</td>\n",
       "      <td>1</td>\n",
       "    </tr>\n",
       "  </tbody>\n",
       "</table>\n",
       "</div>"
      ],
      "text/plain": [
       "                                Open       High        Low      Close  \\\n",
       "Date                                                                    \n",
       "2019-05-31 00:00:00-04:00  89.500504  89.779503  88.635002  88.753502   \n",
       "2019-06-03 00:00:00-04:00  88.000504  88.314499  83.599998  84.634499   \n",
       "2019-06-04 00:00:00-04:00  84.961998  86.541000  84.044502  86.477997   \n",
       "2019-06-05 00:00:00-04:00  87.480003  87.599998  85.762497  86.925003   \n",
       "2019-06-06 00:00:00-04:00  86.885498  88.000000  86.306503  87.718002   \n",
       "\n",
       "                              Volume  Dividends  Stock Splits  Up  \n",
       "Date                                                               \n",
       "2019-05-31 00:00:00-04:00   92376000        0.0           0.0   0  \n",
       "2019-06-03 00:00:00-04:00  181974000        0.0           0.0   0  \n",
       "2019-06-04 00:00:00-04:00  113582000        0.0           0.0   1  \n",
       "2019-06-05 00:00:00-04:00   84796000        0.0           0.0   0  \n",
       "2019-06-06 00:00:00-04:00   73786000        0.0           0.0   1  "
      ]
     },
     "metadata": {},
     "output_type": "display_data"
    }
   ],
   "source": [
    "# import supporting libraries\n",
    "import numpy as np\n",
    "import pandas as pd\n",
    "import matplotlib.pyplot as plt\n",
    "\n",
    "# for extracting live stock data\n",
    "import yfinance as yf\n",
    "\n",
    "# in order to specify start date and end date we need datetime package\n",
    "import datetime as dt\n",
    "\n",
    "# startDate , as per our convenience we can modify\n",
    "startDate = dt.datetime(2019, 5, 31)\n",
    "\n",
    "# endDate , as per our convenience we can modify\n",
    "endDate = dt.datetime(2021, 1, 30)\n",
    "amzn = yf.Ticker(\"AMZN\")\n",
    "\n",
    "# pass the parameters as the taken dates for start and end\n",
    "amzn_data = amzn.history(start=startDate, end=endDate)\n",
    "\n",
    "# use the describe function to generate a statistical summary\n",
    "amzn_data.describe()\n",
    "\n",
    "# percentage of days the stock closed higher than it opened\n",
    "amzn_data[\"Up\"] = np.where(amzn_data[\"Close\"] > amzn_data[\"Open\"], 1, 0)\n",
    "amzn_data.head(3)\n",
    "amzn_data[\"Up\"].sum() / amzn_data[\"Up\"].count()\n",
    "\n",
    "\n",
    "# Read about the pct_change() function and think about how you can apply it to these data\n",
    "amzn_data[\"Close\"].pct_change()\n",
    "\n",
    "# Try plotting the percent change over time\n",
    "plt.plot(amzn_data[\"Close\"])\n",
    "\n",
    "amzn_data.head()"
   ]
  },
  {
   "cell_type": "markdown",
   "metadata": {},
   "source": [
    "### Exporting Data to Google Drive"
   ]
  },
  {
   "cell_type": "code",
   "execution_count": null,
   "metadata": {},
   "outputs": [],
   "source": [
    "# from google.colab import drive\n",
    "# drive.mount('drive')\n",
    "\n",
    "# amzn.to_csv('amzn.csv')\n",
    "# !cp amzn.csv \"drive/My Drive/\""
   ]
  },
  {
   "cell_type": "markdown",
   "metadata": {},
   "source": [
    "## Exercise:"
   ]
  },
  {
   "cell_type": "markdown",
   "metadata": {},
   "source": [
    "### Problem 1:  Importing data and creating a data frame "
   ]
  },
  {
   "cell_type": "code",
   "execution_count": null,
   "metadata": {},
   "outputs": [
    {
     "name": "stdout",
     "output_type": "stream",
     "text": [
      "          country  year         pop continent  lifeExp  gdpPercap\n",
      "0     Afghanistan  1952   8425333.0      Asia    28.80     779.45\n",
      "1     Afghanistan  1957   9240934.0      Asia    30.33     820.85\n",
      "2     Afghanistan  1962  10267083.0      Asia    32.00     853.10\n",
      "3     Afghanistan  1967  11537966.0      Asia    34.02     836.20\n",
      "4     Afghanistan  1972  13079460.0      Asia    36.09     739.98\n",
      "...           ...   ...         ...       ...      ...        ...\n",
      "1699     Zimbabwe  1987   9216418.0    Africa    62.35     706.16\n",
      "1700     Zimbabwe  1992  10704340.0    Africa    60.38     693.42\n",
      "1701     Zimbabwe  1997  11404948.0    Africa    46.81     792.45\n",
      "1702     Zimbabwe  2002  11926563.0    Africa    39.99     672.04\n",
      "1703     Zimbabwe  2007  12311143.0    Africa    43.49     469.71\n",
      "\n",
      "[1704 rows x 6 columns] \n",
      "\n",
      "              country  year          pop continent  lifeExp  gdpPercap\n",
      "803             Japan  2007  127467972.0      Asia    82.60   31656.07\n",
      "671   Hong Kong China  2007    6980412.0      Asia    82.21   39724.98\n",
      "802             Japan  2002  127065841.0      Asia    82.00   28604.59\n",
      "695           Iceland  2007     301931.0    Europe    81.76   36180.79\n",
      "1487      Switzerland  2007    7554661.0    Europe    81.70   37506.42\n",
      "...               ...   ...          ...       ...      ...        ...\n",
      "1344     Sierra Leone  1952    2143249.0    Africa    30.33     879.79\n",
      "36             Angola  1952    4232095.0    Africa    30.02    3520.61\n",
      "552            Gambia  1952     284320.0    Africa    30.00     485.23\n",
      "0         Afghanistan  1952    8425333.0      Asia    28.80     779.45\n",
      "1292           Rwanda  1992    7290203.0    Africa    23.60     737.07\n",
      "\n",
      "[1704 rows x 6 columns]\n"
     ]
    }
   ],
   "source": [
    "def gm_data(data_source):\n",
    "    import pandas as pd\n",
    "\n",
    "    # a. Import the data and create a dataframe\n",
    "    gm = pd.read_csv(data_source).round(decimals=2)\n",
    "    print(gm, \"\\n\")\n",
    "\n",
    "    # c.  Sort the data frame by decreasing life expectancy\n",
    "    gm_sorted = gm.sort_values(\"lifeExp\", ascending=False)\n",
    "    print(gm_sorted)\n",
    "\n",
    "\n",
    "data_url = \"http://bit.ly/2cLzoxH\"\n",
    "gm_data(data_url)"
   ]
  },
  {
   "cell_type": "markdown",
   "metadata": {},
   "source": [
    "### Problem 2:  Filtering, Summarizing, and Visualizing Distributions\n"
   ]
  },
  {
   "cell_type": "code",
   "execution_count": null,
   "metadata": {},
   "outputs": [
    {
     "name": "stdout",
     "output_type": "stream",
     "text": [
      "         year           pop  lifeExp  gdpPercap\n",
      "count   142.0  1.420000e+02   142.00     142.00\n",
      "mean   2002.0  4.145759e+07    65.69    9917.85\n",
      "std       0.0  1.408483e+08    12.28   11154.11\n",
      "min    2002.0  1.703720e+05    39.19     241.17\n",
      "25%    2002.0  4.173506e+06    55.52    1409.57\n",
      "50%    2002.0  1.037292e+07    70.83    5319.80\n",
      "75%    2002.0  2.654556e+07    75.46   13359.51\n",
      "max    2002.0  1.280400e+09    82.00   44683.98\n"
     ]
    },
    {
     "data": {
      "image/png": "[encoded data removed]",
      "text/plain": [
       "<Figure size 640x480 with 1 Axes>"
      ]
     },
     "metadata": {},
     "output_type": "display_data"
    },
    {
     "data": {
      "image/png": "[encoded data removed]",
      "text/plain": [
       "<Figure size 640x480 with 1 Axes>"
      ]
     },
     "metadata": {},
     "output_type": "display_data"
    },
    {
     "data": {
      "image/png": "[encoded data removed]",
      "text/plain": [
       "<Figure size 640x480 with 1 Axes>"
      ]
     },
     "metadata": {},
     "output_type": "display_data"
    }
   ],
   "source": [
    "def exploring_data(data_source, y):\n",
    "    import pandas as pd\n",
    "    import matplotlib.pyplot as plt\n",
    "\n",
    "    # %matplotlib inline\n",
    "    import seaborn as sns\n",
    "\n",
    "    # import the data as a dataframe called gm\n",
    "    gm = pd.read_csv(data_source)\n",
    "\n",
    "    # a.  Select data from year y\n",
    "    gm_y = gm[gm[\"year\"] == int(y)]\n",
    "\n",
    "    # b.  Find a statistical summary of the data from selected year\n",
    "    summary = gm_y.describe().round(decimals=2)\n",
    "    print(summary)\n",
    "\n",
    "    # c.  Create one histogram for GDP and one for Life Expectancy\n",
    "    gdp_hist = plt.hist(gm_y[\"gdpPercap\"])\n",
    "    # plt.title('GDP Per Capita in Countries of the World, %d'%y)\n",
    "    plt.title(f\"GDP Per Capita in Countries of the World, {y}\")\n",
    "    plt.xlabel(\"GDP per Capita (USD)\")\n",
    "    plt.ylabel(\"Number of Countries\")\n",
    "    plt.show()\n",
    "\n",
    "    exp_hist = plt.hist(gm_y[\"lifeExp\"])\n",
    "    # plt.title('Life Expectancy in Countries of the World, %s'%y)\n",
    "    plt.title(f\"Life Expectancy in Countries of the World, {y}\")\n",
    "    plt.xlabel(\"Life Expectancy (years)\")\n",
    "    plt.ylabel(\"Number of Countries\")\n",
    "    plt.show()\n",
    "\n",
    "    # d.  Create parallel boxplots to show the distributions of GDP within each continent\n",
    "    sns.boxplot(\n",
    "        x=\"continent\", y=\"gdpPercap\", data=gm_y, palette=\"rocket\", hue=\"continent\"\n",
    "    )\n",
    "    plt.title(\"GDP Distribution by Continent\")\n",
    "    plt.xlabel(\"Continent\")\n",
    "    plt.ylabel(\"GDP_per_Capita\")\n",
    "    plt.show()\n",
    "\n",
    "\n",
    "# Run the function on the following data\n",
    "data_url = \"http://bit.ly/2cLzoxH\"\n",
    "exploring_data(data_url, 2002)"
   ]
  },
  {
   "cell_type": "markdown",
   "metadata": {},
   "source": [
    "### Problem 3:  Pivot Table\n",
    "Create a pivot table that summarizes the gdp by year (rows) and continent (columns) based on an aggregating function such as median, maximum, etc. The function should accept the data source and the aggregating function as arguments.\n"
   ]
  },
  {
   "cell_type": "code",
   "execution_count": null,
   "metadata": {},
   "outputs": [
    {
     "name": "stdout",
     "output_type": "stream",
     "text": [
      "     continent  year   gdpPercap\n",
      "0         Asia  1952  779.445314\n",
      "1         Asia  1957  820.853030\n",
      "2         Asia  1962  853.100710\n",
      "3         Asia  1967  836.197138\n",
      "4         Asia  1972  739.981106\n",
      "...        ...   ...         ...\n",
      "1699    Africa  1987  706.157306\n",
      "1700    Africa  1992  693.420786\n",
      "1701    Africa  1997  792.449960\n",
      "1702    Africa  2002  672.038623\n",
      "1703    Africa  2007  469.709298\n",
      "\n",
      "[1704 rows x 3 columns]\n"
     ]
    },
    {
     "data": {
      "text/html": [
       "<div>\n",
       "<style scoped>\n",
       "    .dataframe tbody tr th:only-of-type {\n",
       "        vertical-align: middle;\n",
       "    }\n",
       "\n",
       "    .dataframe tbody tr th {\n",
       "        vertical-align: top;\n",
       "    }\n",
       "\n",
       "    .dataframe thead th {\n",
       "        text-align: right;\n",
       "    }\n",
       "</style>\n",
       "<table border=\"1\" class=\"dataframe\">\n",
       "  <thead>\n",
       "    <tr style=\"text-align: right;\">\n",
       "      <th>continent</th>\n",
       "      <th>Africa</th>\n",
       "      <th>Americas</th>\n",
       "      <th>Asia</th>\n",
       "      <th>Europe</th>\n",
       "      <th>Oceania</th>\n",
       "    </tr>\n",
       "    <tr>\n",
       "      <th>year</th>\n",
       "      <th></th>\n",
       "      <th></th>\n",
       "      <th></th>\n",
       "      <th></th>\n",
       "      <th></th>\n",
       "    </tr>\n",
       "  </thead>\n",
       "  <tbody>\n",
       "    <tr>\n",
       "      <th>1952</th>\n",
       "      <td>987.03</td>\n",
       "      <td>3048.30</td>\n",
       "      <td>1206.95</td>\n",
       "      <td>5142.47</td>\n",
       "      <td>10298.09</td>\n",
       "    </tr>\n",
       "    <tr>\n",
       "      <th>1957</th>\n",
       "      <td>1024.02</td>\n",
       "      <td>3780.55</td>\n",
       "      <td>1547.94</td>\n",
       "      <td>6066.72</td>\n",
       "      <td>11598.52</td>\n",
       "    </tr>\n",
       "    <tr>\n",
       "      <th>1962</th>\n",
       "      <td>1133.78</td>\n",
       "      <td>4086.11</td>\n",
       "      <td>1649.55</td>\n",
       "      <td>7515.73</td>\n",
       "      <td>12696.45</td>\n",
       "    </tr>\n",
       "    <tr>\n",
       "      <th>1967</th>\n",
       "      <td>1210.38</td>\n",
       "      <td>4643.39</td>\n",
       "      <td>2029.23</td>\n",
       "      <td>9366.07</td>\n",
       "      <td>14495.02</td>\n",
       "    </tr>\n",
       "    <tr>\n",
       "      <th>1972</th>\n",
       "      <td>1443.37</td>\n",
       "      <td>5305.45</td>\n",
       "      <td>2571.42</td>\n",
       "      <td>12326.38</td>\n",
       "      <td>16417.33</td>\n",
       "    </tr>\n",
       "    <tr>\n",
       "      <th>1977</th>\n",
       "      <td>1399.64</td>\n",
       "      <td>6281.29</td>\n",
       "      <td>3195.48</td>\n",
       "      <td>14225.75</td>\n",
       "      <td>17283.96</td>\n",
       "    </tr>\n",
       "    <tr>\n",
       "      <th>1982</th>\n",
       "      <td>1323.73</td>\n",
       "      <td>6434.50</td>\n",
       "      <td>4106.53</td>\n",
       "      <td>15322.82</td>\n",
       "      <td>18554.71</td>\n",
       "    </tr>\n",
       "    <tr>\n",
       "      <th>1987</th>\n",
       "      <td>1219.59</td>\n",
       "      <td>6360.94</td>\n",
       "      <td>4106.49</td>\n",
       "      <td>16215.49</td>\n",
       "      <td>20448.04</td>\n",
       "    </tr>\n",
       "    <tr>\n",
       "      <th>1992</th>\n",
       "      <td>1161.63</td>\n",
       "      <td>6618.74</td>\n",
       "      <td>3726.06</td>\n",
       "      <td>17550.16</td>\n",
       "      <td>20894.05</td>\n",
       "    </tr>\n",
       "    <tr>\n",
       "      <th>1997</th>\n",
       "      <td>1179.88</td>\n",
       "      <td>7113.69</td>\n",
       "      <td>3645.38</td>\n",
       "      <td>19596.50</td>\n",
       "      <td>24024.18</td>\n",
       "    </tr>\n",
       "    <tr>\n",
       "      <th>2002</th>\n",
       "      <td>1215.68</td>\n",
       "      <td>6994.77</td>\n",
       "      <td>4090.93</td>\n",
       "      <td>23674.86</td>\n",
       "      <td>26938.78</td>\n",
       "    </tr>\n",
       "    <tr>\n",
       "      <th>2007</th>\n",
       "      <td>1452.27</td>\n",
       "      <td>8948.10</td>\n",
       "      <td>4471.06</td>\n",
       "      <td>28054.07</td>\n",
       "      <td>29810.19</td>\n",
       "    </tr>\n",
       "  </tbody>\n",
       "</table>\n",
       "</div>"
      ],
      "text/plain": [
       "continent   Africa  Americas     Asia    Europe   Oceania\n",
       "year                                                     \n",
       "1952        987.03   3048.30  1206.95   5142.47  10298.09\n",
       "1957       1024.02   3780.55  1547.94   6066.72  11598.52\n",
       "1962       1133.78   4086.11  1649.55   7515.73  12696.45\n",
       "1967       1210.38   4643.39  2029.23   9366.07  14495.02\n",
       "1972       1443.37   5305.45  2571.42  12326.38  16417.33\n",
       "1977       1399.64   6281.29  3195.48  14225.75  17283.96\n",
       "1982       1323.73   6434.50  4106.53  15322.82  18554.71\n",
       "1987       1219.59   6360.94  4106.49  16215.49  20448.04\n",
       "1992       1161.63   6618.74  3726.06  17550.16  20894.05\n",
       "1997       1179.88   7113.69  3645.38  19596.50  24024.18\n",
       "2002       1215.68   6994.77  4090.93  23674.86  26938.78\n",
       "2007       1452.27   8948.10  4471.06  28054.07  29810.19"
      ]
     },
     "metadata": {},
     "output_type": "display_data"
    }
   ],
   "source": [
    "def pivot_table(data_source, opp):\n",
    "    import pandas as pd\n",
    "\n",
    "    gm = pd.read_csv(data_source)\n",
    "\n",
    "    # Create a dataframe with the columns continent, year, and gdpPercap\n",
    "    df = gm[[\"continent\", \"year\", \"gdpPercap\"]]\n",
    "    print(df)\n",
    "\n",
    "    pt = pd.pivot_table(\n",
    "        df, values=\"gdpPercap\", index=\"year\", columns=\"continent\", aggfunc=opp\n",
    "    ).round(decimals=2)\n",
    "\n",
    "    return pt\n",
    "\n",
    "\n",
    "# Run the function on the following data\n",
    "data_url = \"http://bit.ly/2cLzoxH\"\n",
    "operation = \"median\"\n",
    "pivot_table(data_url, operation)"
   ]
  },
  {
   "cell_type": "markdown",
   "metadata": {},
   "source": [
    "### Problem 4:  Filtering by Country and Plotting Over Time\n"
   ]
  },
  {
   "cell_type": "code",
   "execution_count": null,
   "metadata": {},
   "outputs": [
    {
     "name": "stdout",
     "output_type": "stream",
     "text": [
      "    country  year          pop continent  lifeExp    gdpPercap\n",
      "168  Brazil  1952   56602560.0  Americas   50.917  2108.944355\n",
      "169  Brazil  1957   65551171.0  Americas   53.285  2487.365989\n",
      "170  Brazil  1962   76039390.0  Americas   55.665  3336.585802\n",
      "171  Brazil  1967   88049823.0  Americas   57.632  3429.864357\n",
      "172  Brazil  1972  100840058.0  Americas   59.504  4985.711467\n",
      "173  Brazil  1977  114313951.0  Americas   61.489  6660.118654\n",
      "174  Brazil  1982  128962939.0  Americas   63.336  7030.835878\n",
      "175  Brazil  1987  142938076.0  Americas   65.205  7807.095818 \n",
      "\n",
      "country   Brazil    China    India  United Kingdom  United States\n",
      "year                                                             \n",
      "1952     2108.94   400.45   546.57         9979.51       13990.48\n",
      "1957     2487.37   575.99   590.06        11283.18       14847.13\n",
      "1962     3336.59   487.67   658.35        12477.18       16173.15\n",
      "1967     3429.86   612.71   700.77        14142.85       19530.37\n",
      "1972     4985.71   676.90   724.03        15895.12       21806.04\n",
      "1977     6660.12   741.24   813.34        17428.75       24072.63\n",
      "1982     7030.84   962.42   855.72        18232.42       25009.56\n",
      "1987     7807.10  1378.90   976.51        21664.79       29884.35\n",
      "1992     6950.28  1655.78  1164.41        22705.09       32003.93\n",
      "1997     7957.98  2289.23  1458.82        26074.53       35767.43\n",
      "2002     8131.21  3119.28  1746.77        29479.00       39097.10\n",
      "2007     9065.80  4959.11  2452.21        33203.26       42951.65 \n",
      "\n"
     ]
    },
    {
     "data": {
      "image/png": "[encoded data removed]",
      "text/plain": [
       "<Figure size 640x480 with 1 Axes>"
      ]
     },
     "metadata": {},
     "output_type": "display_data"
    }
   ],
   "source": [
    "def time_series(data_source, ct_lst):\n",
    "    import matplotlib.pyplot as plt\n",
    "\n",
    "    %matplotlib inline\n",
    "    import pandas as pd\n",
    "\n",
    "    gm = pd.read_csv(data_source)\n",
    "\n",
    "    # a. Select the data for the specified countries\n",
    "    countries = gm[gm[\"country\"].isin(ct_lst)]\n",
    "    print(countries.head(8), \"\\n\")\n",
    "\n",
    "    # b. Create a pivot table where each column is one of the countries and the rows are the years\n",
    "    p_table = pd.pivot_table(\n",
    "        countries, values=\"gdpPercap\", index=\"year\", columns=\"country\"\n",
    "    ).round(decimals=2)\n",
    "    print(p_table, \"\\n\")\n",
    "\n",
    "    # c. Create the time series plot of the pivot table\n",
    "    # plt.----(p_table,)\n",
    "    # plt.legend(ct_lst)\n",
    "\n",
    "    p_table.plot(title=\"GDP per Capita Over Time\")\n",
    "    plt.xlabel(\"Year\")\n",
    "    plt.ylabel(\"GDP per Capita\")\n",
    "    plt.legend(ct_lst)\n",
    "    plt.show()\n",
    "\n",
    "\n",
    "data_url = \"http://bit.ly/2cLzoxH\"\n",
    "countries = [\"United States\", \"China\", \"United Kingdom\", \"Brazil\", \"India\"]\n",
    "\n",
    "time_series(data_url, countries)"
   ]
  },
  {
   "cell_type": "markdown",
   "metadata": {},
   "source": [
    "### Problem 5:  Filtering\n",
    "This function will accept three arguments, the data source, the year, and a variable to analyze. The objective of the function is to calculate the percentage of countries for a given year that have below the average of the input variable.\n",
    "\n",
    "For example, we can use the function to find the percent of countries in 2002 that had below average life expectancy."
   ]
  },
  {
   "cell_type": "code",
   "execution_count": null,
   "metadata": {},
   "outputs": [
    {
     "name": "stdout",
     "output_type": "stream",
     "text": [
      "        country  year         pop continent  lifeExp  gdpPercap\n",
      "10  Afghanistan  2002  25268405.0      Asia    42.13     726.73\n",
      "22      Albania  2002   3508512.0    Europe    75.65    4604.21\n",
      "34      Algeria  2002  31287142.0    Africa    70.99    5288.04\n",
      "46       Angola  2002  10866106.0    Africa    41.00    2773.29\n",
      "58    Argentina  2002  38331121.0  Americas    74.34    8797.64 \n",
      "\n",
      "The mean of lifeExp in the year 2002 is 65.69\n",
      "\n",
      "40.14% of countries have below average lifeExp\n"
     ]
    }
   ],
   "source": [
    "def percent_below(data_source, y, var):\n",
    "    import numpy as np\n",
    "    import pandas as pd\n",
    "\n",
    "    gm = pd.read_csv(data_source)\n",
    "\n",
    "    # create the dataframe for the selected year\n",
    "    gm_y = gm[gm[\"year\"] == int(y)].round(decimals=2)\n",
    "    print(gm_y.head(), \"\\n\")\n",
    "\n",
    "    # find the mean of the variable (3rd function parameter)\n",
    "    mean_var = np.mean(gm_y[var])\n",
    "    print(f\"The mean of {var} in the year {y} is {round(mean_var, 2)}\\n\")\n",
    "    # print(round(mean_var,2),'\\n')\n",
    "\n",
    "    # Create a column to indicate if each country is below the average\n",
    "    gm_y[\"below\"] = np.where(gm_y[var] < mean_var, 1, 0).round(decimals=2)\n",
    "    pct = gm_y[\"below\"].sum() / gm_y[\"below\"].count() * 100\n",
    "\n",
    "    print(f\"{pct:.2f}% of countries have below average {var}\")\n",
    "    # txt=\"{percent:.2f}% of countries have below average {variable}\"\n",
    "    # print(txt.format(percent=pct, variable=var))\n",
    "\n",
    "\n",
    "data_url = \"http://bit.ly/2cLzoxH\"\n",
    "\n",
    "percent_below(data_url, 2002, \"lifeExp\")"
   ]
  },
  {
   "cell_type": "markdown",
   "metadata": {},
   "source": [
    "### Exercise: Move to End"
   ]
  },
  {
   "cell_type": "markdown",
   "metadata": {},
   "source": [
    "Write a function called move_to_end() that moves all elements of one type to the end of the list."
   ]
  },
  {
   "cell_type": "code",
   "execution_count": 1,
   "metadata": {},
   "outputs": [],
   "source": [
    "def move_to_end(elements, var):\n",
    "    beginning = []\n",
    "    end = []\n",
    "    new = []\n",
    "    for i in elements:\n",
    "        if i==var:\n",
    "            end.append(i)\n",
    "        else:\n",
    "            beginning.append(i)\n",
    "    new.extend(beginning)\n",
    "    new.extend(end)\n",
    "    return new"
   ]
  },
  {
   "cell_type": "code",
   "execution_count": null,
   "metadata": {},
   "outputs": [
    {
     "name": "stdout",
     "output_type": "stream",
     "text": [
      "[3, 2, 4, 4, 1, 1]\n",
      "[7, 8, 1, 2, 3, 4, 9]\n",
      "['b', 'a', 'a', 'a']\n"
     ]
    }
   ],
   "source": [
    "# Tests\n",
    "m1 = move_to_end([1, 3, 2, 4, 4, 1], 1)  # ➞ [3, 2, 4, 4, 1, 1]\n",
    "print(m1)\n",
    "\n",
    "m2 = move_to_end([7, 8, 9, 1, 2, 3, 4], 9)  # ➞ [7, 8, 1, 2, 3, 4, 9]\n",
    "print(m2)\n",
    "\n",
    "m3 = move_to_end([\"a\", \"a\", \"a\", \"b\"], \"a\")  # ➞ [\"b\", \"a\", \"a\", \"a\"]\n",
    "print(m3)"
   ]
  },
  {
   "cell_type": "markdown",
   "metadata": {},
   "source": [
    "### Exercise: Names in Order"
   ]
  },
  {
   "cell_type": "markdown",
   "metadata": {},
   "source": [
    "Create a function that takes a dictionary of student names and returns a list of student names in alphabetical order. Hint: Take a look at the sorted() method https://www.w3schools.com/python/ref_func_sorted.asp"
   ]
  },
  {
   "cell_type": "code",
   "execution_count": null,
   "metadata": {},
   "outputs": [],
   "source": [
    "def get_student_names(dct):\n",
    "    lst = []\n",
    "    for i in dct:\n",
    "        lst.append(dct[i])\n",
    "    sorted_list = sorted(lst)\n",
    "    return sorted_list"
   ]
  },
  {
   "cell_type": "code",
   "execution_count": null,
   "metadata": {},
   "outputs": [
    {
     "name": "stdout",
     "output_type": "stream",
     "text": [
      "['Becky', 'John', 'Steve']\n",
      "['Edison', 'Jayden', 'Sam', 'Zane']\n"
     ]
    }
   ],
   "source": [
    "# Tests\n",
    "\n",
    "g = get_student_names({\"Student 1\": \"Steve\", \"Student 2\": \"Becky\", \"Student 3\": \"John\"})\n",
    "print(g)  # ➞ ['Becky', 'John', 'Steve']\n",
    "\n",
    "\n",
    "h = get_student_names(\n",
    "    {\n",
    "        \"Student 1\": \"Edison\",\n",
    "        \"Student 2\": \"Sam\",\n",
    "        \"Student 3\": \"Jayden\",\n",
    "        \"Student 4\": \"Zane\",\n",
    "    }\n",
    ")\n",
    "print(h)  # ➞ ['Edison', 'Jayden', 'Sam', 'Zane']"
   ]
  }
 ],
 "metadata": {
  "kernelspec": {
   "display_name": "example",
   "language": "python",
   "name": "python3"
  },
  "language_info": {
   "codemirror_mode": {
    "name": "ipython",
    "version": 3
   },
   "file_extension": ".py",
   "mimetype": "text/x-python",
   "name": "python",
   "nbconvert_exporter": "python",
   "pygments_lexer": "ipython3",
   "version": "3.12.2"
  }
 },
 "nbformat": 4,
 "nbformat_minor": 2
}
