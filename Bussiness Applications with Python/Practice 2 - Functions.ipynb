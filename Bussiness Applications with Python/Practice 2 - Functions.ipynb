{
 "cells": [
  {
   "cell_type": "markdown",
   "metadata": {},
   "source": [
    "## Functions\n",
    "> def function_name(parameters):"
   ]
  },
  {
   "cell_type": "markdown",
   "metadata": {},
   "source": [
    "### Problem 1\n",
    "A basic function"
   ]
  },
  {
   "cell_type": "code",
   "execution_count": 2,
   "metadata": {},
   "outputs": [
    {
     "name": "stdout",
     "output_type": "stream",
     "text": [
      "Tina can't get enough Python!\n"
     ]
    }
   ],
   "source": [
    "def statement_arg(name):\n",
    "    print(name, \"can't get enough Python!\")\n",
    "\n",
    "\n",
    "name = \"Tina\"\n",
    "statement_arg(name)"
   ]
  },
  {
   "cell_type": "markdown",
   "metadata": {},
   "source": [
    "### Problem 2\n",
    "Write a function that accepts the purchase price of a stock and a closing price and **returns** the percent change which is the difference between the purchase price and the closing price relative to the purchase price. Wrap your final output with the round() function in order to return an integer value.   "
   ]
  },
  {
   "cell_type": "code",
   "execution_count": 7,
   "metadata": {},
   "outputs": [
    {
     "name": "stdout",
     "output_type": "stream",
     "text": [
      "The percent change is 171%\n"
     ]
    }
   ],
   "source": [
    "def percent_change(purchase, close):\n",
    "    percent_change = round((close - purchase) / purchase * 100)\n",
    "    # print(f\"The percent change is {percent_change}%\")\n",
    "    return percent_change\n",
    "\n",
    "\n",
    "purchase = 3.4\n",
    "close = 9.2\n",
    "s = percent_change(purchase, close)\n",
    "print(f\"The percent change is {s}%\")"
   ]
  },
  {
   "cell_type": "markdown",
   "metadata": {},
   "source": [
    "### Problem 3\n",
    "Write a function that accepts a list of data values and returns a summary that includes the mean, standard deviation, minimum, 25th percentile, median, 75th percentile, and maximum.  \n",
    "\n",
    "You will need to import the ***numpy*** library in order to calculate many of these values.  In your function, also include printed statements that makes the output more meaningful.  "
   ]
  },
  {
   "cell_type": "code",
   "execution_count": 8,
   "metadata": {},
   "outputs": [
    {
     "name": "stdout",
     "output_type": "stream",
     "text": [
      "mean:  10.7\n",
      "standard deviation:  6.1\n",
      "minimum:  4.5\n",
      "25th percentile:  6.2\n",
      "median:  8.4\n",
      "75th percentile:  11.6\n",
      "maximum:  24.3\n"
     ]
    },
    {
     "data": {
      "text/plain": [
       "(10.7, 6.1, 4.5, 6.2, 8.4, 11.6, 24.3)"
      ]
     },
     "execution_count": 8,
     "metadata": {},
     "output_type": "execute_result"
    }
   ],
   "source": [
    "import numpy as np\n",
    "\n",
    "def summary(lst):\n",
    "    # your code\n",
    "    m = round(np.mean(lst), 1)\n",
    "    sd = round(np.std(lst), 1)\n",
    "    min = np.min(lst)\n",
    "    p25 = np.percentile(lst, 25)\n",
    "    med = np.median(lst)\n",
    "    p75 = np.percentile(lst, 75)\n",
    "    max = np.max(lst)\n",
    "    print(\"mean: \", m)\n",
    "    print(\"standard deviation: \", sd)\n",
    "    print(\"minimum: \", min)\n",
    "    print(\"25th percentile: \", p25)\n",
    "    print(\"median: \", med)\n",
    "    print(\"75th percentile: \", p75)\n",
    "    print(\"maximum: \", max)\n",
    "    return m, sd, min, p25, med, p75, max\n",
    "\n",
    "\n",
    "x = [4.5, 6, 7, 18, 6.2, 11.6, 24.3, 8.4, 10.3]\n",
    "summary(x)\n"
   ]
  },
  {
   "cell_type": "markdown",
   "metadata": {},
   "source": [
    "### Problem 4\n",
    "Write a function that accepts a price for a restaurant bill, a sales tax, and a tip.  The function should calculate and return the amount a customer will have to pay after adding the sales tax amount and tip amount.  Make the default sales tax percentage 6.25% (.0625) and the default tip percentage 15% (.15).\n",
    "\n",
    "> taxed amount = cost + tax amount    \n",
    "> total bill = taxed amount + tip amount "
   ]
  },
  {
   "cell_type": "code",
   "execution_count": 10,
   "metadata": {},
   "outputs": [
    {
     "name": "stdout",
     "output_type": "stream",
     "text": [
      "24.25\n",
      "25.3\n"
     ]
    }
   ],
   "source": [
    "# Expected Output (Tip calculated as a percentage of taxed amount)\n",
    "# 24.44\n",
    "# 25.61\n",
    "\n",
    "# def calculate_bill(bill_price, sales_tax=0.0625, tip=0.15):\n",
    "#     taxed_amount = bill_price + bill_price * sales_tax\n",
    "#     total_bill = taxed_amount + taxed_amount * tip\n",
    "#     return round(total_bill, 2)\n",
    "\n",
    "# Expected Output (Tip calculated as a percentage of restaurant bill not including tax)\n",
    "# 24.25\n",
    "# 25.3\n",
    "\n",
    "def calculate_bill(bill_price, sales_tax=0.0625, tip=0.15):\n",
    "    final = bill_price * (1 + sales_tax + tip)\n",
    "    return round(final, 2)\n",
    "\n",
    "print(calculate_bill(20))\n",
    "print(calculate_bill(20, 0.085, 0.18))"
   ]
  },
  {
   "cell_type": "markdown",
   "metadata": {},
   "source": [
    "### Problem 5\n",
    "Write a function that takes in the purchase price and the current price of a certain stock.  If the stock's value has decreased by more than *10%* or increased by more than *20%*, return Boolean value True. Otherwise return the Boolean value False."
   ]
  },
  {
   "cell_type": "code",
   "execution_count": 12,
   "metadata": {},
   "outputs": [
    {
     "data": {
      "text/plain": [
       "True"
      ]
     },
     "execution_count": 12,
     "metadata": {},
     "output_type": "execute_result"
    }
   ],
   "source": [
    "def check_price(purchase, current):\n",
    "    percent_change = ((current - purchase) / purchase) * 100\n",
    "    if percent_change < -10 or percent_change > 20:\n",
    "        # print(percent_change)\n",
    "        return True\n",
    "    else:\n",
    "        # print(percent_change)\n",
    "        return False\n",
    "\n",
    "\n",
    "purchase = 10\n",
    "current = 13\n",
    "check_price(purchase, current)"
   ]
  },
  {
   "cell_type": "markdown",
   "metadata": {},
   "source": [
    "### Problem 6\n",
    "Write a function that accepts a positive number and formats it into a string in monetary format correctly representing the dollar and cent amounts.   For example:\n",
    "\n",
    "```\n",
    "money_format(3510000.159897)\n",
    "```\n",
    "should return\n",
    "```\n",
    "  '3,510,000.16'\n",
    "```\n",
    "You will need to do some research first to find a prebuilt function to accomplish this. Do not attempt to write a function to perform this task unless you have a lot of time on your hand."
   ]
  },
  {
   "cell_type": "code",
   "execution_count": 14,
   "metadata": {},
   "outputs": [
    {
     "name": "stdout",
     "output_type": "stream",
     "text": [
      "3,510,000.16\n"
     ]
    }
   ],
   "source": [
    "def money_format(number):\n",
    "    return \"{:,.2f}\".format(number)\n",
    "\n",
    "\n",
    "num = 3510000.159897\n",
    "print(money_format(num))"
   ]
  },
  {
   "cell_type": "markdown",
   "metadata": {},
   "source": [
    "## Exercises"
   ]
  },
  {
   "cell_type": "markdown",
   "metadata": {
    "id": "D_lKzP4kzWwy"
   },
   "source": [
    "#### Exercise: Celcius to Farenheit\n",
    "Write a program to convert degrees Celcius into degrees Farenheit, using the relationship F=(9/5*C)+32"
   ]
  },
  {
   "cell_type": "code",
   "execution_count": null,
   "metadata": {
    "colab": {
     "base_uri": "https://localhost:8080/"
    },
    "executionInfo": {
     "elapsed": 5541,
     "status": "ok",
     "timestamp": 1726522840581,
     "user": {
      "displayName": "Khoa Pham",
      "userId": "00006121731400967330"
     },
     "user_tz": 420
    },
    "id": "BGNAQ9omAxR7",
    "outputId": "fc0cde56-6102-481e-dd8d-c98e672b609b"
   },
   "outputs": [],
   "source": [
    "temp_c = int(input(\"Enter the temperature in Celcius: \"))\n",
    "temp_f = round((9/5)*temp_c+32)\n",
    "print(f\"{temp_c} degree Celcius is {temp_f} degree Farenheit\")"
   ]
  },
  {
   "cell_type": "markdown",
   "metadata": {
    "id": "jF1dEQN52DzE"
   },
   "source": [
    "#### Exercise: Compound Interest Formula\n",
    "Write a compound interest formula to calculate a future value of an investment or loan.  \n",
    "\n",
    "  A = P(1 + $\\frac{r}{n}$)$^{nt}$ \n",
    "\n",
    "> Where:  \n",
    "    •\tA = the future value of the investment/loan, including interest  \n",
    "    •\tP = the initial principal balance  \n",
    "    •\tr = the annual interest rate (decimal)  \n",
    "    •\tn = the number of times the interest is compounded per year  \n",
    "    •\tt = the number of years\n"
   ]
  },
  {
   "cell_type": "code",
   "execution_count": null,
   "metadata": {
    "colab": {
     "base_uri": "https://localhost:8080/"
    },
    "executionInfo": {
     "elapsed": 157,
     "status": "ok",
     "timestamp": 1726529585105,
     "user": {
      "displayName": "Khoa Pham",
      "userId": "00006121731400967330"
     },
     "user_tz": 420
    },
    "id": "fKSEa8BsMP03",
    "outputId": "d69e0719-ffeb-4c50-c30c-911d66b45e07"
   },
   "outputs": [],
   "source": [
    "def investment(p, apr, n, t):\n",
    "  r = apr / 100\n",
    "  for i in range (t):\n",
    "    a = p * (1 + (r/n)) ** (n*(i+1))\n",
    "    print(f\"Year {i+1}: ${round(a,2)}\")\n",
    "\n",
    "  result = p * (1 + (r/n)) ** (n*t)\n",
    "  print(f\"After {t} years, the final amount is {result:.2f}\\n\")\n",
    "\n",
    "# You invest $1,000 at an APR (Annual Percentage Rate) of 5% for 3 years, and the interest is compounded annually.\n",
    "investment(1000, 5, 1, 3)\n",
    "\n",
    "# You deposit $2,500 in a savings account with an APR (Annual Percentage Rate) of 4%, compounded quarterly (4 times a year), for 5 years.\n",
    "investment(2500, 4, 1, 5)"
   ]
  },
  {
   "cell_type": "markdown",
   "metadata": {
    "id": "PDi1RjkZ8sQp"
   },
   "source": [
    "#### Exercise: Amortization Formula\n",
    "\n",
    "Write an amortization formula to calculate the monthly payment for a mortgage or a loan that is paid off over time with a fixed interest rate.\n",
    "\n",
    "   M = $\\frac{P⋅r(1+r)ⁿ}{(1+r)ⁿ - 1}$\n",
    "\n",
    "> Where:  \n",
    "\t•\tM = Monthly payment  \n",
    "\t•\tP = Loan principal (the initial loan amount)  \n",
    "\t•\tr = Monthly interest rate (annual interest rate divided by 12)  \n",
    "\t•\tn = Total number of payments (loan term in months)  "
   ]
  },
  {
   "cell_type": "code",
   "execution_count": null,
   "metadata": {
    "colab": {
     "base_uri": "https://localhost:8080/"
    },
    "executionInfo": {
     "elapsed": 337,
     "status": "ok",
     "timestamp": 1726529303466,
     "user": {
      "displayName": "Khoa Pham",
      "userId": "00006121731400967330"
     },
     "user_tz": 420
    },
    "id": "XT72WJTlNttm",
    "outputId": "ce2192a4-1471-4cb1-f269-699456e81a98"
   },
   "outputs": [],
   "source": [
    "def monthly_payment(p, annual_rate, years):\n",
    "  r = (annual_rate/100)/12\n",
    "  n = years * 12\n",
    "\n",
    "  M = (p * r * (1+r)**n) / ((1+r)**n - 1)\n",
    "  result = (f\"Your monthly mortgage payment: ${M:.2f}\")\n",
    "  return result\n",
    "\n",
    "# Suppose you borrow $200,000 to buy a house, with a fixed annual interest rate of 5% for 30 years (360 months).\n",
    "print(monthly_payment(27222, 5.5, 10))\n",
    "# Suppose you borrow $40,357 to buy a car, with a fixed annual interest rate of 8.55% for 5 years (60 months).\n",
    "print(monthly_payment(40357, 8.55, 5))"
   ]
  },
  {
   "cell_type": "markdown",
   "metadata": {
    "id": "gglg34nsMKIu"
   },
   "source": [
    "#### Exercise: Check Length\n",
    "Write a function called check_length that takes in two strings.  If those strings are the same length, return True, otherwise return False and print the number of characters difference between the two strings."
   ]
  },
  {
   "cell_type": "code",
   "execution_count": null,
   "metadata": {
    "colab": {
     "base_uri": "https://localhost:8080/"
    },
    "executionInfo": {
     "elapsed": 243,
     "status": "ok",
     "timestamp": 1726536592800,
     "user": {
      "displayName": "Khoa Pham",
      "userId": "00006121731400967330"
     },
     "user_tz": 420
    },
    "id": "cr5aZT6AMJ3K",
    "outputId": "26471974-8a97-4cd3-9491-115ca37ee4bd"
   },
   "outputs": [],
   "source": [
    "def check_length(str1, str2):\n",
    "  if len(str1) == len(str2):\n",
    "    return True\n",
    "  else:\n",
    "    diff = abs(len(str1) - len(str2))\n",
    "    print(f\"The string length difference is {diff} character(s)\")\n",
    "    return False\n",
    "\n",
    "check_length('hello', 'friend')\n",
    "check_length('five', 'nope')"
   ]
  },
  {
   "cell_type": "markdown",
   "metadata": {
    "id": "SKU1PRjKvyS5"
   },
   "source": [
    "#### Exercise: Matches\n",
    "Write a function called matches that takes two strings as arguments and returns how many matches there are between the strings. A match is where the two strings have the same character at the same index.\n",
    "\n",
    "> For instance, 'python' and 'path' match in the first, third, and fourth characters, so the function should return 3."
   ]
  },
  {
   "cell_type": "code",
   "execution_count": null,
   "metadata": {
    "colab": {
     "base_uri": "https://localhost:8080/"
    },
    "executionInfo": {
     "elapsed": 154,
     "status": "ok",
     "timestamp": 1726539366926,
     "user": {
      "displayName": "Khoa Pham",
      "userId": "00006121731400967330"
     },
     "user_tz": 420
    },
    "id": "Dmcs1g_LvzNw",
    "outputId": "20cb51f3-103d-4dff-c93b-0b408bf2fd0f"
   },
   "outputs": [],
   "source": [
    "def matches(str1, str2):\n",
    "  min_length = min(len(str1), len(str2))\n",
    "  count = 0\n",
    "  for i in range(min_length):\n",
    "    if str1[i] == str2[i]:\n",
    "      print(f\"{str1[i]} matches!\")\n",
    "      count+=1\n",
    "  return count\n",
    "\n",
    "s1='python'\n",
    "s2='path'\n",
    "print(matches(s1,s2))\n",
    "print(\"\\n\")\n",
    "a='mississippi'\n",
    "b='missouri'\n",
    "print(matches(a,b))"
   ]
  },
  {
   "cell_type": "markdown",
   "metadata": {
    "id": "jILdc4diaphh"
   },
   "source": [
    "#### Exercise: Loan Applicants\n",
    "Write a function to determine how many applicants who apply for a loan will be accepted.  The function should accept a list of credit scores as an argument and return the count of applicants who qualify with a score that exceeds a user specified limit."
   ]
  },
  {
   "cell_type": "code",
   "execution_count": null,
   "metadata": {
    "colab": {
     "base_uri": "https://localhost:8080/"
    },
    "executionInfo": {
     "elapsed": 177,
     "status": "ok",
     "timestamp": 1726538054855,
     "user": {
      "displayName": "Khoa Pham",
      "userId": "00006121731400967330"
     },
     "user_tz": 420
    },
    "id": "K1hzVaziapN4",
    "outputId": "b4b58bdf-3524-4a43-a8e8-9e0db5a740c0"
   },
   "outputs": [],
   "source": [
    "def applicant_count(scores, limit = 600):\n",
    "  count = 0\n",
    "  for i in scores:\n",
    "    if i > limit:\n",
    "      print(f\"{i} is above {limit}\")\n",
    "      count += 1\n",
    "  return count\n",
    "\n",
    "scores=[400,620,590,600,420,700]\n",
    "print(applicant_count(scores))\n",
    "print('\\n')\n",
    "print(applicant_count(scores, 650))"
   ]
  },
  {
   "cell_type": "markdown",
   "metadata": {
    "id": "Yn-7-TwyafMY"
   },
   "source": [
    "#### Exercise: Housing Offers\n",
    "Write a function that accepts an asking price and a list of offers.  Return the number of offers equal to or above the asking price and the number of offers below the asking price.  Also print a meaningful statement to say how many offers are above asking price and how many are below.  "
   ]
  },
  {
   "cell_type": "code",
   "execution_count": null,
   "metadata": {
    "colab": {
     "base_uri": "https://localhost:8080/"
    },
    "executionInfo": {
     "elapsed": 204,
     "status": "ok",
     "timestamp": 1726538123898,
     "user": {
      "displayName": "Khoa Pham",
      "userId": "00006121731400967330"
     },
     "user_tz": 420
    },
    "id": "-aAkqGEnagmd",
    "outputId": "9b55626f-a747-4559-b4a7-bba234b7d072"
   },
   "outputs": [],
   "source": [
    "def house_offers(price, offers):\n",
    "  above = 0\n",
    "  below = 0\n",
    "  for i in offers:\n",
    "    if i >= price:\n",
    "      print(f\"offer {i} is above asking price\")\n",
    "      above += 1\n",
    "    else:\n",
    "      print(f\"offer {i} is below asking price\")\n",
    "      below += 1\n",
    "  print(f\"There are {above} above and {below} below of asking price: ${price}.\")\n",
    "\n",
    "asking_price=36000\n",
    "offers=[40000, 32000, 34000, 35000, 37200]\n",
    "\n",
    "house_offers(asking_price, offers)"
   ]
  },
  {
   "cell_type": "markdown",
   "metadata": {
    "id": "Z_On7S0WVCLE"
   },
   "source": [
    "#### Exercise: Percent Change\n",
    " This program will check the change in an account balance. Write a function that accepts a start_price and an end_price and returns the percent change using the relationship. Round the final result to the nearest whole number. Print a statement above the return that says: 'The percent change in the account balance is:\n",
    "\n",
    "<!-- $$\n",
    "((end\\_price - start\\_price) / start\\_price) * 100\n",
    "$$ -->\n",
    "\n",
    "$$\n",
    "\\left(\\frac{end\\_price - start\\_price}{start\\_price}\\right) \\times 100\n",
    "$$\n",
    "\n",
    "<!-- $$ \n",
    "\\frac{(\\text{end\\_price} - \\text{start\\_price})}{\\text{start\\_price}} \\times 100 \n",
    "$$ -->\n"
   ]
  },
  {
   "cell_type": "code",
   "execution_count": 1,
   "metadata": {
    "colab": {
     "base_uri": "https://localhost:8080/"
    },
    "executionInfo": {
     "elapsed": 208,
     "status": "ok",
     "timestamp": 1726616260557,
     "user": {
      "displayName": "Khoa Pham",
      "userId": "00006121731400967330"
     },
     "user_tz": 420
    },
    "id": "6tPitZQbUs6F",
    "outputId": "a773c474-4fd0-4e50-98b1-f3879aa50736"
   },
   "outputs": [
    {
     "name": "stdout",
     "output_type": "stream",
     "text": [
      "The percent change in the account balance is: 20%\n",
      "The percent change in the account balance is: -9%\n"
     ]
    }
   ],
   "source": [
    "def percent_change(start_price, end_price):\n",
    "  percent_change = ((end_price - start_price) / start_price) * 100\n",
    "  print(f\"The percent change in the account balance is: {round(percent_change)}%\")\n",
    "  # return round(percent_change)\n",
    "\n",
    "# Tests\n",
    "x=1000\n",
    "y=1200\n",
    "percent_change(x,y)\n",
    "\n",
    "a=10000\n",
    "b=9100\n",
    "percent_change(a,b)"
   ]
  },
  {
   "cell_type": "markdown",
   "metadata": {
    "id": "4d2bD3HPcQ9R"
   },
   "source": [
    "#### Exercise: Account Balance\n",
    "Write a program that takes in a starting yearly account balance and an ending yearly account balance for a company. If the percent increase is more than 25%, print, \"your account balance has increased by (amount of increase)\". If the percent decrease exceeds 8%, print, \"your account balance has decreased by (amount of decrease)\". Otherwise print \"No action is required at this time\"."
   ]
  },
  {
   "cell_type": "code",
   "execution_count": null,
   "metadata": {
    "colab": {
     "base_uri": "https://localhost:8080/"
    },
    "executionInfo": {
     "elapsed": 179,
     "status": "ok",
     "timestamp": 1726537772951,
     "user": {
      "displayName": "Khoa Pham",
      "userId": "00006121731400967330"
     },
     "user_tz": 420
    },
    "id": "-kyVsKvfcSvz",
    "outputId": "37000fd2-b08b-4215-8e92-ecff1623234c"
   },
   "outputs": [],
   "source": [
    "def check_balance(start, end):\n",
    "  percent_change = (end-start)/start * 100\n",
    "  print(f\"{percent_change:.2f}%\")\n",
    "\n",
    "  if percent_change > 25:\n",
    "    print(f\"your account balance has increased by {abs(percent_change)}% which is ${abs(end-start)}\")\n",
    "  elif percent_change < -8:\n",
    "    print(f\"your account balance has decreased by {abs(percent_change)}% which is ${abs(end-start)}\")\n",
    "  else:\n",
    "    print(\"No action is required at this time\")\n",
    "\n",
    "  # if end>=start*1.25:\n",
    "  #   print(f\"your account balance has increased by {abs(percent)}% which is ${end-start}\")\n",
    "  # elif end<=start*.92:\n",
    "  #   print(f\"your account balance has decreased by {abs(percent)}% which is ${start-end}\")\n",
    "  # else:\n",
    "  #   print(\"No action is required at this time\")\n",
    "\n",
    "check_balance(10000, 9100)\n",
    "check_balance(10000, 9300)\n",
    "check_balance(10000, 12500)\n",
    "check_balance(10000, 12600)"
   ]
  },
  {
   "cell_type": "markdown",
   "metadata": {
    "id": "DbynkDGilYvu"
   },
   "source": [
    "#### Example: Python .format()\n",
    "Write a function that accepts a positive number and formats it into a string in monetary format correctly representing the dollar and cent amounts.   For example:\n",
    "\n",
    "```\n",
    "money_format(3510000.159897)\n",
    "```\n",
    "should return\n",
    "```\n",
    "  '3,510,000.16'\n",
    "```"
   ]
  },
  {
   "cell_type": "code",
   "execution_count": null,
   "metadata": {
    "id": "qqqUaobGliYM"
   },
   "outputs": [],
   "source": [
    "def money_format(number):\n",
    "    return '{:,.2f}'.format(number)\n",
    "\n",
    "num = 3510000.159897\n",
    "print(money_format(num))"
   ]
  },
  {
   "cell_type": "markdown",
   "metadata": {
    "id": "JqtjaMs9sg7X"
   },
   "source": [
    "#### Exercise: Summary Statistics\n",
    "\n",
    "Write a function that accepts a list of data values and returns a summary that includes the mean, standard deviation, minimum, 25th percentile, median, 75th percentile, and maximum. You will need to import the numpy library in order to calculate many of these values. Do a little bit of research. In your function, also include printed statements (as seen in the expected output) that makes the output more meaningful."
   ]
  },
  {
   "cell_type": "code",
   "execution_count": null,
   "metadata": {
    "colab": {
     "base_uri": "https://localhost:8080/"
    },
    "executionInfo": {
     "elapsed": 171,
     "status": "ok",
     "timestamp": 1726538900144,
     "user": {
      "displayName": "Khoa Pham",
      "userId": "00006121731400967330"
     },
     "user_tz": 420
    },
    "id": "iQl9571SsgPh",
    "outputId": "3c0cc3fa-d0f0-4a54-c772-2e977e27c639"
   },
   "outputs": [],
   "source": [
    "from os import lstat\n",
    "# import the necessary tools from the numpy library\n",
    "import numpy as np\n",
    "from statistics import mean\n",
    "\n",
    "def summary(lst):\n",
    "    # your code\n",
    "    m = round(np.mean(lst), 1)\n",
    "    sd = round(np.std(lst), 1)\n",
    "    min = np.min(lst)\n",
    "    p25 = np.percentile(lst, 25)\n",
    "    med = np.median(lst)\n",
    "    p75 = np.percentile(lst, 75)\n",
    "    max = np.max(lst)\n",
    "    sum = np.sum(lst)\n",
    "    print(\"mean: \", m)\n",
    "    print(\"standard deviation: \", sd)\n",
    "    print(\"minimum: \", min)\n",
    "    print(\"25th percentile: \", p25)\n",
    "    print(\"median: \", med)\n",
    "    print(\"75th percentile: \", p75)\n",
    "    print(\"maximum: \", max)\n",
    "    print(\"sum: \", sum)\n",
    "    # return m, sd, min, p25, med, p75, max\n",
    "\n",
    "def summarize(list, operation):\n",
    "    return(operation(list))\n",
    "\n",
    "\n",
    "# run the function on the data object defined below\n",
    "x = [4.5, 6, 7, 18, 6.2, 11.6, 24.3, 8.4, 10.3]\n",
    "summary(x)\n",
    "print('\\n')\n",
    "print(f\"Mean: {summarize(x, mean)}\")\n",
    "print(f\"Min: {summarize(x, min)}\")\n",
    "print(f\"Max: {summarize(x, max)}\")\n",
    "print(f\"Sum: {summarize(x, sum):.2f}\")"
   ]
  },
  {
   "cell_type": "markdown",
   "metadata": {
    "id": "3_yKBf8ftFFT"
   },
   "source": [
    "#### Exercise: Add Digits\n",
    "\n",
    "Find the sum of the digits in that number"
   ]
  },
  {
   "cell_type": "code",
   "execution_count": null,
   "metadata": {
    "colab": {
     "base_uri": "https://localhost:8080/"
    },
    "executionInfo": {
     "elapsed": 190,
     "status": "ok",
     "timestamp": 1726538389634,
     "user": {
      "displayName": "Khoa Pham",
      "userId": "00006121731400967330"
     },
     "user_tz": 420
    },
    "id": "mX5lcu0KtEVZ",
    "outputId": "c0663d69-89fd-478c-84d3-5ab10bf8fc1b"
   },
   "outputs": [],
   "source": [
    "def add_digits(num):\n",
    "    string=str(num)\n",
    "    sum=int(string[0])+int(string[1])+int(string[2])\n",
    "    print(\"adding the digits of\", num, \"yields\", sum)\n",
    "    # return sum\n",
    "\n",
    "add_digits(345)"
   ]
  },
  {
   "cell_type": "markdown",
   "metadata": {
    "id": "hmb5mAeXvicw"
   },
   "source": [
    "#### Example: Datetime\n",
    "The datetime library understands various types of temporal representations.  As business professionals, it is common to look at financial time-series data.  The datetime library will no doubt be useful for anyone working in this context.  Here are a few things you can do with the datetime libary.  Hunt around on the web to see what else is possible.  "
   ]
  },
  {
   "cell_type": "code",
   "execution_count": null,
   "metadata": {
    "colab": {
     "base_uri": "https://localhost:8080/"
    },
    "executionInfo": {
     "elapsed": 176,
     "status": "ok",
     "timestamp": 1726538998901,
     "user": {
      "displayName": "Khoa Pham",
      "userId": "00006121731400967330"
     },
     "user_tz": 420
    },
    "id": "JQoi3S5-vhv9",
    "outputId": "511c8947-76fe-435d-89d2-8fef3bdcd4e5"
   },
   "outputs": [],
   "source": [
    "import datetime\n",
    "\n",
    "# get the current date\n",
    "today = datetime.date.today()\n",
    "print(today)\n",
    "\n",
    "# get the current date and time\n",
    "now = datetime.datetime.now()\n",
    "print(now)"
   ]
  },
  {
   "cell_type": "markdown",
   "metadata": {
    "id": "VQGwYNLjTq1q"
   },
   "source": [
    "#### Exercise: Sum>100?\n",
    "Write a function to check if the sum of two integers, x and y exceeds 100. If the sum exceeds 100, print \"Greater\". If the sum is less than 100, print \"Less\". If the sum is equal to 100, print \"Equal\""
   ]
  },
  {
   "cell_type": "code",
   "execution_count": null,
   "metadata": {
    "colab": {
     "base_uri": "https://localhost:8080/"
    },
    "executionInfo": {
     "elapsed": 316,
     "status": "ok",
     "timestamp": 1726615834820,
     "user": {
      "displayName": "Khoa Pham",
      "userId": "00006121731400967330"
     },
     "user_tz": 420
    },
    "id": "HacJPWGlTsKr",
    "outputId": "99156ee4-ed74-4e9e-bea1-9c724d7b6d35"
   },
   "outputs": [],
   "source": [
    "def sum_100(x, y):\n",
    "    total = x + y\n",
    "    if total > 100:\n",
    "        print(\"Greater\")\n",
    "    elif total < 100:\n",
    "        print(\"Less\")\n",
    "    else:\n",
    "        print(\"Equal\")\n",
    "\n",
    "# Tests\n",
    "a=30\n",
    "b=75\n",
    "sum_100(a,b)\n",
    "\n",
    "s=22\n",
    "t=72\n",
    "sum_100(s,t)\n",
    "\n",
    "m=40\n",
    "n=60\n",
    "sum_100(m,n)"
   ]
  }
 ],
 "metadata": {
  "colab": {
   "authorship_tag": "ABX9TyOAmYqx2dJ1Hc04crCrlk43",
   "provenance": []
  },
  "kernelspec": {
   "display_name": "example",
   "language": "python",
   "name": "python3"
  },
  "language_info": {
   "codemirror_mode": {
    "name": "ipython",
    "version": 3
   },
   "file_extension": ".py",
   "mimetype": "text/x-python",
   "name": "python",
   "nbconvert_exporter": "python",
   "pygments_lexer": "ipython3",
   "version": "3.12.7"
  }
 },
 "nbformat": 4,
 "nbformat_minor": 0
}
