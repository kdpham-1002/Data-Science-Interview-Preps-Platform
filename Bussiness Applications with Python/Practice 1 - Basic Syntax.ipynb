{
 "cells": [
  {
   "cell_type": "markdown",
   "metadata": {},
   "source": [
    "## Data Types & Basic Operations\n",
    "> String Operations, Conditional Statements, Iteration with Loops, Functions"
   ]
  },
  {
   "cell_type": "markdown",
   "metadata": {},
   "source": [
    "### 1. Checking Data Types\n"
   ]
  },
  {
   "cell_type": "code",
   "execution_count": 1,
   "metadata": {},
   "outputs": [
    {
     "name": "stdout",
     "output_type": "stream",
     "text": [
      "<class 'int'>\n",
      "<class 'float'>\n",
      "<class 'bool'>\n",
      "<class 'list'>\n",
      "<class 'str'>\n"
     ]
    }
   ],
   "source": [
    "def check_types():\n",
    "    print(type(45))\n",
    "    print(type(27.27))\n",
    "    print(type(True))\n",
    "    print(type([3, 4, 5, 6]))\n",
    "    print(type(\"hello\"))\n",
    "\n",
    "check_types()"
   ]
  },
  {
   "cell_type": "markdown",
   "metadata": {},
   "source": [
    "### 2. Basic Operations"
   ]
  },
  {
   "cell_type": "code",
   "execution_count": null,
   "metadata": {},
   "outputs": [
    {
     "name": "stdout",
     "output_type": "stream",
     "text": [
      "16\n",
      "56\n",
      "3.5\n",
      "3\n",
      "2\n"
     ]
    }
   ],
   "source": [
    "def basic_opp(x, y):\n",
    "    # a. exponentiation (x power 2)\n",
    "    print(x**2)\n",
    "\n",
    "    # b. multiplication (x times y)\n",
    "    print(x * y)\n",
    "\n",
    "    # c. division (y divided by x)\n",
    "    print(round(y / x, 2))  # this rounds the resulting value to two decimal places\n",
    "\n",
    "    # d. integer division (y divided by x)\n",
    "    print(y // x)\n",
    "\n",
    "    # e. the modulus operator (y modulo x)\n",
    "    print(y % x)\n",
    "\n",
    "\n",
    "a = 4\n",
    "b = 14\n",
    "basic_opp(a, b)"
   ]
  },
  {
   "cell_type": "markdown",
   "metadata": {},
   "source": [
    "### 3. String Operations"
   ]
  },
  {
   "cell_type": "code",
   "execution_count": 4,
   "metadata": {},
   "outputs": [
    {
     "name": "stdout",
     "output_type": "stream",
     "text": [
      "j !\n",
      "l\n",
      "listen to your heart,\n",
      "10\n",
      "43\n",
      "['just', 'listen', 'to', 'your', 'heart,', \"that's\", 'what', 'I', 'do!']\n",
      "just listen to your heart, that's what I do!\n"
     ]
    }
   ],
   "source": [
    "def string_opp(y):\n",
    "    # a. In one line, print the first and last characters in the string.\n",
    "    print(y[0], y[-1])\n",
    "\n",
    "    # b. Print the 6th character in the string.\n",
    "    print(y[5])\n",
    "\n",
    "    # c. Slice off first 5 and last 18 char. result: \"listen to your heart\"\n",
    "    print(y[5:-18])\n",
    "\n",
    "    # d. Find first instance of letter 'n' in string y.\n",
    "    print(y.find(\"n\"))\n",
    "\n",
    "    # e. Search for '!' in string y.\n",
    "    print(y.find(\"!\"))\n",
    "\n",
    "    # f. Split the string on each space, store the result as z.\n",
    "    z = y.split(\" \")\n",
    "    print(z)\n",
    "\n",
    "    # g. Combine elements of list z to generate the full sentence as in string y.\n",
    "    print(\" \".join(z))\n",
    "\n",
    "\n",
    "s = \"just listen to your heart, that's what I do!\"\n",
    "string_opp(s)\n"
   ]
  },
  {
   "cell_type": "markdown",
   "metadata": {},
   "source": [
    "### 4. Booleans"
   ]
  },
  {
   "cell_type": "code",
   "execution_count": 5,
   "metadata": {},
   "outputs": [
    {
     "name": "stdout",
     "output_type": "stream",
     "text": [
      "True\n",
      "False\n",
      "False\n",
      "True\n"
     ]
    }
   ],
   "source": [
    "def boolean_opp(a, b):\n",
    "    print(a > 4 or b < 4)\n",
    "    print(not (a > 4 or b > 4))\n",
    "    print((a > 4 and b < 4) or (a < 4 and b > 4))\n",
    "    print((a > 4 or b < 4) and (a < 4 or b > 4))\n",
    "\n",
    "\n",
    "x = 7\n",
    "y = 9\n",
    "boolean_opp(x, y)"
   ]
  },
  {
   "cell_type": "markdown",
   "metadata": {},
   "source": [
    "### 5. Types of Assignment"
   ]
  },
  {
   "cell_type": "code",
   "execution_count": 6,
   "metadata": {},
   "outputs": [
    {
     "name": "stdout",
     "output_type": "stream",
     "text": [
      "8\n",
      "9 9\n",
      "10 12\n",
      "7\n"
     ]
    }
   ],
   "source": [
    "def assignment():\n",
    "    # a. assign x the value 8\n",
    "    x = 8\n",
    "    print(x)\n",
    "\n",
    "    # b. assign both x and y the value 9 in one line of code\n",
    "    x = y = 9\n",
    "    print(x, y)\n",
    "\n",
    "    # c. assign x the value 10 and y the value 12 using one line of code\n",
    "    x, y = 10, 12\n",
    "    print(x, y)\n",
    "\n",
    "    # d. increment x by 1 three times\n",
    "    x = 4\n",
    "    x += 1\n",
    "    x += 1\n",
    "    x += 1\n",
    "    print(x)\n",
    "\n",
    "\n",
    "assignment()\n"
   ]
  },
  {
   "cell_type": "markdown",
   "metadata": {},
   "source": [
    "## Exercises"
   ]
  },
  {
   "cell_type": "markdown",
   "metadata": {
    "id": "D_lKzP4kzWwy"
   },
   "source": [
    "### Exercise: Is it divisible?\n",
    "Write a program that takes in two integer values as inputs. Write some code to do the following: If x is divisible by y, print (value of x) is divisible by (value of y). If x is not divisible by y, print (value of x) is not divisible by (value of y)"
   ]
  },
  {
   "cell_type": "code",
   "execution_count": null,
   "metadata": {
    "colab": {
     "base_uri": "https://localhost:8080/"
    },
    "executionInfo": {
     "elapsed": 4106,
     "status": "ok",
     "timestamp": 1725990050235,
     "user": {
      "displayName": "Khoa Pham",
      "userId": "00006121731400967330"
     },
     "user_tz": 420
    },
    "id": "BGNAQ9omAxR7",
    "outputId": "8eca4f53-eb40-47b6-cf65-9c2e7d17c0c6"
   },
   "outputs": [
    {
     "name": "stdout",
     "output_type": "stream",
     "text": [
      "Enter a value for x: 2\n",
      "Enter a value for y: 22\n",
      "2 is not divisible by 22\n"
     ]
    }
   ],
   "source": [
    "x = int(input(\"Enter a value for x: \"))\n",
    "y = int(input(\"Enter a value for y: \"))\n",
    "if x%y == 0:\n",
    "  print(x, \"is divisible by\", y)\n",
    "else:\n",
    "  print(x, \"is not divisible by\", y)"
   ]
  },
  {
   "cell_type": "markdown",
   "metadata": {
    "id": "jF1dEQN52DzE"
   },
   "source": [
    "### Exercise: Evens and Odds\n",
    "Write a program to check if an integer input is even or odd. If even, print \"(number) is an even number\", if odd, print \"(number) is an odd number\""
   ]
  },
  {
   "cell_type": "code",
   "execution_count": 9,
   "metadata": {},
   "outputs": [
    {
     "name": "stdout",
     "output_type": "stream",
     "text": [
      "odd\n"
     ]
    }
   ],
   "source": [
    "def even_odd(x):\n",
    "    if x % 2 == 0:\n",
    "        print(\"even\")\n",
    "    else:\n",
    "        print(\"odd\")\n",
    "\n",
    "\n",
    "a = 45\n",
    "even_odd(a)"
   ]
  },
  {
   "cell_type": "code",
   "execution_count": 10,
   "metadata": {
    "colab": {
     "base_uri": "https://localhost:8080/"
    },
    "executionInfo": {
     "elapsed": 2252,
     "status": "ok",
     "timestamp": 1725992949151,
     "user": {
      "displayName": "Khoa Pham",
      "userId": "00006121731400967330"
     },
     "user_tz": 420
    },
    "id": "fKSEa8BsMP03",
    "outputId": "58d48e83-3b24-42fd-8218-47186ca7d1c7"
   },
   "outputs": [
    {
     "name": "stdout",
     "output_type": "stream",
     "text": [
      "45 is an odd number\n"
     ]
    }
   ],
   "source": [
    "num = int(input(\"Enter a number: \"))\n",
    "if num%2 ==0:\n",
    "  print(num, \"is an even number\")\n",
    "else:\n",
    "  print(num, \"is an odd number\")"
   ]
  },
  {
   "cell_type": "markdown",
   "metadata": {
    "id": "PDi1RjkZ8sQp"
   },
   "source": [
    "### Exercise: Account Balance\n",
    "\n",
    "Write a program that takes in a starting yearly account balance and an ending yearly account balance for a company. If the percent increase is more than 20%, print, \"the account balance has increased by (percent increase)\". If the percent decrease exceeds 10%, print, \"the account balance has decreased by (percent decrease)\". Otherwise print \"No action is required at this time\"."
   ]
  },
  {
   "cell_type": "code",
   "execution_count": null,
   "metadata": {
    "colab": {
     "base_uri": "https://localhost:8080/"
    },
    "executionInfo": {
     "elapsed": 10629,
     "status": "ok",
     "timestamp": 1725994321631,
     "user": {
      "displayName": "Khoa Pham",
      "userId": "00006121731400967330"
     },
     "user_tz": 420
    },
    "id": "XT72WJTlNttm",
    "outputId": "d04e2d2a-8fd9-48ec-acb3-e71064e53407"
   },
   "outputs": [
    {
     "name": "stdout",
     "output_type": "stream",
     "text": [
      "Enter a starting yearly account balance: 100\n",
      "Enter an ending yearly account balance: 95.6\n",
      "No action is required at this time\n"
     ]
    }
   ],
   "source": [
    "start = float(input(\"Enter a starting yearly account balance: \"))\n",
    "end = float(input(\"Enter an ending yearly account balance: \"))\n",
    "percent_change = ((end - start) / start) * 100\n",
    "\n",
    "if percent_change > 20:\n",
    "    print(f\"The account balance has increased by {percent_change:.4f}%.\")\n",
    "elif percent_change < -10:\n",
    "    print(f\"The account balance has decreased by {abs(percent_change):.4f}%.\")\n",
    "else:\n",
    "  print(\"No action is required at this time\")\n",
    "\n",
    "\n",
    "# if end > 1.2*start:\n",
    "#   print(\"The account balance has increased by\", (end-start)/start*100, \"%\")\n",
    "# elif end < 0.9*start:\n",
    "#   print(\"The account balance has decreased by\", (start-end)/start*100, \"%\")\n",
    "# else:\n",
    "#   print(\"No action is required at this time\")"
   ]
  },
  {
   "cell_type": "markdown",
   "metadata": {
    "id": "X-_IW6pJ9WdL"
   },
   "source": [
    "### Exercise: Stock Decisions\n",
    "Write a program to take in two inputs -- the purchase price of a stock and the current price.  If the current price is less than 90% of the purchase price, print \"sell the stock to stop loss, you have lost (amount) dollars\".  If the current price is more than 20% higher than the than the purchase price, print \"sell the stock to make a profit, you have lost (amount) dollars\".  Otherwise print, \"no action is required.\"   "
   ]
  },
  {
   "cell_type": "code",
   "execution_count": null,
   "metadata": {
    "colab": {
     "base_uri": "https://localhost:8080/"
    },
    "executionInfo": {
     "elapsed": 10726,
     "status": "ok",
     "timestamp": 1725994971573,
     "user": {
      "displayName": "Khoa Pham",
      "userId": "00006121731400967330"
     },
     "user_tz": 420
    },
    "id": "caioCBWiR48T",
    "outputId": "10251562-4daa-41b7-f360-e627237241d3"
   },
   "outputs": [
    {
     "name": "stdout",
     "output_type": "stream",
     "text": [
      "Enter the purchase price of the stock: 100\n",
      "Enter the current price of the stock: 120.12\n",
      "Sell the stock to make a profit, you have gained 20.12 dollars\n"
     ]
    }
   ],
   "source": [
    "purchase_price = float(input(\"Enter the purchase price of the stock: \"))\n",
    "current_price = float(input(\"Enter the current price of the stock: \"))\n",
    "change = current_price - purchase_price\n",
    "\n",
    "if current_price < 0.9*purchase_price:\n",
    "  print(f\"Sell the stock to stop loss, you have lost {abs(change):.2f} dollars\")\n",
    "elif current_price > 1.2*purchase_price:\n",
    "  print(f\"Sell the stock to make a profit, you have gained {change:.2f} dollars\")\n",
    "else:\n",
    "  print(\"No action is required\")"
   ]
  },
  {
   "cell_type": "markdown",
   "metadata": {
    "id": "ORan_lx-_a4g"
   },
   "source": [
    "### Exercise: Future Values\n",
    "\n",
    "Let's write a somewhat more sophisticated program to calculate the future value of the principal on an investment after 10 years at a given rate (apr).\n",
    "\n",
    "---\n",
    "Inputs:\n",
    "* principal - the amount of money being invested in dollars.\n",
    "* apr - the annual percentage rate expressed as a decimal number.\n",
    "\n",
    "Output: The value of the investment 10 years into the future.\n",
    "\n",
    "Relationship: Value after one year is given by *principal(1+apr)*. This formula needs to be applied 10 times."
   ]
  },
  {
   "cell_type": "code",
   "execution_count": null,
   "metadata": {
    "colab": {
     "base_uri": "https://localhost:8080/"
    },
    "executionInfo": {
     "elapsed": 7111,
     "status": "ok",
     "timestamp": 1725997806782,
     "user": {
      "displayName": "Khoa Pham",
      "userId": "00006121731400967330"
     },
     "user_tz": 420
    },
    "id": "wM2aWzW1ZCpy",
    "outputId": "fd8377a7-8bf2-41a0-e975-fd0a23391ba8"
   },
   "outputs": [
    {
     "name": "stdout",
     "output_type": "stream",
     "text": [
      "Enter the amount of money being invested in dollars: 1000\n",
      "Enter the Annual Percentage Rate(%): 4.5\n",
      "The value of the investment 10 years into the future is $1552.97\n"
     ]
    }
   ],
   "source": [
    "principal = float(input(\"Enter the amount of money being invested in dollars: \"))\n",
    "apr_percent = float(input(\"Enter the Annual Percentage Rate(%): \"))\n",
    "apr = apr_percent/100\n",
    "\n",
    "for i in range(10):\n",
    "  principal *= (1+apr)\n",
    "print(f\"The value of the investment 10 years into the future is ${principal:.2f}\")"
   ]
  },
  {
   "cell_type": "markdown",
   "metadata": {
    "id": "q8A5Q-Jxfp3q"
   },
   "source": [
    "### Exercise: House Prices\n",
    "A house is listed for sale at a price of $360,000. Write a program that takes in a list of offers (integers) and counts the number of offers that are either equal-to/above or below asking price. Print a final statement that communicates how many offers are above asking price and how many are below asking price."
   ]
  },
  {
   "cell_type": "code",
   "execution_count": null,
   "metadata": {
    "colab": {
     "base_uri": "https://localhost:8080/"
    },
    "executionInfo": {
     "elapsed": 181,
     "status": "ok",
     "timestamp": 1725998743376,
     "user": {
      "displayName": "Khoa Pham",
      "userId": "00006121731400967330"
     },
     "user_tz": 420
    },
    "id": "G23gBYNJfpmM",
    "outputId": "954e0aba-5b0d-4717-f6a6-8adc80ca5fbf"
   },
   "outputs": [
    {
     "name": "stdout",
     "output_type": "stream",
     "text": [
      "There are 3 offers that are above asking price and 2 equal, and 4 offers that are below asking price\n"
     ]
    }
   ],
   "source": [
    "asking_price=36000\n",
    "offers=[40000, 32000, 34000, 35000, 37200, 36000, 36999, 35999, 37000]\n",
    "\n",
    "#your code\n",
    "above = 0\n",
    "equal = 0\n",
    "below = 0\n",
    "for i in offers:\n",
    "  if i >= asking_price + 1000:\n",
    "    above = above + 1\n",
    "  elif i >= asking_price and i < asking_price + 1000:\n",
    "    equal = equal + 1\n",
    "  else:\n",
    "    below = below + 1\n",
    "print(\"There are\", above, \"offers that are above asking price and\", equal, \"equal, and\", below, \"offers that are below asking price\")\n"
   ]
  },
  {
   "cell_type": "markdown",
   "metadata": {
    "id": "sHQ5Mll7-pUm"
   },
   "source": [
    "### Exercise: Find the Maximum and Minimum\n",
    "Write an iterative program (for loop) to determine the maximum and minimum value in a list. Do not use the max() and min() function."
   ]
  },
  {
   "cell_type": "code",
   "execution_count": null,
   "metadata": {
    "id": "9Q0TE2EqVBkq"
   },
   "outputs": [],
   "source": [
    "def check_max(lst):\n",
    "  max_num = lst[0]\n",
    "  for i in lst:\n",
    "    if i > max_num:\n",
    "      max_num = i\n",
    "  return max_num"
   ]
  },
  {
   "cell_type": "code",
   "execution_count": null,
   "metadata": {
    "id": "HYtCKWt6V8Sy"
   },
   "outputs": [],
   "source": [
    "def check_min(lst):\n",
    "  min_num = lst[0]\n",
    "  for i in lst:\n",
    "    if i < min_num:\n",
    "      min_num = i\n",
    "  return min_num"
   ]
  },
  {
   "cell_type": "code",
   "execution_count": null,
   "metadata": {
    "colab": {
     "base_uri": "https://localhost:8080/"
    },
    "executionInfo": {
     "elapsed": 300,
     "status": "ok",
     "timestamp": 1725995597009,
     "user": {
      "displayName": "Khoa Pham",
      "userId": "00006121731400967330"
     },
     "user_tz": 420
    },
    "id": "yB20ppowWCvW",
    "outputId": "709d139f-0b03-4715-ad0e-2be49faa9249"
   },
   "outputs": [
    {
     "name": "stdout",
     "output_type": "stream",
     "text": [
      "1000\n",
      "2\n"
     ]
    }
   ],
   "source": [
    "nums = [3, 41, 12, 9, 74, 15, 2, 1000]\n",
    "print(check_max(nums))\n",
    "print(check_min(nums))"
   ]
  }
 ],
 "metadata": {
  "colab": {
   "authorship_tag": "ABX9TyPp0X95o0IVYcnjCxpN1/g1",
   "provenance": []
  },
  "kernelspec": {
   "display_name": "example",
   "language": "python",
   "name": "python3"
  },
  "language_info": {
   "codemirror_mode": {
    "name": "ipython",
    "version": 3
   },
   "file_extension": ".py",
   "mimetype": "text/x-python",
   "name": "python",
   "nbconvert_exporter": "python",
   "pygments_lexer": "ipython3",
   "version": "3.12.7"
  }
 },
 "nbformat": 4,
 "nbformat_minor": 0
}
