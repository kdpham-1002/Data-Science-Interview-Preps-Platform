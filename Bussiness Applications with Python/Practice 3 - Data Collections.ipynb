{
 "cells": [
  {
   "cell_type": "markdown",
   "metadata": {},
   "source": [
    "## Collections\n",
    "> Lists, Dictionaries, Sets, Tuples and Associated Methods\n"
   ]
  },
  {
   "cell_type": "markdown",
   "metadata": {
    "id": "o3M4NrryEhxi"
   },
   "source": [
    "### Set\n",
    "A set is a collection which is unordered and unindexed."
   ]
  },
  {
   "cell_type": "code",
   "execution_count": 17,
   "metadata": {
    "colab": {
     "base_uri": "https://localhost:8080/"
    },
    "executionInfo": {
     "elapsed": 235,
     "status": "ok",
     "timestamp": 1727127453870,
     "user": {
      "displayName": "Khoa Pham",
      "userId": "00006121731400967330"
     },
     "user_tz": 420
    },
    "id": "Ul-2LRNZErPt",
    "outputId": "47e963a4-a125-4276-aebb-5696805262c9"
   },
   "outputs": [
    {
     "name": "stdout",
     "output_type": "stream",
     "text": [
      "Empty Set:  set()\n",
      "{'orange', 'apple', 'banana'}\n",
      "{'orange', 'grapefruit', 'peach', 'apple', 'mango', 'banana'}\n",
      "{'grapefruit', 'peach', 'mango', 'banana'}\n"
     ]
    }
   ],
   "source": [
    "s1 = set()\n",
    "print(\"Empty Set: \", s1)\n",
    "\n",
    "fruit_set = {\"apple\", \"banana\", \"orange\"}\n",
    "print(fruit_set)\n",
    "\n",
    "fruit_set.add(\"peach\")\n",
    "fruit_set.update(['grapefruit', 'mango'])\n",
    "print(fruit_set)\n",
    "fruit_set.remove('apple')\n",
    "fruit_set.discard('orange')\n",
    "fruit_set.discard('apple') # no error when using discard()\n",
    "print(fruit_set)"
   ]
  },
  {
   "cell_type": "code",
   "execution_count": 18,
   "metadata": {
    "colab": {
     "base_uri": "https://localhost:8080/"
    },
    "executionInfo": {
     "elapsed": 210,
     "status": "ok",
     "timestamp": 1727127234436,
     "user": {
      "displayName": "Khoa Pham",
      "userId": "00006121731400967330"
     },
     "user_tz": 420
    },
    "id": "O4WoI2Ynzhlf",
    "outputId": "07ae6ca9-8565-4c40-c735-e6d086720fc9"
   },
   "outputs": [
    {
     "name": "stdout",
     "output_type": "stream",
     "text": [
      "{1, 2, 3, 4, 5, 6, 7}\n"
     ]
    }
   ],
   "source": [
    "def set_partitions(s1, s2):\n",
    "    # Output the elements that are in the two sets without repetitions. Print the result.\n",
    "    union = s1|s2\n",
    "    print(union)\n",
    "\n",
    "# Test data\n",
    "a={1,2,3,4,5}\n",
    "b={4,5,6,7}\n",
    "\n",
    "# run the function\n",
    "set_partitions(a, b)"
   ]
  },
  {
   "cell_type": "markdown",
   "metadata": {
    "id": "dQpsnMi7IQ3K"
   },
   "source": [
    "### Tuple\n",
    "A tuple is a collection which is ordered and unchangeable."
   ]
  },
  {
   "cell_type": "code",
   "execution_count": 19,
   "metadata": {
    "colab": {
     "base_uri": "https://localhost:8080/"
    },
    "executionInfo": {
     "elapsed": 314,
     "status": "ok",
     "timestamp": 1726780508917,
     "user": {
      "displayName": "Khoa Pham",
      "userId": "00006121731400967330"
     },
     "user_tz": 420
    },
    "id": "VnQ4OOSlH0OO",
    "outputId": "413e0981-9693-4c1f-cf48-d43607eaa419"
   },
   "outputs": [
    {
     "name": "stdout",
     "output_type": "stream",
     "text": [
      "()\n",
      "('apple', 'banana', 'cherry')\n",
      "<class 'tuple'>\n",
      "apple\n",
      "cherry\n"
     ]
    }
   ],
   "source": [
    "tt= ()\n",
    "print(tt)\n",
    "tt = (\"apple\", \"banana\", \"cherry\")\n",
    "print(tt)\n",
    "print(type(tt))\n",
    "print(tt[0])\n",
    "print(tt[-1])"
   ]
  },
  {
   "cell_type": "markdown",
   "metadata": {
    "id": "nUeLMo4RVU1d"
   },
   "source": [
    "### List\n"
   ]
  },
  {
   "cell_type": "markdown",
   "metadata": {
    "id": "qxuJil-ni3i7"
   },
   "source": [
    "#### Example: List Methods"
   ]
  },
  {
   "cell_type": "code",
   "execution_count": 20,
   "metadata": {
    "id": "nSw3U7kxVoVn"
   },
   "outputs": [],
   "source": [
    "short_list = ['a','b','c']\n",
    "long_list = [[1,2,3],[4,5,6],[7,8,9]]\n",
    "l=[['a',[1,2,3]],['b',[4,5,6]],['c',[7,8,9]]]"
   ]
  },
  {
   "cell_type": "code",
   "execution_count": 21,
   "metadata": {
    "colab": {
     "base_uri": "https://localhost:8080/"
    },
    "executionInfo": {
     "elapsed": 166,
     "status": "ok",
     "timestamp": 1727128165169,
     "user": {
      "displayName": "Khoa Pham",
      "userId": "00006121731400967330"
     },
     "user_tz": 420
    },
    "id": "PPEvMwQH3Cu8",
    "outputId": "3bccf5e7-2078-4cd4-c1f3-12b03b23a67a"
   },
   "outputs": [
    {
     "name": "stdout",
     "output_type": "stream",
     "text": [
      "return values from a list\n",
      "a\n",
      "c\n",
      "6\n"
     ]
    }
   ],
   "source": [
    "print(\"return values from a list\")\n",
    "# Selecting items from a list\n",
    "print(short_list[0])\n",
    "# Selecting items from a nested list\n",
    "print(l[2][0])\n",
    "print(l[1][1][2])"
   ]
  },
  {
   "cell_type": "code",
   "execution_count": 22,
   "metadata": {
    "colab": {
     "base_uri": "https://localhost:8080/"
    },
    "executionInfo": {
     "elapsed": 177,
     "status": "ok",
     "timestamp": 1727127375406,
     "user": {
      "displayName": "Khoa Pham",
      "userId": "00006121731400967330"
     },
     "user_tz": 420
    },
    "id": "ZzBoiuv9zqxh",
    "outputId": "101378da-1f0d-4590-9430-c9a5ccda7444"
   },
   "outputs": [
    {
     "name": "stdout",
     "output_type": "stream",
     "text": [
      "using append() method\n",
      "['a', 'b', 'c', 'g']\n",
      "[[1, 2, 3], [4, 5, 6], [7, 8, 9], [13, 14, 15]]\n"
     ]
    }
   ],
   "source": [
    "# append() method\n",
    "print('using append() method')\n",
    "short_list.append('g')\n",
    "print(short_list)\n",
    "long_list.append([13,14,15])\n",
    "print(long_list)"
   ]
  },
  {
   "cell_type": "code",
   "execution_count": 23,
   "metadata": {
    "colab": {
     "base_uri": "https://localhost:8080/"
    },
    "executionInfo": {
     "elapsed": 176,
     "status": "ok",
     "timestamp": 1727127377874,
     "user": {
      "displayName": "Khoa Pham",
      "userId": "00006121731400967330"
     },
     "user_tz": 420
    },
    "id": "LMlig401z0JY",
    "outputId": "0584f37b-cddc-4f84-ce1f-1d423eef9027"
   },
   "outputs": [
    {
     "name": "stdout",
     "output_type": "stream",
     "text": [
      "using extend() method\n",
      "['a', 'b', 'c', 'g', 'e', 'f']\n",
      "[[1, 2, 3], [4, 5, 6], [7, 8, 9], [13, 14, 15], 16, 17, 18]\n"
     ]
    }
   ],
   "source": [
    "# extend() method\n",
    "print('using extend() method')\n",
    "short_list.extend(['e','f'])\n",
    "print(short_list)\n",
    "long_list.extend([16,17,18])\n",
    "print(long_list)"
   ]
  },
  {
   "cell_type": "code",
   "execution_count": 24,
   "metadata": {
    "colab": {
     "base_uri": "https://localhost:8080/"
    },
    "executionInfo": {
     "elapsed": 177,
     "status": "ok",
     "timestamp": 1727127380635,
     "user": {
      "displayName": "Khoa Pham",
      "userId": "00006121731400967330"
     },
     "user_tz": 420
    },
    "id": "n-NHOhBjz9U0",
    "outputId": "06fa35dc-f873-4e1f-d058-021b18ce8e91"
   },
   "outputs": [
    {
     "name": "stdout",
     "output_type": "stream",
     "text": [
      "using pop() method\n",
      "['a', 'c', 'g', 'e', 'f']\n",
      "[[1, 2, 3], [4, 5, 6], [7, 8, 9], [13, 14, 15], 16, 17]\n"
     ]
    }
   ],
   "source": [
    "# pop() method\n",
    "print('using pop() method')\n",
    "short_list.pop(1)\n",
    "print(short_list)\n",
    "long_list.pop()\n",
    "print(long_list)\n"
   ]
  },
  {
   "cell_type": "code",
   "execution_count": 25,
   "metadata": {
    "colab": {
     "base_uri": "https://localhost:8080/"
    },
    "executionInfo": {
     "elapsed": 191,
     "status": "ok",
     "timestamp": 1727127382225,
     "user": {
      "displayName": "Khoa Pham",
      "userId": "00006121731400967330"
     },
     "user_tz": 420
    },
    "id": "NSB86Wmc0BIr",
    "outputId": "dd57c47d-97e3-476e-eb36-90bd5012b226"
   },
   "outputs": [
    {
     "name": "stdout",
     "output_type": "stream",
     "text": [
      "using remove() method\n",
      "['a', 'g', 'e', 'f']\n",
      "[[1, 2, 3], [4, 5, 6], [7, 8, 9], 16]\n"
     ]
    }
   ],
   "source": [
    "# remove() method\n",
    "print('using remove() method')\n",
    "short_list.remove('c')\n",
    "print(short_list)\n",
    "long_list.remove([13,14,15])\n",
    "long_list.remove(17)\n",
    "print(long_list)"
   ]
  },
  {
   "cell_type": "markdown",
   "metadata": {
    "id": "W7Pn6KkPcxnu"
   },
   "source": [
    "#### Example: Loop over a Nested List"
   ]
  },
  {
   "cell_type": "code",
   "execution_count": 26,
   "metadata": {
    "id": "5Gu2DKMgc0-_"
   },
   "outputs": [],
   "source": [
    "lst1 =[[1,2,3],[4,5,6],[7,8,9]]"
   ]
  },
  {
   "cell_type": "code",
   "execution_count": 27,
   "metadata": {
    "colab": {
     "base_uri": "https://localhost:8080/"
    },
    "executionInfo": {
     "elapsed": 208,
     "status": "ok",
     "timestamp": 1727128286854,
     "user": {
      "displayName": "Khoa Pham",
      "userId": "00006121731400967330"
     },
     "user_tz": 420
    },
    "id": "7t5IE2KC3iv5",
    "outputId": "e5973248-2a00-419f-b955-ad60e406cbcd"
   },
   "outputs": [
    {
     "name": "stdout",
     "output_type": "stream",
     "text": [
      "looping over elements in a list\n",
      "[1, 2, 3]\n",
      "[4, 5, 6]\n",
      "[7, 8, 9]\n"
     ]
    }
   ],
   "source": [
    "print('looping over elements in a list')\n",
    "for i in lst1:\n",
    "  print(i)"
   ]
  },
  {
   "cell_type": "code",
   "execution_count": 28,
   "metadata": {
    "colab": {
     "base_uri": "https://localhost:8080/"
    },
    "executionInfo": {
     "elapsed": 177,
     "status": "ok",
     "timestamp": 1727128350638,
     "user": {
      "displayName": "Khoa Pham",
      "userId": "00006121731400967330"
     },
     "user_tz": 420
    },
    "id": "sBUXGv4r3rFd",
    "outputId": "9bf3f75f-5c5a-45bc-eb25-fa7d5be5523c"
   },
   "outputs": [
    {
     "name": "stdout",
     "output_type": "stream",
     "text": [
      "looping over elements in a nested list\n",
      "[1, 2, 3, 4, 5, 6, 7, 8, 9]\n"
     ]
    }
   ],
   "source": [
    "print('looping over elements in a nested list')\n",
    "empty = []\n",
    "for i in lst1:\n",
    "  for j in i:\n",
    "    empty.append(j)\n",
    "print(empty)"
   ]
  },
  {
   "cell_type": "code",
   "execution_count": 29,
   "metadata": {
    "colab": {
     "base_uri": "https://localhost:8080/"
    },
    "executionInfo": {
     "elapsed": 204,
     "status": "ok",
     "timestamp": 1727128398882,
     "user": {
      "displayName": "Khoa Pham",
      "userId": "00006121731400967330"
     },
     "user_tz": 420
    },
    "id": "DO1tUmbz3sAF",
    "outputId": "d126bfc7-354e-4556-d0d1-b93516396640"
   },
   "outputs": [
    {
     "name": "stdout",
     "output_type": "stream",
     "text": [
      "using extend() method\n"
     ]
    },
    {
     "data": {
      "text/plain": [
       "[1, 2, 3, 4, 5, 6, 7, 8, 9]"
      ]
     },
     "execution_count": 29,
     "metadata": {},
     "output_type": "execute_result"
    }
   ],
   "source": [
    "print('using extend() method')\n",
    "def destructure(lst):\n",
    "  result = []\n",
    "  for i in lst:\n",
    "    result.extend(i)\n",
    "  return result\n",
    "destructure(lst1)"
   ]
  },
  {
   "cell_type": "markdown",
   "metadata": {
    "id": "xlWr1fQGgH1M"
   },
   "source": [
    "### Exercise: Destructure and Lower"
   ]
  },
  {
   "cell_type": "code",
   "execution_count": 30,
   "metadata": {
    "colab": {
     "base_uri": "https://localhost:8080/"
    },
    "executionInfo": {
     "elapsed": 168,
     "status": "ok",
     "timestamp": 1727128384725,
     "user": {
      "displayName": "Khoa Pham",
      "userId": "00006121731400967330"
     },
     "user_tz": 420
    },
    "id": "cxtmMCluf738",
    "outputId": "8b5879d3-bc01-4416-ac44-5a0c44d34cda"
   },
   "outputs": [
    {
     "name": "stdout",
     "output_type": "stream",
     "text": [
      "SIX\n",
      "['ONE', 'TWO', 'THREE', 'FOUR', 'FIVE', 'SIX', 'SEVEN', 'EIGHT', 'NINE']\n",
      "['one', 'two', 'three', 'four', 'five', 'six', 'seven', 'eight', 'nine']\n"
     ]
    }
   ],
   "source": [
    "def destructure_lower(lst):\n",
    "    # Access the word 'SIX'\n",
    "    print(lst[1][2])\n",
    "\n",
    "    # Destructure the list\n",
    "    result=[]\n",
    "    for i in lst:\n",
    "      result.extend(i)\n",
    "    print(result)\n",
    "\n",
    "    # Change all items to lowercase\n",
    "    lower = []\n",
    "    for i in result:\n",
    "      lower.append(i.lower())\n",
    "    print(lower)\n",
    "\n",
    "\n",
    "l=[['ONE','TWO','THREE'],['FOUR','FIVE','SIX'],['SEVEN','EIGHT','NINE']]\n",
    "destructure_lower(l)"
   ]
  },
  {
   "cell_type": "markdown",
   "metadata": {
    "id": "N4jvD_OhZMAe"
   },
   "source": [
    "### Dictionary\n"
   ]
  },
  {
   "cell_type": "markdown",
   "metadata": {
    "id": "QSXIZRQ2kGOC"
   },
   "source": [
    "#### Example: Dictionary Methods"
   ]
  },
  {
   "cell_type": "code",
   "execution_count": 31,
   "metadata": {
    "id": "nqfeZdV9ZKtc"
   },
   "outputs": [],
   "source": [
    "fruit={\n",
    "    'apple': 1.25,\n",
    "    'orange': .75,\n",
    "    'banana': .50\n",
    "}"
   ]
  },
  {
   "cell_type": "code",
   "execution_count": 32,
   "metadata": {
    "colab": {
     "base_uri": "https://localhost:8080/"
    },
    "executionInfo": {
     "elapsed": 192,
     "status": "ok",
     "timestamp": 1727128191408,
     "user": {
      "displayName": "Khoa Pham",
      "userId": "00006121731400967330"
     },
     "user_tz": 420
    },
    "id": "6VxUh96M3Kgn",
    "outputId": "2441f491-d78d-4a91-9f11-cb0d61189d30"
   },
   "outputs": [
    {
     "name": "stdout",
     "output_type": "stream",
     "text": [
      "return values from a dictionary\n",
      "1.25\n",
      "1.25\n"
     ]
    }
   ],
   "source": [
    "# Use the appropriate method to return the price of an apple.\n",
    "print(\"return values from a dictionary\")\n",
    "print(fruit['apple'])\n",
    "print(fruit.get('apple'))"
   ]
  },
  {
   "cell_type": "code",
   "execution_count": 33,
   "metadata": {
    "colab": {
     "base_uri": "https://localhost:8080/"
    },
    "executionInfo": {
     "elapsed": 206,
     "status": "ok",
     "timestamp": 1727127743858,
     "user": {
      "displayName": "Khoa Pham",
      "userId": "00006121731400967330"
     },
     "user_tz": 420
    },
    "id": "28maRs8E0hS2",
    "outputId": "680c9216-d6fd-4bd0-d7ca-43a5322d3389"
   },
   "outputs": [
    {
     "name": "stdout",
     "output_type": "stream",
     "text": [
      "adding 'pear: 0.95' into dictionary\n",
      "{'apple': 1.25, 'orange': 0.75, 'banana': 0.5, 'pear': 0.95}\n"
     ]
    }
   ],
   "source": [
    "# Add a pear with a price of .95 to the dictionary\n",
    "print(\"adding 'pear: 0.95' into dictionary\")\n",
    "fruit['pear']=.95\n",
    "print(fruit)"
   ]
  },
  {
   "cell_type": "code",
   "execution_count": 34,
   "metadata": {
    "colab": {
     "base_uri": "https://localhost:8080/"
    },
    "executionInfo": {
     "elapsed": 185,
     "status": "ok",
     "timestamp": 1727127744739,
     "user": {
      "displayName": "Khoa Pham",
      "userId": "00006121731400967330"
     },
     "user_tz": 420
    },
    "id": "kiVQUZI60hAa",
    "outputId": "9c115869-361f-448d-98e7-dc98f034b732"
   },
   "outputs": [
    {
     "name": "stdout",
     "output_type": "stream",
     "text": [
      "removing 'banana' and 'orange' from dictionary\n",
      "{'apple': 1.25, 'pear': 0.95}\n"
     ]
    }
   ],
   "source": [
    "# Remove the entry for banana from the dictionary\n",
    "print(\"removing 'banana' and 'orange' from dictionary\")\n",
    "fruit.pop('banana')\n",
    "del(fruit['orange'])\n",
    "print(fruit)"
   ]
  },
  {
   "cell_type": "code",
   "execution_count": 35,
   "metadata": {
    "colab": {
     "base_uri": "https://localhost:8080/"
    },
    "executionInfo": {
     "elapsed": 206,
     "status": "ok",
     "timestamp": 1727128243340,
     "user": {
      "displayName": "Khoa Pham",
      "userId": "00006121731400967330"
     },
     "user_tz": 420
    },
    "id": "wbVuY1_L0gz8",
    "outputId": "53fd6aa1-3abe-41aa-bb06-3be3e577c555"
   },
   "outputs": [
    {
     "name": "stdout",
     "output_type": "stream",
     "text": [
      "dict_keys(['apple', 'pear'])\n",
      "apple\n",
      "pear\n",
      "['apple', 'pear']\n"
     ]
    }
   ],
   "source": [
    "# Return all the keys for the inventory dictionary\n",
    "print(fruit.keys())\n",
    "# or use iteration\n",
    "for i in fruit:\n",
    "  print(i)\n",
    "\n",
    "k=[]\n",
    "for i in fruit:\n",
    "    k.append(i)\n",
    "print(k)"
   ]
  },
  {
   "cell_type": "code",
   "execution_count": 36,
   "metadata": {
    "colab": {
     "base_uri": "https://localhost:8080/"
    },
    "executionInfo": {
     "elapsed": 191,
     "status": "ok",
     "timestamp": 1727128264664,
     "user": {
      "displayName": "Khoa Pham",
      "userId": "00006121731400967330"
     },
     "user_tz": 420
    },
    "id": "OMB290QB3XtB",
    "outputId": "f339d5e1-8f0f-4cb7-a24f-e9f471fda396"
   },
   "outputs": [
    {
     "name": "stdout",
     "output_type": "stream",
     "text": [
      "dict_values([1.25, 0.95])\n",
      "1.25\n",
      "0.95\n",
      "[1.25, 0.95]\n"
     ]
    }
   ],
   "source": [
    "# Return all the values for the inventory dictionary\n",
    "print(fruit.values())\n",
    "# or use iteration\n",
    "for i in fruit:\n",
    "  print(fruit[i])\n",
    "\n",
    "v=[]\n",
    "for i in fruit:\n",
    "    v.append(fruit[i])\n",
    "print(v)"
   ]
  },
  {
   "cell_type": "code",
   "execution_count": 37,
   "metadata": {
    "colab": {
     "base_uri": "https://localhost:8080/"
    },
    "executionInfo": {
     "elapsed": 184,
     "status": "ok",
     "timestamp": 1727128265906,
     "user": {
      "displayName": "Khoa Pham",
      "userId": "00006121731400967330"
     },
     "user_tz": 420
    },
    "id": "GpJFV2TR0gqW",
    "outputId": "8631ff5c-bb27-48e2-846e-b773ab485338"
   },
   "outputs": [
    {
     "name": "stdout",
     "output_type": "stream",
     "text": [
      "Yes, 'apple' is in this collection!\n"
     ]
    }
   ],
   "source": [
    "# Check if 'apple' is in the collection\n",
    "if 'apple' in fruit:\n",
    "  print(\"Yes, 'apple' is in this collection!\")\n",
    "else:\n",
    "  print(\"No, 'apple' is not in this collection!\")"
   ]
  },
  {
   "cell_type": "markdown",
   "metadata": {
    "id": "3OE-0E0_q_VD"
   },
   "source": [
    "#### Example: Looping over a Dictionary"
   ]
  },
  {
   "cell_type": "code",
   "execution_count": 38,
   "metadata": {
    "executionInfo": {
     "elapsed": 230,
     "status": "ok",
     "timestamp": 1728350005770,
     "user": {
      "displayName": "Khoa Pham",
      "userId": "00006121731400967330"
     },
     "user_tz": 420
    },
    "id": "5IrtuOUms6r_"
   },
   "outputs": [],
   "source": [
    "mca = {\n",
    "    'AAPL':538.7,\n",
    "    'GOOG':68.7,\n",
    "    'IONS':4.6\n",
    "}"
   ]
  },
  {
   "cell_type": "code",
   "execution_count": 39,
   "metadata": {
    "colab": {
     "base_uri": "https://localhost:8080/"
    },
    "executionInfo": {
     "elapsed": 279,
     "status": "ok",
     "timestamp": 1728350007768,
     "user": {
      "displayName": "Khoa Pham",
      "userId": "00006121731400967330"
     },
     "user_tz": 420
    },
    "id": "o6SNBrIa4Fnj",
    "outputId": "f6ea858f-678f-4941-8e53-e577cfc29965"
   },
   "outputs": [
    {
     "name": "stdout",
     "output_type": "stream",
     "text": [
      "accessing all keys\n",
      "AAPL\n",
      "GOOG\n",
      "IONS\n"
     ]
    }
   ],
   "source": [
    "print('accessing all keys')\n",
    "for key in mca:\n",
    "    print(key)"
   ]
  },
  {
   "cell_type": "code",
   "execution_count": 40,
   "metadata": {
    "colab": {
     "base_uri": "https://localhost:8080/"
    },
    "executionInfo": {
     "elapsed": 224,
     "status": "ok",
     "timestamp": 1728350011592,
     "user": {
      "displayName": "Khoa Pham",
      "userId": "00006121731400967330"
     },
     "user_tz": 420
    },
    "id": "Qx44n4bf4Fhy",
    "outputId": "e1bed8b2-136f-42d9-c7dc-d910c3429143"
   },
   "outputs": [
    {
     "name": "stdout",
     "output_type": "stream",
     "text": [
      "accessing all values\n",
      "538.7\n",
      "68.7\n",
      "4.6\n"
     ]
    }
   ],
   "source": [
    "print('accessing all values')\n",
    "for key in mca:\n",
    "    print(mca[key])"
   ]
  },
  {
   "cell_type": "code",
   "execution_count": 41,
   "metadata": {
    "colab": {
     "base_uri": "https://localhost:8080/"
    },
    "executionInfo": {
     "elapsed": 222,
     "status": "ok",
     "timestamp": 1728350014310,
     "user": {
      "displayName": "Khoa Pham",
      "userId": "00006121731400967330"
     },
     "user_tz": 420
    },
    "id": "p5SmeYKt4FZH",
    "outputId": "e41c9cd9-1900-462c-b37a-efa74b3eb6d4"
   },
   "outputs": [
    {
     "name": "stdout",
     "output_type": "stream",
     "text": [
      "another way to access keys and values\n",
      "('AAPL', 538.7)\n",
      "('GOOG', 68.7)\n",
      "('IONS', 4.6)\n"
     ]
    }
   ],
   "source": [
    "print('another way to access keys and values')\n",
    "for i in mca.items():\n",
    "    print(i)\n",
    "    # print(type(i))"
   ]
  },
  {
   "cell_type": "code",
   "execution_count": 42,
   "metadata": {
    "colab": {
     "base_uri": "https://localhost:8080/"
    },
    "executionInfo": {
     "elapsed": 264,
     "status": "ok",
     "timestamp": 1728350019302,
     "user": {
      "displayName": "Khoa Pham",
      "userId": "00006121731400967330"
     },
     "user_tz": 420
    },
    "id": "fh5da5p84Eyo",
    "outputId": "7010c00b-8a29-4050-b211-84a0c28c160c"
   },
   "outputs": [
    {
     "name": "stdout",
     "output_type": "stream",
     "text": [
      "accessing the keys by indices in the tuples\n",
      "['AAPL', 'GOOG', 'IONS']\n"
     ]
    }
   ],
   "source": [
    "print('accessing the keys by indices in the tuples')\n",
    "lk=[]\n",
    "for k in mca.items():\n",
    "    # print(k[0])\n",
    "    lk.append(k[0])\n",
    "print(lk)"
   ]
  },
  {
   "cell_type": "code",
   "execution_count": 43,
   "metadata": {
    "colab": {
     "base_uri": "https://localhost:8080/"
    },
    "executionInfo": {
     "elapsed": 245,
     "status": "ok",
     "timestamp": 1728350030287,
     "user": {
      "displayName": "Khoa Pham",
      "userId": "00006121731400967330"
     },
     "user_tz": 420
    },
    "id": "X4vu_Xsk4ET5",
    "outputId": "c174c77e-27ea-4a66-bd1e-2431da583d04"
   },
   "outputs": [
    {
     "name": "stdout",
     "output_type": "stream",
     "text": [
      "accessing the values by indices in tuples\n",
      "[538.7, 68.7, 4.6]\n"
     ]
    }
   ],
   "source": [
    "print('accessing the values by indices in tuples')\n",
    "lv=[]\n",
    "for v in mca.items():\n",
    "    # print(v[1])\n",
    "    lv.append(v[1])\n",
    "print(lv)"
   ]
  },
  {
   "cell_type": "markdown",
   "metadata": {
    "id": "bJonqLJzyB82"
   },
   "source": [
    "#### Example: Collecting Data"
   ]
  },
  {
   "cell_type": "code",
   "execution_count": 44,
   "metadata": {
    "id": "YM0IaOB1x8sH"
   },
   "outputs": [],
   "source": [
    "vals = {\n",
    "    'AAPL':[538.7, 531.5, 536.4],\n",
    "    'GOOG':[67.1, 68.7, 68.6],\n",
    "    'IONS':[4.6, 4.6, 4.4]\n",
    "}"
   ]
  },
  {
   "cell_type": "code",
   "execution_count": 45,
   "metadata": {
    "colab": {
     "base_uri": "https://localhost:8080/"
    },
    "executionInfo": {
     "elapsed": 221,
     "status": "ok",
     "timestamp": 1727128853740,
     "user": {
      "displayName": "Khoa Pham",
      "userId": "00006121731400967330"
     },
     "user_tz": 420
    },
    "id": "qBGAzUBL5r6K",
    "outputId": "d7861426-0f6f-4796-e9f4-97b0610c8ea4"
   },
   "outputs": [
    {
     "name": "stdout",
     "output_type": "stream",
     "text": [
      "[538.7, 531.5, 536.4, 67.1, 68.7, 68.6, 4.6, 4.6, 4.4]\n"
     ]
    }
   ],
   "source": [
    "results=[]\n",
    "for i in vals:\n",
    "    results.extend(vals[i])\n",
    "print(results)"
   ]
  },
  {
   "cell_type": "code",
   "execution_count": 46,
   "metadata": {
    "colab": {
     "base_uri": "https://localhost:8080/"
    },
    "executionInfo": {
     "elapsed": 196,
     "status": "ok",
     "timestamp": 1727128870941,
     "user": {
      "displayName": "Khoa Pham",
      "userId": "00006121731400967330"
     },
     "user_tz": 420
    },
    "id": "Rn23krhR5xRp",
    "outputId": "6886fc06-8d41-4b69-be39-c8b2221d8f46"
   },
   "outputs": [
    {
     "name": "stdout",
     "output_type": "stream",
     "text": [
      "202.73333333333335\n",
      "[535.53, 68.13, 4.53]\n",
      "<class 'list'>\n"
     ]
    }
   ],
   "source": [
    "from numpy import mean\n",
    "print(mean(results))\n",
    "\n",
    "def find_mean(lst):\n",
    "  mean_lst = []\n",
    "  for i in lst:\n",
    "    m = mean(lst[i])\n",
    "    mean_lst.append(round(m,2))\n",
    "  return mean_lst\n",
    "\n",
    "print(find_mean(vals))\n",
    "print(type(find_mean(vals)))"
   ]
  },
  {
   "cell_type": "markdown",
   "metadata": {
    "id": "3HtcQvZYXRe6"
   },
   "source": [
    "### Exercise: Word Order Reversal\n",
    "\n",
    "Write a function called word_reverse() that asks the user for a long string containing multiple words. Print back to the user the same string, except with the words in backwards order. For example, say I type the string:\n",
    "'My name is Michele'\n",
    "Then I would see the string:\n",
    "'Michele is name My'\n",
    "shown back to me."
   ]
  },
  {
   "cell_type": "code",
   "execution_count": 47,
   "metadata": {
    "colab": {
     "base_uri": "https://localhost:8080/"
    },
    "executionInfo": {
     "elapsed": 217,
     "status": "ok",
     "timestamp": 1726801775442,
     "user": {
      "displayName": "Khoa Pham",
      "userId": "00006121731400967330"
     },
     "user_tz": 420
    },
    "id": "tSUbQw8KZ50S",
    "outputId": "711ccfe4-a09c-427b-d6a3-a7cebc9532a3"
   },
   "outputs": [
    {
     "name": "stdout",
     "output_type": "stream",
     "text": [
      "Shady Slim am I\n"
     ]
    }
   ],
   "source": [
    "def reverse(str):\n",
    "    print(' '.join(str.split()[::-1]))\n",
    "\n",
    "a = \"I am Slim Shady\"\n",
    "reverse(a)"
   ]
  },
  {
   "cell_type": "code",
   "execution_count": 48,
   "metadata": {
    "colab": {
     "base_uri": "https://localhost:8080/"
    },
    "executionInfo": {
     "elapsed": 182,
     "status": "ok",
     "timestamp": 1726801777201,
     "user": {
      "displayName": "Khoa Pham",
      "userId": "00006121731400967330"
     },
     "user_tz": 420
    },
    "id": "OZoKFWjXZ_YZ",
    "outputId": "f7636105-d48f-4672-c378-5ff4aba164f0"
   },
   "outputs": [
    {
     "name": "stdout",
     "output_type": "stream",
     "text": [
      "Shady Slim am I\n"
     ]
    }
   ],
   "source": [
    "def reverse(str):\n",
    "    stack = str.split()\n",
    "    result = []\n",
    "    while stack:\n",
    "        result.append(stack.pop())\n",
    "    print(' '.join(result))\n",
    "\n",
    "a = \"I am Slim Shady\"\n",
    "reverse(a)"
   ]
  },
  {
   "cell_type": "code",
   "execution_count": 49,
   "metadata": {
    "colab": {
     "base_uri": "https://localhost:8080/"
    },
    "executionInfo": {
     "elapsed": 212,
     "status": "ok",
     "timestamp": 1726801780116,
     "user": {
      "displayName": "Khoa Pham",
      "userId": "00006121731400967330"
     },
     "user_tz": 420
    },
    "id": "lqkB1KdhXOac",
    "outputId": "e4dd924f-5d91-4acf-df79-0e2e6160f352"
   },
   "outputs": [
    {
     "name": "stdout",
     "output_type": "stream",
     "text": [
      "Shady Slim am I\n"
     ]
    }
   ],
   "source": [
    "def reverse(str):\n",
    "  x = str.split()\n",
    "  z = []\n",
    "  for i in x:\n",
    "    z.insert(0,i)\n",
    "  print(' '.join(z))\n",
    "\n",
    "\n",
    "a = \"I am Slim Shady\"\n",
    "reverse(a)"
   ]
  },
  {
   "cell_type": "markdown",
   "metadata": {
    "id": "LdEcwDz_wNPu"
   },
   "source": [
    "#### Example: Slicing and Reversing"
   ]
  },
  {
   "cell_type": "code",
   "execution_count": 50,
   "metadata": {
    "id": "XcyDBuqdwKs_"
   },
   "outputs": [
    {
     "name": "stdout",
     "output_type": "stream",
     "text": [
      "gfedc\n",
      "gfedc\n"
     ]
    }
   ],
   "source": [
    "my_string = \"abcdefgh\"\n",
    "# Reversing only a part of the string\n",
    "print(my_string[2:7][::-1])\n",
    "print(my_string[6:1:-1])"
   ]
  },
  {
   "cell_type": "markdown",
   "metadata": {
    "id": "XcSrdY-CaS-S"
   },
   "source": [
    "### Exercise: Insurance Policy\n",
    "Suppose your apartment was burglarized. The insurance guy calls to discuss your policy, which is limited to cover a particular maximum in losses (for example, $50,000). You calculate the bill for the difference you lost.\n",
    "Given an dictionary of the stolen items and a limit, return the difference between the total value of those items and the limit of the policy. Name the function calc_diff().\n",
    "\n",
    "Notes: The dictionary data always contains at least an item (no empty objects). The sum of the items is always greater than the limit."
   ]
  },
  {
   "cell_type": "code",
   "execution_count": 51,
   "metadata": {
    "id": "qEpRlKQRad-E"
   },
   "outputs": [],
   "source": [
    "def calc_diff(d, lim):\n",
    "  total = 0\n",
    "  for i in d:\n",
    "    total = total + d[i]\n",
    "  return total - lim"
   ]
  },
  {
   "cell_type": "code",
   "execution_count": 52,
   "metadata": {
    "colab": {
     "base_uri": "https://localhost:8080/"
    },
    "executionInfo": {
     "elapsed": 182,
     "status": "ok",
     "timestamp": 1726802473959,
     "user": {
      "displayName": "Khoa Pham",
      "userId": "00006121731400967330"
     },
     "user_tz": 420
    },
    "id": "IMc816XcK6bx",
    "outputId": "134c4a70-7d51-4207-fe7b-e103d86499a0"
   },
   "outputs": [
    {
     "data": {
      "text/plain": [
       "29"
      ]
     },
     "execution_count": 52,
     "metadata": {},
     "output_type": "execute_result"
    }
   ],
   "source": [
    "# Test 1\n",
    "d1={\"skate\": 10, \"painting\": 20, \"computer\": 899 }\n",
    "lim1=900\n",
    "calc_diff(d1, lim1) # 29"
   ]
  },
  {
   "cell_type": "code",
   "execution_count": 53,
   "metadata": {
    "colab": {
     "base_uri": "https://localhost:8080/"
    },
    "executionInfo": {
     "elapsed": 221,
     "status": "ok",
     "timestamp": 1726802478948,
     "user": {
      "displayName": "Khoa Pham",
      "userId": "00006121731400967330"
     },
     "user_tz": 420
    },
    "id": "jsehVSpYK7rH",
    "outputId": "e260870d-2cd3-49d7-bbd4-4873fafce794"
   },
   "outputs": [
    {
     "data": {
      "text/plain": [
       "11"
      ]
     },
     "execution_count": 53,
     "metadata": {},
     "output_type": "execute_result"
    }
   ],
   "source": [
    "# Test 2\n",
    "d2={\"skate\": 10, \"painting\": 20 }\n",
    "lim2=19\n",
    "calc_diff(d2,lim2) # 11"
   ]
  },
  {
   "cell_type": "code",
   "execution_count": 54,
   "metadata": {
    "colab": {
     "base_uri": "https://localhost:8080/"
    },
    "executionInfo": {
     "elapsed": 220,
     "status": "ok",
     "timestamp": 1727126406712,
     "user": {
      "displayName": "Khoa Pham",
      "userId": "00006121731400967330"
     },
     "user_tz": 420
    },
    "id": "FEVkd4mWK-fg",
    "outputId": "07e9ca2a-3270-4acd-8c49-5fb6ec294944"
   },
   "outputs": [
    {
     "data": {
      "text/plain": [
       "51"
      ]
     },
     "execution_count": 54,
     "metadata": {},
     "output_type": "execute_result"
    }
   ],
   "source": [
    "# Test 3\n",
    "d3={\"skate\": 200, \"painting\": 200, \"shoes\": 1 }\n",
    "lim3=350\n",
    "calc_diff(d3,lim3) # 51"
   ]
  },
  {
   "cell_type": "markdown",
   "metadata": {},
   "source": [
    "## Exercises"
   ]
  },
  {
   "cell_type": "markdown",
   "metadata": {},
   "source": [
    "### Problem 1: List\n"
   ]
  },
  {
   "cell_type": "code",
   "execution_count": 55,
   "metadata": {},
   "outputs": [
    {
     "name": "stdout",
     "output_type": "stream",
     "text": [
      "[]\n",
      "['Monday']\n",
      "['Monday', 'Wednesday', 'Thursday', 'Thursday', 'Friday', 'Saturday', 'Sunday', 'Monday']\n",
      "['Monday', 'Tuesday', 'Wednesday', 'Thursday', 'Thursday', 'Friday', 'Saturday', 'Sunday', 'Monday']\n",
      "['Monday', 'Tuesday', 'Wednesday', 'Thursday', 'Thursday', 'Friday', 'Saturday', 'Sunday']\n",
      "['Monday', 'Tuesday', 'Wednesday', 'Thursday', 'Friday', 'Saturday', 'Sunday']\n"
     ]
    }
   ],
   "source": [
    "def days():\n",
    "    # a. Create an empty. Print the result.\n",
    "    lst=[]\n",
    "    print(lst)\n",
    "\n",
    "    # b. Add string element \"Monday\" to list 'lst'.\n",
    "    lst.append(\"Monday\")\n",
    "    print(lst)\n",
    "\n",
    "    # c. Add string elements \"Wednesday\", \"Thursday\", \"Thursday\", \"Friday\", \"Saturday\", \"Sunday\", \"Monday\" into list 'lst' using one line of code.\n",
    "    lst.extend([\"Wednesday\", \"Thursday\", \"Thursday\", \"Friday\", \"Saturday\", \"Sunday\", \"Monday\"])\n",
    "    print(lst)\n",
    "\n",
    "    # d. Insert the element \"Tuesday\" at the appropriate location in the list so that the days of the week are in order. Print the result.\n",
    "    lst.insert(1, \"Tuesday\")\n",
    "    print(lst)\n",
    "\n",
    "    # e. Remove the last item in the list. Print the result.\n",
    "    lst.pop()\n",
    "    print(lst)\n",
    "\n",
    "    # f. Remove the extra \"Thursday\" from the list. Print the result.\n",
    "    lst.remove(\"Thursday\")\n",
    "    print(lst)\n",
    "\n",
    "\n",
    "days()"
   ]
  },
  {
   "cell_type": "markdown",
   "metadata": {},
   "source": [
    "### Problem 2: Dictionary\n"
   ]
  },
  {
   "cell_type": "code",
   "execution_count": 56,
   "metadata": {},
   "outputs": [
    {
     "name": "stdout",
     "output_type": "stream",
     "text": [
      "30\n",
      "['January', 'February', 'March', 'April', 'May', 'June', 'July', 'August', 'September', 'October', 'November']\n",
      "[31, 28, 31, 30, 31, 30, 31, 31, 30, 31, 30]\n",
      "11\n",
      "{'January': 31, 'February': 28, 'March': 31, 'April': 30, 'May': 31, 'June': 30, 'July': 31, 'August': 31, 'September': 30, 'October': 31, 'November': 30, 'December': 31}\n"
     ]
    }
   ],
   "source": [
    "def months_dict(dct):\n",
    "    # a. Show how to access the value for a specified key, use June for an example. Print the result.\n",
    "    print(dct[\"June\"])\n",
    "\n",
    "    # b. Print all of the keys for the dictionary without using the .keys() method. Store the keys in a list. Print the result.\n",
    "    k = []\n",
    "    for key in dct:\n",
    "        k.append(key)\n",
    "    print(k)\n",
    "\n",
    "    # c. Print all of the values for the dictionary without using the .values() method. Store the values in a list. Print the result.\n",
    "    v = []\n",
    "    for value in dct:\n",
    "        v.append(dct[value])\n",
    "    print(v)\n",
    "\n",
    "    # d. Find how many items (key:value pairs) are in the dictionary. Print the result.\n",
    "    print(len(dct))\n",
    "\n",
    "    # e. Add a new key value pair, \"December\":31, to the dictionary. Print the result.\n",
    "    dct[\"December\"] = 31\n",
    "    print(dct)\n",
    "\n",
    "\n",
    "months = {\n",
    "    \"January\": 31,\n",
    "    \"February\": 28,\n",
    "    \"March\": 31,\n",
    "    \"April\": 30,\n",
    "    \"May\": 31,\n",
    "    \"June\": 30,\n",
    "    \"July\": 31,\n",
    "    \"August\": 31,\n",
    "    \"September\": 30,\n",
    "    \"October\": 31,\n",
    "    \"November\": 30,\n",
    "}\n",
    "\n",
    "months_dict(months)"
   ]
  },
  {
   "cell_type": "markdown",
   "metadata": {},
   "source": [
    "### Problem 3: Set"
   ]
  },
  {
   "cell_type": "code",
   "execution_count": 57,
   "metadata": {},
   "outputs": [
    {
     "name": "stdout",
     "output_type": "stream",
     "text": [
      "set() <class 'set'>\n",
      "{1, 2, 3, 4, 5}\n",
      "{1, 2, 3, 4, 5, 6}\n",
      "{1, 2, 3, 4, 5, 6, 7, 8, 9}\n",
      "{1, 2, 3, 4, 5, 7, 8, 9}\n"
     ]
    }
   ],
   "source": [
    "def set_operations():\n",
    "    # a. Create an empty set, print the set and its data type\n",
    "    s = set()\n",
    "    print(s, type(s))\n",
    "\n",
    "    # b. Create a set that contains values 1,2,3,4,5. Print the result.\n",
    "    s = {1, 2, 3, 4, 5}\n",
    "    print(s)\n",
    "\n",
    "    # c. Add the value 6 to the set. Print the result.\n",
    "    s.add(6)\n",
    "    print(s)\n",
    "\n",
    "    # d. Add multiple values 7,8,9 using 1 command to the set. Print the result.\n",
    "    s.update([7, 8, 9])\n",
    "    print(s)\n",
    "\n",
    "    # e. Remove the 6 from the set by referencing the value itself. Print the result.\n",
    "    s.remove(6)\n",
    "    print(s)\n",
    "\n",
    "    # f. Write a comment to explain why it is not possible to discard the 3 from the set by referencing the index.\n",
    "    # You can't discard an element by referencing the index because sets are unordered, meaning they do not have index to reference elements.\n",
    "\n",
    "\n",
    "set_operations()"
   ]
  },
  {
   "cell_type": "markdown",
   "metadata": {},
   "source": [
    "### Problem 4: Set Operations"
   ]
  },
  {
   "cell_type": "code",
   "execution_count": 58,
   "metadata": {},
   "outputs": [
    {
     "name": "stdout",
     "output_type": "stream",
     "text": [
      "{1, 2, 3, 4, 5, 6, 7, 8}\n",
      "{4, 5}\n",
      "{1, 2, 3}\n",
      "{1, 2, 3, 6, 7, 8}\n"
     ]
    }
   ],
   "source": [
    "def partitioning_sets(s1, s2):\n",
    "    # a. Output the elements in s1 and s2 without repetitions. Print the result.\n",
    "    union = s1 | s2\n",
    "    print(union)\n",
    "\n",
    "    # b. Output the values that are common to both sets. Print the result.\n",
    "    interception = s1 & s2\n",
    "    print(interception)\n",
    "\n",
    "    # c. Output the values in set s1 that do not appear in set s2. Print the result.\n",
    "    difference = s1 - s2\n",
    "    print(difference)\n",
    "\n",
    "    # d. Output the values in both sets without the common elements 4, 5. Print the result.\n",
    "    symmetric_diff = s1 ^ s2\n",
    "    print(symmetric_diff)\n",
    "\n",
    "\n",
    "a = {1, 2, 3, 4, 5}\n",
    "b = {4, 5, 6, 7, 8}\n",
    "partitioning_sets(a, b)"
   ]
  },
  {
   "cell_type": "markdown",
   "metadata": {},
   "source": [
    "### Problem 5: Stocks Calculation"
   ]
  },
  {
   "cell_type": "code",
   "execution_count": 59,
   "metadata": {},
   "outputs": [
    {
     "name": "stdout",
     "output_type": "stream",
     "text": [
      "DPBE\n",
      "['TEUCF', 'BBLKF', 'NMM', 'SAIA', 'SALT', 'SB', 'TK', 'NM', 'ERA', 'TCNAF', 'URAL', 'BRSWQ', 'DPBE', 'TOPS', 'GNKWF', 'AIRTW', 'SHIPW']\n",
      "['teucf', 'bblkf', 'nmm', 'saia', 'salt', 'sb', 'tk', 'nm', 'era', 'tcnaf', 'ural', 'brswq', 'dpbe', 'tops', 'gnkwf', 'airtw', 'shipw']\n"
     ]
    }
   ],
   "source": [
    "def stock_calculations(lst):\n",
    "    # a. Identify the symbol 'DPBE' using indexing. Print the result.\n",
    "    print(lst[2][3])\n",
    "\n",
    "    # b. program to destructure the array. Print the result.\n",
    "    dest = []\n",
    "    for i in lst:\n",
    "        dest.extend(i)\n",
    "    print(dest)\n",
    "\n",
    "    # c. Change all of the symbols to lowercase using the .lower() method. Print the result.\n",
    "    lower = []\n",
    "    for i in dest:\n",
    "        lower.append(i.lower())\n",
    "    print(lower)\n",
    "\n",
    "\n",
    "stocks = [\n",
    "    [\"TEUCF\", \"BBLKF\", \"NMM\", \"SAIA\"],\n",
    "    [\"SALT\", \"SB\", \"TK\", \"NM\", \"ERA\"],\n",
    "    [\"TCNAF\", \"URAL\", \"BRSWQ\", \"DPBE\"],\n",
    "    [\"TOPS\", \"GNKWF\", \"AIRTW\", \"SHIPW\"],\n",
    "]\n",
    "\n",
    "stock_calculations(stocks)"
   ]
  },
  {
   "cell_type": "markdown",
   "metadata": {},
   "source": [
    "### Problem 6: Average Stock Value\n",
    "Write a function to calculate the average increase and the average decrease in stock values. **Return** the result as a list."
   ]
  },
  {
   "cell_type": "code",
   "execution_count": 60,
   "metadata": {},
   "outputs": [
    {
     "data": {
      "text/plain": [
       "[757, -66]"
      ]
     },
     "execution_count": 60,
     "metadata": {},
     "output_type": "execute_result"
    }
   ],
   "source": [
    "def avg_stock(data):\n",
    "    from numpy import mean\n",
    "\n",
    "    increase = []\n",
    "    decrease = []\n",
    "    for i in data:\n",
    "        if data[i] >= 0:\n",
    "            increase.append(data[i])\n",
    "        else:\n",
    "            decrease.append(data[i])\n",
    "    round_inc = round(mean(increase))\n",
    "    round_dec = round(mean(decrease))\n",
    "    return [round_inc, round_dec]\n",
    "\n",
    "\n",
    "sd = {\n",
    "    \"TEUCF\": 6352,\n",
    "    \"BBLKF\": 125,\n",
    "    \"NMM\": 57,\n",
    "    \"SAIA\": 53,\n",
    "    \"SALT\": 48,\n",
    "    \"SB\": 46,\n",
    "    \"TK\": 45,\n",
    "    \"NM\": 44,\n",
    "    \"ERA\": 43,\n",
    "    \"TCNAF\": -83,\n",
    "    \"URAL\": -83,\n",
    "    \"BRSWQ\": -80,\n",
    "    \"DPBE\": -70,\n",
    "    \"TOPS\": -59,\n",
    "    \"GNKWF\": -53,\n",
    "    \"AIRTW\": -51,\n",
    "    \"SHIPW\": -46,\n",
    "}\n",
    "avg_stock(sd)"
   ]
  },
  {
   "cell_type": "markdown",
   "metadata": {},
   "source": [
    "### Problem 7: Stock Manipulation"
   ]
  },
  {
   "cell_type": "code",
   "execution_count": 61,
   "metadata": {},
   "outputs": [],
   "source": [
    "def stock_manipulations(d):\n",
    "    # a. Finding max and min\n",
    "    d1 = d.copy()\n",
    "    for i in d1:\n",
    "      d1[i] = max(d[i])\n",
    "    print(d1)\n",
    "\n",
    "    d2 = d.copy()\n",
    "    for i in d2:\n",
    "      d2[i] = min(d[i])\n",
    "    print(d2)\n",
    "\n",
    "    # b. Percent difference\n",
    "    result = []\n",
    "    for i in d:\n",
    "      pd = abs(((max(d[i])-min(d[i]))/min(d[i]))*100)\n",
    "      if pd > 15:\n",
    "        result.append(i)\n",
    "    return(result)"
   ]
  },
  {
   "cell_type": "code",
   "execution_count": 62,
   "metadata": {},
   "outputs": [
    {
     "name": "stdout",
     "output_type": "stream",
     "text": [
      "{'TEUCF': 6352, 'BBLKF': 125, 'NMM': 57, 'SAIA': 53, 'SALT': 49, 'SB': 46, 'TK': 45, 'NM': 44, 'ERA': 43, 'TCNAF': -81, 'URAL': -81, 'BRSWQ': -79, 'DPBE': 68, 'TOPS': -58, 'GNKWF': -52, 'AIRTW': -49, 'SHIPW': -40}\n",
      "{'TEUCF': 6053, 'BBLKF': 109, 'NMM': 50, 'SAIA': 50, 'SALT': 40, 'SB': 39, 'TK': 43, 'NM': 43, 'ERA': 42, 'TCNAF': -83, 'URAL': -83, 'BRSWQ': -81, 'DPBE': -70, 'TOPS': -59, 'GNKWF': -53, 'AIRTW': -51, 'SHIPW': -47}\n"
     ]
    },
    {
     "data": {
      "text/plain": [
       "['SALT', 'SB', 'DPBE']"
      ]
     },
     "execution_count": 62,
     "metadata": {},
     "output_type": "execute_result"
    }
   ],
   "source": [
    "se = {\n",
    "    \"TEUCF\": [6352, 6171, 6053],\n",
    "    \"BBLKF\": [109, 125, 111],\n",
    "    \"NMM\": [52, 50, 57],\n",
    "    \"SAIA\": [52, 53, 50],\n",
    "    \"SALT\": [40, 49, 48],\n",
    "    \"SB\": [39, 46, 46],\n",
    "    \"TK\": [45, 43, 44],\n",
    "    \"NM\": [44, 44, 43],\n",
    "    \"ERA\": [43, 42, 43],\n",
    "    \"TCNAF\": [-83, -81, -83],\n",
    "    \"URAL\": [-83, -82, -81],\n",
    "    \"BRSWQ\": [-80, -81, -79],\n",
    "    \"DPBE\": [68, -70, 67],\n",
    "    \"TOPS\": [-59, -59, -58],\n",
    "    \"GNKWF\": [-53, -52, -53],\n",
    "    \"AIRTW\": [-51, -49, -50],\n",
    "    \"SHIPW\": [-46, -40, -47],\n",
    "}\n",
    "\n",
    "stock_manipulations(se)"
   ]
  }
 ],
 "metadata": {
  "colab": {
   "authorship_tag": "ABX9TyM8mvgA7QIH3zbyDOUVkLzD",
   "provenance": []
  },
  "kernelspec": {
   "display_name": "example",
   "language": "python",
   "name": "python3"
  },
  "language_info": {
   "codemirror_mode": {
    "name": "ipython",
    "version": 3
   },
   "file_extension": ".py",
   "mimetype": "text/x-python",
   "name": "python",
   "nbconvert_exporter": "python",
   "pygments_lexer": "ipython3",
   "version": "3.12.7"
  }
 },
 "nbformat": 4,
 "nbformat_minor": 0
}
