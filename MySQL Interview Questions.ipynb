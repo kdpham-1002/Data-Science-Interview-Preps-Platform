{
 "cells": [
  {
   "cell_type": "markdown",
   "metadata": {},
   "source": [
    "### Q1: UNIQUE records\n",
    "> Q1: How do you select **unique** records from a table?"
   ]
  },
  {
   "cell_type": "markdown",
   "metadata": {},
   "source": [
    "* Using the DISTINCT clause, we can select unique records from a table.\n",
    "* With multiple columns, it considers the combination of values in those columns to determine uniqueness.\n",
    "\n",
    "**For example:**  \n",
    "101 - John  \n",
    "101 - Joe  \n",
    "102 - Jay  "
   ]
  },
  {
   "cell_type": "markdown",
   "metadata": {},
   "source": [
    "### Q2: TABLE vs VIEW\n",
    "\n",
    "> Q2: What is the difference between a **TABLE** and a **VIEW**?"
   ]
  },
  {
   "cell_type": "markdown",
   "metadata": {},
   "source": [
    "* A table stores data (in memory) and can be modified, whereas a view does not store data and cannot be modified directly.\n",
    "* The data in a view is derived from one or more tables and is only accessible through the SELECT statement that defines the view.\n",
    "* A table has its own data, which is stored on disk, while a view is simply a SELECT statement that is run every time the view is queried.\n",
    "\n",
    "**Bonus:** Views can provide a performance benefit by allowing you to create a simplified version of a table or by allowing you to join multiple tables together into a single virtual table. Views can be very helpful when looking at more complex queries that you are going to reuse over and over. You won’t have to rewrite the query or join."
   ]
  },
  {
   "cell_type": "markdown",
   "metadata": {},
   "source": [
    "### Q3: INNER JOIN vs OUTER JOIN\n",
    "\n",
    "> Q3: What is the difference between **INNER JOIN** and **OUTER JOIN**?"
   ]
  },
  {
   "cell_type": "markdown",
   "metadata": {},
   "source": [
    "* An **Inner Join** returns only the rows that have matching values in both tables. It only returns the rows where the join condition is true.\n",
    "\n",
    "* A **Left Join** (Left Outer Join) returns all rows from the left table and the matched rows from the right table. If there is no match, NULL values are\n",
    "returned for the right table's columns.\n",
    "\n",
    "* A **Right Join** (Right Outer Join) returns all rows from the right table and the matched rows from the left table. If there is no match, NULL values are\n",
    "returned for the left table's columns.\n",
    "\n",
    "* A **Full Join** (Full Outer Join) returns all rows from both tables and the matched rows from both tables. If there is no match, NULL values are returned\n",
    "for the non-matching side's columns.\n",
    "\n",
    "Now of course we don't have Full Outer Joins in MySQL, but it is present in other types of SQL so it's worth noting in an interview. This will show your\n",
    "understanding of different types of SQL."
   ]
  },
  {
   "cell_type": "markdown",
   "metadata": {},
   "source": [
    "### Q4: GROUP BY and Aggregate Functions\n",
    "\n",
    "> Q4: How does **GROUP BY** work? What are **aggregate functions**?"
   ]
  },
  {
   "cell_type": "markdown",
   "metadata": {},
   "source": [
    "* Group By is used to group rows in a result set based on one or more columns\n",
    "* Aggregate functions are functions that allow you to perform a calculation on a set of values and return a single value\n",
    "* When these two are combined you can run aggregate functions on grouped rows and perform calculations on all the rows in each group\n",
    "\n",
    "**Bonus:** If you then want to filter on those aggregations, you can use the Having Clause.\n",
    "\n",
    "You can mention the reason we need to use the Having Clause is because of the execution order on the back end of a query. The where clause is run before the Group By so we cannot filter grouped rows until after the Group By. This is why we use Having which comes after Group By."
   ]
  },
  {
   "cell_type": "markdown",
   "metadata": {},
   "source": [
    "### Q5: WHERE vs HAVING\n",
    "\n",
    "> Q5: What is the difference between **WHERE** and **HAVING** in a query?"
   ]
  },
  {
   "cell_type": "markdown",
   "metadata": {},
   "source": [
    "* The WHERE clause is used to filter rows before the group by operation, it filters rows individual records, which results in a smaller set of data.\n",
    "WHERE is used to filter data based on specific conditions, such as column values, data ranges, and null values.\n",
    "* The HAVING clause is used to filter rows after the group by operation. It filters groups of data based on aggregate function values."
   ]
  },
  {
   "cell_type": "markdown",
   "metadata": {},
   "source": [
    "### Q6: CASE Statement\n",
    "\n",
    "> Q6: What is a **CASE** statement?"
   ]
  },
  {
   "cell_type": "markdown",
   "metadata": {},
   "source": [
    "* The CASE Statement allows you to create a logic in the Select statement that performs different actions based on specified conditions.\n",
    "* It is like an if/else statement in most programming languages.\n",
    "* We can use it by saying CASE WHEN. This is where you specify your conditions.\n",
    "* If the conditions are met, we can perform an action by saying THEN and specifying what should happen.\n",
    "* We also have an optional ELSE Statement which executes if none of the WHEN/THEN statements evaluate to True.\n",
    "* END will close out the CASE Statement.\n",
    "\n",
    "**Bonus:** Case Statements are great to use to categorize use or to perform calculations based on specific conditions."
   ]
  },
  {
   "cell_type": "markdown",
   "metadata": {},
   "source": [
    "### Q7: PRIMARY KEY vs FOREIGN KEY\n",
    "\n",
    "> Q7: What is the difference between **PRIMARY KEY** and **FOREIGN KEY**?"
   ]
  },
  {
   "cell_type": "markdown",
   "metadata": {},
   "source": [
    "* Both are types of constraints that are used to define the relationships between tables in a relational database.\n",
    "* A Primary Key is a unique identifier for each row in a table.\n",
    "* A Foreign Key is a column in a table that is used to establish a link between data in two tables.\n",
    "\n",
    "**Bonus:** Foreign keys ensure referential integrity between tables. This means that you cannot insert a row with a foreign key value that does not exist in the primary key table. If a row in the primary key table is deleted or updated, corresponding rows in other tables that have a foreign key relationship with the primary key table are also updated or deleted.\n",
    "You can also mention Data Modeling. Primary and Foreign Keys are used when creating the data schemas and also when modeling data in a database."
   ]
  },
  {
   "cell_type": "markdown",
   "metadata": {},
   "source": [
    "### Q8: JOIN vs UNION \n",
    "\n",
    "> Q8: What is the difference between **JOIN** and **UNION**?"
   ]
  },
  {
   "cell_type": "markdown",
   "metadata": {},
   "source": [
    "* A **JOIN** combines rows from two or more tables based on a related column between them. The related column is usually the primary key of one table, and a foreign key in the other table.\n",
    "* A **UNION** combines a result set of two or more queries (Select Statements).\n",
    "* Joining appends horizontally while using a Union appends vertically. \n",
    " \n",
    "**Bonus:** A UNION by default removes duplicates, but you can use UNION ALL to keep duplicates in the output"
   ]
  },
  {
   "cell_type": "markdown",
   "metadata": {},
   "source": [
    "### Q9: Standardizing Data\n",
    "\n",
    "> Q9: How do you **standardize** data in SQL?"
   ]
  },
  {
   "cell_type": "markdown",
   "metadata": {},
   "source": [
    "* Standardizing data in SQL involves ensuring that data is consistent and conforms to a set of rules or standards.\n",
    "* This is usually done as part of the data cleaning process by removing inaccuracies, inconsistencies, or duplicate data from the data\n",
    "* An example would be if we had several different date formats in a single column. Standardizing the data would be changing them to all be the same format.\n",
    "\n",
    "**Bonus:** Standardization of the data is not a one-time process – it happens over time. It’s also something that’s highly unique to each dataset and how it is standardized depends on the data."
   ]
  },
  {
   "cell_type": "markdown",
   "metadata": {},
   "source": [
    "### Q10: Data Collection Process\n",
    "\n",
    "> Q10: Describe your **Data Collection** process"
   ]
  },
  {
   "cell_type": "markdown",
   "metadata": {},
   "source": [
    "1. Meet with Stakeholders and Data Owners\n",
    "2. Connect to Source data and Extract the data\n",
    "3. Transform the data based on business rules (data cleaning, standardization, etc)\n",
    "4. Load data into a Staging database\n",
    "5. Transfer to Production database\n",
    "\n",
    "**Bonus:** Understanding the data and how it's collected at the source is important to understanding the business rules you'll create to transform the data.\n",
    "Business Rules are the rules that you create in order to transform the data during the ETL Process. Usually Business rules are applied to individual\n",
    "columns, so there are a lot of business rules that are created for each dataset."
   ]
  },
  {
   "cell_type": "markdown",
   "metadata": {},
   "source": [
    "### Q11: Data Cleaning Process\n",
    "\n",
    "> Q11: Describe your **Data Cleaning** process"
   ]
  },
  {
   "cell_type": "markdown",
   "metadata": {},
   "source": [
    "1. Removing duplicate records\n",
    "2. Correcting inaccuracies or inconsistencies in the data\n",
    "3. Removing outliers or incorrect values\n",
    "4. Fixing or removing invalid or missing data\n",
    "5. Standardizing data (such as date or currency format)\n",
    "6. Identifying and removing any errors or inconsistencies in the data\n",
    "7. Merge similar data (merging employee names that are misspelled or inconsistent)\n",
    "\n",
    "**Bonus:** Data Cleaning is a cycle. This means you don't just clean the data once. As new quality issues arise in the data, new business rules need to be\n",
    "created to clean the data further.\n",
    "Knowing how the data is collected at the source is extremely important. This makes all the difference in fully understanding what business rules you may\n",
    "need to create. This is part of having domain knowledge and talking with clients/stakeholders to understand their entire processes."
   ]
  },
  {
   "cell_type": "markdown",
   "metadata": {},
   "source": [
    "### Q12: Query Syntax vs Execution\n",
    "\n",
    "> Q12: Describe how a query is written (Syntax) vs how it is executed?"
   ]
  },
  {
   "cell_type": "markdown",
   "metadata": {},
   "source": [
    "The typical Query is written in this order:\n",
    "\n",
    "`SELECT, FROM, WHERE, GROUP BY, HAVING, ORDER BY, and LIMIT`\n",
    "\n",
    "How it executes on the backend is different, it will usually run in this order:\n",
    "\n",
    "`FROM, WHERE, GROUP BY, HAVING, SELECT, ORDER BY, and LIMIT`\n",
    "\n",
    "The biggest difference is the SELECT Statement in the execution order is much lower. This is why we need a HAVING clause. If we use GROUP BY, we can’t filter on it yet because it hasn’t been grouped in the execution."
   ]
  },
  {
   "cell_type": "markdown",
   "metadata": {},
   "source": [
    "### Q13: Handling NULL values\n",
    "\n",
    "> Q13: How do you handle **NULL** values?"
   ]
  },
  {
   "cell_type": "markdown",
   "metadata": {},
   "source": [
    "How you handle NULL values depends greatly on what you want to do with them and their intended purpose. Here are a few ways to handle NULL Values:\n",
    "1. You can simply filter out NULL values using the IS NULL or IS NOT NULL operators in the WHERE Statement\n",
    "2. Replace NULL values. Depending on the data it may make sense to replace data with “0”s or (Mean or Median) averages of the field\n",
    "3. Use functions to utilize NULL Values like COALESCE, NULLIF, ISNULL, and IFNULL"
   ]
  },
  {
   "cell_type": "markdown",
   "metadata": {},
   "source": [
    "### Q14: Difficult Datasets\n",
    "\n",
    "> Q14: What makes a dataset 'easy' or 'difficult' to work with?"
   ]
  },
  {
   "cell_type": "markdown",
   "metadata": {},
   "source": [
    "* A dataset may be considered easy when the hard work is done upfront. It's cleaned properly, data is standardized, columns are named appropriately,\n",
    "and others factors. These things make it easy to manipulate and drive insights.\n",
    "* A difficult dataset is the opposite. It's not straightforward, relationships between tables have not been defined properly, it's not fully cleaned, and it\n",
    "doesn't have intuitive column names.\n",
    "\n",
    "**Bonus:** Sometimes this is something that needs to be revised in the Data Collection process, but sometimes it's in how the data is created on the client\n",
    "side. This is something a data analyst would need to determine."
   ]
  },
  {
   "cell_type": "markdown",
   "metadata": {},
   "source": [
    "### Q15: Query Optimization\n",
    "\n",
    "> Q15: What do you know about **Query Optimization**?"
   ]
  },
  {
   "cell_type": "markdown",
   "metadata": {},
   "source": [
    "Optimizing a query involves making changes to the query and the database to make it run faster and more efficiently.\n",
    "Ways to optimize queries:\n",
    "1. Use Indexes to provide faster access to the data\n",
    "2. Limit the number of subqueries and joins in a single query and use them wisely.\n",
    "3. Optimize datatypes to only store what you need to store in the most efficient way.\n",
    "4. Use LIMIT and don't use SELECT * to reduce the volume in the output"
   ]
  }
 ],
 "metadata": {
  "language_info": {
   "name": "python"
  }
 },
 "nbformat": 4,
 "nbformat_minor": 2
}
