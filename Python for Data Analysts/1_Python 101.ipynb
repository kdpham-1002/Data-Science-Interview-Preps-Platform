{
 "cells": [
  {
   "cell_type": "markdown",
   "id": "89bbd716",
   "metadata": {},
   "source": [
    "## Math"
   ]
  },
  {
   "cell_type": "code",
   "execution_count": null,
   "id": "9a11833c",
   "metadata": {},
   "outputs": [
    {
     "data": {
      "text/plain": [
       "2"
      ]
     },
     "metadata": {},
     "output_type": "display_data"
    }
   ],
   "source": [
    "10 // 4"
   ]
  },
  {
   "cell_type": "code",
   "execution_count": null,
   "id": "03e03065",
   "metadata": {},
   "outputs": [
    {
     "data": {
      "text/plain": [
       "0"
      ]
     },
     "metadata": {},
     "output_type": "display_data"
    }
   ],
   "source": [
    "4 % 2"
   ]
  },
  {
   "cell_type": "code",
   "execution_count": null,
   "id": "aeed2cd2",
   "metadata": {},
   "outputs": [
    {
     "data": {
      "text/plain": [
       "2"
      ]
     },
     "metadata": {},
     "output_type": "display_data"
    }
   ],
   "source": [
    "5 % 3"
   ]
  },
  {
   "cell_type": "code",
   "execution_count": null,
   "id": "ae2799d9",
   "metadata": {},
   "outputs": [
    {
     "name": "stdout",
     "output_type": "stream",
     "text": [
      "1\n",
      "500\n"
     ]
    }
   ],
   "source": [
    "small = [1, 2, 5]\n",
    "large = [100, 200, 500]\n",
    "\n",
    "print(min(small))\n",
    "print(max(large))"
   ]
  },
  {
   "cell_type": "code",
   "execution_count": null,
   "id": "f2057f24",
   "metadata": {},
   "outputs": [
    {
     "data": {
      "text/plain": [
       "30"
      ]
     },
     "metadata": {},
     "output_type": "display_data"
    }
   ],
   "source": [
    "abs(-30)"
   ]
  },
  {
   "cell_type": "code",
   "execution_count": null,
   "id": "b0de3497",
   "metadata": {},
   "outputs": [
    {
     "data": {
      "text/plain": [
       "16"
      ]
     },
     "metadata": {},
     "output_type": "display_data"
    }
   ],
   "source": [
    "pow(2, 4)"
   ]
  },
  {
   "cell_type": "code",
   "execution_count": null,
   "id": "f26a5545",
   "metadata": {},
   "outputs": [
    {
     "data": {
      "text/plain": [
       "16"
      ]
     },
     "metadata": {},
     "output_type": "display_data"
    }
   ],
   "source": [
    "2**4"
   ]
  },
  {
   "cell_type": "code",
   "execution_count": null,
   "id": "d1a7da80",
   "metadata": {},
   "outputs": [
    {
     "data": {
      "text/plain": [
       "124"
      ]
     },
     "metadata": {},
     "output_type": "display_data"
    }
   ],
   "source": [
    "round(123.856)"
   ]
  },
  {
   "cell_type": "code",
   "execution_count": null,
   "id": "8c177043",
   "metadata": {},
   "outputs": [
    {
     "data": {
      "text/plain": [
       "123.86"
      ]
     },
     "metadata": {},
     "output_type": "display_data"
    }
   ],
   "source": [
    "round(123.856, 2)"
   ]
  },
  {
   "cell_type": "code",
   "execution_count": null,
   "id": "e62884c2",
   "metadata": {},
   "outputs": [],
   "source": [
    "import math"
   ]
  },
  {
   "cell_type": "code",
   "execution_count": null,
   "id": "8d47e792",
   "metadata": {},
   "outputs": [
    {
     "data": {
      "text/plain": [
       "6"
      ]
     },
     "metadata": {},
     "output_type": "display_data"
    }
   ],
   "source": [
    "x = 5.25\n",
    "\n",
    "math.ceil(x)"
   ]
  },
  {
   "cell_type": "code",
   "execution_count": null,
   "id": "5c1d8209",
   "metadata": {},
   "outputs": [
    {
     "data": {
      "text/plain": [
       "5"
      ]
     },
     "metadata": {},
     "output_type": "display_data"
    }
   ],
   "source": [
    "math.floor(x)"
   ]
  },
  {
   "cell_type": "code",
   "execution_count": null,
   "id": "92f84a2b",
   "metadata": {},
   "outputs": [
    {
     "data": {
      "text/plain": [
       "10.0"
      ]
     },
     "metadata": {},
     "output_type": "display_data"
    }
   ],
   "source": [
    "example_list = [1, 2, 3, 4]\n",
    "\n",
    "math.fsum(example_list)"
   ]
  },
  {
   "cell_type": "code",
   "execution_count": null,
   "id": "faaa6cdd",
   "metadata": {},
   "outputs": [
    {
     "data": {
      "text/plain": [
       "9.0"
      ]
     },
     "metadata": {},
     "output_type": "display_data"
    }
   ],
   "source": [
    "math.sqrt(81)"
   ]
  },
  {
   "cell_type": "markdown",
   "id": "e167444b",
   "metadata": {},
   "source": [
    "## Variables\n"
   ]
  },
  {
   "cell_type": "markdown",
   "id": "9f211ea2",
   "metadata": {},
   "source": [
    "### Naming variables\n"
   ]
  },
  {
   "cell_type": "code",
   "execution_count": null,
   "id": "43aec4f6",
   "metadata": {},
   "outputs": [],
   "source": [
    "# Good ways to write variables\n",
    "testvar = \"Vanilla Swirl\"\n",
    "test_var = \"Vanilla Swirl\"\n",
    "_test_var = \"Vanilla Swirl\"\n",
    "testVar = \"Vanilla Swirl\"\n",
    "TestVar = \"Vanilla Swirl\"\n",
    "testVar2 = \"Vanilla Swirl\""
   ]
  },
  {
   "cell_type": "code",
   "execution_count": null,
   "id": "a6a9b0bf",
   "metadata": {},
   "outputs": [
    {
     "ename": "SyntaxError",
     "evalue": "invalid decimal literal (662056805.py, line 2)",
     "output_type": "error",
     "traceback": [
      "\u001b[0;36m  Cell \u001b[0;32mIn[8], line 2\u001b[0;36m\u001b[0m\n",
      "\u001b[0;31m    2testVar = 'Vanilla Swirl'\u001b[0m\n",
      "\u001b[0m    ^\u001b[0m\n",
      "\u001b[0;31mSyntaxError\u001b[0m\u001b[0;31m:\u001b[0m invalid decimal literal\n"
     ]
    }
   ],
   "source": [
    "# Bad ways to write variables\n",
    "\n",
    "# 2testVar = 'Vanilla Swirl'\n",
    "# test-Var2 = 'Vanilla Swirl'\n",
    "# test Var2 = 'Vanilla Swirl'\n",
    "# test,Var2 = 'Vanilla Swirl'"
   ]
  },
  {
   "cell_type": "markdown",
   "id": "334ebfec",
   "metadata": {},
   "source": [
    "### Basic Syntax\n"
   ]
  },
  {
   "cell_type": "code",
   "execution_count": 1,
   "id": "7f297fdf",
   "metadata": {},
   "outputs": [
    {
     "name": "stdout",
     "output_type": "stream",
     "text": [
      "Hello\n",
      "World!\n"
     ]
    }
   ],
   "source": [
    "print(\"Hello\", \"World!\", sep=\"\\n\")"
   ]
  },
  {
   "cell_type": "code",
   "execution_count": 2,
   "id": "eec85054",
   "metadata": {},
   "outputs": [
    {
     "name": "stdout",
     "output_type": "stream",
     "text": [
      "The amount is $1,234.5678\n",
      "The amount is $1,234.57\n"
     ]
    }
   ],
   "source": [
    "amount = 1234.5678\n",
    "print(\"The amount is ${:,}\".format(amount))  # Output: The amount is $1,234.57\n",
    "print(f\"The amount is ${amount:,.2f}\")  # Output: The amount is $1,234.57"
   ]
  },
  {
   "cell_type": "code",
   "execution_count": 3,
   "id": "b6442032",
   "metadata": {},
   "outputs": [
    {
     "name": "stdout",
     "output_type": "stream",
     "text": [
      "Chocolate\n",
      "Vanilla\n",
      "Rocky Road\n"
     ]
    }
   ],
   "source": [
    "# Assign multiple values to multiple variables\n",
    "x, y, z = \"Chocolate\", \"Vanilla\", \"Rocky Road\"\n",
    "\n",
    "print(x)\n",
    "print(y)\n",
    "print(z)"
   ]
  },
  {
   "cell_type": "code",
   "execution_count": 4,
   "id": "599e484b",
   "metadata": {},
   "outputs": [
    {
     "name": "stdout",
     "output_type": "stream",
     "text": [
      "Root Beer Float\n",
      "Root Beer Float\n",
      "Root Beer Float\n"
     ]
    }
   ],
   "source": [
    "# Assign one value to multiple variables\n",
    "x = y = z = \"Root Beer Float\"\n",
    "\n",
    "print(x)\n",
    "print(y)\n",
    "print(z)"
   ]
  },
  {
   "cell_type": "code",
   "execution_count": 5,
   "id": "43d4d3d5",
   "metadata": {},
   "outputs": [
    {
     "name": "stdout",
     "output_type": "stream",
     "text": [
      "Chocolate\n",
      "Vanilla\n",
      "Rocky Road\n"
     ]
    }
   ],
   "source": [
    "ice_cream = [\"Chocolate\", \"Vanilla\", \"Rocky Road\"]\n",
    "x, y, z = ice_cream\n",
    "\n",
    "print(x)\n",
    "print(y)\n",
    "print(z)"
   ]
  },
  {
   "cell_type": "code",
   "execution_count": 6,
   "id": "9cecb6af",
   "metadata": {},
   "outputs": [
    {
     "name": "stdout",
     "output_type": "stream",
     "text": [
      "Ice Cream is my favorite.\n",
      "Ice Cream 2\n"
     ]
    }
   ],
   "source": [
    "x = \"Ice Cream\"\n",
    "y = \" is\"\n",
    "z = \" my favorite.\"\n",
    "print(x + y + z)\n",
    "\n",
    "x = \"Ice Cream\"\n",
    "y = 2\n",
    "print(x, y)"
   ]
  },
  {
   "cell_type": "markdown",
   "id": "4e8d5730",
   "metadata": {},
   "source": [
    "## Data Types\n"
   ]
  },
  {
   "cell_type": "markdown",
   "id": "59ccaaf7",
   "metadata": {},
   "source": [
    "### Strings\n"
   ]
  },
  {
   "cell_type": "code",
   "execution_count": null,
   "id": "04c9898d",
   "metadata": {},
   "outputs": [],
   "source": [
    "multiline = \"\"\"\n",
    "\"That's so great!\" said her sister. \\n\"Yeah it really is!\" said brother\n",
    "\"\"\"\n",
    "print(multiline)"
   ]
  },
  {
   "cell_type": "code",
   "execution_count": null,
   "id": "c6638aff",
   "metadata": {},
   "outputs": [
    {
     "data": {
      "text/plain": [
       "'Hello'"
      ]
     },
     "metadata": {},
     "output_type": "display_data"
    }
   ],
   "source": [
    "\"Hello World!\"[0:5]"
   ]
  },
  {
   "cell_type": "markdown",
   "id": "4f2d17c8",
   "metadata": {},
   "source": [
    "### Lists\n",
    "\n",
    "> Ordered, Mutable, Heterogeneous, Duplicate\n"
   ]
  },
  {
   "cell_type": "markdown",
   "id": "422e64d3",
   "metadata": {},
   "source": [
    "- **Ordered:** Maintain the order of the data insertion.\n",
    "- **Mutable:** List is mutable and we can modify items.\n",
    "- **Heterogeneous:** List can contain data of different types\n",
    "- **Duplicate:** Allows duplicates data\n"
   ]
  },
  {
   "cell_type": "code",
   "execution_count": null,
   "id": "2b2f2a37",
   "metadata": {},
   "outputs": [
    {
     "name": "stdout",
     "output_type": "stream",
     "text": [
      "[1, 'Cat', ['Dog', 2, True]]\n",
      "[1, 'Cat', [20, 2, True], [0, 2], True, False]\n"
     ]
    }
   ],
   "source": [
    "list_1 = [1, \"Cat\", [\"Dog\", 2, True]]\n",
    "print(list_1)\n",
    "\n",
    "list_1[2][0] = 20\n",
    "list_1.append([0, 2])\n",
    "# list_1.extend([0,2])\n",
    "\n",
    "list_2 = [True, False]\n",
    "print(list_1 + list_2)"
   ]
  },
  {
   "cell_type": "markdown",
   "id": "103585d7",
   "metadata": {},
   "source": [
    "### Tuple\n",
    "\n",
    "> Ordered, Immutable, Heterogeneous, Duplicate\n"
   ]
  },
  {
   "cell_type": "code",
   "execution_count": null,
   "id": "69a1af29",
   "metadata": {},
   "outputs": [],
   "source": [
    "tuple_1 = (1, 2, 3, 3)\n",
    "tuple_2 = (4, 5, 6)\n",
    "tuple_3 = tuple_1 + tuple_2\n",
    "\n",
    "print(tuple_3)"
   ]
  },
  {
   "cell_type": "markdown",
   "id": "de697db3",
   "metadata": {},
   "source": [
    "### Sets\n",
    "\n",
    "> Unordered, Mutable, Heterogeneous, Unique\n"
   ]
  },
  {
   "cell_type": "code",
   "execution_count": null,
   "id": "170da846",
   "metadata": {},
   "outputs": [],
   "source": [
    "set_1 = {7, 1, 2, 3, 2, 1, \"Carrot\", \"Carrot\"}\n",
    "print(set_1)"
   ]
  },
  {
   "cell_type": "code",
   "execution_count": null,
   "id": "245594cf",
   "metadata": {},
   "outputs": [],
   "source": [
    "# set_1.update(4)\n",
    "set_1.update([4, 5])\n",
    "print(set_1)"
   ]
  },
  {
   "cell_type": "code",
   "execution_count": null,
   "id": "603ed4b7",
   "metadata": {},
   "outputs": [],
   "source": [
    "set_1.discard(7)\n",
    "# set_1.remove(7)\n",
    "# will get error if it's not there\n",
    "print(set_1)"
   ]
  },
  {
   "cell_type": "code",
   "execution_count": null,
   "id": "960a662a",
   "metadata": {},
   "outputs": [],
   "source": [
    "set_2 = {(1, 2, 3), 1, 2, 3}\n",
    "# but list won't work -> unhashable\n",
    "print(set_2)"
   ]
  },
  {
   "cell_type": "markdown",
   "id": "ec80696b",
   "metadata": {},
   "source": [
    "#### Union (|), Intersection (&), Difference (-), and Symmetric Difference (^)\n"
   ]
  },
  {
   "cell_type": "code",
   "execution_count": null,
   "id": "d14d3fa5",
   "metadata": {},
   "outputs": [],
   "source": [
    "daily_pints_log = {1, 2, 31, 2, 3, 4, 1, 2, 5, 6, 3, 2}\n",
    "wifes_daily_pints_log = {1, 3, 5, 7, 3, 24, 5, 7, 3, 2, 0}"
   ]
  },
  {
   "cell_type": "code",
   "execution_count": null,
   "id": "38a50e6b",
   "metadata": {},
   "outputs": [
    {
     "name": "stdout",
     "output_type": "stream",
     "text": [
      "{0, 1, 2, 3, 4, 5, 6, 7, 24, 31}\n"
     ]
    }
   ],
   "source": [
    "print(daily_pints_log | wifes_daily_pints_log)"
   ]
  },
  {
   "cell_type": "code",
   "execution_count": null,
   "id": "a9f837ee",
   "metadata": {},
   "outputs": [
    {
     "name": "stdout",
     "output_type": "stream",
     "text": [
      "{1, 2, 3, 5}\n"
     ]
    }
   ],
   "source": [
    "print(daily_pints_log & wifes_daily_pints_log)"
   ]
  },
  {
   "cell_type": "code",
   "execution_count": null,
   "id": "300f2193",
   "metadata": {},
   "outputs": [
    {
     "name": "stdout",
     "output_type": "stream",
     "text": [
      "{0, 24, 7}\n"
     ]
    }
   ],
   "source": [
    "print(wifes_daily_pints_log - daily_pints_log)"
   ]
  },
  {
   "cell_type": "code",
   "execution_count": null,
   "id": "0a77195c",
   "metadata": {},
   "outputs": [
    {
     "name": "stdout",
     "output_type": "stream",
     "text": [
      "{0, 4, 6, 7, 24, 31}\n"
     ]
    }
   ],
   "source": [
    "print(wifes_daily_pints_log ^ daily_pints_log)"
   ]
  },
  {
   "cell_type": "markdown",
   "id": "79458d9b",
   "metadata": {},
   "source": [
    "### Dictionary\n",
    "\n",
    "> Ordered, Mutable, Heterogeneous, Unique keys\n"
   ]
  },
  {
   "cell_type": "code",
   "execution_count": null,
   "id": "a4c06535",
   "metadata": {},
   "outputs": [
    {
     "name": "stdout",
     "output_type": "stream",
     "text": [
      "{'name': 'Alex Freberg', 'weekly intake': 5, 'favorite ice creams': ['MCC', 'Chocolate']}\n",
      "Alex Freberg\n"
     ]
    }
   ],
   "source": [
    "# dictionaries\n",
    "# Key/Value Pair\n",
    "\n",
    "dict_cream = {\n",
    "    \"name\": \"Alex Freberg\",\n",
    "    \"weekly intake\": 5,\n",
    "    \"favorite ice creams\": [\"MCC\", \"Chocolate\"],\n",
    "}\n",
    "print(dict_cream)\n",
    "print(dict_cream[\"name\"])"
   ]
  },
  {
   "cell_type": "code",
   "execution_count": null,
   "id": "4fbc9aad",
   "metadata": {},
   "outputs": [
    {
     "name": "stdout",
     "output_type": "stream",
     "text": [
      "dict_values(['Alex Freberg', 5, ['MCC', 'Chocolate']])\n",
      "dict_keys(['name', 'weekly intake', 'favorite ice creams'])\n",
      "dict_items([('name', 'Alex Freberg'), ('weekly intake', 5), ('favorite ice creams', ['MCC', 'Chocolate'])])\n"
     ]
    }
   ],
   "source": [
    "print(dict_cream.values())\n",
    "print(dict_cream.keys())\n",
    "print(dict_cream.items())"
   ]
  },
  {
   "cell_type": "code",
   "execution_count": null,
   "id": "3202cfd0",
   "metadata": {},
   "outputs": [
    {
     "name": "stdout",
     "output_type": "stream",
     "text": [
      "{'name': 'Christine Freberg', 'weekly intake': 10, 'favorite ice creams': ['MCC', 'Chocolate'], 'weight': 300}\n",
      "{'name': 'Christine Freberg', 'weekly intake': 10, 'favorite ice creams': ['MCC', 'Chocolate']}\n"
     ]
    }
   ],
   "source": [
    "dict_cream[\"name\"] = \"Christine Freberg\"\n",
    "dict_cream.update({\"weekly intake\": 10, \"weight\": 300})\n",
    "print(dict_cream)\n",
    "\n",
    "del dict_cream[\"weight\"]\n",
    "print(dict_cream)"
   ]
  },
  {
   "cell_type": "markdown",
   "id": "b5bd2ec7",
   "metadata": {},
   "source": [
    "### Converting Data Types\n"
   ]
  },
  {
   "cell_type": "code",
   "execution_count": null,
   "id": "5eb4b826",
   "metadata": {},
   "outputs": [
    {
     "data": {
      "text/plain": [
       "int"
      ]
     },
     "metadata": {},
     "output_type": "display_data"
    }
   ],
   "source": [
    "num_int = 7\n",
    "num_str = \"7\"\n",
    "nun_str_conv = int(num_str)\n",
    "type(nun_str_conv)"
   ]
  },
  {
   "cell_type": "code",
   "execution_count": null,
   "id": "0ccee65d",
   "metadata": {},
   "outputs": [
    {
     "name": "stdout",
     "output_type": "stream",
     "text": [
      "14\n"
     ]
    }
   ],
   "source": [
    "num_sum = num_int + nun_str_conv\n",
    "print(num_sum)"
   ]
  },
  {
   "cell_type": "code",
   "execution_count": null,
   "id": "86ea38ed",
   "metadata": {},
   "outputs": [
    {
     "data": {
      "text/plain": [
       "list"
      ]
     },
     "metadata": {},
     "output_type": "display_data"
    }
   ],
   "source": [
    "list_type = [1, 2, 3]\n",
    "type(list_type)"
   ]
  },
  {
   "cell_type": "code",
   "execution_count": null,
   "id": "d14db9b7",
   "metadata": {},
   "outputs": [
    {
     "data": {
      "text/plain": [
       "tuple"
      ]
     },
     "metadata": {},
     "output_type": "display_data"
    }
   ],
   "source": [
    "type(tuple(list_type))"
   ]
  },
  {
   "cell_type": "code",
   "execution_count": null,
   "id": "8200cdba",
   "metadata": {},
   "outputs": [
    {
     "data": {
      "text/plain": [
       "set"
      ]
     },
     "metadata": {},
     "output_type": "display_data"
    }
   ],
   "source": [
    "type(set(list_type))"
   ]
  },
  {
   "cell_type": "code",
   "execution_count": null,
   "id": "1fc109f8",
   "metadata": {},
   "outputs": [
    {
     "data": {
      "text/plain": [
       "dict"
      ]
     },
     "metadata": {},
     "output_type": "display_data"
    }
   ],
   "source": [
    "dict_type = {\"name\": \"Alex\", \"age\": 28, \"hair\": \"N/A\"}\n",
    "type(dict_type)"
   ]
  },
  {
   "cell_type": "code",
   "execution_count": null,
   "id": "4253bec7",
   "metadata": {},
   "outputs": [
    {
     "data": {
      "text/plain": [
       "dict_items([('name', 'Alex'), ('age', 28), ('hair', 'N/A')])"
      ]
     },
     "metadata": {},
     "output_type": "display_data"
    }
   ],
   "source": [
    "dict_type.items()"
   ]
  },
  {
   "cell_type": "code",
   "execution_count": null,
   "id": "7e546d9f",
   "metadata": {},
   "outputs": [
    {
     "data": {
      "text/plain": [
       "dict_values(['Alex', 28, 'N/A'])"
      ]
     },
     "metadata": {},
     "output_type": "display_data"
    }
   ],
   "source": [
    "dict_type.values()"
   ]
  },
  {
   "cell_type": "code",
   "execution_count": null,
   "id": "b09a73cc",
   "metadata": {},
   "outputs": [
    {
     "data": {
      "text/plain": [
       "dict_keys(['name', 'age', 'hair'])"
      ]
     },
     "metadata": {},
     "output_type": "display_data"
    }
   ],
   "source": [
    "dict_type.keys()"
   ]
  },
  {
   "cell_type": "code",
   "execution_count": null,
   "id": "45740f31",
   "metadata": {},
   "outputs": [
    {
     "data": {
      "text/plain": [
       "list"
      ]
     },
     "metadata": {},
     "output_type": "display_data"
    }
   ],
   "source": [
    "type(list(dict_type.keys()))"
   ]
  },
  {
   "cell_type": "code",
   "execution_count": null,
   "id": "624a7c97",
   "metadata": {},
   "outputs": [
    {
     "data": {
      "text/plain": [
       "list"
      ]
     },
     "metadata": {},
     "output_type": "display_data"
    }
   ],
   "source": [
    "type(list(dict_type.values()))"
   ]
  },
  {
   "cell_type": "code",
   "execution_count": null,
   "id": "87b7844c",
   "metadata": {},
   "outputs": [
    {
     "data": {
      "text/plain": [
       "{' ', 'I', 'a', 'e', 'i', 'k', 'l', 'o', 'p', 'r', 't', 'y'}"
      ]
     },
     "metadata": {},
     "output_type": "display_data"
    }
   ],
   "source": [
    "long_str = \"I like to party\"\n",
    "set(long_str)"
   ]
  },
  {
   "cell_type": "markdown",
   "id": "8e19d2a5",
   "metadata": {},
   "source": [
    "## Operators\n"
   ]
  },
  {
   "cell_type": "markdown",
   "id": "ba31f49c",
   "metadata": {},
   "source": [
    "### Comparison Operators\n",
    "\n",
    "- == (Equal): If the values of two operands are equal, then the condition becomes true.\n",
    "- != (Not Equal): If values of two operands are not equal, then the condition becomes true.\n",
    "- \\> (Greater Than): If the value of the left operand is greater than the value of the right operand, then the condition becomes true.\n",
    "- < (Less Than): If the value of the left operand is less than the value of the right operand, then the condition becomes true.\n",
    "- \\>= (Greater Than or Equal to): If the value of the left operand is greater than or equal to the value of the right operand, then the condition becomes true.\n",
    "- <= (Less Than or Equal to): If the value of the left operand is less than or equal to the value of the right operand, then the condition becomes true.\n",
    "\n",
    "### Logical Operators\n",
    "\n",
    "- and: If both the operands are true, then the condition becomes true.\n",
    "- or: If any of the two operands are true, then the condition becomes true.\n",
    "- not: Reverses the logical state of the operand.\n"
   ]
  },
  {
   "cell_type": "markdown",
   "id": "b6a20384",
   "metadata": {},
   "source": [
    "### Arithmetic Operators\n",
    "\n",
    "- \\+ (Addition): Adds values on either side of the operator.\n",
    "- \\- (Subtraction): Subtracts the right-hand operand from the left-hand operand.\n",
    "- \\* (Multiplication): Multiplies values on either side of the operator.\n",
    "- / (Division): Divides the left-hand operand by the right-hand operand.\n",
    "- % (Modulus): Returns the remainder of the division of the left-hand operand by the right-hand operand.\n",
    "- \\*\\* (Exponent): Performs exponential (power) calculation on operators.\n",
    "- // (Floor Division): The division of operands where the result is the quotient, and the digits after the decimal point are removed.\n",
    "\n",
    "### Assignment Operators\n",
    "\n",
    "- =: Assigns values from the right side operands to the left side operand.\n",
    "- +=, -=, =, /=, %=, \\*=, //=: These are compound assignment operators that perform an operation and then assign the result to the left operand.\n",
    "  > For example, x += 3 is equivalent to x = x + 3.\n"
   ]
  },
  {
   "cell_type": "markdown",
   "id": "bb3a0607",
   "metadata": {},
   "source": [
    "### Membership Operators\n",
    "\n",
    "- in: Evaluates to true if it finds a variable in the specified sequence and false otherwise.\n",
    "- not in: Evaluates to true if it does not find a variable in the specified sequence and false otherwise.\n",
    "\n",
    "### Identity Operators\n",
    "\n",
    "- is: Evaluates to true if the variables on either side of the operator point to the same object and false otherwise.\n",
    "- is not: Evaluates to false if the variables on either side of the operator point to the same object and true otherwise.\n"
   ]
  },
  {
   "cell_type": "markdown",
   "id": "34b84268",
   "metadata": {},
   "source": [
    "## If-Else Statements\n"
   ]
  },
  {
   "cell_type": "code",
   "execution_count": 1,
   "id": "30d756a9",
   "metadata": {},
   "outputs": [
    {
     "name": "stdout",
     "output_type": "stream",
     "text": [
      "Very Tall\n"
     ]
    }
   ],
   "source": [
    "height = 75\n",
    "\n",
    "if height > 70:\n",
    "    print(\"Very Tall\")\n",
    "elif height > 60:\n",
    "    print(\"Tall\")\n",
    "else:\n",
    "    print(\"Not Tall\")"
   ]
  },
  {
   "cell_type": "code",
   "execution_count": 1,
   "id": "016ff007",
   "metadata": {},
   "outputs": [
    {
     "name": "stdout",
     "output_type": "stream",
     "text": [
      "8.7875\n",
      "Khoa, you are underweight.\n"
     ]
    }
   ],
   "source": [
    "name = \"Khoa\"\n",
    "weight = 45\n",
    "height = 60\n",
    "BMI = (weight * 703) / (height * height)\n",
    "print(BMI)\n",
    "\n",
    "if BMI > 0:\n",
    "    if BMI < 18.5:\n",
    "        print(name + \", you are underweight.\")\n",
    "    elif BMI <= 24.9:\n",
    "        print(name + \", you are normal weight.\")\n",
    "    elif BMI < 29.9:\n",
    "        print(\n",
    "            name\n",
    "            + \", you are overweight. You need to exercise more and stop sitting and writing so many python tutorials.\"\n",
    "        )\n",
    "    elif BMI < 34.9:\n",
    "        print(name + \", you are obese.\")\n",
    "    elif BMI < 39.9:\n",
    "        print(name + \", you are severely obese.\")\n",
    "    else:\n",
    "        print(name + \", you are morbidly obese.\")\n",
    "else:\n",
    "    print(\"Enter valid input\")"
   ]
  },
  {
   "cell_type": "markdown",
   "id": "0060c81e",
   "metadata": {},
   "source": [
    "## While Loops\n"
   ]
  },
  {
   "cell_type": "code",
   "execution_count": 12,
   "id": "332bb378",
   "metadata": {},
   "outputs": [
    {
     "name": "stdout",
     "output_type": "stream",
     "text": [
      "0\n",
      "1\n",
      "2\n",
      "3\n"
     ]
    }
   ],
   "source": [
    "number = 0\n",
    "while number < 5:\n",
    "    print(number)\n",
    "    if number == 3:\n",
    "        break\n",
    "    number = number + 1\n",
    "else:\n",
    "    print(\"No longer < 5\")"
   ]
  },
  {
   "cell_type": "code",
   "execution_count": 8,
   "id": "f4080bee",
   "metadata": {},
   "outputs": [
    {
     "name": "stdout",
     "output_type": "stream",
     "text": [
      "1\n",
      "2\n",
      "4\n",
      "5\n",
      "No longer < 5\n"
     ]
    }
   ],
   "source": [
    "number = 0\n",
    "while number < 5:\n",
    "    number = number + 1\n",
    "    if number == 3:\n",
    "        continue\n",
    "    print(number)\n",
    "else:\n",
    "    print(\"No longer < 5\")"
   ]
  },
  {
   "cell_type": "markdown",
   "id": "05525904",
   "metadata": {},
   "source": [
    "## For Loops\n"
   ]
  },
  {
   "cell_type": "code",
   "execution_count": 5,
   "id": "68829ee7",
   "metadata": {},
   "outputs": [
    {
     "name": "stdout",
     "output_type": "stream",
     "text": [
      "85 Good Grade\n",
      "90 Good Grade\n",
      "60 Bad Grade\n"
     ]
    }
   ],
   "source": [
    "scores = [85, 90, 60]\n",
    "for score in scores:\n",
    "    if score >= 75:\n",
    "        print(score, \"Good Grade\")\n",
    "    else:\n",
    "        print(score, \"Bad Grade\")"
   ]
  },
  {
   "cell_type": "code",
   "execution_count": null,
   "id": "8a1ac4d0",
   "metadata": {},
   "outputs": [
    {
     "name": "stdout",
     "output_type": "stream",
     "text": [
      "name -> Alex Freberg\n",
      "weekly intake -> 5\n",
      "favorite ice creams -> ['MCC', 'Chocolate']\n"
     ]
    }
   ],
   "source": [
    "ice_cream_dict = {\n",
    "    \"name\": \"Alex Freberg\",\n",
    "    \"weekly intake\": 5,\n",
    "    \"favorite ice creams\": [\"MCC\", \"Chocolate\"],\n",
    "}\n",
    "for key, value in ice_cream_dict.items():\n",
    "    print(key, \"->\", value)"
   ]
  },
  {
   "cell_type": "markdown",
   "id": "1a17f500",
   "metadata": {},
   "source": [
    "### Nested For Loops\n"
   ]
  },
  {
   "cell_type": "code",
   "execution_count": 4,
   "id": "eea412c0",
   "metadata": {},
   "outputs": [
    {
     "name": "stdout",
     "output_type": "stream",
     "text": [
      "Vanilla topped with Hot Fudge\n",
      "Vanilla topped with Oreos\n",
      "Vanilla topped with Marshmallows\n",
      "Chocolate topped with Hot Fudge\n",
      "Chocolate topped with Oreos\n",
      "Chocolate topped with Marshmallows\n"
     ]
    }
   ],
   "source": [
    "flavors = [\"Vanilla\", \"Chocolate\"]\n",
    "toppings = [\"Hot Fudge\", \"Oreos\", \"Marshmallows\"]\n",
    "for one in flavors:\n",
    "    for two in toppings:\n",
    "        print(one, \"topped with\", two)"
   ]
  },
  {
   "cell_type": "markdown",
   "id": "4aeb2a49",
   "metadata": {},
   "source": [
    "### List Comprehension\n"
   ]
  },
  {
   "cell_type": "code",
   "execution_count": null,
   "id": "760f85eb",
   "metadata": {},
   "outputs": [
    {
     "name": "stdout",
     "output_type": "stream",
     "text": [
      "['Chocolate', 'Chocolate Fudge', 'Choco Swirl']\n"
     ]
    }
   ],
   "source": [
    "ice_cream = [\"Vanilla\", \"Chocolate\", \"Chocolate Fudge\", \"Strawberry\", \"Choco Swirl\"]\n",
    "chocolate_flavors = []\n",
    "\n",
    "for flavors in ice_cream:\n",
    "    if \"Choco\" in flavors:\n",
    "        chocolate_flavors.append(flavors)\n",
    "\n",
    "print(chocolate_flavors)"
   ]
  },
  {
   "cell_type": "code",
   "execution_count": null,
   "id": "18c95512",
   "metadata": {},
   "outputs": [
    {
     "name": "stdout",
     "output_type": "stream",
     "text": [
      "['Chocolate', 'Chocolate Fudge', 'Choco Swirl']\n"
     ]
    }
   ],
   "source": [
    "ice_cream = [\"Vanilla\", \"Chocolate\", \"Chocolate Fudge\", \"Strawberry\", \"Choco Swirl\"]\n",
    "\n",
    "chocolate_flavors = [flavors for flavors in ice_cream if \"Choco\" in flavors]\n",
    "\n",
    "print(chocolate_flavors)"
   ]
  },
  {
   "cell_type": "code",
   "execution_count": null,
   "id": "86e60bfd",
   "metadata": {},
   "outputs": [
    {
     "name": "stdout",
     "output_type": "stream",
     "text": [
      "[0, 1, 2, 3, 4, 5, 6, 7, 8, 9]\n"
     ]
    }
   ],
   "source": [
    "newlist = [x for x in range(10)]\n",
    "\n",
    "print(newlist)"
   ]
  },
  {
   "cell_type": "code",
   "execution_count": null,
   "id": "131c55a4",
   "metadata": {},
   "outputs": [
    {
     "name": "stdout",
     "output_type": "stream",
     "text": [
      "[0, 4, 16, 36, 64, 100]\n"
     ]
    }
   ],
   "source": [
    "newlist = [x**2 for x in range(11) if x % 2 == 0]\n",
    "\n",
    "print(newlist)"
   ]
  },
  {
   "cell_type": "markdown",
   "id": "159d5e6b",
   "metadata": {},
   "source": [
    "## Functions\n"
   ]
  },
  {
   "cell_type": "code",
   "execution_count": 19,
   "id": "6b5c846b",
   "metadata": {},
   "outputs": [
    {
     "name": "stdout",
     "output_type": "stream",
     "text": [
      "32\n",
      "8\n"
     ]
    }
   ],
   "source": [
    "def number_squared_func2(number, power=3):\n",
    "    # Docstrings\n",
    "    \"\"\"This function squared the number to the power\n",
    "\n",
    "    Args:\n",
    "        number (int): base number\n",
    "        power (int):  defaults to 3\n",
    "    \"\"\"\n",
    "\n",
    "    print(number**power)\n",
    "\n",
    "\n",
    "number_squared_func2(2, 5)\n",
    "number_squared_func2(2)"
   ]
  },
  {
   "cell_type": "markdown",
   "id": "4c88a21e",
   "metadata": {},
   "source": [
    "### Arbitrary arguments\n",
    "\n",
    "> known as varargs or variable-length arguments, allow a function to accept an arbitrary number of arguments. This is useful when you don't know in advance how many arguments will be passed to the function.\n"
   ]
  },
  {
   "cell_type": "code",
   "execution_count": 21,
   "id": "488f6c83",
   "metadata": {},
   "outputs": [
    {
     "name": "stdout",
     "output_type": "stream",
     "text": [
      "50\n"
     ]
    }
   ],
   "source": [
    "def calculate_sum(*args):\n",
    "    total_sum = sum(args)\n",
    "    print(total_sum)\n",
    "\n",
    "\n",
    "calculate_sum(5, 10, 15, 20)"
   ]
  },
  {
   "cell_type": "markdown",
   "id": "810731ff",
   "metadata": {},
   "source": [
    "### Keyword arguments\n",
    "\n",
    "> known as named arguments, allow you to pass arguments to a function using the parameter names. This provides clarity and avoids confusion when calling functions with multiple arguments.\n"
   ]
  },
  {
   "cell_type": "code",
   "execution_count": 20,
   "id": "f85dd54d",
   "metadata": {},
   "outputs": [
    {
     "name": "stdout",
     "output_type": "stream",
     "text": [
      "30\n"
     ]
    }
   ],
   "source": [
    "args_tuple = (5, 6, 1, 2, 8)\n",
    "\n",
    "\n",
    "def number_args(*number):\n",
    "    print(number[0] * number[1])\n",
    "\n",
    "\n",
    "number_args(*args_tuple)"
   ]
  },
  {
   "cell_type": "markdown",
   "id": "55da6c2d",
   "metadata": {},
   "source": [
    "### Arbitrary keyword arguments\n",
    "\n",
    "> known as kwargs (keyword arguments), allow a function to accept an arbitrary number of named arguments. This is useful when you want to provide flexibility and handle various parameters without explicitly defining them.\n"
   ]
  },
  {
   "cell_type": "code",
   "execution_count": 25,
   "id": "9e5c51ea",
   "metadata": {},
   "outputs": [
    {
     "name": "stdout",
     "output_type": "stream",
     "text": [
      "My number is: 2309\n",
      "My other number: 349\n"
     ]
    }
   ],
   "source": [
    "def number_kwarg(**number):\n",
    "    print(\n",
    "        \"My number is: \"\n",
    "        + number[\"integer\"]\n",
    "        + \"\\n\"\n",
    "        + \"My other number: \"\n",
    "        + number[\"integer2\"]\n",
    "    )\n",
    "\n",
    "\n",
    "number_kwarg(integer=\"2309\", integer2=\"349\")"
   ]
  },
  {
   "cell_type": "code",
   "execution_count": 30,
   "id": "a5185d3e",
   "metadata": {},
   "outputs": [
    {
     "name": "stdout",
     "output_type": "stream",
     "text": [
      "Name: Alex\n",
      "Name2: Sally\n",
      "abc: 234\n"
     ]
    }
   ],
   "source": [
    "def number_kwargs2(**Names):\n",
    "    for key, value in Names.items():\n",
    "        print(key + \": \" + value)\n",
    "\n",
    "\n",
    "number_kwargs2(Name=\"Alex\", Name2=\"Sally\", abc=\"234\")"
   ]
  },
  {
   "cell_type": "code",
   "execution_count": 31,
   "id": "76f17f16",
   "metadata": {},
   "outputs": [
    {
     "name": "stdout",
     "output_type": "stream",
     "text": [
      "23\n",
      "Welp Howdy! \n",
      "dict_items([('One', 'Johnny'), ('Two', 'Ebenezer'), ('Three', 'Kanye')])\n"
     ]
    }
   ],
   "source": [
    "def wild_function(one, *two, **three):\n",
    "    print(one)\n",
    "    print(two[0], two[2])\n",
    "    print(three.items())\n",
    "\n",
    "\n",
    "my_dict2 = {\"One\": \"Johnny\", \"Two\": \"Ebenezer\", \"Three\": \"Kanye\"}\n",
    "wild_function(23, *[\"Welp\", 24, \"Howdy! \"], **my_dict2)"
   ]
  },
  {
   "cell_type": "markdown",
   "id": "9cfa4c73",
   "metadata": {},
   "source": [
    "## Built-in Functions\n"
   ]
  },
  {
   "cell_type": "markdown",
   "id": "3b01b67b",
   "metadata": {},
   "source": [
    "### range()\n"
   ]
  },
  {
   "cell_type": "code",
   "execution_count": null,
   "id": "a8eb6560",
   "metadata": {},
   "outputs": [
    {
     "name": "stdout",
     "output_type": "stream",
     "text": [
      "0\n",
      "1\n",
      "2\n",
      "3\n",
      "4\n"
     ]
    }
   ],
   "source": [
    "for number in range(5):\n",
    "    print(number)"
   ]
  },
  {
   "cell_type": "code",
   "execution_count": null,
   "id": "7a4cea69",
   "metadata": {},
   "outputs": [
    {
     "name": "stdout",
     "output_type": "stream",
     "text": [
      "3\n",
      "6\n",
      "9\n",
      "12\n",
      "15\n",
      "18\n",
      "21\n",
      "24\n",
      "27\n"
     ]
    }
   ],
   "source": [
    "num_range = range(1, 30)\n",
    "for number in num_range:\n",
    "    if number % 3 == 0:\n",
    "        print(number)"
   ]
  },
  {
   "cell_type": "code",
   "execution_count": null,
   "id": "f7eca34a",
   "metadata": {},
   "outputs": [
    {
     "name": "stdout",
     "output_type": "stream",
     "text": [
      "0\n",
      "100\n",
      "200\n",
      "300\n",
      "400\n",
      "500\n",
      "600\n",
      "700\n",
      "800\n",
      "900\n",
      "1000\n"
     ]
    }
   ],
   "source": [
    "# range(start, stop, step)\n",
    "num_range = range(0, 1001, 100)\n",
    "\n",
    "for number in num_range:\n",
    "    print(number)"
   ]
  },
  {
   "cell_type": "markdown",
   "id": "dda29c5a",
   "metadata": {},
   "source": [
    "### enumerate()\n"
   ]
  },
  {
   "cell_type": "code",
   "execution_count": 18,
   "id": "57f21550",
   "metadata": {},
   "outputs": [
    {
     "data": {
      "text/plain": [
       "[(0, 'Monkey'), (1, 'Dog'), (2, 'Ferret')]"
      ]
     },
     "execution_count": 18,
     "metadata": {},
     "output_type": "execute_result"
    }
   ],
   "source": [
    "my_list = [\"Monkey\", \"Dog\", \"Ferret\"]\n",
    "list(enumerate(my_list))\n",
    "# list(enumerate(my_list, 5))"
   ]
  },
  {
   "cell_type": "markdown",
   "id": "e1fe569a",
   "metadata": {},
   "source": [
    "### strip()\n"
   ]
  },
  {
   "cell_type": "code",
   "execution_count": 23,
   "id": "4f5bbcb9",
   "metadata": {},
   "outputs": [
    {
     "name": "stdout",
     "output_type": "stream",
     "text": [
      "['Rocky Road', 'Chocolate', 'Strawberry']\n"
     ]
    }
   ],
   "source": [
    "my_list = [\"0Rocky Road\", \"1Chocolate\", \"2Strawberry\"]\n",
    "new_list = []\n",
    "\n",
    "for word in my_list:\n",
    "    cleaned_word = word.strip(\"0123456789\")\n",
    "    new_list.append(cleaned_word)\n",
    "\n",
    "print(new_list)"
   ]
  },
  {
   "cell_type": "code",
   "execution_count": 24,
   "id": "9b25af4e",
   "metadata": {},
   "outputs": [
    {
     "name": "stdout",
     "output_type": "stream",
     "text": [
      "['Rocky Road', 'Chocolate', 'Strawberry']\n"
     ]
    }
   ],
   "source": [
    "my_list = [\"0Rocky Road\", \"1Chocolate\", \"2Strawberry\"]\n",
    "new_list = [word.strip(\"0123456789\") for word in my_list]\n",
    "print(new_list)"
   ]
  },
  {
   "cell_type": "markdown",
   "id": "691ec1f7",
   "metadata": {},
   "source": [
    "### replace()\n"
   ]
  },
  {
   "cell_type": "code",
   "execution_count": 26,
   "id": "3c73cab6",
   "metadata": {},
   "outputs": [
    {
     "data": {
      "text/plain": [
       "'I love harmonicas on the beach.'"
      ]
     },
     "execution_count": 26,
     "metadata": {},
     "output_type": "execute_result"
    }
   ],
   "source": [
    "sentence = \"I.love.harmonicas.on.the.beach.\"\n",
    "sentence.replace(\".\", \" \", 5)"
   ]
  },
  {
   "cell_type": "code",
   "execution_count": 28,
   "id": "8bab2231",
   "metadata": {},
   "outputs": [
    {
     "data": {
      "text/plain": [
       "'I do know, I do know, I do know!'"
      ]
     },
     "execution_count": 28,
     "metadata": {},
     "output_type": "execute_result"
    }
   ],
   "source": [
    "random_text = \"I do not know, I do not know, I do not know!\"\n",
    "random_text.replace(\"I do not know\", \"I do know\")"
   ]
  },
  {
   "cell_type": "markdown",
   "id": "0a63004c",
   "metadata": {},
   "source": [
    "### join()\n"
   ]
  },
  {
   "cell_type": "code",
   "execution_count": 29,
   "id": "3f17838e",
   "metadata": {},
   "outputs": [
    {
     "data": {
      "text/plain": [
       "'I Love You!'"
      ]
     },
     "execution_count": 29,
     "metadata": {},
     "output_type": "execute_result"
    }
   ],
   "source": [
    "my_list = [\"I\", \"Love\", \"You!\"]\n",
    "\" \".join(my_list)"
   ]
  },
  {
   "cell_type": "code",
   "execution_count": 30,
   "id": "83fddca2",
   "metadata": {},
   "outputs": [
    {
     "data": {
      "text/plain": [
       "'I.Love.You!'"
      ]
     },
     "execution_count": 30,
     "metadata": {},
     "output_type": "execute_result"
    }
   ],
   "source": [
    "my_dict = {\"one\": \"I\", \"two\": \"Love\", \"three\": \"You!\"}\n",
    "\".\".join(my_dict.values())"
   ]
  },
  {
   "cell_type": "markdown",
   "id": "fee31736",
   "metadata": {},
   "source": [
    "## Try/Except Statements"
   ]
  },
  {
   "cell_type": "code",
   "execution_count": 7,
   "id": "5f6bb49b",
   "metadata": {},
   "outputs": [
    {
     "name": "stdout",
     "output_type": "stream",
     "text": [
      "Variable not defined\n",
      "This will always run\n",
      "This is more code we want to run\n"
     ]
    }
   ],
   "source": [
    "x, y = 5, 10\n",
    "\n",
    "try:  #Run this code\n",
    "    print(z)\n",
    "except NameError:\n",
    "    print(\"Variable not defined\")\n",
    "except Exception as e:\n",
    "    print(e)\n",
    "except:  # Execute this code when there is an exception\n",
    "    print(\"There was an error!\")\n",
    "else:  #No exceptions? Run this code.\n",
    "    print(\"ELSE WAS TRIGGERED\")\n",
    "finally:\n",
    "    print(\"This will always run\")\n",
    "\n",
    "    \n",
    "print(\"This is more code we want to run\")"
   ]
  },
  {
   "cell_type": "markdown",
   "id": "620d7114",
   "metadata": {},
   "source": [
    "## Exercises"
   ]
  },
  {
   "cell_type": "markdown",
   "id": "4b2e7d54",
   "metadata": {},
   "source": [
    "### Exercise 1: Unit of Measurement Converter\n"
   ]
  },
  {
   "cell_type": "code",
   "execution_count": 8,
   "id": "a475adad",
   "metadata": {},
   "outputs": [
    {
     "name": "stdout",
     "output_type": "stream",
     "text": [
      "Result: 5.0 Feet = 1.67 Yards\n"
     ]
    }
   ],
   "source": [
    "convert_from = input(\"Enter Starting Unit of Measurement (inches, feet, yards): \")\n",
    "convert_to = input(\"Enter Unit of Measurement to Convert to (inches, feet, yards): \")\n",
    "if convert_from.lower() in [\"inches\", \"in\", \"inch\"]:\n",
    "    number_of_inches = float(input(\"Enter Starting Measurement in Inches: \"))\n",
    "    if convert_to.lower() in [\"feet\", \"foot\", \"ft\"]:\n",
    "        print(\"Result: \" + str(number_of_inches) + \" Inches = \" + str(round(number_of_inches / 12, 2)) + \" Feet\")\n",
    "    elif convert_to.lower() in [\"yards\", \"yard\", \"yds\", \"yd\"]:\n",
    "        print(\"Result: \" + str(number_of_inches) + \" Inches = \" + str(round(number_of_inches / 36, 2)) + \" Yards\")\n",
    "    else:\n",
    "        print(\"Please Enter either Inches, Feet, or Yards.\")\n",
    "elif convert_from.lower() in [\"feet\", \"foot\", \"ft\"]:\n",
    "    number_of_feet = float(input(\"Enter Starting Measurement in Feet: \"))\n",
    "    if convert_to.lower() in [\"inches\",\"in\", \"inch\"]:\n",
    "        print(\"Result: \" + str(number_of_feet) + \" Feet = \" + str(round(number_of_feet * 12)) + \" Inches\")\n",
    "    elif convert_to.lower() in [\"yards\", \"yard\", \"yds\", \"yd\"]:\n",
    "        print(\"Result: \" + str(number_of_feet) + \" Feet = \" + str(round(number_of_feet / 3, 2)) + \" Yards\")\n",
    "    else:\n",
    "        print(\"Please Enter either Inches, Feet, or Yards.\")\n",
    "elif convert_from.lower() in [\"yards\", \"yard\", \"yds\", \"yd\"]:\n",
    "    num_yards = float(input(\"Enter Starting Measurement in Yards: \"))\n",
    "    if convert_to.lower() in [\"inches\", \"in\", \"inch\"]:\n",
    "        print(\"Result: \" + str(num_yards) + \" Yards = \" + str(round(num_yards * 36)) + \" Inches\")\n",
    "    elif convert_to.lower() in [\"feet\", \"foot\", \"ft\"]:\n",
    "        print(\"Result: \" + str(num_yards) + \" Yards = \" + str(round(num_yards * 3)) + \" Feet\")\n",
    "    else:\n",
    "        print(\"Please Enter either Inches, Feet, or Yards.\")\n",
    "else:\n",
    "    print(\"Please Enter either Inches, Feet, or Yards.\")"
   ]
  },
  {
   "cell_type": "markdown",
   "id": "41908061",
   "metadata": {},
   "source": [
    "### Exercise 2: Calculator"
   ]
  },
  {
   "cell_type": "code",
   "execution_count": 8,
   "id": "17ea5ddd",
   "metadata": {},
   "outputs": [
    {
     "name": "stderr",
     "output_type": "stream",
     "text": [
      "<>:48: SyntaxWarning: invalid escape sequence '\\/'\n",
      "<>:48: SyntaxWarning: invalid escape sequence '\\/'\n",
      "/var/folders/ln/y2zb_fq101s1gcvy6lnz_0tw0000gn/T/ipykernel_15987/2927206896.py:48: SyntaxWarning: invalid escape sequence '\\/'\n",
      "  print(\"Result:\", num1, '\\/', num2, \"=\", divide(num1, num2))\n"
     ]
    },
    {
     "name": "stdout",
     "output_type": "stream",
     "text": [
      "Enter 'A' for Addition.\n",
      "Enter 'S' for Subtraction.\n",
      "Enter 'M' for Multiplication.\n",
      "Enter 'D' for Division.\n",
      "Result: 12.0 \\/ 2.0 = 6.0\n"
     ]
    }
   ],
   "source": [
    "def add(x, y):\n",
    "    return x + y\n",
    "\n",
    "\n",
    "def subtract(x, y):\n",
    "    return x - y\n",
    "\n",
    "\n",
    "def multiply(x, y):\n",
    "    return x * y\n",
    "\n",
    "\n",
    "def divide(x, y):\n",
    "    return x / y\n",
    "\n",
    "\n",
    "print(\"Enter 'A' for Addition.\")\n",
    "print(\"Enter 'S' for Subtraction.\")\n",
    "print(\"Enter 'M' for Multiplication.\")\n",
    "print(\"Enter 'D' for Division.\")\n",
    "\n",
    "while True:\n",
    "    choice = input(\"Enter Choice (A, S, M, D): \")\n",
    "    if choice.upper() in (\n",
    "        \"A\",\n",
    "        \"ADD\",\n",
    "        \"ADDITION\",\n",
    "        \"S\",\n",
    "        \"SUBTRACT\",\n",
    "        \"SUBTRACTION\",\n",
    "        \"M\",\n",
    "        \"MULTIPLY\",\n",
    "        \"MULTIPLICATION\",\n",
    "        \"D\",\n",
    "        \"DIVIDE\",\n",
    "        \"DIVISION\",\n",
    "    ):\n",
    "        num1 = float(input(\"Enter first number: \"))\n",
    "        num2 = float(input(\"Enter second number: \"))\n",
    "\n",
    "        if choice.upper() in (\"A\", \"ADD\", \"ADDITION\"):\n",
    "            print(\"Result:\", num1, \"+\", num2, \"=\", add(num1, num2))\n",
    "        elif choice.upper() in (\"S\", \"SUBTRACT\", \"SUBTRACTION\"):\n",
    "            print(\"Result:\", num1, \"-\", num2, \"=\", subtract(num1, num2))\n",
    "        elif choice.upper() in (\"M\", \"MULTIPLY\", \"MULTIPLICATION\"):\n",
    "            print(\"Result:\", num1, \"x\", num2, \"=\", multiply(num1, num2))\n",
    "        elif choice.upper() in (\"D\", \"DIVIDE\", \"DIVISION\"):\n",
    "            print(\"Result:\", num1, '\\/', num2, \"=\", divide(num1, num2))\n",
    "    else:\n",
    "        print(\"Please input a correct choice.\")\n",
    "\n",
    "    next_calculation = input(\"Want to do another calculation? (yes/no?): \")\n",
    "    if next_calculation.lower() not in (\"yes\", \"y\", \"yeah\"):\n",
    "        break"
   ]
  }
 ],
 "metadata": {
  "kernelspec": {
   "display_name": ".venv",
   "language": "python",
   "name": "python3"
  },
  "language_info": {
   "codemirror_mode": {
    "name": "ipython",
    "version": 3
   },
   "file_extension": ".py",
   "mimetype": "text/x-python",
   "name": "python",
   "nbconvert_exporter": "python",
   "pygments_lexer": "ipython3",
   "version": "3.13.0"
  }
 },
 "nbformat": 4,
 "nbformat_minor": 5
}
