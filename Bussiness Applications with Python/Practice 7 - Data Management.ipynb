{
 "cells": [
  {
   "cell_type": "markdown",
   "metadata": {},
   "source": [
    "## Data Manipulation\n",
    "> Numpy and Pandas"
   ]
  },
  {
   "cell_type": "markdown",
   "metadata": {},
   "source": [
    "### Datetime Library"
   ]
  },
  {
   "cell_type": "code",
   "execution_count": null,
   "metadata": {},
   "outputs": [
    {
     "name": "stdout",
     "output_type": "stream",
     "text": [
      "['MAXYEAR', 'MINYEAR', 'UTC', '__all__', '__builtins__', '__cached__', '__doc__', '__file__', '__loader__', '__name__', '__package__', '__spec__', 'date', 'datetime', 'datetime_CAPI', 'time', 'timedelta', 'timezone', 'tzinfo']\n"
     ]
    }
   ],
   "source": [
    "import datetime\n",
    "print(dir(datetime))"
   ]
  },
  {
   "cell_type": "code",
   "execution_count": null,
   "metadata": {},
   "outputs": [
    {
     "name": "stdout",
     "output_type": "stream",
     "text": [
      "2018-01-01 00:00:00\n",
      "2024-11-30 08:14:52.454537\n",
      "\n",
      "\n",
      "2024-11-30\n",
      "Current year: 2024\n",
      "Current month: 11\n",
      "Current day: 30\n",
      "\n",
      "\n",
      "12:30:30\n",
      "08:14:52.456289\n"
     ]
    }
   ],
   "source": [
    "from datetime import time\n",
    "from datetime import date\n",
    "from datetime import datetime # datetime is a module within the larger datetime library\n",
    "\n",
    "start = datetime(2018, 1, 1)\n",
    "print(start)\n",
    "end = datetime.now()\n",
    "print(end) # output is year, month, day, hour, minutes, seconds, microseconds\n",
    "\n",
    "print('\\n')\n",
    "\n",
    "today = date.today()\n",
    "print(today)\n",
    "print(\"Current year:\", today.year)\n",
    "print(\"Current month:\", today.month)\n",
    "print(\"Current day:\", today.day)\n",
    "\n",
    "print('\\n')\n",
    "\n",
    "time=time(12,30,30)\n",
    "print(time)\n",
    "time_now = datetime.now().time()\n",
    "print(time_now)"
   ]
  },
  {
   "cell_type": "markdown",
   "metadata": {},
   "source": [
    "### Numpy"
   ]
  },
  {
   "cell_type": "code",
   "execution_count": null,
   "metadata": {},
   "outputs": [],
   "source": [
    "import numpy as np\n",
    "import matplotlib.pyplot as plt\n",
    "\n",
    "# The following line ensures that graphs are rendered in the notebook\n",
    "# %matplotlib inline"
   ]
  },
  {
   "cell_type": "code",
   "execution_count": 251,
   "metadata": {},
   "outputs": [],
   "source": [
    "y = [1,2,3,4,5,6],[7,8,9,10,11,12],[13,14,15,16,17,18]\n",
    "ay=np.array(y,int)"
   ]
  },
  {
   "cell_type": "markdown",
   "metadata": {},
   "source": [
    "#### Transposing"
   ]
  },
  {
   "cell_type": "code",
   "execution_count": 252,
   "metadata": {},
   "outputs": [
    {
     "name": "stdout",
     "output_type": "stream",
     "text": [
      "[[ 1  2  3  4  5  6]\n",
      " [ 7  8  9 10 11 12]\n",
      " [13 14 15 16 17 18]] \n",
      "\n",
      "(3, 6) \n",
      "\n",
      "21 3.5 1.707825127659933\n",
      "57 9.5 1.707825127659933\n",
      "93 15.5 1.707825127659933\n"
     ]
    }
   ],
   "source": [
    "print(ay,'\\n')\n",
    "print(ay.shape,'\\n')\n",
    "\n",
    "for col in ay:\n",
    "    print(col.sum(),col.mean(),col.std())"
   ]
  },
  {
   "cell_type": "code",
   "execution_count": 253,
   "metadata": {},
   "outputs": [
    {
     "name": "stdout",
     "output_type": "stream",
     "text": [
      "[[ 1  7 13]\n",
      " [ 2  8 14]\n",
      " [ 3  9 15]\n",
      " [ 4 10 16]\n",
      " [ 5 11 17]\n",
      " [ 6 12 18]] \n",
      "\n",
      "(6, 3) \n",
      "\n",
      "21 7.0 4.898979485566356\n",
      "24 8.0 4.898979485566356\n",
      "27 9.0 4.898979485566356\n",
      "30 10.0 4.898979485566356\n",
      "33 11.0 4.898979485566356\n",
      "36 12.0 4.898979485566356\n"
     ]
    }
   ],
   "source": [
    "print(ay.T,'\\n')\n",
    "print(ay.T.shape,'\\n')\n",
    "\n",
    "for col in ay.T:\n",
    "    print(col.sum(),col.mean(),col.std())"
   ]
  },
  {
   "cell_type": "markdown",
   "metadata": {},
   "source": [
    "#### Reshaping"
   ]
  },
  {
   "cell_type": "code",
   "execution_count": 254,
   "metadata": {},
   "outputs": [
    {
     "name": "stdout",
     "output_type": "stream",
     "text": [
      "(3, 6)\n",
      "18\n"
     ]
    },
    {
     "data": {
      "text/plain": [
       "array([[ 1,  2],\n",
       "       [ 3,  4],\n",
       "       [ 5,  6],\n",
       "       [ 7,  8],\n",
       "       [ 9, 10],\n",
       "       [11, 12],\n",
       "       [13, 14],\n",
       "       [15, 16],\n",
       "       [17, 18]])"
      ]
     },
     "execution_count": 254,
     "metadata": {},
     "output_type": "execute_result"
    }
   ],
   "source": [
    "print(ay.shape)\n",
    "size=np.prod(ay.shape)  # finding the size of an array\n",
    "print(size)\n",
    "\n",
    "ay.reshape(9,2)"
   ]
  },
  {
   "cell_type": "markdown",
   "metadata": {},
   "source": [
    "#### Slicing"
   ]
  },
  {
   "cell_type": "code",
   "execution_count": 255,
   "metadata": {},
   "outputs": [
    {
     "name": "stdout",
     "output_type": "stream",
     "text": [
      "[[ 9 10]\n",
      " [15 16]]\n",
      "[[ 7  8  9 10 11]\n",
      " [13 14 15 16 17]]\n"
     ]
    }
   ],
   "source": [
    "print(ay[1:3,2:4]) # from rows 2-3, get columns 3-4\n",
    "print(ay[1:3,0:5]) # from rows 2-3, get columns 1-5"
   ]
  },
  {
   "cell_type": "markdown",
   "metadata": {},
   "source": [
    "#### Creating initialized arrays"
   ]
  },
  {
   "cell_type": "code",
   "execution_count": 256,
   "metadata": {},
   "outputs": [
    {
     "name": "stdout",
     "output_type": "stream",
     "text": [
      "[0 1 2 3 4 5 6 7 8 9] \n",
      "\n",
      "[[0 1 2 3 4 5 6 7 8 9]\n",
      " [0 1 2 3 4 5 6 7 8 9]] \n",
      "\n",
      "[[ 0  2  4  6  8 10 12 14 16 18]\n",
      " [ 0  2  4  6  8 10 12 14 16 18]] \n",
      "\n",
      "[[ 2  3  4  5  6  7  8  9 10 11]\n",
      " [ 2  3  4  5  6  7  8  9 10 11]]\n"
     ]
    }
   ],
   "source": [
    "# Create a one dimensional array of values 0-9\n",
    "ax=np.arange(10)\n",
    "print(ax,'\\n')\n",
    "\n",
    "# Create a 2 by 10 array where each row is 0-9\n",
    "# ay=np.array([np.arange(10), np.arange(10)])\n",
    "ay = np.array([ax,ax])\n",
    "print(ay,'\\n')\n",
    "\n",
    "# Mathematical operations with arrays\n",
    "print(ay*2,'\\n')\n",
    "print(ay+2)"
   ]
  },
  {
   "cell_type": "code",
   "execution_count": 257,
   "metadata": {},
   "outputs": [
    {
     "name": "stdout",
     "output_type": "stream",
     "text": [
      "[1 1 1 1 1 1] \n",
      "\n",
      "[[1 0 0 0 0]\n",
      " [0 1 0 0 0]\n",
      " [0 0 1 0 0]\n",
      " [0 0 0 1 0]\n",
      " [0 0 0 0 1]]\n"
     ]
    }
   ],
   "source": [
    "# Create an array of ones\n",
    "ax=np.ones(6, int)\n",
    "print(ax,'\\n')\n",
    "\n",
    "# Create an identity matrix\n",
    "ax=np.identity(5, int)\n",
    "print(ax)"
   ]
  },
  {
   "cell_type": "markdown",
   "metadata": {},
   "source": [
    "#### Dot Product"
   ]
  },
  {
   "cell_type": "markdown",
   "metadata": {},
   "source": [
    "```\n",
    "ax = [[1 2 3]\n",
    "      [4 5 6]\n",
    "      [7 8 9]]\n",
    " ```\n",
    "\n",
    "```\n",
    "ax.transpose() = [[1 4 7]\n",
    "                  [2 5 8]\n",
    "                  [3 6 9]]\n",
    "```\n",
    "The dot product is the sum of the products of the corresponding entries of the rows of the first matrix and the columns of the second matrix\n",
    "\n",
    "$$\n",
    "\\text{result}_{11} = (1 \\times 1) + (2 \\times 2) + (3 \\times 3) = 1 + 4 + 9 = 14 \\\\\n",
    "\\text{result}_{12} = (1 \\times 4) + (2 \\times 5) + (3 \\times 6) = 4 + 10 + 18 = 32 \\\\\n",
    "\\text{result}_{13} = (1 \\times 7) + (2 \\times 8) + (3 \\times 9) = 7 + 16 + 27 = 50 \\\\\n",
    "$$"
   ]
  },
  {
   "cell_type": "code",
   "execution_count": 258,
   "metadata": {},
   "outputs": [
    {
     "name": "stdout",
     "output_type": "stream",
     "text": [
      "[[1 2 3]\n",
      " [4 5 6]]\n",
      "[[1 4]\n",
      " [2 5]\n",
      " [3 6]]\n"
     ]
    },
    {
     "data": {
      "text/plain": [
       "array([[14, 32],\n",
       "       [32, 77]])"
      ]
     },
     "execution_count": 258,
     "metadata": {},
     "output_type": "execute_result"
    }
   ],
   "source": [
    "ax=np.array([[1,2,3],[4,5,6]])\n",
    "print(ax)\n",
    "ay=ax.transpose()\n",
    "print(ay)\n",
    "\n",
    "np.dot(ax,ay)\n",
    "# np.dot(ay,ax)"
   ]
  },
  {
   "cell_type": "markdown",
   "metadata": {},
   "source": [
    "#### Selection of items using Where"
   ]
  },
  {
   "cell_type": "code",
   "execution_count": 259,
   "metadata": {},
   "outputs": [
    {
     "name": "stdout",
     "output_type": "stream",
     "text": [
      "[[ 0  1  2  3  4  5]\n",
      " [10 11 12 13 14 15]\n",
      " [20 21 22 23 24 25]] \n",
      "\n",
      "[[1 0 1 0 1 0]\n",
      " [1 0 1 0 1 0]\n",
      " [1 0 1 0 1 0]] \n",
      "\n",
      "[[0 1 0 1 0 1]\n",
      " [0 1 0 1 0 1]\n",
      " [0 1 0 1 0 1]] \n",
      "\n",
      "[[1 0 0 1 0 0]\n",
      " [0 0 1 0 0 1]\n",
      " [0 1 0 0 1 0]]\n"
     ]
    }
   ],
   "source": [
    "# specify the data we will use\n",
    "x=[[0,1,2,3,4,5],\n",
    "   [10,11,12,13,14,15],\n",
    "   [20,21,22,23,24,25]]\n",
    "# form the data into a numpy array of float values\n",
    "ax=np.array(x)\n",
    "print(ax,'\\n')\n",
    "\n",
    "# select only even numbers. If a number is even it get's an indicator of 1, otherwise it gets a 0.\n",
    "print(np.where(ax%2==0,1,0),'\\n')\n",
    "\n",
    "# select only odd numbers.\n",
    "print(np.where(ax%2!=0,1,0),'\\n')\n",
    "\n",
    "# select only multiples of 3\n",
    "print(np.where(ax%3==0,1,0))"
   ]
  },
  {
   "cell_type": "markdown",
   "metadata": {},
   "source": [
    "#### Random Numbers"
   ]
  },
  {
   "cell_type": "code",
   "execution_count": 260,
   "metadata": {},
   "outputs": [
    {
     "name": "stdout",
     "output_type": "stream",
     "text": [
      "[8 3 5 8 5 2 1 0 3 7] \n",
      "\n",
      "[[5 3 6]\n",
      " [4 1 7]\n",
      " [0 3 8]]\n"
     ]
    }
   ],
   "source": [
    "## 10 random integers from the range 0-9\n",
    "print(np.random.randint(0,9,10),'\\n')\n",
    "\n",
    "## a 3x3 array of random integers from a range 0-9\n",
    "print(np.random.randint(0,9,(3,3)))\n"
   ]
  },
  {
   "cell_type": "code",
   "execution_count": 261,
   "metadata": {},
   "outputs": [
    {
     "name": "stdout",
     "output_type": "stream",
     "text": [
      "[0.21151185] \n",
      "\n",
      "[[0.41875906 0.55318408]\n",
      " [0.94425592 0.35106178]\n",
      " [0.40180585 0.49121953]]\n"
     ]
    }
   ],
   "source": [
    "## a random float in the range 0.0 to 1.0\n",
    "print(np.random.sample(1),'\\n')\n",
    "\n",
    "## a 3x3 array of random floats in the range of 0.0 to 1.0\n",
    "print(np.random.sample(size=(3,2)))"
   ]
  },
  {
   "cell_type": "code",
   "execution_count": 262,
   "metadata": {},
   "outputs": [
    {
     "name": "stdout",
     "output_type": "stream",
     "text": [
      "-1.182263574329684\n",
      "[-1.3430544  -0.38339734 -2.22670884 -1.66496702  0.40668062] \n",
      "\n",
      "[108.23754239 107.87819591  72.69686413  98.96352741  81.07417704\n",
      " 100.04693247 111.90209811 107.34282958  91.67492617  85.26045032]\n"
     ]
    }
   ],
   "source": [
    "## Set seed for reproducibility\n",
    "# np.random.seed(12345)\n",
    "\n",
    "## a single observation from a standard normal distribution\n",
    "print(np.random.randn())\n",
    "\n",
    "## 5 observations from a standard normal distribution\n",
    "print(np.random.randn(5),'\\n')\n",
    "\n",
    "## specify a mean and standard deviation\n",
    "mean = 100\n",
    "sd = 10\n",
    "\n",
    "## generate 10 observations from a normal distribution with mean 100 and sd 10\n",
    "print(mean + sd * np.random.randn(10))"
   ]
  },
  {
   "cell_type": "markdown",
   "metadata": {},
   "source": [
    "#### Random Numbers and Graphics with matplotlib.pyplot\n"
   ]
  },
  {
   "cell_type": "code",
   "execution_count": 263,
   "metadata": {},
   "outputs": [
    {
     "data": {
      "image/png": "[encoded data removed]",
      "text/plain": [
       "<Figure size 640x480 with 1 Axes>"
      ]
     },
     "metadata": {},
     "output_type": "display_data"
    }
   ],
   "source": [
    "# Fixing random state for reproducibility\n",
    "np.random.seed(19680801)\n",
    "\n",
    "# specify mean and standard deviation\n",
    "mu, sigma = 100, 15\n",
    "# the np.random.randn(10000) simulates 10,000 observations from a random normal distribtuion\n",
    "x = mu + sigma * np.random.randn(10000)\n",
    "\n",
    "# the histogram of the data\n",
    "n, bins, patches = plt.hist(x, 50, density=1, facecolor='#063852', alpha=0.75)\n",
    "\n",
    "# # Print the returned values\n",
    "# print(\"n:\", n)         # Heights of the bins\n",
    "# print(\"bins:\", bins)   # Edges of the bins\n",
    "# print(\"patches:\", patches)  # List of Patch objects\n",
    "\n",
    "# A whole bunch of extra code for customizing the plot\n",
    "plt.xlabel('Smarts')\n",
    "plt.ylabel('Probability')\n",
    "plt.title('Histogram of IQ')\n",
    "plt.text(60, .025, r'$\\mu=100,\\ \\sigma=15$')\n",
    "plt.axis([40, 160, 0, 0.03])\n",
    "plt.grid(True)\n",
    "plt.show()"
   ]
  },
  {
   "cell_type": "markdown",
   "metadata": {},
   "source": [
    "### Pandas"
   ]
  },
  {
   "cell_type": "code",
   "execution_count": 266,
   "metadata": {},
   "outputs": [],
   "source": [
    "import pandas as pd\n",
    "import pandas_datareader.data as pdr"
   ]
  },
  {
   "cell_type": "markdown",
   "metadata": {},
   "source": [
    "#### Set Index"
   ]
  },
  {
   "cell_type": "code",
   "execution_count": 267,
   "metadata": {},
   "outputs": [
    {
     "name": "stdout",
     "output_type": "stream",
     "text": [
      "6307239968\n",
      "6307239968\n"
     ]
    },
    {
     "data": {
      "text/html": [
       "<div>\n",
       "<style scoped>\n",
       "    .dataframe tbody tr th:only-of-type {\n",
       "        vertical-align: middle;\n",
       "    }\n",
       "\n",
       "    .dataframe tbody tr th {\n",
       "        vertical-align: top;\n",
       "    }\n",
       "\n",
       "    .dataframe thead th {\n",
       "        text-align: right;\n",
       "    }\n",
       "</style>\n",
       "<table border=\"1\" class=\"dataframe\">\n",
       "  <thead>\n",
       "    <tr style=\"text-align: right;\">\n",
       "      <th></th>\n",
       "      <th>A</th>\n",
       "      <th>B</th>\n",
       "      <th>C</th>\n",
       "    </tr>\n",
       "    <tr>\n",
       "      <th>row_label</th>\n",
       "      <th></th>\n",
       "      <th></th>\n",
       "      <th></th>\n",
       "    </tr>\n",
       "  </thead>\n",
       "  <tbody>\n",
       "    <tr>\n",
       "      <th>r1</th>\n",
       "      <td>00</td>\n",
       "      <td>01</td>\n",
       "      <td>02</td>\n",
       "    </tr>\n",
       "    <tr>\n",
       "      <th>r2</th>\n",
       "      <td>10</td>\n",
       "      <td>11</td>\n",
       "      <td>12</td>\n",
       "    </tr>\n",
       "    <tr>\n",
       "      <th>r3</th>\n",
       "      <td>20</td>\n",
       "      <td>21</td>\n",
       "      <td>22</td>\n",
       "    </tr>\n",
       "  </tbody>\n",
       "</table>\n",
       "</div>"
      ],
      "text/plain": [
       "            A   B   C\n",
       "row_label            \n",
       "r1         00  01  02\n",
       "r2         10  11  12\n",
       "r3         20  21  22"
      ]
     },
     "execution_count": 267,
     "metadata": {},
     "output_type": "execute_result"
    }
   ],
   "source": [
    "df = pd.DataFrame([['r1','00','01','02'],['r2','10','11','12'],['r3','20','21','22']],columns=['row_label','A','B','C'])\n",
    "print(id(df)) # shows the memory location\n",
    "\n",
    "\n",
    "df.set_index('row_label',inplace=True)\n",
    "print(id(df)) # same place in memory - dataframes are mutable, can be changed without creating a new instance\n",
    "df"
   ]
  },
  {
   "cell_type": "markdown",
   "metadata": {},
   "source": [
    "#### Astype Function"
   ]
  },
  {
   "cell_type": "code",
   "execution_count": 268,
   "metadata": {},
   "outputs": [
    {
     "name": "stdout",
     "output_type": "stream",
     "text": [
      "row_label\n",
      "r1    02\n",
      "r2    12\n",
      "r3    22\n",
      "Name: C, dtype: object \n",
      "\n",
      "12.0\n",
      "36\n"
     ]
    }
   ],
   "source": [
    "print(df['C'], '\\n')\n",
    "\n",
    "print(df['C'].astype(float).mean())\n",
    "print(df['C'].astype(int).sum())"
   ]
  },
  {
   "cell_type": "markdown",
   "metadata": {},
   "source": [
    "#### Loc and Iloc"
   ]
  },
  {
   "cell_type": "code",
   "execution_count": 269,
   "metadata": {},
   "outputs": [
    {
     "name": "stdout",
     "output_type": "stream",
     "text": [
      "A    00\n",
      "B    01\n",
      "C    02\n",
      "Name: r1, dtype: object\n"
     ]
    },
    {
     "data": {
      "text/html": [
       "<div>\n",
       "<style scoped>\n",
       "    .dataframe tbody tr th:only-of-type {\n",
       "        vertical-align: middle;\n",
       "    }\n",
       "\n",
       "    .dataframe tbody tr th {\n",
       "        vertical-align: top;\n",
       "    }\n",
       "\n",
       "    .dataframe thead th {\n",
       "        text-align: right;\n",
       "    }\n",
       "</style>\n",
       "<table border=\"1\" class=\"dataframe\">\n",
       "  <thead>\n",
       "    <tr style=\"text-align: right;\">\n",
       "      <th></th>\n",
       "      <th>A</th>\n",
       "      <th>B</th>\n",
       "      <th>C</th>\n",
       "    </tr>\n",
       "    <tr>\n",
       "      <th>row_label</th>\n",
       "      <th></th>\n",
       "      <th></th>\n",
       "      <th></th>\n",
       "    </tr>\n",
       "  </thead>\n",
       "  <tbody>\n",
       "    <tr>\n",
       "      <th>r1</th>\n",
       "      <td>00</td>\n",
       "      <td>01</td>\n",
       "      <td>02</td>\n",
       "    </tr>\n",
       "  </tbody>\n",
       "</table>\n",
       "</div>"
      ],
      "text/plain": [
       "            A   B   C\n",
       "row_label            \n",
       "r1         00  01  02"
      ]
     },
     "execution_count": 269,
     "metadata": {},
     "output_type": "execute_result"
    }
   ],
   "source": [
    "# index by index name\n",
    "print(df.loc['r1'])\n",
    "\n",
    "# index by index location\n",
    "df.iloc[[0]]\n"
   ]
  },
  {
   "cell_type": "code",
   "execution_count": 270,
   "metadata": {},
   "outputs": [
    {
     "name": "stdout",
     "output_type": "stream",
     "text": [
      "01\n",
      "01\n"
     ]
    }
   ],
   "source": [
    "# use the loc attribute to access a value by row and column\n",
    "print(df.loc['r1','B'])\n",
    "\n",
    "# we can use chain indexing to achieve the same result\n",
    "print(df.loc['r1']['B'])"
   ]
  },
  {
   "cell_type": "markdown",
   "metadata": {},
   "source": [
    "#### Accessing Specific Cells"
   ]
  },
  {
   "cell_type": "code",
   "execution_count": 271,
   "metadata": {},
   "outputs": [
    {
     "name": "stdout",
     "output_type": "stream",
     "text": [
      "            A   B       C\n",
      "row_label                \n",
      "r1         00  01      02\n",
      "r2         10  11      12\n",
      "r3         20  21  twotwo\n",
      "\n",
      "\n",
      "             A    B       C     d\n",
      "row_label                        \n",
      "r1          00   01      02   NaN\n",
      "r2          10   11      12   NaN\n",
      "r3          20   21  twotwo   NaN\n",
      "R4         NaN  NaN     NaN  10.0\n"
     ]
    }
   ],
   "source": [
    "# replace the value '22' with 'twotwo'\n",
    "df.at['r3','C']='twotwo'\n",
    "print(df)\n",
    "print('\\n')\n",
    "\n",
    "df.at['R4', 'd'] = 10\n",
    "print(df)"
   ]
  },
  {
   "cell_type": "markdown",
   "metadata": {},
   "source": [
    "#### Slicing"
   ]
  },
  {
   "cell_type": "code",
   "execution_count": 272,
   "metadata": {},
   "outputs": [
    {
     "name": "stdout",
     "output_type": "stream",
     "text": [
      "            A   B   C   d\n",
      "row_label                \n",
      "r1         00  01  02 NaN\n",
      "r2         10  11  12 NaN\n",
      "\n",
      "\n",
      "            B   C\n",
      "row_label        \n",
      "r1         01  02\n",
      "r2         11  12\n"
     ]
    }
   ],
   "source": [
    "# slice the first two rows\n",
    "print(df.loc['r1':'r2'])\n",
    "print('\\n')\n",
    "\n",
    "# another slicing example\n",
    "print(df.loc['r1':'r2','B':'C'])"
   ]
  },
  {
   "cell_type": "markdown",
   "metadata": {},
   "source": [
    "#### Apply Function"
   ]
  },
  {
   "cell_type": "code",
   "execution_count": 273,
   "metadata": {},
   "outputs": [
    {
     "name": "stdout",
     "output_type": "stream",
     "text": [
      "13 %\n"
     ]
    }
   ],
   "source": [
    "data_url = 'http://bit.ly/2cLzoxH'\n",
    "gm = pd.read_csv(data_url)\n",
    "\n",
    "# Create a subset of the dataframe so that it only has data for 2007\n",
    "gm_07 = gm.loc[gm['year'] == 2007].copy()\n",
    "\n",
    "# Create a function that returns a 1 if a number is <50\n",
    "def below(num):\n",
    "    if num < 50:\n",
    "        return 1\n",
    "    else:\n",
    "        return 0\n",
    "\n",
    "# Apply the below function to the life expectancy column\n",
    "gm_low = gm_07['lifeExp'].apply(below)\n",
    "# gm_low = gm_07['lifeExp'].apply(lambda x: 1 if x < 50 else 0)\n",
    "\n",
    "# Creating a new column called 'Low' and setting it to the values we just returned\n",
    "gm_07['Low']=gm_low\n",
    "\n",
    "# What percent of countries have life expectancy below 50?\n",
    "print(round(sum(gm_07['Low']) / gm_07['Low'].count() * 100), '%')"
   ]
  },
  {
   "cell_type": "code",
   "execution_count": 274,
   "metadata": {},
   "outputs": [
    {
     "data": {
      "text/html": [
       "<div>\n",
       "<style scoped>\n",
       "    .dataframe tbody tr th:only-of-type {\n",
       "        vertical-align: middle;\n",
       "    }\n",
       "\n",
       "    .dataframe tbody tr th {\n",
       "        vertical-align: top;\n",
       "    }\n",
       "\n",
       "    .dataframe thead th {\n",
       "        text-align: right;\n",
       "    }\n",
       "</style>\n",
       "<table border=\"1\" class=\"dataframe\">\n",
       "  <thead>\n",
       "    <tr style=\"text-align: right;\">\n",
       "      <th></th>\n",
       "      <th>year</th>\n",
       "      <th>pop</th>\n",
       "      <th>lifeExp</th>\n",
       "      <th>gdpPercap</th>\n",
       "      <th>Low</th>\n",
       "    </tr>\n",
       "  </thead>\n",
       "  <tbody>\n",
       "    <tr>\n",
       "      <th>count</th>\n",
       "      <td>142.0</td>\n",
       "      <td>1.420000e+02</td>\n",
       "      <td>142.000000</td>\n",
       "      <td>142.000000</td>\n",
       "      <td>142.000000</td>\n",
       "    </tr>\n",
       "    <tr>\n",
       "      <th>mean</th>\n",
       "      <td>2007.0</td>\n",
       "      <td>4.402122e+07</td>\n",
       "      <td>67.007423</td>\n",
       "      <td>11680.071820</td>\n",
       "      <td>0.133803</td>\n",
       "    </tr>\n",
       "    <tr>\n",
       "      <th>std</th>\n",
       "      <td>0.0</td>\n",
       "      <td>1.476214e+08</td>\n",
       "      <td>12.073021</td>\n",
       "      <td>12859.937337</td>\n",
       "      <td>0.341645</td>\n",
       "    </tr>\n",
       "    <tr>\n",
       "      <th>min</th>\n",
       "      <td>2007.0</td>\n",
       "      <td>1.995790e+05</td>\n",
       "      <td>39.613000</td>\n",
       "      <td>277.551859</td>\n",
       "      <td>0.000000</td>\n",
       "    </tr>\n",
       "    <tr>\n",
       "      <th>25%</th>\n",
       "      <td>2007.0</td>\n",
       "      <td>4.508034e+06</td>\n",
       "      <td>57.160250</td>\n",
       "      <td>1624.842248</td>\n",
       "      <td>0.000000</td>\n",
       "    </tr>\n",
       "    <tr>\n",
       "      <th>50%</th>\n",
       "      <td>2007.0</td>\n",
       "      <td>1.051753e+07</td>\n",
       "      <td>71.935500</td>\n",
       "      <td>6124.371108</td>\n",
       "      <td>0.000000</td>\n",
       "    </tr>\n",
       "    <tr>\n",
       "      <th>75%</th>\n",
       "      <td>2007.0</td>\n",
       "      <td>3.121004e+07</td>\n",
       "      <td>76.413250</td>\n",
       "      <td>18008.835640</td>\n",
       "      <td>0.000000</td>\n",
       "    </tr>\n",
       "    <tr>\n",
       "      <th>max</th>\n",
       "      <td>2007.0</td>\n",
       "      <td>1.318683e+09</td>\n",
       "      <td>82.603000</td>\n",
       "      <td>49357.190170</td>\n",
       "      <td>1.000000</td>\n",
       "    </tr>\n",
       "  </tbody>\n",
       "</table>\n",
       "</div>"
      ],
      "text/plain": [
       "         year           pop     lifeExp     gdpPercap         Low\n",
       "count   142.0  1.420000e+02  142.000000    142.000000  142.000000\n",
       "mean   2007.0  4.402122e+07   67.007423  11680.071820    0.133803\n",
       "std       0.0  1.476214e+08   12.073021  12859.937337    0.341645\n",
       "min    2007.0  1.995790e+05   39.613000    277.551859    0.000000\n",
       "25%    2007.0  4.508034e+06   57.160250   1624.842248    0.000000\n",
       "50%    2007.0  1.051753e+07   71.935500   6124.371108    0.000000\n",
       "75%    2007.0  3.121004e+07   76.413250  18008.835640    0.000000\n",
       "max    2007.0  1.318683e+09   82.603000  49357.190170    1.000000"
      ]
     },
     "execution_count": 274,
     "metadata": {},
     "output_type": "execute_result"
    }
   ],
   "source": [
    "gm_07.describe() # the mean GDP per capita is 11680, if we round."
   ]
  },
  {
   "cell_type": "code",
   "execution_count": 275,
   "metadata": {},
   "outputs": [
    {
     "name": "stdout",
     "output_type": "stream",
     "text": [
      "67 %\n"
     ]
    }
   ],
   "source": [
    "# Create a function that returns a 1 if a number is <11680\n",
    "def below_mean(num):\n",
    "    if num < 11680:\n",
    "        return 1\n",
    "    else:\n",
    "        return 0\n",
    "\n",
    "gm_under_mean = gm_07['gdpPercap'].apply(below_mean)\n",
    "gm_07['gdpBelowMean'] = gm_under_mean\n",
    "\n",
    "# What percent of countries have gdp below the mean?\n",
    "print(round(sum(gm_07['gdpBelowMean'])/gm_07['gdpBelowMean'].count() *100),'%')"
   ]
  },
  {
   "cell_type": "markdown",
   "metadata": {},
   "source": [
    "#### Yahoo Finance"
   ]
  },
  {
   "cell_type": "code",
   "execution_count": 276,
   "metadata": {},
   "outputs": [
    {
     "name": "stderr",
     "output_type": "stream",
     "text": [
      "[*********************100%***********************]  1 of 1 completed\n"
     ]
    },
    {
     "data": {
      "text/html": [
       "<div>\n",
       "<style scoped>\n",
       "    .dataframe tbody tr th:only-of-type {\n",
       "        vertical-align: middle;\n",
       "    }\n",
       "\n",
       "    .dataframe tbody tr th {\n",
       "        vertical-align: top;\n",
       "    }\n",
       "\n",
       "    .dataframe thead tr th {\n",
       "        text-align: left;\n",
       "    }\n",
       "\n",
       "    .dataframe thead tr:last-of-type th {\n",
       "        text-align: right;\n",
       "    }\n",
       "</style>\n",
       "<table border=\"1\" class=\"dataframe\">\n",
       "  <thead>\n",
       "    <tr>\n",
       "      <th>Price</th>\n",
       "      <th>Adj Close</th>\n",
       "      <th>Close</th>\n",
       "      <th>High</th>\n",
       "      <th>Low</th>\n",
       "      <th>Open</th>\n",
       "      <th>Volume</th>\n",
       "    </tr>\n",
       "    <tr>\n",
       "      <th>Ticker</th>\n",
       "      <th>AMZN</th>\n",
       "      <th>AMZN</th>\n",
       "      <th>AMZN</th>\n",
       "      <th>AMZN</th>\n",
       "      <th>AMZN</th>\n",
       "      <th>AMZN</th>\n",
       "    </tr>\n",
       "    <tr>\n",
       "      <th>Date</th>\n",
       "      <th></th>\n",
       "      <th></th>\n",
       "      <th></th>\n",
       "      <th></th>\n",
       "      <th></th>\n",
       "      <th></th>\n",
       "    </tr>\n",
       "  </thead>\n",
       "  <tbody>\n",
       "    <tr>\n",
       "      <th>2018-01-02</th>\n",
       "      <td>59.450500</td>\n",
       "      <td>59.450500</td>\n",
       "      <td>59.500000</td>\n",
       "      <td>58.525501</td>\n",
       "      <td>58.599998</td>\n",
       "      <td>53890000</td>\n",
       "    </tr>\n",
       "    <tr>\n",
       "      <th>2018-01-03</th>\n",
       "      <td>60.209999</td>\n",
       "      <td>60.209999</td>\n",
       "      <td>60.274502</td>\n",
       "      <td>59.415001</td>\n",
       "      <td>59.415001</td>\n",
       "      <td>62176000</td>\n",
       "    </tr>\n",
       "    <tr>\n",
       "      <th>2018-01-04</th>\n",
       "      <td>60.479500</td>\n",
       "      <td>60.479500</td>\n",
       "      <td>60.793499</td>\n",
       "      <td>60.233002</td>\n",
       "      <td>60.250000</td>\n",
       "      <td>60442000</td>\n",
       "    </tr>\n",
       "    <tr>\n",
       "      <th>2018-01-05</th>\n",
       "      <td>61.457001</td>\n",
       "      <td>61.457001</td>\n",
       "      <td>61.457001</td>\n",
       "      <td>60.500000</td>\n",
       "      <td>60.875500</td>\n",
       "      <td>70894000</td>\n",
       "    </tr>\n",
       "    <tr>\n",
       "      <th>2018-01-08</th>\n",
       "      <td>62.343498</td>\n",
       "      <td>62.343498</td>\n",
       "      <td>62.653999</td>\n",
       "      <td>61.601501</td>\n",
       "      <td>61.799999</td>\n",
       "      <td>85590000</td>\n",
       "    </tr>\n",
       "    <tr>\n",
       "      <th>...</th>\n",
       "      <td>...</td>\n",
       "      <td>...</td>\n",
       "      <td>...</td>\n",
       "      <td>...</td>\n",
       "      <td>...</td>\n",
       "      <td>...</td>\n",
       "    </tr>\n",
       "    <tr>\n",
       "      <th>2018-12-24</th>\n",
       "      <td>67.197998</td>\n",
       "      <td>67.197998</td>\n",
       "      <td>69.801498</td>\n",
       "      <td>65.349998</td>\n",
       "      <td>67.300003</td>\n",
       "      <td>144400000</td>\n",
       "    </tr>\n",
       "    <tr>\n",
       "      <th>2018-12-26</th>\n",
       "      <td>73.544998</td>\n",
       "      <td>73.544998</td>\n",
       "      <td>73.657997</td>\n",
       "      <td>68.150497</td>\n",
       "      <td>68.444504</td>\n",
       "      <td>208236000</td>\n",
       "    </tr>\n",
       "    <tr>\n",
       "      <th>2018-12-27</th>\n",
       "      <td>73.082001</td>\n",
       "      <td>73.082001</td>\n",
       "      <td>73.449997</td>\n",
       "      <td>69.515503</td>\n",
       "      <td>72.709999</td>\n",
       "      <td>194440000</td>\n",
       "    </tr>\n",
       "    <tr>\n",
       "      <th>2018-12-28</th>\n",
       "      <td>73.901001</td>\n",
       "      <td>73.901001</td>\n",
       "      <td>75.673500</td>\n",
       "      <td>72.449997</td>\n",
       "      <td>73.667503</td>\n",
       "      <td>176580000</td>\n",
       "    </tr>\n",
       "    <tr>\n",
       "      <th>2018-12-31</th>\n",
       "      <td>75.098503</td>\n",
       "      <td>75.098503</td>\n",
       "      <td>76.038002</td>\n",
       "      <td>74.349998</td>\n",
       "      <td>75.540001</td>\n",
       "      <td>139090000</td>\n",
       "    </tr>\n",
       "  </tbody>\n",
       "</table>\n",
       "<p>251 rows × 6 columns</p>\n",
       "</div>"
      ],
      "text/plain": [
       "Price       Adj Close      Close       High        Low       Open     Volume\n",
       "Ticker           AMZN       AMZN       AMZN       AMZN       AMZN       AMZN\n",
       "Date                                                                        \n",
       "2018-01-02  59.450500  59.450500  59.500000  58.525501  58.599998   53890000\n",
       "2018-01-03  60.209999  60.209999  60.274502  59.415001  59.415001   62176000\n",
       "2018-01-04  60.479500  60.479500  60.793499  60.233002  60.250000   60442000\n",
       "2018-01-05  61.457001  61.457001  61.457001  60.500000  60.875500   70894000\n",
       "2018-01-08  62.343498  62.343498  62.653999  61.601501  61.799999   85590000\n",
       "...               ...        ...        ...        ...        ...        ...\n",
       "2018-12-24  67.197998  67.197998  69.801498  65.349998  67.300003  144400000\n",
       "2018-12-26  73.544998  73.544998  73.657997  68.150497  68.444504  208236000\n",
       "2018-12-27  73.082001  73.082001  73.449997  69.515503  72.709999  194440000\n",
       "2018-12-28  73.901001  73.901001  75.673500  72.449997  73.667503  176580000\n",
       "2018-12-31  75.098503  75.098503  76.038002  74.349998  75.540001  139090000\n",
       "\n",
       "[251 rows x 6 columns]"
      ]
     },
     "execution_count": 276,
     "metadata": {},
     "output_type": "execute_result"
    }
   ],
   "source": [
    "import yfinance as yf\n",
    "# Define the symbol and date range\n",
    "symbol = \"AMZN\"\n",
    "start_date = \"2018-01-01\"\n",
    "end_date = \"2019-01-01\"\n",
    "# start_date = datetime(2018,1,1)\n",
    "# end_date = datetime(2019,1,1)\n",
    "\n",
    "# Fetch the data\n",
    "# df = pdr.get_data_yahoo(symbol, start=start_date, end=end_date)\n",
    "df = yf.download(symbol, start=start_date, end=end_date)\n",
    "df"
   ]
  },
  {
   "cell_type": "code",
   "execution_count": 277,
   "metadata": {},
   "outputs": [
    {
     "name": "stderr",
     "output_type": "stream",
     "text": [
      "[*********************100%***********************]  1 of 1 completed"
     ]
    },
    {
     "name": "stdout",
     "output_type": "stream",
     "text": [
      "Price       Adj Close      Close       High        Low       Open     Volume\n",
      "Ticker           AAPL       AAPL       AAPL       AAPL       AAPL       AAPL\n",
      "Date                                                                        \n",
      "2015-01-02  24.347174  27.332500  27.860001  26.837500  27.847500  212818400\n",
      "2015-01-05  23.661278  26.562500  27.162500  26.352501  27.072500  257142000\n",
      "2015-01-06  23.663502  26.565001  26.857500  26.157499  26.635000  263188400\n",
      "2015-01-07  23.995312  26.937500  27.049999  26.674999  26.799999  160423600\n",
      "2015-01-08  24.917267  27.972500  28.037500  27.174999  27.307501  237458000\n",
      "...               ...        ...        ...        ...        ...        ...\n",
      "2015-12-23  24.598927  27.152500  27.212500  26.799999  26.817499  130629600\n",
      "2015-12-24  24.467577  27.007500  27.250000  26.987499  27.250000   54281600\n",
      "2015-12-28  24.193527  26.705000  26.922501  26.545000  26.897499  106816800\n",
      "2015-12-29  24.628378  27.184999  27.357500  26.715000  26.740000  123724800\n",
      "2015-12-30  24.306770  26.830000  27.174999  26.795000  27.145000  100855200\n",
      "\n",
      "[251 rows x 6 columns]\n"
     ]
    },
    {
     "name": "stderr",
     "output_type": "stream",
     "text": [
      "\n"
     ]
    },
    {
     "data": {
      "image/png": "[encoded data removed]",
      "text/plain": [
       "<Figure size 640x480 with 1 Axes>"
      ]
     },
     "metadata": {},
     "output_type": "display_data"
    }
   ],
   "source": [
    "# Define the symbol and date range\n",
    "symbol = \"AAPL\"\n",
    "start_date = \"2015-01-01\"\n",
    "end_date = \"2015-12-31\"\n",
    "# start_date = datetime(2015,1,1)\n",
    "# end_date = datetime(2015,12,31)\n",
    "\n",
    "# Fetch the data\n",
    "# aapl = pdr.get_data_yahoo(symbol, start=start_date, end=end_date)\n",
    "aapl = yf.download(symbol, start=start_date, end=end_date)\n",
    "\n",
    "# Display the data\n",
    "print(aapl)\n",
    "\n",
    "plt.plot(aapl[\"Adj Close\"])\n",
    "plt.title(\"AAPL Adjusted Closing Price, 2015\")\n",
    "plt.xlabel(\"Date\")\n",
    "plt.ylabel(\"Adjusted Close Price\")\n",
    "plt.show()"
   ]
  },
  {
   "cell_type": "markdown",
   "metadata": {},
   "source": [
    "#### World Bank"
   ]
  },
  {
   "cell_type": "code",
   "execution_count": 1,
   "metadata": {},
   "outputs": [
    {
     "data": {
      "text/html": [
       "<div>\n",
       "<style scoped>\n",
       "    .dataframe tbody tr th:only-of-type {\n",
       "        vertical-align: middle;\n",
       "    }\n",
       "\n",
       "    .dataframe tbody tr th {\n",
       "        vertical-align: top;\n",
       "    }\n",
       "\n",
       "    .dataframe thead th {\n",
       "        text-align: right;\n",
       "    }\n",
       "</style>\n",
       "<table border=\"1\" class=\"dataframe\">\n",
       "  <thead>\n",
       "    <tr style=\"text-align: right;\">\n",
       "      <th></th>\n",
       "      <th>id</th>\n",
       "      <th>name</th>\n",
       "      <th>unit</th>\n",
       "      <th>source</th>\n",
       "      <th>sourceNote</th>\n",
       "      <th>sourceOrganization</th>\n",
       "      <th>topics</th>\n",
       "    </tr>\n",
       "  </thead>\n",
       "  <tbody>\n",
       "    <tr>\n",
       "      <th>691</th>\n",
       "      <td>6.0.GDPpc_constant</td>\n",
       "      <td>GDP per capita, PPP (constant 2011 internation...</td>\n",
       "      <td></td>\n",
       "      <td>LAC Equity Lab</td>\n",
       "      <td>GDP per capita based on purchasing power parit...</td>\n",
       "      <td>b'World Development Indicators (World Bank)'</td>\n",
       "      <td>Economy &amp; Growth</td>\n",
       "    </tr>\n",
       "    <tr>\n",
       "      <th>11165</th>\n",
       "      <td>NY.GDP.PCAP.KD</td>\n",
       "      <td>GDP per capita (constant 2015 US$)</td>\n",
       "      <td></td>\n",
       "      <td>World Development Indicators</td>\n",
       "      <td>GDP per capita is gross domestic product divid...</td>\n",
       "      <td>b'World Bank national accounts data, and OECD ...</td>\n",
       "      <td>Economy &amp; Growth</td>\n",
       "    </tr>\n",
       "    <tr>\n",
       "      <th>11167</th>\n",
       "      <td>NY.GDP.PCAP.KN</td>\n",
       "      <td>GDP per capita (constant LCU)</td>\n",
       "      <td></td>\n",
       "      <td>World Development Indicators</td>\n",
       "      <td>GDP per capita is gross domestic product divid...</td>\n",
       "      <td>b'World Bank national accounts data, and OECD ...</td>\n",
       "      <td>Economy &amp; Growth</td>\n",
       "    </tr>\n",
       "    <tr>\n",
       "      <th>11169</th>\n",
       "      <td>NY.GDP.PCAP.PP.KD</td>\n",
       "      <td>GDP per capita, PPP (constant 2021 internation...</td>\n",
       "      <td></td>\n",
       "      <td>World Development Indicators</td>\n",
       "      <td>GDP per capita based on purchasing power parit...</td>\n",
       "      <td>b'International Comparison Program, World Bank...</td>\n",
       "      <td>Economy &amp; Growth</td>\n",
       "    </tr>\n",
       "    <tr>\n",
       "      <th>11170</th>\n",
       "      <td>NY.GDP.PCAP.PP.KD.87</td>\n",
       "      <td>GDP per capita, PPP (constant 1987 internation...</td>\n",
       "      <td></td>\n",
       "      <td>WDI Database Archives</td>\n",
       "      <td></td>\n",
       "      <td>b''</td>\n",
       "      <td></td>\n",
       "    </tr>\n",
       "  </tbody>\n",
       "</table>\n",
       "</div>"
      ],
      "text/plain": [
       "                         id  \\\n",
       "691      6.0.GDPpc_constant   \n",
       "11165        NY.GDP.PCAP.KD   \n",
       "11167        NY.GDP.PCAP.KN   \n",
       "11169     NY.GDP.PCAP.PP.KD   \n",
       "11170  NY.GDP.PCAP.PP.KD.87   \n",
       "\n",
       "                                                    name unit  \\\n",
       "691    GDP per capita, PPP (constant 2011 internation...        \n",
       "11165                 GDP per capita (constant 2015 US$)        \n",
       "11167                      GDP per capita (constant LCU)        \n",
       "11169  GDP per capita, PPP (constant 2021 internation...        \n",
       "11170  GDP per capita, PPP (constant 1987 internation...        \n",
       "\n",
       "                             source  \\\n",
       "691                  LAC Equity Lab   \n",
       "11165  World Development Indicators   \n",
       "11167  World Development Indicators   \n",
       "11169  World Development Indicators   \n",
       "11170         WDI Database Archives   \n",
       "\n",
       "                                              sourceNote  \\\n",
       "691    GDP per capita based on purchasing power parit...   \n",
       "11165  GDP per capita is gross domestic product divid...   \n",
       "11167  GDP per capita is gross domestic product divid...   \n",
       "11169  GDP per capita based on purchasing power parit...   \n",
       "11170                                                      \n",
       "\n",
       "                                      sourceOrganization            topics  \n",
       "691         b'World Development Indicators (World Bank)'  Economy & Growth  \n",
       "11165  b'World Bank national accounts data, and OECD ...  Economy & Growth  \n",
       "11167  b'World Bank national accounts data, and OECD ...  Economy & Growth  \n",
       "11169  b'International Comparison Program, World Bank...  Economy & Growth  \n",
       "11170                                                b''                    "
      ]
     },
     "execution_count": 1,
     "metadata": {},
     "output_type": "execute_result"
    }
   ],
   "source": [
    "from pandas_datareader import wb\n",
    "\n",
    "# compare the GDP per capita in constant dollars\n",
    "mathces = wb.search('gdp.*capita.*const')\n",
    "# the results give us an idea of the indicator names and symbols\n",
    "mathces"
   ]
  },
  {
   "cell_type": "code",
   "execution_count": 2,
   "metadata": {},
   "outputs": [
    {
     "name": "stderr",
     "output_type": "stream",
     "text": [
      "/var/folders/ln/y2zb_fq101s1gcvy6lnz_0tw0000gn/T/ipykernel_29193/1813008366.py:2: FutureWarning: errors='ignore' is deprecated and will raise in a future version. Use to_numeric without passing `errors` and catch exceptions explicitly instead\n",
      "  dat = wb.download(indicator='NY.GDP.PCAP.KD', country=['US', 'CA', 'MX'], start=2005, end=2008)\n"
     ]
    },
    {
     "data": {
      "text/html": [
       "<div>\n",
       "<style scoped>\n",
       "    .dataframe tbody tr th:only-of-type {\n",
       "        vertical-align: middle;\n",
       "    }\n",
       "\n",
       "    .dataframe tbody tr th {\n",
       "        vertical-align: top;\n",
       "    }\n",
       "\n",
       "    .dataframe thead th {\n",
       "        text-align: right;\n",
       "    }\n",
       "</style>\n",
       "<table border=\"1\" class=\"dataframe\">\n",
       "  <thead>\n",
       "    <tr style=\"text-align: right;\">\n",
       "      <th></th>\n",
       "      <th></th>\n",
       "      <th>NY.GDP.PCAP.KD</th>\n",
       "    </tr>\n",
       "    <tr>\n",
       "      <th>country</th>\n",
       "      <th>year</th>\n",
       "      <th></th>\n",
       "    </tr>\n",
       "  </thead>\n",
       "  <tbody>\n",
       "    <tr>\n",
       "      <th rowspan=\"4\" valign=\"top\">Canada</th>\n",
       "      <th>2008</th>\n",
       "      <td>42067.568700</td>\n",
       "    </tr>\n",
       "    <tr>\n",
       "      <th>2007</th>\n",
       "      <td>42106.872427</td>\n",
       "    </tr>\n",
       "    <tr>\n",
       "      <th>2006</th>\n",
       "      <td>41663.512305</td>\n",
       "    </tr>\n",
       "    <tr>\n",
       "      <th>2005</th>\n",
       "      <td>41006.222932</td>\n",
       "    </tr>\n",
       "    <tr>\n",
       "      <th rowspan=\"4\" valign=\"top\">Mexico</th>\n",
       "      <th>2008</th>\n",
       "      <td>9888.139445</td>\n",
       "    </tr>\n",
       "    <tr>\n",
       "      <th>2007</th>\n",
       "      <td>9920.687841</td>\n",
       "    </tr>\n",
       "    <tr>\n",
       "      <th>2006</th>\n",
       "      <td>9847.512822</td>\n",
       "    </tr>\n",
       "    <tr>\n",
       "      <th>2005</th>\n",
       "      <td>9524.742437</td>\n",
       "    </tr>\n",
       "    <tr>\n",
       "      <th rowspan=\"4\" valign=\"top\">United States</th>\n",
       "      <th>2008</th>\n",
       "      <td>53703.962896</td>\n",
       "    </tr>\n",
       "    <tr>\n",
       "      <th>2007</th>\n",
       "      <td>54152.829265</td>\n",
       "    </tr>\n",
       "    <tr>\n",
       "      <th>2006</th>\n",
       "      <td>53596.315237</td>\n",
       "    </tr>\n",
       "    <tr>\n",
       "      <th>2005</th>\n",
       "      <td>52649.571305</td>\n",
       "    </tr>\n",
       "  </tbody>\n",
       "</table>\n",
       "</div>"
      ],
      "text/plain": [
       "                    NY.GDP.PCAP.KD\n",
       "country       year                \n",
       "Canada        2008    42067.568700\n",
       "              2007    42106.872427\n",
       "              2006    41663.512305\n",
       "              2005    41006.222932\n",
       "Mexico        2008     9888.139445\n",
       "              2007     9920.687841\n",
       "              2006     9847.512822\n",
       "              2005     9524.742437\n",
       "United States 2008    53703.962896\n",
       "              2007    54152.829265\n",
       "              2006    53596.315237\n",
       "              2005    52649.571305"
      ]
     },
     "execution_count": 2,
     "metadata": {},
     "output_type": "execute_result"
    }
   ],
   "source": [
    "# use the download function to acquire the data from the WB servers by indicator and country\n",
    "dat = wb.download(indicator='NY.GDP.PCAP.KD', country=['US', 'CA', 'MX'], start=2005, end=2008)\n",
    "\n",
    "# Convert data to numeric, catching exceptions explicitly\n",
    "# dat = dat.apply(pd.to_numeric, errors='coerce')\n",
    "\n",
    "dat"
   ]
  },
  {
   "cell_type": "code",
   "execution_count": 291,
   "metadata": {},
   "outputs": [
    {
     "data": {
      "text/plain": [
       "country\n",
       "Canada           41711.044091\n",
       "Mexico            9795.270636\n",
       "United States    53525.669676\n",
       "Name: NY.GDP.PCAP.KD, dtype: float64"
      ]
     },
     "execution_count": 291,
     "metadata": {},
     "output_type": "execute_result"
    }
   ],
   "source": [
    "# use groupby() function to apply transformations to the data above\n",
    "dat['NY.GDP.PCAP.KD'].groupby(level='country').mean()\n",
    "\n",
    "# below is equivalent to above, but harder to read, in my opinion\n",
    "# dat[\"NY.GDP.PCAP.KD\"].groupby(level=0).mean()"
   ]
  },
  {
   "cell_type": "markdown",
   "metadata": {},
   "source": [
    "## Exercises:"
   ]
  },
  {
   "cell_type": "markdown",
   "metadata": {},
   "source": [
    "### Problem 1: Numpy Array Basics"
   ]
  },
  {
   "cell_type": "code",
   "execution_count": 281,
   "metadata": {},
   "outputs": [
    {
     "name": "stdout",
     "output_type": "stream",
     "text": [
      "[[ 1  2  3  4  5]\n",
      " [ 6  7  8  9 10]\n",
      " [11 12 13 14 15]\n",
      " [16 17 18 19 20]\n",
      " [21 22 23 24 25]] \n",
      "\n",
      "first entry ---> 1\n",
      "last entry ---> 25 \n",
      "\n",
      "first row ---> [1 2 3 4 5]\n",
      "first column ---> [ 1  6 11 16 21] \n",
      "\n",
      "mean ---> 12.0\n",
      "standard deviation ---> 7.1\n"
     ]
    }
   ],
   "source": [
    "def array_opp(lst):\n",
    "    # a. Create an array, specify the data type as int\n",
    "    a = np.array(lst, int)\n",
    "    print(a, \"\\n\")\n",
    "\n",
    "    # b. Access the first and last entry of the array\n",
    "    first = a[0, 0]\n",
    "    print(\"first entry --->\", first)\n",
    "\n",
    "    last = a[-1, -1]\n",
    "    print(\"last entry --->\", last, \"\\n\")\n",
    "\n",
    "    # c. Access the first row and the first column of the array\n",
    "    # first = a[0] # this works too\n",
    "    first_row = a[0, :]\n",
    "    print(\"first row --->\", first_row)\n",
    "\n",
    "    first_col = a[:, 0]\n",
    "    print(\"first column --->\", first_col, \"\\n\")\n",
    "\n",
    "    # d.  Find the mean and standard deviation of the second column. Round to 1 decimal place.\n",
    "    second_col = a[:, 1]\n",
    "    m = second_col.mean()\n",
    "    s = second_col.std()\n",
    "\n",
    "    print(\"mean --->\", round(m, 1))\n",
    "    print(\"standard deviation --->\", round(s, 1))\n",
    "\n",
    "data = [\n",
    "    [1, 2, 3, 4, 5],\n",
    "    [6, 7, 8, 9, 10],\n",
    "    [11, 12, 13, 14, 15],\n",
    "    [16, 17, 18, 19, 20],\n",
    "    [21, 22, 23, 24, 25]\n",
    "    ]\n",
    "\n",
    "array_opp(data)"
   ]
  },
  {
   "cell_type": "markdown",
   "metadata": {},
   "source": [
    "### Problem 2: Opperations with Numpy Arrays"
   ]
  },
  {
   "cell_type": "code",
   "execution_count": 282,
   "metadata": {},
   "outputs": [
    {
     "name": "stdout",
     "output_type": "stream",
     "text": [
      "middle of array:\n",
      "[[ 7  8  9]\n",
      " [12 13 14]\n",
      " [17 18 19]]\n",
      "\n",
      "\n",
      "array shape ---> (5, 5)\n",
      "array size ---> 25\n",
      "\n",
      "\n",
      "[[1, 2, 3, 4, 5, 6, 7, 8, 9, 10, 11, 12, 13, 14, 15, 16, 17, 18, 19, 20, 21, 22, 23, 24, 25]]\n",
      "\n",
      "\n",
      "even number indicators\n",
      "[[0 1 0 1 0]\n",
      " [1 0 1 0 1]\n",
      " [0 1 0 1 0]\n",
      " [1 0 1 0 1]\n",
      " [0 1 0 1 0]]\n"
     ]
    }
   ],
   "source": [
    "def array_manipulations(lst):\n",
    "    # first, create the array\n",
    "    import numpy as np\n",
    "    a = np.array(lst)\n",
    "\n",
    "    # a. Slice off the outer edges of the array, that is,\n",
    "    # remove the first and last row and the first and last column.\n",
    "    print(\"middle of array:\")\n",
    "    middle = a[1:-1, 1:-1]\n",
    "    print(middle)\n",
    "\n",
    "    # b. Use a command to get the dimensions of the array\n",
    "    print('\\n')\n",
    "    shp = a.shape\n",
    "    print(\"array shape --->\",shp)\n",
    "\n",
    "    # c. Use another command to get the number of items in the array\n",
    "    size = a.size\n",
    "    print(\"array size --->\",size)\n",
    "\n",
    "    # d. Reshape the array into a one dimensional array\n",
    "    print('\\n')\n",
    "    new = a.reshape(1,-1)\n",
    "    print(new.tolist())\n",
    "\n",
    "    # e. Use selection to identify all even numbers in the array\n",
    "    print('\\n')\n",
    "    print(\"even number indicators\")\n",
    "    filter = np.where(a % 2 == 0, 1, 0)\n",
    "    print(filter)\n",
    "    # filter = (a % 2 == 0)\n",
    "    # print(filter.astype(int))\n",
    "\n",
    "\n",
    "data = [\n",
    "    [1,2,3,4,5],\n",
    "    [6,7,8,9,10],\n",
    "    [11,12,13,14,15],\n",
    "    [16,17,18,19,20],\n",
    "    [21,22,23,24,25],\n",
    "    ]\n",
    "\n",
    "array_manipulations(data)"
   ]
  },
  {
   "cell_type": "markdown",
   "metadata": {},
   "source": [
    "### Problem 3: The datetime library (with pandas)"
   ]
  },
  {
   "cell_type": "code",
   "execution_count": 283,
   "metadata": {},
   "outputs": [
    {
     "name": "stdout",
     "output_type": "stream",
     "text": [
      "1969-07-16 09:32:00 \n",
      "\n",
      "1969-07-19 22:56:00 \n",
      "\n",
      "DatetimeIndex(['1969-07-16 09:32:00', '1969-07-17 09:32:00',\n",
      "               '1969-07-18 09:32:00', '1969-07-19 09:32:00'],\n",
      "              dtype='datetime64[ns]', freq='D')\n"
     ]
    }
   ],
   "source": [
    "def dates_times():  # function does not require an argument\n",
    "    import pandas as pd\n",
    "    from datetime import datetime\n",
    "\n",
    "    # a. create a variable to store takeoff time (July, 16th, 1969 at 9:32 am)\n",
    "    takeoff = datetime(1969, 7, 16, 9, 32)\n",
    "    print(takeoff, \"\\n\")\n",
    "\n",
    "    # b. create a variable to store shuttle landing time (July, 19th, 1969 at 10:56 pm EDT or 22:56 EDT)\n",
    "    land = datetime(1969, 7, 19, 22, 56)\n",
    "    print(land, \"\\n\")\n",
    "\n",
    "    # c. Use the date_range() function in pandas to create a time stamp for each day\n",
    "    days = pd.date_range(start=takeoff, end=land)\n",
    "    print(days)\n",
    "\n",
    "dates_times() # function has no argument"
   ]
  },
  {
   "cell_type": "markdown",
   "metadata": {},
   "source": [
    "### Problem 4: Pandas Dataframe Basics"
   ]
  },
  {
   "cell_type": "code",
   "execution_count": 284,
   "metadata": {},
   "outputs": [
    {
     "name": "stdout",
     "output_type": "stream",
     "text": [
      "       last_order  order_total  time\n",
      "id                                  \n",
      "57640  2018-02-13       299.53    10\n",
      "52862  2018-04-16        95.54    33\n",
      "73637  2018-11-06       307.83    68\n",
      "80392  2018-12-03       339.34     7\n",
      "18811  2018-12-11       375.60    56\n",
      "\n",
      "\n",
      "       order_total  time\n",
      "id                      \n",
      "57640       299.53    10\n",
      "52862        95.54    33\n",
      "73637       307.83    68\n",
      "80392       339.34     7\n",
      "18811       375.60    56\n",
      "\n",
      "\n",
      "mean order total ---> 283.57\n",
      "\n",
      "\n",
      "       last_order  order_total  time\n",
      "id                                  \n",
      "52862  2018-04-16        95.54    33\n"
     ]
    }
   ],
   "source": [
    "def pandas_opp(d):\n",
    "    import pandas as pd\n",
    "    import numpy as np\n",
    "\n",
    "    # a. Create a dataframe from the input and assign column names.\n",
    "    col_names = [\"id\", \"last_order\", \"order_total\", \"time\"]\n",
    "    df = pd.DataFrame(d, columns=col_names)\n",
    "    # set the index as the 'id'\n",
    "    df.set_index(\"id\", inplace=True)\n",
    "    print(df.head())\n",
    "\n",
    "    # b. Print the two last columns, order_total and time.\n",
    "    print(\"\\n\")\n",
    "    ott = df[[\"order_total\", \"time\"]]\n",
    "    print(ott)\n",
    "\n",
    "    # c. Find the mean of the order_total column round to 2 decimal place\n",
    "    print(\"\\n\")\n",
    "    m = df[\"order_total\"].mean()\n",
    "    print(\"mean order total --->\", round(m, 2))\n",
    "\n",
    "    # d. Print the second row of the dataframe, use the iloc[[]] method\n",
    "    print(\"\\n\")\n",
    "    second_row = df.iloc[[1]]\n",
    "    print(second_row)\n",
    "\n",
    "\n",
    "data = [\n",
    "    ['57640','2018-02-13', 299.53,10],\n",
    "    ['52862','2018-04-16', 95.54,33],\n",
    "    ['73637','2018-11-06',307.83,68],\n",
    "    ['80392','2018-12-03',339.34,7],\n",
    "    ['18811','2018-12-11',375.60,56]]\n",
    "\n",
    "pandas_opp(data)"
   ]
  },
  {
   "cell_type": "markdown",
   "metadata": {},
   "source": [
    "### Problem 5: Operations with Pandas Dataframes"
   ]
  },
  {
   "cell_type": "code",
   "execution_count": 285,
   "metadata": {},
   "outputs": [
    {
     "name": "stdout",
     "output_type": "stream",
     "text": [
      "100\n",
      "   humidity  temperature  wind\n",
      "0        20           78     7\n",
      "1        50           61    10\n",
      "2       100           81     5\n",
      "3        90           62    15\n",
      "4        30           84    19\n",
      "5         0           66    28\n",
      "6         0           87    12\n",
      "7         0           68    14\n",
      "8         0           86     4\n",
      "9        60           68     0\n"
     ]
    },
    {
     "data": {
      "text/html": [
       "<div>\n",
       "<style scoped>\n",
       "    .dataframe tbody tr th:only-of-type {\n",
       "        vertical-align: middle;\n",
       "    }\n",
       "\n",
       "    .dataframe tbody tr th {\n",
       "        vertical-align: top;\n",
       "    }\n",
       "\n",
       "    .dataframe thead th {\n",
       "        text-align: right;\n",
       "    }\n",
       "</style>\n",
       "<table border=\"1\" class=\"dataframe\">\n",
       "  <thead>\n",
       "    <tr style=\"text-align: right;\">\n",
       "      <th></th>\n",
       "      <th>humidity</th>\n",
       "      <th>temperature</th>\n",
       "      <th>wind</th>\n",
       "    </tr>\n",
       "  </thead>\n",
       "  <tbody>\n",
       "    <tr>\n",
       "      <th>0</th>\n",
       "      <td>20</td>\n",
       "      <td>26</td>\n",
       "      <td>7</td>\n",
       "    </tr>\n",
       "    <tr>\n",
       "      <th>1</th>\n",
       "      <td>50</td>\n",
       "      <td>16</td>\n",
       "      <td>10</td>\n",
       "    </tr>\n",
       "    <tr>\n",
       "      <th>2</th>\n",
       "      <td>100</td>\n",
       "      <td>27</td>\n",
       "      <td>5</td>\n",
       "    </tr>\n",
       "    <tr>\n",
       "      <th>3</th>\n",
       "      <td>90</td>\n",
       "      <td>17</td>\n",
       "      <td>15</td>\n",
       "    </tr>\n",
       "    <tr>\n",
       "      <th>4</th>\n",
       "      <td>30</td>\n",
       "      <td>29</td>\n",
       "      <td>19</td>\n",
       "    </tr>\n",
       "    <tr>\n",
       "      <th>5</th>\n",
       "      <td>0</td>\n",
       "      <td>19</td>\n",
       "      <td>28</td>\n",
       "    </tr>\n",
       "    <tr>\n",
       "      <th>6</th>\n",
       "      <td>0</td>\n",
       "      <td>31</td>\n",
       "      <td>12</td>\n",
       "    </tr>\n",
       "    <tr>\n",
       "      <th>7</th>\n",
       "      <td>0</td>\n",
       "      <td>20</td>\n",
       "      <td>14</td>\n",
       "    </tr>\n",
       "    <tr>\n",
       "      <th>8</th>\n",
       "      <td>0</td>\n",
       "      <td>30</td>\n",
       "      <td>4</td>\n",
       "    </tr>\n",
       "    <tr>\n",
       "      <th>9</th>\n",
       "      <td>60</td>\n",
       "      <td>20</td>\n",
       "      <td>0</td>\n",
       "    </tr>\n",
       "  </tbody>\n",
       "</table>\n",
       "</div>"
      ],
      "text/plain": [
       "   humidity  temperature  wind\n",
       "0        20           26     7\n",
       "1        50           16    10\n",
       "2       100           27     5\n",
       "3        90           17    15\n",
       "4        30           29    19\n",
       "5         0           19    28\n",
       "6         0           31    12\n",
       "7         0           20    14\n",
       "8         0           30     4\n",
       "9        60           20     0"
      ]
     },
     "execution_count": 285,
     "metadata": {},
     "output_type": "execute_result"
    }
   ],
   "source": [
    "# a. create a small function to convert degrees Farenheit to degrees Celsius.\n",
    "def convert(num):\n",
    "    celsius = (num - 32) * 5.0 / 9.0\n",
    "    return round(celsius)\n",
    "\n",
    "print(convert(212))\n",
    "\n",
    "# Build a function to create the Pandas Dataframe and convert the temperatures into degrees Celsius\n",
    "def pandas_temp(d):\n",
    "    import pandas as pd\n",
    "\n",
    "    # b. Create the data frame called 'forecast'\n",
    "    forecast = pd.DataFrame(d)\n",
    "    print(forecast)\n",
    "\n",
    "    # c. Convert to Celsius\n",
    "    forecast[\"temperature\"] = forecast[\"temperature\"].apply(convert)\n",
    "    # forecast[\"temperature_F\"] = forecast[\"temperature\"]\n",
    "    # forecast[\"temperature_C\"] = forecast[\"temperature\"].apply(convert)\n",
    "\n",
    "    # examine the data\n",
    "    return forecast\n",
    "\n",
    "\n",
    "Blacksburg_Forecast = [\n",
    "                    { 'humidity' :  20, 'temperature' : 78, 'wind' :  7} ,\n",
    "                    { 'humidity' :  50, 'temperature' : 61, 'wind' : 10} ,\n",
    "                    { 'humidity' : 100, 'temperature' : 81, 'wind' :  5} ,\n",
    "                    { 'humidity' :  90, 'temperature' : 62, 'wind' : 15} ,\n",
    "                    { 'humidity' :  30, 'temperature' : 84, 'wind' : 19} ,\n",
    "                    { 'humidity' :   0, 'temperature' : 66, 'wind' : 28} ,\n",
    "                    { 'humidity' :   0, 'temperature' : 87, 'wind' : 12} ,\n",
    "                    { 'humidity' :   0, 'temperature' : 68, 'wind' : 14} ,\n",
    "                    { 'humidity' :   0, 'temperature' : 86, 'wind' :  4} ,\n",
    "                    { 'humidity' :  60, 'temperature' : 68, 'wind' :  0}\n",
    "                    ]\n",
    "\n",
    "pandas_temp(Blacksburg_Forecast)"
   ]
  },
  {
   "cell_type": "markdown",
   "metadata": {},
   "source": [
    "### Exercise: Cross Reference Words\n"
   ]
  },
  {
   "cell_type": "markdown",
   "metadata": {},
   "source": [
    "Create a function that takes an initial word and extracts any words that start with the same letters as the initial word. Return a list of matching words.\n",
    "\n",
    "Hint: Look at the startswith() method - https://www.w3schools.com/python/ref_string_startswith.asp"
   ]
  },
  {
   "cell_type": "code",
   "execution_count": 286,
   "metadata": {},
   "outputs": [],
   "source": [
    "# def cross_ref(str, words):\n",
    "#     return [word for word in words if word.startswith(str)]\n",
    "\n",
    "def cross_ref(str, words):\n",
    "    result = []\n",
    "    for word in words:\n",
    "        if word.startswith(str):\n",
    "            result.append(word)\n",
    "    return result"
   ]
  },
  {
   "cell_type": "code",
   "execution_count": null,
   "metadata": {},
   "outputs": [
    {
     "name": "stdout",
     "output_type": "stream",
     "text": [
      "['button']\n",
      "['triplet', 'tries', 'trip']\n",
      "[]\n"
     ]
    }
   ],
   "source": [
    "# Tests\n",
    "\n",
    "cr1 = cross_ref(\"bu\", [\"button\", \"breakfast\", \"border\"])\n",
    "print(cr1)  # [\"button\"]\n",
    "cr2 = cross_ref(\"tri\", [\"triplet\", \"tries\", \"trip\", \"piano\", \"tree\"])\n",
    "print(cr2)  # [\"triplet\", \"tries\", \"trip\"]\n",
    "cr3 = cross_ref(\"beau\", [\"pastry\", \"delicious\", \"name\", \"boring\"])\n",
    "print(cr3)  # []"
   ]
  },
  {
   "cell_type": "markdown",
   "metadata": {},
   "source": [
    "### Exercise: Vowel Count\n"
   ]
  },
  {
   "cell_type": "markdown",
   "metadata": {},
   "source": [
    "Create a function that takes a string and returns the number (count) of vowels contained within it. Consider the vowels to be a, e, i, o, u.\n"
   ]
  },
  {
   "cell_type": "code",
   "execution_count": null,
   "metadata": {},
   "outputs": [
    {
     "name": "stdout",
     "output_type": "stream",
     "text": [
      "o\n",
      "o\n"
     ]
    }
   ],
   "source": [
    "# Hint:\n",
    "v = [\"a\", \"e\", \"i\", \"o\", \"u\", \"A\", \"E\", \"I\", \"O\", \"U\"]\n",
    "x = \"good\"\n",
    "\n",
    "for i in x:\n",
    "    if i in v:\n",
    "        print(i)"
   ]
  },
  {
   "cell_type": "code",
   "execution_count": 289,
   "metadata": {},
   "outputs": [],
   "source": [
    "def count_vowels(word):\n",
    "    # vowels = [\"a\", \"e\", \"i\", \"o\", \"u\", \"A\", \"E\", \"I\", \"O\", \"U\"]\n",
    "    vowels = \"aeiouAEIOU\"\n",
    "    count = 0\n",
    "    for i in word:\n",
    "        if i in vowels:\n",
    "            count += 1\n",
    "    return count"
   ]
  },
  {
   "cell_type": "code",
   "execution_count": 290,
   "metadata": {},
   "outputs": [
    {
     "name": "stdout",
     "output_type": "stream",
     "text": [
      "5\n",
      "1\n",
      "4\n"
     ]
    }
   ],
   "source": [
    "# Tests\n",
    "print(count_vowels(\"Celebration\"))  # ➞ 5\n",
    "print(count_vowels(\"Palm\"))  # ➞ 1\n",
    "print(count_vowels(\"Prediction\"))  # ➞ 4"
   ]
  }
 ],
 "metadata": {
  "kernelspec": {
   "display_name": "example",
   "language": "python",
   "name": "python3"
  },
  "language_info": {
   "codemirror_mode": {
    "name": "ipython",
    "version": 3
   },
   "file_extension": ".py",
   "mimetype": "text/x-python",
   "name": "python",
   "nbconvert_exporter": "python",
   "pygments_lexer": "ipython3",
   "version": "3.12.2"
  }
 },
 "nbformat": 4,
 "nbformat_minor": 2
}
